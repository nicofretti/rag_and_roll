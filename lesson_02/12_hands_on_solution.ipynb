{
 "cells": [
  {
   "cell_type": "markdown",
   "metadata": {},
   "source": [
    "# Hands-on 1: QueryFusionRetriever"
   ]
  },
  {
   "cell_type": "markdown",
   "metadata": {},
   "source": [
    "### Problem\n",
    "Given the Paul Graham’s essay build an intelligent QueryFusionRetriever that synthesizes VectorStoreIndex and BM25Retriever to precisely extract the most relevant contextual nodes to answer the question:​\n",
    "\n",
    "\"Why was the author in Florence?\""
   ]
  },
  {
   "cell_type": "markdown",
   "metadata": {},
   "source": [
    "### Suggested tasks:\n",
    "- 🔤 Create & validate a VectorStoreIndex​\n",
    "- 🔤 Create & validate a BM25Retriever​\n",
    "- 🚀 Create a QueryFusionRetriever merging vector and BM25 retrieval strategies​\n",
    "- 📊 Compare Retrieval Strategies"
   ]
  },
  {
   "cell_type": "markdown",
   "metadata": {},
   "source": [
    "## Code"
   ]
  },
  {
   "cell_type": "code",
   "execution_count": null,
   "metadata": {},
   "outputs": [],
   "source": [
    "# if running on colab uncomment the those lines\n",
    "%pip install httpx==0.27.2\n",
    "%pip install llama-index==0.12.3\n",
    "%pip install llama-index-retrievers-bm25>=0.50\n",
    "%pip install openai==1.57.0\n",
    "!mkdir -p 'data/paul_graham/'\n",
    "!wget 'https://raw.githubusercontent.com/run-llama/llama_index/main/docs/docs/examples/data/paul_graham/paul_graham_essay.txt' -O 'data/paul_graham/paul_graham_essay.txt'"
   ]
  },
  {
   "cell_type": "code",
   "execution_count": null,
   "metadata": {},
   "outputs": [
    {
     "data": {
      "text/plain": [
       "True"
      ]
     },
     "execution_count": 1,
     "metadata": {},
     "output_type": "execute_result"
    }
   ],
   "source": [
    "# if you want to load .env uncomment the following lines otherwise you can set the environment variables directly\n",
    "# from dotenv import load_dotenv\n",
    "# load_dotenv()\n",
    "\n",
    "import os\n",
    "os.environ[\"OPENAI_API_KEY\"] = \"sk-\" # set your openai api key here"
   ]
  },
  {
   "cell_type": "code",
   "execution_count": 2,
   "metadata": {},
   "outputs": [],
   "source": [
    "import nest_asyncio\n",
    "\n",
    "nest_asyncio.apply()"
   ]
  },
  {
   "cell_type": "code",
   "execution_count": 3,
   "metadata": {},
   "outputs": [
    {
     "name": "stdout",
     "output_type": "stream",
     "text": [
      "resource module not available on Windows\n"
     ]
    },
    {
     "name": "stderr",
     "output_type": "stream",
     "text": [
      "c:\\Users\\n.fretti\\Desktop\\projects\\rag_and_roll\\.venv\\Lib\\site-packages\\tqdm\\auto.py:21: TqdmWarning: IProgress not found. Please update jupyter and ipywidgets. See https://ipywidgets.readthedocs.io/en/stable/user_install.html\n",
      "  from .autonotebook import tqdm as notebook_tqdm\n"
     ]
    }
   ],
   "source": [
    "from llama_index.core import SimpleDirectoryReader\n",
    "from llama_index.core import VectorStoreIndex\n",
    "from llama_index.core.node_parser import SentenceSplitter\n",
    "from llama_index.core.base.base_retriever import BaseRetriever\n",
    "from rich import print as rprint\n",
    "from llama_index.core.schema import MetadataMode\n",
    "from llama_index.retrievers.bm25 import BM25Retriever\n",
    "from llama_index.core.retrievers import QueryFusionRetriever\n",
    "from llama_index.core.retrievers.fusion_retriever import FUSION_MODES"
   ]
  },
  {
   "cell_type": "code",
   "execution_count": 4,
   "metadata": {},
   "outputs": [
    {
     "name": "stderr",
     "output_type": "stream",
     "text": [
      "Parsing nodes: 100%|██████████| 1/1 [00:00<00:00, 10.16it/s]\n",
      "Generating embeddings: 100%|██████████| 587/587 [00:09<00:00, 58.79it/s]\n"
     ]
    }
   ],
   "source": [
    "documents = SimpleDirectoryReader(\"./data/paul_graham\").load_data()\n",
    "splitter = SentenceSplitter(chunk_size=256)\n",
    "\n",
    "index = VectorStoreIndex.from_documents(\n",
    "    documents, transformations=[splitter], show_progress=True\n",
    ")"
   ]
  },
  {
   "cell_type": "code",
   "execution_count": 5,
   "metadata": {},
   "outputs": [],
   "source": [
    "QUESTION = \"Why the author was in Florance?\""
   ]
  },
  {
   "cell_type": "markdown",
   "metadata": {},
   "source": [
    "### Vector retrieval"
   ]
  },
  {
   "cell_type": "code",
   "execution_count": 6,
   "metadata": {},
   "outputs": [],
   "source": [
    "def init_vector_retriever(index: VectorStoreIndex, similarity_top_k:int) -> BaseRetriever:\n",
    "    retriever = index.as_retriever(similarity_top_k=similarity_top_k)\n",
    "    return retriever"
   ]
  },
  {
   "cell_type": "code",
   "execution_count": 12,
   "metadata": {},
   "outputs": [
    {
     "data": {
      "text/html": [
       "<pre style=\"white-space:pre;overflow-x:auto;line-height:normal;font-family:Menlo,'DejaVu Sans Mono',consolas,'Courier New',monospace\">file_path: c:\\Users\\n.fretti\\Desktop\\projects\\rag_and_roll\\lesson_02\\data\\paul_graham\\paul_graham_essay.txt\n",
       "\n",
       "I had some money saved from consulting work I'd done in grad school; there was probably enough to last a year if I \n",
       "lived cheaply. Now all I had to do was learn Italian.\n",
       "\n",
       "Only stranieri <span style=\"font-weight: bold\">(</span>foreigners<span style=\"font-weight: bold\">)</span> had to take this entrance exam. In retrospect it may well have been a way of excluding \n",
       "them, because there were so many stranieri attracted by the idea of studying art in Florence that the Italian \n",
       "students would otherwise have been outnumbered. I was in decent shape at painting and drawing from the RISD \n",
       "foundation that summer, but I still don't know how I managed to pass the written exam. I remember that I answered \n",
       "the essay question by writing about Cezanne, and that I cranked up the intellectual level as high as I could to \n",
       "make the most of my limited vocabulary. <span style=\"font-weight: bold\">[</span><span style=\"color: #008080; text-decoration-color: #008080; font-weight: bold\">2</span><span style=\"font-weight: bold\">]</span>\n",
       "\n",
       "I'm only up to age <span style=\"color: #008080; text-decoration-color: #008080; font-weight: bold\">25</span> and already there are such conspicuous patterns. Here I was, yet again about to attend some \n",
       "august institution in the hopes of learning about some prestigious subject, and yet again about to be disappointed.\n",
       "</pre>\n"
      ],
      "text/plain": [
       "file_path: c:\\Users\\n.fretti\\Desktop\\projects\\rag_and_roll\\lesson_02\\data\\paul_graham\\paul_graham_essay.txt\n",
       "\n",
       "I had some money saved from consulting work I'd done in grad school; there was probably enough to last a year if I \n",
       "lived cheaply. Now all I had to do was learn Italian.\n",
       "\n",
       "Only stranieri \u001b[1m(\u001b[0mforeigners\u001b[1m)\u001b[0m had to take this entrance exam. In retrospect it may well have been a way of excluding \n",
       "them, because there were so many stranieri attracted by the idea of studying art in Florence that the Italian \n",
       "students would otherwise have been outnumbered. I was in decent shape at painting and drawing from the RISD \n",
       "foundation that summer, but I still don't know how I managed to pass the written exam. I remember that I answered \n",
       "the essay question by writing about Cezanne, and that I cranked up the intellectual level as high as I could to \n",
       "make the most of my limited vocabulary. \u001b[1m[\u001b[0m\u001b[1;36m2\u001b[0m\u001b[1m]\u001b[0m\n",
       "\n",
       "I'm only up to age \u001b[1;36m25\u001b[0m and already there are such conspicuous patterns. Here I was, yet again about to attend some \n",
       "august institution in the hopes of learning about some prestigious subject, and yet again about to be disappointed.\n"
      ]
     },
     "metadata": {},
     "output_type": "display_data"
    },
    {
     "data": {
      "text/html": [
       "<pre style=\"white-space:pre;overflow-x:auto;line-height:normal;font-family:Menlo,'DejaVu Sans Mono',consolas,'Courier New',monospace\">file_path: c:\\Users\\n.fretti\\Desktop\\projects\\rag_and_roll\\lesson_02\\data\\paul_graham\\paul_graham_essay.txt\n",
       "\n",
       "This was now only weeks away. My nice landlady let me leave my stuff in her attic. I had some money saved from \n",
       "consulting work I'd done in grad school; there was probably enough to last a year if I lived cheaply. Now all I had\n",
       "to do was learn Italian.\n",
       "\n",
       "Only stranieri <span style=\"font-weight: bold\">(</span>foreigners<span style=\"font-weight: bold\">)</span> had to take this entrance exam. In retrospect it may well have been a way of excluding \n",
       "them, because there were so many stranieri attracted by the idea of studying art in Florence that the Italian \n",
       "students would otherwise have been outnumbered. I was in decent shape at painting and drawing from the RISD \n",
       "foundation that summer, but I still don't know how I managed to pass the written exam. I remember that I answered \n",
       "the essay question by writing about Cezanne, and that I cranked up the intellectual level as high as I could to \n",
       "make the most of my limited vocabulary. <span style=\"font-weight: bold\">[</span><span style=\"color: #008080; text-decoration-color: #008080; font-weight: bold\">2</span><span style=\"font-weight: bold\">]</span>\n",
       "\n",
       "I'm only up to age <span style=\"color: #008080; text-decoration-color: #008080; font-weight: bold\">25</span> and already there are such conspicuous patterns.\n",
       "</pre>\n"
      ],
      "text/plain": [
       "file_path: c:\\Users\\n.fretti\\Desktop\\projects\\rag_and_roll\\lesson_02\\data\\paul_graham\\paul_graham_essay.txt\n",
       "\n",
       "This was now only weeks away. My nice landlady let me leave my stuff in her attic. I had some money saved from \n",
       "consulting work I'd done in grad school; there was probably enough to last a year if I lived cheaply. Now all I had\n",
       "to do was learn Italian.\n",
       "\n",
       "Only stranieri \u001b[1m(\u001b[0mforeigners\u001b[1m)\u001b[0m had to take this entrance exam. In retrospect it may well have been a way of excluding \n",
       "them, because there were so many stranieri attracted by the idea of studying art in Florence that the Italian \n",
       "students would otherwise have been outnumbered. I was in decent shape at painting and drawing from the RISD \n",
       "foundation that summer, but I still don't know how I managed to pass the written exam. I remember that I answered \n",
       "the essay question by writing about Cezanne, and that I cranked up the intellectual level as high as I could to \n",
       "make the most of my limited vocabulary. \u001b[1m[\u001b[0m\u001b[1;36m2\u001b[0m\u001b[1m]\u001b[0m\n",
       "\n",
       "I'm only up to age \u001b[1;36m25\u001b[0m and already there are such conspicuous patterns.\n"
      ]
     },
     "metadata": {},
     "output_type": "display_data"
    },
    {
     "data": {
      "text/html": [
       "<pre style=\"white-space:pre;overflow-x:auto;line-height:normal;font-family:Menlo,'DejaVu Sans Mono',consolas,'Courier New',monospace\">file_path: c:\\Users\\n.fretti\\Desktop\\projects\\rag_and_roll\\lesson_02\\data\\paul_graham\\paul_graham_essay.txt\n",
       "\n",
       "So in <span style=\"color: #008080; text-decoration-color: #008080; font-weight: bold\">1993</span> I dropped out. I hung around Providence for a bit, and then my college friend Nancy Parmet did me a big \n",
       "favor. A rent-controlled apartment in a building her mother owned in New York was becoming vacant. Did I want it? \n",
       "It wasn't much more than my current place, and New York was supposed to be where the artists were. So yes, I wanted\n",
       "it! <span style=\"font-weight: bold\">[</span><span style=\"color: #008080; text-decoration-color: #008080; font-weight: bold\">7</span><span style=\"font-weight: bold\">]</span>\n",
       "\n",
       "Asterix comics begin by zooming in on a tiny corner of Roman Gaul that turns out not to be controlled by the \n",
       "Romans. You can do something similar on a map of New York City: if you zoom in on the Upper East Side, there's a \n",
       "tiny corner that's not rich, or at least wasn't in <span style=\"color: #008080; text-decoration-color: #008080; font-weight: bold\">1993</span>. It's called Yorkville, and that was my new home. Now I was\n",
       "a New York artist — in the strictly technical sense of making paintings and living in New York.\n",
       "\n",
       "I was nervous about money, because I could sense that Interleaf was on the way down.\n",
       "</pre>\n"
      ],
      "text/plain": [
       "file_path: c:\\Users\\n.fretti\\Desktop\\projects\\rag_and_roll\\lesson_02\\data\\paul_graham\\paul_graham_essay.txt\n",
       "\n",
       "So in \u001b[1;36m1993\u001b[0m I dropped out. I hung around Providence for a bit, and then my college friend Nancy Parmet did me a big \n",
       "favor. A rent-controlled apartment in a building her mother owned in New York was becoming vacant. Did I want it? \n",
       "It wasn't much more than my current place, and New York was supposed to be where the artists were. So yes, I wanted\n",
       "it! \u001b[1m[\u001b[0m\u001b[1;36m7\u001b[0m\u001b[1m]\u001b[0m\n",
       "\n",
       "Asterix comics begin by zooming in on a tiny corner of Roman Gaul that turns out not to be controlled by the \n",
       "Romans. You can do something similar on a map of New York City: if you zoom in on the Upper East Side, there's a \n",
       "tiny corner that's not rich, or at least wasn't in \u001b[1;36m1993\u001b[0m. It's called Yorkville, and that was my new home. Now I was\n",
       "a New York artist — in the strictly technical sense of making paintings and living in New York.\n",
       "\n",
       "I was nervous about money, because I could sense that Interleaf was on the way down.\n"
      ]
     },
     "metadata": {},
     "output_type": "display_data"
    }
   ],
   "source": [
    "vector_retriever = init_vector_retriever(index, similarity_top_k=3)\n",
    "vector_nodes = vector_retriever.retrieve(QUESTION)\n",
    "\n",
    "for node in vector_nodes:\n",
    "    rprint(node.get_content(\n",
    "        metadata_mode=MetadataMode.LLM\n",
    "    ))"
   ]
  },
  {
   "cell_type": "markdown",
   "metadata": {},
   "source": [
    "### Setup bm25 retriever"
   ]
  },
  {
   "cell_type": "code",
   "execution_count": 13,
   "metadata": {},
   "outputs": [],
   "source": [
    "def init_base25_retriever(index: VectorStoreIndex, similarity_top_k:int) -> BM25Retriever:\n",
    "    retriever = BM25Retriever.from_defaults(\n",
    "        docstore=index.docstore, similarity_top_k=similarity_top_k\n",
    "    )\n",
    "    return retriever"
   ]
  },
  {
   "cell_type": "code",
   "execution_count": 14,
   "metadata": {},
   "outputs": [
    {
     "data": {
      "text/html": [
       "<pre style=\"white-space:pre;overflow-x:auto;line-height:normal;font-family:Menlo,'DejaVu Sans Mono',consolas,'Courier New',monospace\">file_path: c:\\Users\\n.fretti\\Desktop\\projects\\rag_and_roll\\lesson_02\\data\\paul_graham\\paul_graham_essay.txt\n",
       "\n",
       "That's not always why artists have a signature style, but it's usually why buyers pay a lot for such work. <span style=\"font-weight: bold\">[</span><span style=\"color: #008080; text-decoration-color: #008080; font-weight: bold\">6</span><span style=\"font-weight: bold\">]</span>\n",
       "\n",
       "There were plenty of earnest students too: kids who <span style=\"color: #008000; text-decoration-color: #008000\">\"could draw\"</span> in high school, and now had come to what was \n",
       "supposed to be the best art school in the country, to learn to draw even better. They tended to be confused and \n",
       "demoralized by what they found at RISD, but they kept going, because painting was what they did. I was not one of \n",
       "the kids who could draw in high school, but at RISD I was definitely closer to their tribe than the tribe of \n",
       "signature style seekers.\n",
       "\n",
       "I learned a lot in the color class I took at RISD, but otherwise I was basically teaching myself to paint, and I \n",
       "could do that for free. So in <span style=\"color: #008080; text-decoration-color: #008080; font-weight: bold\">1993</span> I dropped out. I hung around Providence for a bit, and then my college friend \n",
       "Nancy Parmet did me a big favor.\n",
       "</pre>\n"
      ],
      "text/plain": [
       "file_path: c:\\Users\\n.fretti\\Desktop\\projects\\rag_and_roll\\lesson_02\\data\\paul_graham\\paul_graham_essay.txt\n",
       "\n",
       "That's not always why artists have a signature style, but it's usually why buyers pay a lot for such work. \u001b[1m[\u001b[0m\u001b[1;36m6\u001b[0m\u001b[1m]\u001b[0m\n",
       "\n",
       "There were plenty of earnest students too: kids who \u001b[32m\"could draw\"\u001b[0m in high school, and now had come to what was \n",
       "supposed to be the best art school in the country, to learn to draw even better. They tended to be confused and \n",
       "demoralized by what they found at RISD, but they kept going, because painting was what they did. I was not one of \n",
       "the kids who could draw in high school, but at RISD I was definitely closer to their tribe than the tribe of \n",
       "signature style seekers.\n",
       "\n",
       "I learned a lot in the color class I took at RISD, but otherwise I was basically teaching myself to paint, and I \n",
       "could do that for free. So in \u001b[1;36m1993\u001b[0m I dropped out. I hung around Providence for a bit, and then my college friend \n",
       "Nancy Parmet did me a big favor.\n"
      ]
     },
     "metadata": {},
     "output_type": "display_data"
    },
    {
     "data": {
      "text/html": [
       "<pre style=\"white-space:pre;overflow-x:auto;line-height:normal;font-family:Menlo,'DejaVu Sans Mono',consolas,'Courier New',monospace\">file_path: c:\\Users\\n.fretti\\Desktop\\projects\\rag_and_roll\\lesson_02\\data\\paul_graham\\paul_graham_essay.txt\n",
       "\n",
       "At least not the painting department. The textile department, which my next door neighbor belonged to, seemed to be\n",
       "pretty rigorous. No doubt illustration and architecture were too. But painting was post-rigorous. Painting students\n",
       "were supposed to express themselves, which to the more worldly ones meant to try to cook up some sort of \n",
       "distinctive signature style.\n",
       "\n",
       "A signature style is the visual equivalent of what in show business is known as a <span style=\"color: #008000; text-decoration-color: #008000\">\"schtick\"</span>: something that \n",
       "immediately identifies the work as yours and no one else's. For example, when you see a painting that looks like a \n",
       "certain kind of cartoon, you know it's by Roy Lichtenstein. So if you see a big painting of this type hanging in \n",
       "the apartment of a hedge fund manager, you know he paid millions of dollars for it. That's not always why artists \n",
       "have a signature style, but it's usually why buyers pay a lot for such work.\n",
       "</pre>\n"
      ],
      "text/plain": [
       "file_path: c:\\Users\\n.fretti\\Desktop\\projects\\rag_and_roll\\lesson_02\\data\\paul_graham\\paul_graham_essay.txt\n",
       "\n",
       "At least not the painting department. The textile department, which my next door neighbor belonged to, seemed to be\n",
       "pretty rigorous. No doubt illustration and architecture were too. But painting was post-rigorous. Painting students\n",
       "were supposed to express themselves, which to the more worldly ones meant to try to cook up some sort of \n",
       "distinctive signature style.\n",
       "\n",
       "A signature style is the visual equivalent of what in show business is known as a \u001b[32m\"schtick\"\u001b[0m: something that \n",
       "immediately identifies the work as yours and no one else's. For example, when you see a painting that looks like a \n",
       "certain kind of cartoon, you know it's by Roy Lichtenstein. So if you see a big painting of this type hanging in \n",
       "the apartment of a hedge fund manager, you know he paid millions of dollars for it. That's not always why artists \n",
       "have a signature style, but it's usually why buyers pay a lot for such work.\n"
      ]
     },
     "metadata": {},
     "output_type": "display_data"
    },
    {
     "data": {
      "text/html": [
       "<pre style=\"white-space:pre;overflow-x:auto;line-height:normal;font-family:Menlo,'DejaVu Sans Mono',consolas,'Courier New',monospace\">file_path: c:\\Users\\n.fretti\\Desktop\\projects\\rag_and_roll\\lesson_02\\data\\paul_graham\\paul_graham_essay.txt\n",
       "\n",
       "It was exciting for a while. Painting started to go better. I experimented with a new kind of still life where I'd \n",
       "paint one painting in the old way, then photograph it and print it, blown up, on canvas, and then use that as the \n",
       "underpainting for a second still life, painted from the same objects <span style=\"font-weight: bold\">(</span>which hopefully hadn't rotted yet<span style=\"font-weight: bold\">)</span>.\n",
       "\n",
       "Meanwhile I looked for an apartment to buy. Now I could actually choose what neighborhood to live in. Where, I \n",
       "asked myself and various real estate agents, is the Cambridge of New York? Aided by occasional visits to actual \n",
       "Cambridge, I gradually realized there wasn't one. Huh.\n",
       "\n",
       "Around this time, in the spring of <span style=\"color: #008080; text-decoration-color: #008080; font-weight: bold\">2000</span>, I had an idea. It was clear from our experience with Viaweb that web apps \n",
       "were the future. Why not build a web app for making web apps? Why not let people edit code on our server through \n",
       "the browser, and then host the resulting applications for them?\n",
       "</pre>\n"
      ],
      "text/plain": [
       "file_path: c:\\Users\\n.fretti\\Desktop\\projects\\rag_and_roll\\lesson_02\\data\\paul_graham\\paul_graham_essay.txt\n",
       "\n",
       "It was exciting for a while. Painting started to go better. I experimented with a new kind of still life where I'd \n",
       "paint one painting in the old way, then photograph it and print it, blown up, on canvas, and then use that as the \n",
       "underpainting for a second still life, painted from the same objects \u001b[1m(\u001b[0mwhich hopefully hadn't rotted yet\u001b[1m)\u001b[0m.\n",
       "\n",
       "Meanwhile I looked for an apartment to buy. Now I could actually choose what neighborhood to live in. Where, I \n",
       "asked myself and various real estate agents, is the Cambridge of New York? Aided by occasional visits to actual \n",
       "Cambridge, I gradually realized there wasn't one. Huh.\n",
       "\n",
       "Around this time, in the spring of \u001b[1;36m2000\u001b[0m, I had an idea. It was clear from our experience with Viaweb that web apps \n",
       "were the future. Why not build a web app for making web apps? Why not let people edit code on our server through \n",
       "the browser, and then host the resulting applications for them?\n"
      ]
     },
     "metadata": {},
     "output_type": "display_data"
    }
   ],
   "source": [
    "\n",
    "bm25_retriever = init_base25_retriever(index, similarity_top_k=3)\n",
    "bm25_nodes = bm25_retriever.retrieve(QUESTION)\n",
    "for node in bm25_nodes:\n",
    "    rprint(node.get_content(\n",
    "        metadata_mode=MetadataMode.LLM\n",
    "    ))"
   ]
  },
  {
   "cell_type": "markdown",
   "metadata": {},
   "source": [
    "### Merge the results of the two retrievers"
   ]
  },
  {
   "cell_type": "code",
   "execution_count": 10,
   "metadata": {},
   "outputs": [],
   "source": [
    "def init_query_fusion_retriever(retrievers: list[BaseRetriever], similarity_top_k:int, mode: FUSION_MODES, num_queries:int = 1) -> QueryFusionRetriever:\n",
    "    retriever = QueryFusionRetriever(\n",
    "        retrievers=retrievers,\n",
    "        similarity_top_k=similarity_top_k,\n",
    "        num_queries=num_queries,  # set this to 1 to disable query generation\n",
    "        mode=mode,\n",
    "        use_async=True,\n",
    "        verbose=True,\n",
    "        # query_gen_prompt=\"...\",  # we could override the query generation prompt here\n",
    "    )\n",
    "    return retriever"
   ]
  },
  {
   "cell_type": "code",
   "execution_count": 15,
   "metadata": {},
   "outputs": [
    {
     "data": {
      "text/html": [
       "<pre style=\"white-space:pre;overflow-x:auto;line-height:normal;font-family:Menlo,'DejaVu Sans Mono',consolas,'Courier New',monospace\">file_path: c:\\Users\\n.fretti\\Desktop\\projects\\rag_and_roll\\lesson_02\\data\\paul_graham\\paul_graham_essay.txt\n",
       "\n",
       "I had some money saved from consulting work I'd done in grad school; there was probably enough to last a year if I \n",
       "lived cheaply. Now all I had to do was learn Italian.\n",
       "\n",
       "Only stranieri <span style=\"font-weight: bold\">(</span>foreigners<span style=\"font-weight: bold\">)</span> had to take this entrance exam. In retrospect it may well have been a way of excluding \n",
       "them, because there were so many stranieri attracted by the idea of studying art in Florence that the Italian \n",
       "students would otherwise have been outnumbered. I was in decent shape at painting and drawing from the RISD \n",
       "foundation that summer, but I still don't know how I managed to pass the written exam. I remember that I answered \n",
       "the essay question by writing about Cezanne, and that I cranked up the intellectual level as high as I could to \n",
       "make the most of my limited vocabulary. <span style=\"font-weight: bold\">[</span><span style=\"color: #008080; text-decoration-color: #008080; font-weight: bold\">2</span><span style=\"font-weight: bold\">]</span>\n",
       "\n",
       "I'm only up to age <span style=\"color: #008080; text-decoration-color: #008080; font-weight: bold\">25</span> and already there are such conspicuous patterns. Here I was, yet again about to attend some \n",
       "august institution in the hopes of learning about some prestigious subject, and yet again about to be disappointed.\n",
       "</pre>\n"
      ],
      "text/plain": [
       "file_path: c:\\Users\\n.fretti\\Desktop\\projects\\rag_and_roll\\lesson_02\\data\\paul_graham\\paul_graham_essay.txt\n",
       "\n",
       "I had some money saved from consulting work I'd done in grad school; there was probably enough to last a year if I \n",
       "lived cheaply. Now all I had to do was learn Italian.\n",
       "\n",
       "Only stranieri \u001b[1m(\u001b[0mforeigners\u001b[1m)\u001b[0m had to take this entrance exam. In retrospect it may well have been a way of excluding \n",
       "them, because there were so many stranieri attracted by the idea of studying art in Florence that the Italian \n",
       "students would otherwise have been outnumbered. I was in decent shape at painting and drawing from the RISD \n",
       "foundation that summer, but I still don't know how I managed to pass the written exam. I remember that I answered \n",
       "the essay question by writing about Cezanne, and that I cranked up the intellectual level as high as I could to \n",
       "make the most of my limited vocabulary. \u001b[1m[\u001b[0m\u001b[1;36m2\u001b[0m\u001b[1m]\u001b[0m\n",
       "\n",
       "I'm only up to age \u001b[1;36m25\u001b[0m and already there are such conspicuous patterns. Here I was, yet again about to attend some \n",
       "august institution in the hopes of learning about some prestigious subject, and yet again about to be disappointed.\n"
      ]
     },
     "metadata": {},
     "output_type": "display_data"
    },
    {
     "data": {
      "text/html": [
       "<pre style=\"white-space:pre;overflow-x:auto;line-height:normal;font-family:Menlo,'DejaVu Sans Mono',consolas,'Courier New',monospace\">file_path: c:\\Users\\n.fretti\\Desktop\\projects\\rag_and_roll\\lesson_02\\data\\paul_graham\\paul_graham_essay.txt\n",
       "\n",
       "That's not always why artists have a signature style, but it's usually why buyers pay a lot for such work. <span style=\"font-weight: bold\">[</span><span style=\"color: #008080; text-decoration-color: #008080; font-weight: bold\">6</span><span style=\"font-weight: bold\">]</span>\n",
       "\n",
       "There were plenty of earnest students too: kids who <span style=\"color: #008000; text-decoration-color: #008000\">\"could draw\"</span> in high school, and now had come to what was \n",
       "supposed to be the best art school in the country, to learn to draw even better. They tended to be confused and \n",
       "demoralized by what they found at RISD, but they kept going, because painting was what they did. I was not one of \n",
       "the kids who could draw in high school, but at RISD I was definitely closer to their tribe than the tribe of \n",
       "signature style seekers.\n",
       "\n",
       "I learned a lot in the color class I took at RISD, but otherwise I was basically teaching myself to paint, and I \n",
       "could do that for free. So in <span style=\"color: #008080; text-decoration-color: #008080; font-weight: bold\">1993</span> I dropped out. I hung around Providence for a bit, and then my college friend \n",
       "Nancy Parmet did me a big favor.\n",
       "</pre>\n"
      ],
      "text/plain": [
       "file_path: c:\\Users\\n.fretti\\Desktop\\projects\\rag_and_roll\\lesson_02\\data\\paul_graham\\paul_graham_essay.txt\n",
       "\n",
       "That's not always why artists have a signature style, but it's usually why buyers pay a lot for such work. \u001b[1m[\u001b[0m\u001b[1;36m6\u001b[0m\u001b[1m]\u001b[0m\n",
       "\n",
       "There were plenty of earnest students too: kids who \u001b[32m\"could draw\"\u001b[0m in high school, and now had come to what was \n",
       "supposed to be the best art school in the country, to learn to draw even better. They tended to be confused and \n",
       "demoralized by what they found at RISD, but they kept going, because painting was what they did. I was not one of \n",
       "the kids who could draw in high school, but at RISD I was definitely closer to their tribe than the tribe of \n",
       "signature style seekers.\n",
       "\n",
       "I learned a lot in the color class I took at RISD, but otherwise I was basically teaching myself to paint, and I \n",
       "could do that for free. So in \u001b[1;36m1993\u001b[0m I dropped out. I hung around Providence for a bit, and then my college friend \n",
       "Nancy Parmet did me a big favor.\n"
      ]
     },
     "metadata": {},
     "output_type": "display_data"
    },
    {
     "data": {
      "text/html": [
       "<pre style=\"white-space:pre;overflow-x:auto;line-height:normal;font-family:Menlo,'DejaVu Sans Mono',consolas,'Courier New',monospace\">file_path: c:\\Users\\n.fretti\\Desktop\\projects\\rag_and_roll\\lesson_02\\data\\paul_graham\\paul_graham_essay.txt\n",
       "\n",
       "This was now only weeks away. My nice landlady let me leave my stuff in her attic. I had some money saved from \n",
       "consulting work I'd done in grad school; there was probably enough to last a year if I lived cheaply. Now all I had\n",
       "to do was learn Italian.\n",
       "\n",
       "Only stranieri <span style=\"font-weight: bold\">(</span>foreigners<span style=\"font-weight: bold\">)</span> had to take this entrance exam. In retrospect it may well have been a way of excluding \n",
       "them, because there were so many stranieri attracted by the idea of studying art in Florence that the Italian \n",
       "students would otherwise have been outnumbered. I was in decent shape at painting and drawing from the RISD \n",
       "foundation that summer, but I still don't know how I managed to pass the written exam. I remember that I answered \n",
       "the essay question by writing about Cezanne, and that I cranked up the intellectual level as high as I could to \n",
       "make the most of my limited vocabulary. <span style=\"font-weight: bold\">[</span><span style=\"color: #008080; text-decoration-color: #008080; font-weight: bold\">2</span><span style=\"font-weight: bold\">]</span>\n",
       "\n",
       "I'm only up to age <span style=\"color: #008080; text-decoration-color: #008080; font-weight: bold\">25</span> and already there are such conspicuous patterns.\n",
       "</pre>\n"
      ],
      "text/plain": [
       "file_path: c:\\Users\\n.fretti\\Desktop\\projects\\rag_and_roll\\lesson_02\\data\\paul_graham\\paul_graham_essay.txt\n",
       "\n",
       "This was now only weeks away. My nice landlady let me leave my stuff in her attic. I had some money saved from \n",
       "consulting work I'd done in grad school; there was probably enough to last a year if I lived cheaply. Now all I had\n",
       "to do was learn Italian.\n",
       "\n",
       "Only stranieri \u001b[1m(\u001b[0mforeigners\u001b[1m)\u001b[0m had to take this entrance exam. In retrospect it may well have been a way of excluding \n",
       "them, because there were so many stranieri attracted by the idea of studying art in Florence that the Italian \n",
       "students would otherwise have been outnumbered. I was in decent shape at painting and drawing from the RISD \n",
       "foundation that summer, but I still don't know how I managed to pass the written exam. I remember that I answered \n",
       "the essay question by writing about Cezanne, and that I cranked up the intellectual level as high as I could to \n",
       "make the most of my limited vocabulary. \u001b[1m[\u001b[0m\u001b[1;36m2\u001b[0m\u001b[1m]\u001b[0m\n",
       "\n",
       "I'm only up to age \u001b[1;36m25\u001b[0m and already there are such conspicuous patterns.\n"
      ]
     },
     "metadata": {},
     "output_type": "display_data"
    }
   ],
   "source": [
    "retriever = init_query_fusion_retriever([vector_retriever, bm25_retriever], similarity_top_k=3, mode=FUSION_MODES.RECIPROCAL_RANK)\n",
    "nodes = retriever.retrieve(QUESTION)\n",
    "for node in nodes:\n",
    "    rprint(node.get_content(\n",
    "        metadata_mode=MetadataMode.LLM\n",
    "    ))"
   ]
  }
 ],
 "metadata": {
  "kernelspec": {
   "display_name": ".venv",
   "language": "python",
   "name": "python3"
  },
  "language_info": {
   "codemirror_mode": {
    "name": "ipython",
    "version": 3
   },
   "file_extension": ".py",
   "mimetype": "text/x-python",
   "name": "python",
   "nbconvert_exporter": "python",
   "pygments_lexer": "ipython3",
   "version": "3.11.9"
  }
 },
 "nbformat": 4,
 "nbformat_minor": 2
}
