{
 "cells": [
  {
   "cell_type": "markdown",
   "metadata": {},
   "source": [
    "# Hands-on 1: QueryFusionRetriever"
   ]
  },
  {
   "cell_type": "markdown",
   "metadata": {},
   "source": [
    "### 🎯 Problem\n",
    "Given the Paul Graham’s essay build an intelligent QueryFusionRetriever that synthesizes VectorStoreIndex and BM25Retriever to precisely extract the most relevant contextual nodes to answer the question:​\n",
    "\n",
    "\"Why was the author in Florence?\"\n",
    "\n",
    "### 🔍 Suggested tasks:\n",
    "- 🔤 Create & validate a VectorStoreIndex​\n",
    "- 🔤 Create & validate a BM25Retriever​\n",
    "- 🚀 Create a QueryFusionRetriever merging vector and BM25 retrieval strategies​\n",
    "- 📊 Compare Retrieval Strategies"
   ]
  },
  {
   "cell_type": "markdown",
   "metadata": {},
   "source": [
    "## Code"
   ]
  },
  {
   "cell_type": "code",
   "execution_count": null,
   "metadata": {},
   "outputs": [],
   "source": [
    "# if running on colab uncomment the those lines\n",
    "%pip install httpx==0.27.2\n",
    "%pip install llama-index==0.12.3\n",
    "%pip install llama-index-retrievers-bm25>=0.50\n",
    "%pip install openai==1.57.0\n",
    "!mkdir -p 'data/paul_graham/'\n",
    "!wget 'https://raw.githubusercontent.com/run-llama/llama_index/main/docs/docs/examples/data/paul_graham/paul_graham_essay.txt' -O 'data/paul_graham/paul_graham_essay.txt'"
   ]
  },
  {
   "cell_type": "code",
   "execution_count": null,
   "metadata": {},
   "outputs": [],
   "source": [
    "import os\n",
    "os.environ[\"OPENAI_API_KEY\"] = \"sk-\" # set your openai api key here"
   ]
  },
  {
   "cell_type": "code",
   "execution_count": null,
   "metadata": {},
   "outputs": [],
   "source": [
    "import nest_asyncio\n",
    "\n",
    "nest_asyncio.apply()"
   ]
  },
  {
   "cell_type": "code",
   "execution_count": null,
   "metadata": {},
   "outputs": [],
   "source": [
    "from llama_index.core import SimpleDirectoryReader\n",
    "from llama_index.core import VectorStoreIndex\n",
    "from llama_index.core.node_parser import SentenceSplitter\n",
    "from llama_index.core.base.base_retriever import BaseRetriever\n",
    "from rich import print as rprint\n",
    "from llama_index.core.schema import MetadataMode\n",
    "from llama_index.retrievers.bm25 import BM25Retriever\n",
    "from llama_index.core.retrievers import QueryFusionRetriever\n",
    "from llama_index.core.retrievers.fusion_retriever import FUSION_MODES"
   ]
  },
  {
   "cell_type": "code",
   "execution_count": null,
   "metadata": {},
   "outputs": [],
   "source": [
    "documents = SimpleDirectoryReader(\"./data/paul_graham\").load_data()\n",
    "splitter = SentenceSplitter(chunk_size=256)\n",
    "\n",
    "index = VectorStoreIndex.from_documents(\n",
    "    documents, transformations=[splitter], show_progress=True\n",
    ")"
   ]
  },
  {
   "cell_type": "code",
   "execution_count": null,
   "metadata": {},
   "outputs": [],
   "source": [
    "QUESTION = \"Why the author was in Florance?\""
   ]
  },
  {
   "cell_type": "markdown",
   "metadata": {},
   "source": [
    "### Vector retrieval"
   ]
  },
  {
   "cell_type": "code",
   "execution_count": null,
   "metadata": {},
   "outputs": [],
   "source": [
    "def init_vector_retriever(index: VectorStoreIndex, similarity_top_k:int) -> BaseRetriever:\n",
    "    # write here the code to initialize the vector retriever\n",
    "    # ...\n",
    "    raise NotImplementedError(\"Vector retriever initialization not implemented\")"
   ]
  },
  {
   "cell_type": "code",
   "execution_count": null,
   "metadata": {},
   "outputs": [],
   "source": [
    "vector_retriever = init_vector_retriever(index, similarity_top_k=3)\n",
    "vector_nodes = vector_retriever.retrieve(QUESTION)\n",
    "\n",
    "for node in vector_nodes:\n",
    "    rprint(node.get_content(\n",
    "        metadata_mode=MetadataMode.LLM\n",
    "    ))"
   ]
  },
  {
   "cell_type": "markdown",
   "metadata": {},
   "source": [
    "### Setup bm25 retriever"
   ]
  },
  {
   "cell_type": "code",
   "execution_count": null,
   "metadata": {},
   "outputs": [],
   "source": [
    "def init_base25_retriever(index: VectorStoreIndex, similarity_top_k:int) -> BM25Retriever:\n",
    "    # write here the code to initialize the BM25Retriever\n",
    "    # ...\n",
    "    raise NotImplementedError(\"BM25Retriever is not implemented yet\")"
   ]
  },
  {
   "cell_type": "code",
   "execution_count": null,
   "metadata": {},
   "outputs": [],
   "source": [
    "\n",
    "bm25_retriever = init_base25_retriever(index, similarity_top_k=3)\n",
    "bm25_nodes = bm25_retriever.retrieve(QUESTION)\n",
    "for node in bm25_nodes:\n",
    "    rprint(node.get_content(\n",
    "        metadata_mode=MetadataMode.LLM\n",
    "    ))"
   ]
  },
  {
   "cell_type": "markdown",
   "metadata": {},
   "source": [
    "### Merge the results of the two retrievers"
   ]
  },
  {
   "cell_type": "code",
   "execution_count": null,
   "metadata": {},
   "outputs": [],
   "source": [
    "def init_query_fusion_retriever(retrievers: list[BaseRetriever], similarity_top_k:int, mode: FUSION_MODES, num_queries:int = 1) -> QueryFusionRetriever:\n",
    "    # write here the code to initialize the QueryFusionRetriever\n",
    "    # ...\n",
    "    return retriever"
   ]
  },
  {
   "cell_type": "code",
   "execution_count": null,
   "metadata": {},
   "outputs": [],
   "source": [
    "retriever = init_query_fusion_retriever([vector_retriever, bm25_retriever], similarity_top_k=3, mode=FUSION_MODES.RECIPROCAL_RANK)\n",
    "nodes = retriever.retrieve(QUESTION)\n",
    "for node in nodes:\n",
    "    rprint(node.get_content(\n",
    "        metadata_mode=MetadataMode.LLM\n",
    "    ))"
   ]
  },
  {
   "cell_type": "markdown",
   "metadata": {},
   "source": [
    "Compare the results of the two retrievers and the merged results!"
   ]
  }
 ],
 "metadata": {
  "kernelspec": {
   "display_name": ".venv",
   "language": "python",
   "name": "python3"
  },
  "language_info": {
   "codemirror_mode": {
    "name": "ipython",
    "version": 3
   },
   "file_extension": ".py",
   "mimetype": "text/x-python",
   "name": "python",
   "nbconvert_exporter": "python",
   "pygments_lexer": "ipython3",
   "version": "3.11.9"
  }
 },
 "nbformat": 4,
 "nbformat_minor": 2
}
