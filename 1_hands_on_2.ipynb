{
 "cells": [
  {
   "cell_type": "markdown",
   "metadata": {},
   "source": [
    "# Hands-on 2: Metadata & Indexing"
   ]
  },
  {
   "cell_type": "markdown",
   "metadata": {},
   "source": [
    "## Problem"
   ]
  },
  {
   "cell_type": "markdown",
   "metadata": {},
   "source": [
    "Create a function with these requirements:​\n",
    "\n",
    "- Input: path of paul_graham_essay.txt​\n",
    "\n",
    "- Output: index able to answer correctly to these questions: ​\n",
    "\n",
    "    - Who is the author of the book?​\n",
    "\n",
    "    - What inspired the author to switch from studying philosophy to studying AI in college?​\n",
    "\n",
    "    - What would the author say about art vs. Engineering?​\n",
    "\n",
    "    - Why did the author have to learn italian?​\n",
    "\n",
    "    - Why the author was in Florence?"
   ]
  },
  {
   "cell_type": "markdown",
   "metadata": {},
   "source": [
    "## Code"
   ]
  },
  {
   "cell_type": "code",
   "execution_count": null,
   "metadata": {},
   "outputs": [],
   "source": [
    "from typing import List\n",
    "from llama_index.core.schema import BaseNode\n",
    "from llama_index.core import VectorStoreIndex\n",
    "\n",
    "def create_index(text_path: str) -> VectorStoreIndex:\n",
    "    index: VectorStoreIndex\n",
    "    ...\n",
    "    return index"
   ]
  },
  {
   "cell_type": "code",
   "execution_count": null,
   "metadata": {},
   "outputs": [],
   "source": [
    "text_path = \"\" \n",
    "\n",
    "index = create_index(text_path)\n",
    "\n",
    "engine = index.as_query_engine()"
   ]
  },
  {
   "cell_type": "code",
   "execution_count": null,
   "metadata": {},
   "outputs": [],
   "source": [
    "print(engine.query(\"Who is the author of the book?\"))"
   ]
  },
  {
   "cell_type": "code",
   "execution_count": null,
   "metadata": {},
   "outputs": [],
   "source": [
    "print(engine.query(\"What inspired the author to switch from studying philosophy to studying AI in college?\"))"
   ]
  },
  {
   "cell_type": "code",
   "execution_count": null,
   "metadata": {},
   "outputs": [],
   "source": [
    "print(engine.query(\"What would the author say about art vs. engineering?\"))"
   ]
  },
  {
   "cell_type": "code",
   "execution_count": null,
   "metadata": {},
   "outputs": [],
   "source": [
    "print(engine.query(\"Why did the author have to learn italian?\"))"
   ]
  },
  {
   "cell_type": "code",
   "execution_count": null,
   "metadata": {},
   "outputs": [],
   "source": [
    "print(engine.query(\"Why the author was in Florence?\"))"
   ]
  }
 ],
 "metadata": {
  "kernelspec": {
   "display_name": ".venv",
   "language": "python",
   "name": "python3"
  },
  "language_info": {
   "name": "python",
   "version": "3.11.4"
  }
 },
 "nbformat": 4,
 "nbformat_minor": 2
}
