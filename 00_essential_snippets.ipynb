{
 "cells": [
  {
   "cell_type": "code",
   "execution_count": 2,
   "metadata": {},
   "outputs": [],
   "source": [
    "from llama_index.core import VectorStoreIndex, SimpleDirectoryReader, Settings\n",
    "from llama_index.readers.wikipedia import WikipediaReader\n",
    "from rich import print as rprint"
   ]
  },
  {
   "cell_type": "code",
   "execution_count": 3,
   "metadata": {},
   "outputs": [],
   "source": [
    "reader = WikipediaReader()\n",
    "documents = reader.load_data(pages=[\"Glossary of artificial intelligence\"])"
   ]
  },
  {
   "cell_type": "markdown",
   "metadata": {},
   "source": [
    "## Nodes splitters"
   ]
  },
  {
   "cell_type": "code",
   "execution_count": 5,
   "metadata": {},
   "outputs": [],
   "source": [
    "from llama_index.core.schema import MetadataMode"
   ]
  },
  {
   "cell_type": "markdown",
   "metadata": {},
   "source": [
    "### SentenceWindowNodeParser"
   ]
  },
  {
   "cell_type": "code",
   "execution_count": 40,
   "metadata": {},
   "outputs": [],
   "source": [
    "from llama_index.core.node_parser import TokenTextSplitter\n",
    "\n",
    "splitter = TokenTextSplitter(\n",
    "    chunk_size=256,\n",
    "    chunk_overlap=20,\n",
    "    separator=\" \",\n",
    ")\n",
    "\n",
    "nodes = splitter.get_nodes_from_documents(documents)\n",
    "\n",
    "i = 0"
   ]
  },
  {
   "cell_type": "code",
   "execution_count": 41,
   "metadata": {},
   "outputs": [
    {
     "data": {
      "text/html": [
       "<pre style=\"white-space:pre;overflow-x:auto;line-height:normal;font-family:Menlo,'DejaVu Sans Mono',consolas,'Courier New',monospace\">This glossary of artificial intelligence is a list of definitions of terms and concepts relevant to the study of \n",
       "artificial intelligence, its sub-disciplines, and related fields. Related glossaries include Glossary of computer \n",
       "science, Glossary of robotics, and Glossary of machine vision.\n",
       "\n",
       "\n",
       "== A ==\n",
       "\n",
       "abductive logic programming <span style=\"font-weight: bold\">(</span>ALP<span style=\"font-weight: bold\">)</span>\n",
       "A high-level knowledge-representation framework that can be used to solve problems declaratively based on abductive\n",
       "reasoning. It extends normal logic programming by allowing some predicates to be incompletely defined, declared as \n",
       "abducible predicates.\n",
       "\n",
       "abductive reasoning\n",
       "Also abduction.\n",
       "A form of logical inference which starts with an observation or set of observations then seeks to find the simplest\n",
       "and most likely explanation. This process, unlike deductive reasoning, yields a plausible conclusion but does not \n",
       "positively verify it. abductive inference, or retroduction\n",
       "\n",
       "abstract data type\n",
       "A mathematical model for data types, where a data type is defined by its behavior <span style=\"font-weight: bold\">(</span>semantics<span style=\"font-weight: bold\">)</span> from the point of \n",
       "view of a user of the data, specifically in terms of possible values, possible operations on data of this type, and\n",
       "the behavior of these operations.\n",
       "\n",
       "abstraction\n",
       "The process of removing physical, spatial, or temporal details or attributes in the study of objects or systems in \n",
       "order to more\n",
       "</pre>\n"
      ],
      "text/plain": [
       "This glossary of artificial intelligence is a list of definitions of terms and concepts relevant to the study of \n",
       "artificial intelligence, its sub-disciplines, and related fields. Related glossaries include Glossary of computer \n",
       "science, Glossary of robotics, and Glossary of machine vision.\n",
       "\n",
       "\n",
       "== A ==\n",
       "\n",
       "abductive logic programming \u001b[1m(\u001b[0mALP\u001b[1m)\u001b[0m\n",
       "A high-level knowledge-representation framework that can be used to solve problems declaratively based on abductive\n",
       "reasoning. It extends normal logic programming by allowing some predicates to be incompletely defined, declared as \n",
       "abducible predicates.\n",
       "\n",
       "abductive reasoning\n",
       "Also abduction.\n",
       "A form of logical inference which starts with an observation or set of observations then seeks to find the simplest\n",
       "and most likely explanation. This process, unlike deductive reasoning, yields a plausible conclusion but does not \n",
       "positively verify it. abductive inference, or retroduction\n",
       "\n",
       "abstract data type\n",
       "A mathematical model for data types, where a data type is defined by its behavior \u001b[1m(\u001b[0msemantics\u001b[1m)\u001b[0m from the point of \n",
       "view of a user of the data, specifically in terms of possible values, possible operations on data of this type, and\n",
       "the behavior of these operations.\n",
       "\n",
       "abstraction\n",
       "The process of removing physical, spatial, or temporal details or attributes in the study of objects or systems in \n",
       "order to more\n"
      ]
     },
     "metadata": {},
     "output_type": "display_data"
    }
   ],
   "source": [
    "rprint(nodes[i].get_content(\n",
    "    metadata_mode=MetadataMode.LLM\n",
    "))\n",
    "i+=1"
   ]
  },
  {
   "cell_type": "markdown",
   "metadata": {},
   "source": [
    "### SentenceSplitter"
   ]
  },
  {
   "cell_type": "code",
   "execution_count": null,
   "metadata": {},
   "outputs": [],
   "source": [
    "from llama_index.core.node_parser import SentenceSplitter\n",
    "\n",
    "node_parser = SentenceSplitter(chunk_size=256, chunk_overlap=20)\n",
    "nodes = node_parser.get_nodes_from_documents(\n",
    "    documents\n",
    ")\n",
    "i = 0"
   ]
  },
  {
   "cell_type": "code",
   "execution_count": 26,
   "metadata": {},
   "outputs": [
    {
     "data": {
      "text/html": [
       "<pre style=\"white-space:pre;overflow-x:auto;line-height:normal;font-family:Menlo,'DejaVu Sans Mono',consolas,'Courier New',monospace\">the cost it estimates to reach the goal is not higher than the lowest possible cost from the current point in the \n",
       "path.\n",
       "\n",
       "affective computing\n",
       "Also artificial emotional intelligence or emotion AI.\n",
       "The study and development of systems and devices that can recognize, interpret, process, and simulate human \n",
       "affects. Affective computing is an interdisciplinary field spanning computer science, psychology, and cognitive \n",
       "science.\n",
       "\n",
       "agent architecture\n",
       "A blueprint for software agents and intelligent control systems, depicting the arrangement of components. The \n",
       "architectures implemented by intelligent agents are referred to as cognitive architectures.\n",
       "\n",
       "AI accelerator\n",
       "A class of microprocessor or computer system designed as hardware acceleration for artificial intelligence \n",
       "applications, especially artificial neural networks, machine vision, and machine learning.\n",
       "\n",
       "AI-complete\n",
       "In the field of artificial intelligence, the most difficult problems are informally known as AI-complete or \n",
       "AI-hard, implying that the difficulty of these computational problems is equivalent to that of solving the central \n",
       "artificial intelligence problem—making computers as intelligent as people, or strong AI. To call a problem \n",
       "AI-complete reflects an attitude that it would not be solved by a simple specific algorithm.\n",
       "\n",
       "algorithm\n",
       "An unambiguous specification of how to solve a class of problems. Algorithms can perform calculation, data \n",
       "processing, and automated reasoning tasks.\n",
       "</pre>\n"
      ],
      "text/plain": [
       "the cost it estimates to reach the goal is not higher than the lowest possible cost from the current point in the \n",
       "path.\n",
       "\n",
       "affective computing\n",
       "Also artificial emotional intelligence or emotion AI.\n",
       "The study and development of systems and devices that can recognize, interpret, process, and simulate human \n",
       "affects. Affective computing is an interdisciplinary field spanning computer science, psychology, and cognitive \n",
       "science.\n",
       "\n",
       "agent architecture\n",
       "A blueprint for software agents and intelligent control systems, depicting the arrangement of components. The \n",
       "architectures implemented by intelligent agents are referred to as cognitive architectures.\n",
       "\n",
       "AI accelerator\n",
       "A class of microprocessor or computer system designed as hardware acceleration for artificial intelligence \n",
       "applications, especially artificial neural networks, machine vision, and machine learning.\n",
       "\n",
       "AI-complete\n",
       "In the field of artificial intelligence, the most difficult problems are informally known as AI-complete or \n",
       "AI-hard, implying that the difficulty of these computational problems is equivalent to that of solving the central \n",
       "artificial intelligence problem—making computers as intelligent as people, or strong AI. To call a problem \n",
       "AI-complete reflects an attitude that it would not be solved by a simple specific algorithm.\n",
       "\n",
       "algorithm\n",
       "An unambiguous specification of how to solve a class of problems. Algorithms can perform calculation, data \n",
       "processing, and automated reasoning tasks.\n"
      ]
     },
     "metadata": {},
     "output_type": "display_data"
    }
   ],
   "source": [
    "rprint(nodes[i].get_content(\n",
    "    metadata_mode=MetadataMode.EMBED\n",
    "))\n",
    "i+=1"
   ]
  },
  {
   "cell_type": "markdown",
   "metadata": {},
   "source": [
    "#### Improvement to sentence splitter\n"
   ]
  },
  {
   "cell_type": "code",
   "execution_count": 27,
   "metadata": {},
   "outputs": [],
   "source": [
    "node_parser = SentenceSplitter(chunk_size=256, chunk_overlap=20, \n",
    "                                separator=\"\\n\\n\",\n",
    "                                paragraph_separator=\"\\n\\n\")\n",
    "nodes = node_parser.get_nodes_from_documents(\n",
    "    documents\n",
    ")\n",
    "i = 0"
   ]
  },
  {
   "cell_type": "code",
   "execution_count": 39,
   "metadata": {},
   "outputs": [
    {
     "data": {
      "text/html": [
       "<pre style=\"white-space:pre;overflow-x:auto;line-height:normal;font-family:Menlo,'DejaVu Sans Mono',consolas,'Courier New',monospace\">automated planning and scheduling\n",
       "Also simply AI planning.\n",
       "A branch of artificial intelligence that concerns the realization of strategies or action sequences, typically for \n",
       "execution by intelligent agents, autonomous robots and unmanned vehicles. Unlike classical control and \n",
       "classification problems, the solutions are complex and must be discovered and optimized in multidimensional space. \n",
       "Planning is also related to decision theory.\n",
       "\n",
       "automated reasoning\n",
       "An area of computer science and mathematical logic dedicated to understanding different aspects of reasoning. The \n",
       "study of automated reasoning helps produce computer programs that allow computers to reason completely, or nearly \n",
       "completely, automatically. Although automated reasoning is considered a sub-field of artificial intelligence, it \n",
       "also has connections with theoretical computer science, and even philosophy.\n",
       "\n",
       "autonomic computing <span style=\"font-weight: bold\">(</span>AC<span style=\"font-weight: bold\">)</span>\n",
       "The self-managing characteristics of distributed computing resources, adapting to unpredictable changes while \n",
       "hiding intrinsic complexity to operators and users. Initiated by IBM in <span style=\"color: #008080; text-decoration-color: #008080; font-weight: bold\">2001</span>, this initiative ultimately aimed to \n",
       "develop computer systems capable of self-management, to overcome the rapidly growing complexity of computing \n",
       "systems management, and to reduce the barrier that complexity poses to further growth.\n",
       "\n",
       "autonomous car\n",
       "Also self-driving car, robot car, and driverless car.\n",
       "A vehicle that is capable of sensing its environment and moving with little or no human input.\n",
       "</pre>\n"
      ],
      "text/plain": [
       "automated planning and scheduling\n",
       "Also simply AI planning.\n",
       "A branch of artificial intelligence that concerns the realization of strategies or action sequences, typically for \n",
       "execution by intelligent agents, autonomous robots and unmanned vehicles. Unlike classical control and \n",
       "classification problems, the solutions are complex and must be discovered and optimized in multidimensional space. \n",
       "Planning is also related to decision theory.\n",
       "\n",
       "automated reasoning\n",
       "An area of computer science and mathematical logic dedicated to understanding different aspects of reasoning. The \n",
       "study of automated reasoning helps produce computer programs that allow computers to reason completely, or nearly \n",
       "completely, automatically. Although automated reasoning is considered a sub-field of artificial intelligence, it \n",
       "also has connections with theoretical computer science, and even philosophy.\n",
       "\n",
       "autonomic computing \u001b[1m(\u001b[0mAC\u001b[1m)\u001b[0m\n",
       "The self-managing characteristics of distributed computing resources, adapting to unpredictable changes while \n",
       "hiding intrinsic complexity to operators and users. Initiated by IBM in \u001b[1;36m2001\u001b[0m, this initiative ultimately aimed to \n",
       "develop computer systems capable of self-management, to overcome the rapidly growing complexity of computing \n",
       "systems management, and to reduce the barrier that complexity poses to further growth.\n",
       "\n",
       "autonomous car\n",
       "Also self-driving car, robot car, and driverless car.\n",
       "A vehicle that is capable of sensing its environment and moving with little or no human input.\n"
      ]
     },
     "metadata": {},
     "output_type": "display_data"
    }
   ],
   "source": [
    "rprint(nodes[i].get_content(\n",
    "    metadata_mode=MetadataMode.EMBED\n",
    "))\n",
    "i+=1"
   ]
  },
  {
   "cell_type": "markdown",
   "metadata": {},
   "source": [
    "Other here: https://docs.llamaindex.ai/en/stable/module_guides/loading/node_parsers/modules/"
   ]
  }
 ],
 "metadata": {
  "kernelspec": {
   "display_name": ".venv",
   "language": "python",
   "name": "python3"
  },
  "language_info": {
   "codemirror_mode": {
    "name": "ipython",
    "version": 3
   },
   "file_extension": ".py",
   "mimetype": "text/x-python",
   "name": "python",
   "nbconvert_exporter": "python",
   "pygments_lexer": "ipython3",
   "version": "3.11.9"
  }
 },
 "nbformat": 4,
 "nbformat_minor": 2
}
