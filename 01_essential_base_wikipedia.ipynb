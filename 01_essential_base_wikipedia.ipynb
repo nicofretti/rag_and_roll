{
 "cells": [
  {
   "cell_type": "markdown",
   "metadata": {},
   "source": [
    "### 1. Open the notebook"
   ]
  },
  {
   "cell_type": "code",
   "execution_count": 1,
   "metadata": {},
   "outputs": [],
   "source": [
    "from llama_index.core import VectorStoreIndex, SimpleDirectoryReader, Settings\n",
    "from llama_index.readers.wikipedia import WikipediaReader\n",
    "from rich import print as rprint"
   ]
  },
  {
   "cell_type": "markdown",
   "metadata": {},
   "source": [
    "### 2. Identify a document to analyze"
   ]
  },
  {
   "cell_type": "code",
   "execution_count": 2,
   "metadata": {},
   "outputs": [],
   "source": [
    "reader = WikipediaReader()\n",
    "documents = reader.load_data(pages=[\"Glossary of artificial intelligence\"])"
   ]
  },
  {
   "cell_type": "markdown",
   "metadata": {},
   "source": []
  },
  {
   "cell_type": "markdown",
   "metadata": {},
   "source": [
    "### 3. Identify the best way to extract the chunks"
   ]
  },
  {
   "cell_type": "markdown",
   "metadata": {},
   "source": [
    "#### Improvement to sentence splitter\n"
   ]
  },
  {
   "cell_type": "code",
   "execution_count": 6,
   "metadata": {},
   "outputs": [],
   "source": [
    "from llama_index.core.node_parser import SentenceSplitter\n",
    "from llama_index.core.schema import MetadataMode\n",
    "\n",
    "node_parser = SentenceSplitter(chunk_size=128, chunk_overlap=20, \n",
    "                                separator=\"\\n\\n\",\n",
    "                                paragraph_separator=\"\\n\\n\")\n",
    "nodes = node_parser.get_nodes_from_documents(\n",
    "    documents\n",
    ")\n",
    "i = 0"
   ]
  },
  {
   "cell_type": "code",
   "execution_count": 17,
   "metadata": {},
   "outputs": [
    {
     "data": {
      "text/html": [
       "<pre style=\"white-space:pre;overflow-x:auto;line-height:normal;font-family:Menlo,'DejaVu Sans Mono',consolas,'Courier New',monospace\">algorithmic efficiency\n",
       "A property of an algorithm which relates to the number of computational resources used by the algorithm. An \n",
       "algorithm must be analyzed to determine its resource usage, and the efficiency of an algorithm can be measured \n",
       "based on usage of different resources. Algorithmic efficiency can be thought of as analogous to engineering \n",
       "productivity for a repeating or continuous process.\n",
       "\n",
       "algorithmic probability\n",
       "In algorithmic information theory, algorithmic probability, also known as Solomonoff probability, is a mathematical\n",
       "method of assigning a prior probability to a given observation. It was invented by Ray Solomonoff in the 1960s.\n",
       "</pre>\n"
      ],
      "text/plain": [
       "algorithmic efficiency\n",
       "A property of an algorithm which relates to the number of computational resources used by the algorithm. An \n",
       "algorithm must be analyzed to determine its resource usage, and the efficiency of an algorithm can be measured \n",
       "based on usage of different resources. Algorithmic efficiency can be thought of as analogous to engineering \n",
       "productivity for a repeating or continuous process.\n",
       "\n",
       "algorithmic probability\n",
       "In algorithmic information theory, algorithmic probability, also known as Solomonoff probability, is a mathematical\n",
       "method of assigning a prior probability to a given observation. It was invented by Ray Solomonoff in the 1960s.\n"
      ]
     },
     "metadata": {},
     "output_type": "display_data"
    }
   ],
   "source": [
    "rprint(nodes[i].get_content(\n",
    "    metadata_mode=MetadataMode.EMBED\n",
    "))\n",
    "i+=1"
   ]
  },
  {
   "cell_type": "markdown",
   "metadata": {},
   "source": [
    "Other here: https://docs.llamaindex.ai/en/stable/module_guides/loading/node_parsers/modules/"
   ]
  }
 ],
 "metadata": {
  "kernelspec": {
   "display_name": ".venv",
   "language": "python",
   "name": "python3"
  },
  "language_info": {
   "codemirror_mode": {
    "name": "ipython",
    "version": 3
   },
   "file_extension": ".py",
   "mimetype": "text/x-python",
   "name": "python",
   "nbconvert_exporter": "python",
   "pygments_lexer": "ipython3",
   "version": "3.11.9"
  }
 },
 "nbformat": 4,
 "nbformat_minor": 2
}
