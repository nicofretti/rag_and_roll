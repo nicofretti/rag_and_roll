{
 "cells": [
  {
   "cell_type": "markdown",
   "metadata": {},
   "source": [
    "### 1. Open the notebook"
   ]
  },
  {
   "cell_type": "code",
   "execution_count": 1,
   "metadata": {},
   "outputs": [],
   "source": [
    "from llama_index.core import VectorStoreIndex, SimpleDirectoryReader, Settings\n",
    "from llama_index.readers.wikipedia import WikipediaReader\n",
    "from rich import print as rprint"
   ]
  },
  {
   "cell_type": "markdown",
   "metadata": {},
   "source": [
    "### 2. Identify a document to analyze"
   ]
  },
  {
   "cell_type": "code",
   "execution_count": null,
   "metadata": {},
   "outputs": [
    {
     "name": "stdout",
     "output_type": "stream",
     "text": [
      "1\n"
     ]
    }
   ],
   "source": [
    "reader = WikipediaReader()\n",
    "documents = reader.load_data(pages=[\"Glossary of artificial intelligence\"])"
   ]
  },
  {
   "cell_type": "markdown",
   "metadata": {},
   "source": [
    "### 3. Identify the best way to extract the chunks"
   ]
  },
  {
   "cell_type": "markdown",
   "metadata": {},
   "source": [
    "#### Improvement to sentence splitter\n"
   ]
  },
  {
   "cell_type": "code",
   "execution_count": 3,
   "metadata": {},
   "outputs": [],
   "source": [
    "from llama_index.core.node_parser import SentenceSplitter\n",
    "from llama_index.core.schema import MetadataMode\n",
    "\n",
    "node_parser = SentenceSplitter(chunk_size=128, chunk_overlap=20, \n",
    "                                separator=\"\\n\\n\",\n",
    "                                paragraph_separator=\"\\n\\n\")\n",
    "nodes = node_parser.get_nodes_from_documents(\n",
    "    documents\n",
    ")\n",
    "i = 0"
   ]
  },
  {
   "cell_type": "code",
   "execution_count": 4,
   "metadata": {},
   "outputs": [
    {
     "data": {
      "text/html": [
       "<pre style=\"white-space:pre;overflow-x:auto;line-height:normal;font-family:Menlo,'DejaVu Sans Mono',consolas,'Courier New',monospace\">This glossary of artificial intelligence is a list of definitions of terms and concepts relevant to the study of \n",
       "artificial intelligence <span style=\"font-weight: bold\">(</span>AI<span style=\"font-weight: bold\">)</span>, its sub-disciplines, and related fields. Related glossaries include Glossary of \n",
       "computer science, Glossary of robotics, and Glossary of machine vision.\n",
       "\n",
       "\n",
       "== A ==\n",
       "\n",
       "abductive logic programming <span style=\"font-weight: bold\">(</span>ALP<span style=\"font-weight: bold\">)</span>\n",
       "A high-level knowledge-representation framework that can be used to solve problems declaratively based on abductive\n",
       "reasoning. It extends normal logic programming by allowing some predicates to be incompletely defined, declared as \n",
       "abducible predicates.\n",
       "</pre>\n"
      ],
      "text/plain": [
       "This glossary of artificial intelligence is a list of definitions of terms and concepts relevant to the study of \n",
       "artificial intelligence \u001b[1m(\u001b[0mAI\u001b[1m)\u001b[0m, its sub-disciplines, and related fields. Related glossaries include Glossary of \n",
       "computer science, Glossary of robotics, and Glossary of machine vision.\n",
       "\n",
       "\n",
       "== A ==\n",
       "\n",
       "abductive logic programming \u001b[1m(\u001b[0mALP\u001b[1m)\u001b[0m\n",
       "A high-level knowledge-representation framework that can be used to solve problems declaratively based on abductive\n",
       "reasoning. It extends normal logic programming by allowing some predicates to be incompletely defined, declared as \n",
       "abducible predicates.\n"
      ]
     },
     "metadata": {},
     "output_type": "display_data"
    }
   ],
   "source": [
    "rprint(nodes[i].get_content(\n",
    "    metadata_mode=MetadataMode.EMBED\n",
    "))\n",
    "i+=1"
   ]
  },
  {
   "cell_type": "markdown",
   "metadata": {},
   "source": [
    "Other here: https://docs.llamaindex.ai/en/stable/module_guides/loading/node_parsers/modules/"
   ]
  }
 ],
 "metadata": {
  "kernelspec": {
   "display_name": ".venv",
   "language": "python",
   "name": "python3"
  },
  "language_info": {
   "codemirror_mode": {
    "name": "ipython",
    "version": 3
   },
   "file_extension": ".py",
   "mimetype": "text/x-python",
   "name": "python",
   "nbconvert_exporter": "python",
   "pygments_lexer": "ipython3",
   "version": "3.11.9"
  }
 },
 "nbformat": 4,
 "nbformat_minor": 2
}
