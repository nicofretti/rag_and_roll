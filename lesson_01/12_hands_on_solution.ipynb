{
 "cells": [
  {
   "cell_type": "markdown",
   "metadata": {},
   "source": [
    "# Hands-on 1: Ingestion and Chunking"
   ]
  },
  {
   "cell_type": "markdown",
   "metadata": {},
   "source": [
    "## Problem"
   ]
  },
  {
   "cell_type": "markdown",
   "metadata": {},
   "source": [
    "Create a function with these requirements:​\n",
    "\n",
    "- Input: the name of the Wikipedia page to ingest \"Glossary of artificial intelligence\".​\n",
    "\n",
    "- Output: list of name-description concepts "
   ]
  },
  {
   "cell_type": "markdown",
   "metadata": {},
   "source": [
    "## Code"
   ]
  },
  {
   "cell_type": "code",
   "execution_count": null,
   "metadata": {},
   "outputs": [],
   "source": [
    "# if running on colab uncomment the next line\n",
    "%pip install llama-index>=0.11.20\n",
    "%pip install llama-index-readers-wikipedia>=0.2.0\n",
    "%pip install wikipedia>=1.4.0"
   ]
  },
  {
   "cell_type": "code",
   "execution_count": 11,
   "metadata": {},
   "outputs": [],
   "source": [
    "# imports\n",
    "from rich import print as rprint\n",
    "from llama_index.core.schema import MetadataMode\n",
    "from llama_index.core.schema import BaseNode\n",
    "from llama_index.readers.wikipedia import WikipediaReader\n",
    "from llama_index.core.node_parser import SentenceSplitter"
   ]
  },
  {
   "cell_type": "code",
   "execution_count": 12,
   "metadata": {},
   "outputs": [],
   "source": [
    "\n",
    "def ingest_and_chunk(name_page: str) -> list[BaseNode]:\n",
    "    reader = WikipediaReader()\n",
    "    documents = reader.load_data(pages=[name_page])\n",
    "    node_parser = SentenceSplitter(chunk_size=128, chunk_overlap=20, \n",
    "                                separator=\"\\n\\n\",\n",
    "                                paragraph_separator=\"\\n\\n\")\n",
    "    nodes = node_parser.get_nodes_from_documents(\n",
    "        documents\n",
    "    )\n",
    "    return nodes"
   ]
  },
  {
   "cell_type": "code",
   "execution_count": 13,
   "metadata": {},
   "outputs": [
    {
     "data": {
      "text/html": [
       "<pre style=\"white-space:pre;overflow-x:auto;line-height:normal;font-family:Menlo,'DejaVu Sans Mono',consolas,'Courier New',monospace\">This glossary of artificial intelligence is a list of definitions of terms and concepts relevant to the study of \n",
       "artificial intelligence <span style=\"font-weight: bold\">(</span>AI<span style=\"font-weight: bold\">)</span>, its subdisciplines, and related fields. Related glossaries include Glossary of \n",
       "computer science, Glossary of robotics, and Glossary of machine vision.\n",
       "\n",
       "\n",
       "== A ==\n",
       "\n",
       "A* search\n",
       "Pronounced <span style=\"color: #008000; text-decoration-color: #008000\">\"A-star\"</span>.\n",
       "A graph traversal and pathfinding algorithm which is used in many fields of computer science due to its \n",
       "completeness, optimality, and optimal efficiency.\n",
       "</pre>\n"
      ],
      "text/plain": [
       "This glossary of artificial intelligence is a list of definitions of terms and concepts relevant to the study of \n",
       "artificial intelligence \u001b[1m(\u001b[0mAI\u001b[1m)\u001b[0m, its subdisciplines, and related fields. Related glossaries include Glossary of \n",
       "computer science, Glossary of robotics, and Glossary of machine vision.\n",
       "\n",
       "\n",
       "== A ==\n",
       "\n",
       "A* search\n",
       "Pronounced \u001b[32m\"A-star\"\u001b[0m.\n",
       "A graph traversal and pathfinding algorithm which is used in many fields of computer science due to its \n",
       "completeness, optimality, and optimal efficiency.\n"
      ]
     },
     "metadata": {},
     "output_type": "display_data"
    },
    {
     "data": {
      "text/html": [
       "<pre style=\"white-space:pre;overflow-x:auto;line-height:normal;font-family:Menlo,'DejaVu Sans Mono',consolas,'Courier New',monospace\">abductive logic programming <span style=\"font-weight: bold\">(</span>ALP<span style=\"font-weight: bold\">)</span>\n",
       "A high-level knowledge-representation framework that can be used to solve problems declaratively based on abductive\n",
       "reasoning. It extends normal logic programming by allowing some predicates to be incompletely defined, declared as \n",
       "abducible predicates.\n",
       "\n",
       "abductive reasoning\n",
       "Also abduction.\n",
       "A form of logical inference which starts with an observation or set of observations then seeks to find the simplest\n",
       "and most likely explanation. This process, unlike deductive reasoning, yields a plausible conclusion but does not \n",
       "positively verify it. abductive inference, or retroduction\n",
       "</pre>\n"
      ],
      "text/plain": [
       "abductive logic programming \u001b[1m(\u001b[0mALP\u001b[1m)\u001b[0m\n",
       "A high-level knowledge-representation framework that can be used to solve problems declaratively based on abductive\n",
       "reasoning. It extends normal logic programming by allowing some predicates to be incompletely defined, declared as \n",
       "abducible predicates.\n",
       "\n",
       "abductive reasoning\n",
       "Also abduction.\n",
       "A form of logical inference which starts with an observation or set of observations then seeks to find the simplest\n",
       "and most likely explanation. This process, unlike deductive reasoning, yields a plausible conclusion but does not \n",
       "positively verify it. abductive inference, or retroduction\n"
      ]
     },
     "metadata": {},
     "output_type": "display_data"
    },
    {
     "data": {
      "text/html": [
       "<pre style=\"white-space:pre;overflow-x:auto;line-height:normal;font-family:Menlo,'DejaVu Sans Mono',consolas,'Courier New',monospace\">ablation\n",
       "The removal of a component of an AI system. An ablation study aims to determine the contribution of a component to \n",
       "an AI system by removing the component, and then analyzing the resultant performance of the system.\n",
       "\n",
       "abstract data type\n",
       "A mathematical model for data types, where a data type is defined by its behavior <span style=\"font-weight: bold\">(</span>semantics<span style=\"font-weight: bold\">)</span> from the point of \n",
       "view of a user of the data, specifically in terms of possible values, possible operations on data of this type, and\n",
       "the behavior of these operations.\n",
       "</pre>\n"
      ],
      "text/plain": [
       "ablation\n",
       "The removal of a component of an AI system. An ablation study aims to determine the contribution of a component to \n",
       "an AI system by removing the component, and then analyzing the resultant performance of the system.\n",
       "\n",
       "abstract data type\n",
       "A mathematical model for data types, where a data type is defined by its behavior \u001b[1m(\u001b[0msemantics\u001b[1m)\u001b[0m from the point of \n",
       "view of a user of the data, specifically in terms of possible values, possible operations on data of this type, and\n",
       "the behavior of these operations.\n"
      ]
     },
     "metadata": {},
     "output_type": "display_data"
    },
    {
     "data": {
      "text/html": [
       "<pre style=\"white-space:pre;overflow-x:auto;line-height:normal;font-family:Menlo,'DejaVu Sans Mono',consolas,'Courier New',monospace\">abstraction\n",
       "The process of removing physical, spatial, or temporal details or attributes in the study of objects or systems in \n",
       "order to more closely attend to other details of interest\n",
       "\n",
       "accelerating change\n",
       "A perceived increase in the rate of technological change throughout history, which may suggest faster and more \n",
       "profound change in the future and may or may not be accompanied by equally profound social and cultural change.\n",
       "</pre>\n"
      ],
      "text/plain": [
       "abstraction\n",
       "The process of removing physical, spatial, or temporal details or attributes in the study of objects or systems in \n",
       "order to more closely attend to other details of interest\n",
       "\n",
       "accelerating change\n",
       "A perceived increase in the rate of technological change throughout history, which may suggest faster and more \n",
       "profound change in the future and may or may not be accompanied by equally profound social and cultural change.\n"
      ]
     },
     "metadata": {},
     "output_type": "display_data"
    },
    {
     "data": {
      "text/html": [
       "<pre style=\"white-space:pre;overflow-x:auto;line-height:normal;font-family:Menlo,'DejaVu Sans Mono',consolas,'Courier New',monospace\">action language\n",
       "A language for specifying state transition systems, and is commonly used to create formal models of the effects of \n",
       "actions on the world. Action languages are commonly used in the artificial intelligence and robotics domains, where\n",
       "they describe how actions affect the states of systems over time, and may be used for automated planning.\n",
       "\n",
       "action model learning\n",
       "An area of machine learning concerned with creation and modification of software agent's knowledge about effects \n",
       "and preconditions of the actions that can be executed within its environment. This knowledge is usually represented\n",
       "in logic-based action description language and used as the input for automated planners.\n",
       "</pre>\n"
      ],
      "text/plain": [
       "action language\n",
       "A language for specifying state transition systems, and is commonly used to create formal models of the effects of \n",
       "actions on the world. Action languages are commonly used in the artificial intelligence and robotics domains, where\n",
       "they describe how actions affect the states of systems over time, and may be used for automated planning.\n",
       "\n",
       "action model learning\n",
       "An area of machine learning concerned with creation and modification of software agent's knowledge about effects \n",
       "and preconditions of the actions that can be executed within its environment. This knowledge is usually represented\n",
       "in logic-based action description language and used as the input for automated planners.\n"
      ]
     },
     "metadata": {},
     "output_type": "display_data"
    },
    {
     "data": {
      "text/html": [
       "<pre style=\"white-space:pre;overflow-x:auto;line-height:normal;font-family:Menlo,'DejaVu Sans Mono',consolas,'Courier New',monospace\">action selection\n",
       "A way of characterizing the most basic problem of intelligent systems: what to do next. In artificial intelligence \n",
       "and computational cognitive science, <span style=\"color: #008000; text-decoration-color: #008000\">\"the action selection problem\"</span> is typically associated with intelligent agents\n",
       "and animats—artificial systems that exhibit complex behaviour in an agent environment.\n",
       "\n",
       "activation function\n",
       "In artificial neural networks, the activation function of a node defines the output of that node given an input or \n",
       "set of inputs.\n",
       "\n",
       "adaptive algorithm\n",
       "An algorithm that changes its behavior at the time it is run, based on a priori defined reward mechanism or \n",
       "criterion.\n",
       "</pre>\n"
      ],
      "text/plain": [
       "action selection\n",
       "A way of characterizing the most basic problem of intelligent systems: what to do next. In artificial intelligence \n",
       "and computational cognitive science, \u001b[32m\"the action selection problem\"\u001b[0m is typically associated with intelligent agents\n",
       "and animats—artificial systems that exhibit complex behaviour in an agent environment.\n",
       "\n",
       "activation function\n",
       "In artificial neural networks, the activation function of a node defines the output of that node given an input or \n",
       "set of inputs.\n",
       "\n",
       "adaptive algorithm\n",
       "An algorithm that changes its behavior at the time it is run, based on a priori defined reward mechanism or \n",
       "criterion.\n"
      ]
     },
     "metadata": {},
     "output_type": "display_data"
    },
    {
     "data": {
      "text/html": [
       "<pre style=\"white-space:pre;overflow-x:auto;line-height:normal;font-family:Menlo,'DejaVu Sans Mono',consolas,'Courier New',monospace\">adaptive neuro fuzzy inference system <span style=\"font-weight: bold\">(</span>ANFIS<span style=\"font-weight: bold\">)</span>\n",
       "Also adaptive network-based fuzzy inference system.\n",
       "A kind of artificial neural network that is based on Takagi–Sugeno fuzzy inference system. The technique was \n",
       "developed in the early 1990s. Since it integrates both neural networks and fuzzy logic principles, it has potential\n",
       "to capture the benefits of both in a single framework. Its inference system corresponds to a set of fuzzy IF–THEN \n",
       "rules that have learning capability to approximate nonlinear functions. Hence, ANFIS is considered to be a \n",
       "universal estimator.\n",
       "</pre>\n"
      ],
      "text/plain": [
       "adaptive neuro fuzzy inference system \u001b[1m(\u001b[0mANFIS\u001b[1m)\u001b[0m\n",
       "Also adaptive network-based fuzzy inference system.\n",
       "A kind of artificial neural network that is based on Takagi–Sugeno fuzzy inference system. The technique was \n",
       "developed in the early 1990s. Since it integrates both neural networks and fuzzy logic principles, it has potential\n",
       "to capture the benefits of both in a single framework. Its inference system corresponds to a set of fuzzy IF–THEN \n",
       "rules that have learning capability to approximate nonlinear functions. Hence, ANFIS is considered to be a \n",
       "universal estimator.\n"
      ]
     },
     "metadata": {},
     "output_type": "display_data"
    },
    {
     "data": {
      "text/html": [
       "<pre style=\"white-space:pre;overflow-x:auto;line-height:normal;font-family:Menlo,'DejaVu Sans Mono',consolas,'Courier New',monospace\">Hence, ANFIS is considered to be a universal estimator. For using the ANFIS in a more efficient and optimal way, \n",
       "one can use the best parameters obtained by genetic algorithm.\n",
       "\n",
       "admissible heuristic\n",
       "In computer science, specifically in algorithms related to pathfinding, a heuristic function is said to be \n",
       "admissible if it never overestimates the cost of reaching the goal, i.e. the cost it estimates to reach the goal is\n",
       "not higher than the lowest possible cost from the current point in the path.\n",
       "</pre>\n"
      ],
      "text/plain": [
       "Hence, ANFIS is considered to be a universal estimator. For using the ANFIS in a more efficient and optimal way, \n",
       "one can use the best parameters obtained by genetic algorithm.\n",
       "\n",
       "admissible heuristic\n",
       "In computer science, specifically in algorithms related to pathfinding, a heuristic function is said to be \n",
       "admissible if it never overestimates the cost of reaching the goal, i.e. the cost it estimates to reach the goal is\n",
       "not higher than the lowest possible cost from the current point in the path.\n"
      ]
     },
     "metadata": {},
     "output_type": "display_data"
    },
    {
     "data": {
      "text/html": [
       "<pre style=\"white-space:pre;overflow-x:auto;line-height:normal;font-family:Menlo,'DejaVu Sans Mono',consolas,'Courier New',monospace\">affective computing\n",
       "Also artificial emotional intelligence or emotion AI.\n",
       "The study and development of systems and devices that can recognize, interpret, process, and simulate human \n",
       "affects. Affective computing is an interdisciplinary field spanning computer science, psychology, and cognitive \n",
       "science.\n",
       "\n",
       "agent architecture\n",
       "A blueprint for software agents and intelligent control systems, depicting the arrangement of components. The \n",
       "architectures implemented by intelligent agents are referred to as cognitive architectures.\n",
       "\n",
       "AI accelerator\n",
       "A class of microprocessor or computer system designed as hardware acceleration for artificial intelligence \n",
       "applications, especially artificial neural networks, machine vision, and machine learning.\n",
       "</pre>\n"
      ],
      "text/plain": [
       "affective computing\n",
       "Also artificial emotional intelligence or emotion AI.\n",
       "The study and development of systems and devices that can recognize, interpret, process, and simulate human \n",
       "affects. Affective computing is an interdisciplinary field spanning computer science, psychology, and cognitive \n",
       "science.\n",
       "\n",
       "agent architecture\n",
       "A blueprint for software agents and intelligent control systems, depicting the arrangement of components. The \n",
       "architectures implemented by intelligent agents are referred to as cognitive architectures.\n",
       "\n",
       "AI accelerator\n",
       "A class of microprocessor or computer system designed as hardware acceleration for artificial intelligence \n",
       "applications, especially artificial neural networks, machine vision, and machine learning.\n"
      ]
     },
     "metadata": {},
     "output_type": "display_data"
    },
    {
     "data": {
      "text/html": [
       "<pre style=\"white-space:pre;overflow-x:auto;line-height:normal;font-family:Menlo,'DejaVu Sans Mono',consolas,'Courier New',monospace\">AI-complete\n",
       "In the field of artificial intelligence, the most difficult problems are informally known as AI-complete or \n",
       "AI-hard, implying that the difficulty of these computational problems is equivalent to that of solving the central \n",
       "artificial intelligence problem—making computers as intelligent as people, or strong AI. To call a problem \n",
       "AI-complete reflects an attitude that it would not be solved by a simple specific algorithm.\n",
       "\n",
       "algorithm\n",
       "An unambiguous specification of how to solve a class of problems. Algorithms can perform calculation, data \n",
       "processing, and automated reasoning tasks.\n",
       "</pre>\n"
      ],
      "text/plain": [
       "AI-complete\n",
       "In the field of artificial intelligence, the most difficult problems are informally known as AI-complete or \n",
       "AI-hard, implying that the difficulty of these computational problems is equivalent to that of solving the central \n",
       "artificial intelligence problem—making computers as intelligent as people, or strong AI. To call a problem \n",
       "AI-complete reflects an attitude that it would not be solved by a simple specific algorithm.\n",
       "\n",
       "algorithm\n",
       "An unambiguous specification of how to solve a class of problems. Algorithms can perform calculation, data \n",
       "processing, and automated reasoning tasks.\n"
      ]
     },
     "metadata": {},
     "output_type": "display_data"
    },
    {
     "data": {
      "text/html": [
       "<pre style=\"white-space:pre;overflow-x:auto;line-height:normal;font-family:Menlo,'DejaVu Sans Mono',consolas,'Courier New',monospace\">algorithmic efficiency\n",
       "A property of an algorithm which relates to the number of computational resources used by the algorithm. An \n",
       "algorithm must be analyzed to determine its resource usage, and the efficiency of an algorithm can be measured \n",
       "based on usage of different resources. Algorithmic efficiency can be thought of as analogous to engineering \n",
       "productivity for a repeating or continuous process.\n",
       "\n",
       "algorithmic probability\n",
       "In algorithmic information theory, algorithmic probability, also known as Solomonoff probability, is a mathematical\n",
       "method of assigning a prior probability to a given observation. It was invented by Ray Solomonoff in the 1960s.\n",
       "</pre>\n"
      ],
      "text/plain": [
       "algorithmic efficiency\n",
       "A property of an algorithm which relates to the number of computational resources used by the algorithm. An \n",
       "algorithm must be analyzed to determine its resource usage, and the efficiency of an algorithm can be measured \n",
       "based on usage of different resources. Algorithmic efficiency can be thought of as analogous to engineering \n",
       "productivity for a repeating or continuous process.\n",
       "\n",
       "algorithmic probability\n",
       "In algorithmic information theory, algorithmic probability, also known as Solomonoff probability, is a mathematical\n",
       "method of assigning a prior probability to a given observation. It was invented by Ray Solomonoff in the 1960s.\n"
      ]
     },
     "metadata": {},
     "output_type": "display_data"
    },
    {
     "data": {
      "text/html": [
       "<pre style=\"white-space:pre;overflow-x:auto;line-height:normal;font-family:Menlo,'DejaVu Sans Mono',consolas,'Courier New',monospace\">AlphaGo\n",
       "A computer program that plays the board game Go. It was developed by Alphabet Inc.'s Google DeepMind in London. \n",
       "AlphaGo has several versions including AlphaGo Zero, AlphaGo Master, AlphaGo Lee, etc. In October <span style=\"color: #008080; text-decoration-color: #008080; font-weight: bold\">2015</span>, AlphaGo \n",
       "became the first computer Go program to beat a human professional Go player without handicaps on a full-sized <span style=\"color: #008080; text-decoration-color: #008080; font-weight: bold\">19</span>×<span style=\"color: #008080; text-decoration-color: #008080; font-weight: bold\">19</span>\n",
       "board.\n",
       "\n",
       "ambient intelligence <span style=\"font-weight: bold\">(</span>AmI<span style=\"font-weight: bold\">)</span>\n",
       "Electronic environments that are sensitive and responsive to the presence of people.\n",
       "</pre>\n"
      ],
      "text/plain": [
       "AlphaGo\n",
       "A computer program that plays the board game Go. It was developed by Alphabet Inc.'s Google DeepMind in London. \n",
       "AlphaGo has several versions including AlphaGo Zero, AlphaGo Master, AlphaGo Lee, etc. In October \u001b[1;36m2015\u001b[0m, AlphaGo \n",
       "became the first computer Go program to beat a human professional Go player without handicaps on a full-sized \u001b[1;36m19\u001b[0m×\u001b[1;36m19\u001b[0m\n",
       "board.\n",
       "\n",
       "ambient intelligence \u001b[1m(\u001b[0mAmI\u001b[1m)\u001b[0m\n",
       "Electronic environments that are sensitive and responsive to the presence of people.\n"
      ]
     },
     "metadata": {},
     "output_type": "display_data"
    },
    {
     "data": {
      "text/html": [
       "<pre style=\"white-space:pre;overflow-x:auto;line-height:normal;font-family:Menlo,'DejaVu Sans Mono',consolas,'Courier New',monospace\">ambient intelligence <span style=\"font-weight: bold\">(</span>AmI<span style=\"font-weight: bold\">)</span>\n",
       "Electronic environments that are sensitive and responsive to the presence of people.\n",
       "\n",
       "analysis of algorithms\n",
       "The determination of the computational complexity of algorithms, that is the amount of time, storage and/or other \n",
       "resources necessary to execute them. Usually, this involves determining a function that relates the length of an \n",
       "algorithm's input to the number of steps it takes <span style=\"font-weight: bold\">(</span>its time complexity<span style=\"font-weight: bold\">)</span> or the number of storage locations it uses \n",
       "<span style=\"font-weight: bold\">(</span>its space complexity<span style=\"font-weight: bold\">)</span>.\n",
       "\n",
       "analytics\n",
       "The discovery, interpretation, and communication of meaningful patterns in data.\n",
       "</pre>\n"
      ],
      "text/plain": [
       "ambient intelligence \u001b[1m(\u001b[0mAmI\u001b[1m)\u001b[0m\n",
       "Electronic environments that are sensitive and responsive to the presence of people.\n",
       "\n",
       "analysis of algorithms\n",
       "The determination of the computational complexity of algorithms, that is the amount of time, storage and/or other \n",
       "resources necessary to execute them. Usually, this involves determining a function that relates the length of an \n",
       "algorithm's input to the number of steps it takes \u001b[1m(\u001b[0mits time complexity\u001b[1m)\u001b[0m or the number of storage locations it uses \n",
       "\u001b[1m(\u001b[0mits space complexity\u001b[1m)\u001b[0m.\n",
       "\n",
       "analytics\n",
       "The discovery, interpretation, and communication of meaningful patterns in data.\n"
      ]
     },
     "metadata": {},
     "output_type": "display_data"
    },
    {
     "data": {
      "text/html": [
       "<pre style=\"white-space:pre;overflow-x:auto;line-height:normal;font-family:Menlo,'DejaVu Sans Mono',consolas,'Courier New',monospace\">analytics\n",
       "The discovery, interpretation, and communication of meaningful patterns in data.\n",
       "\n",
       "answer set programming <span style=\"font-weight: bold\">(</span>ASP<span style=\"font-weight: bold\">)</span>\n",
       "A form of declarative programming oriented towards difficult <span style=\"font-weight: bold\">(</span>primarily NP-hard<span style=\"font-weight: bold\">)</span> search problems. It is based on \n",
       "the stable model <span style=\"font-weight: bold\">(</span>answer set<span style=\"font-weight: bold\">)</span> semantics of logic programming. In ASP, search problems are reduced to computing \n",
       "stable models, and answer set solvers—programs for generating stable models—are used to perform search.\n",
       "\n",
       "ant colony optimization <span style=\"font-weight: bold\">(</span>ACO<span style=\"font-weight: bold\">)</span>\n",
       "A probabilistic technique for solving computational problems that can be reduced to finding good paths through \n",
       "graphs.\n",
       "</pre>\n"
      ],
      "text/plain": [
       "analytics\n",
       "The discovery, interpretation, and communication of meaningful patterns in data.\n",
       "\n",
       "answer set programming \u001b[1m(\u001b[0mASP\u001b[1m)\u001b[0m\n",
       "A form of declarative programming oriented towards difficult \u001b[1m(\u001b[0mprimarily NP-hard\u001b[1m)\u001b[0m search problems. It is based on \n",
       "the stable model \u001b[1m(\u001b[0manswer set\u001b[1m)\u001b[0m semantics of logic programming. In ASP, search problems are reduced to computing \n",
       "stable models, and answer set solvers—programs for generating stable models—are used to perform search.\n",
       "\n",
       "ant colony optimization \u001b[1m(\u001b[0mACO\u001b[1m)\u001b[0m\n",
       "A probabilistic technique for solving computational problems that can be reduced to finding good paths through \n",
       "graphs.\n"
      ]
     },
     "metadata": {},
     "output_type": "display_data"
    },
    {
     "data": {
      "text/html": [
       "<pre style=\"white-space:pre;overflow-x:auto;line-height:normal;font-family:Menlo,'DejaVu Sans Mono',consolas,'Courier New',monospace\">anytime algorithm\n",
       "An algorithm that can return a valid solution to a problem even if it is interrupted before it ends.\n",
       "\n",
       "application programming interface <span style=\"font-weight: bold\">(</span>API<span style=\"font-weight: bold\">)</span>\n",
       "A set of subroutine definitions, communication protocols, and tools for building software. In general terms, it is \n",
       "a set of clearly defined methods of communication among various components. A good API makes it easier to develop a\n",
       "computer program by providing all the building blocks, which are then put together by the programmer. An API may be\n",
       "for a web-based system, operating system, database system, computer hardware, or software library.\n",
       "</pre>\n"
      ],
      "text/plain": [
       "anytime algorithm\n",
       "An algorithm that can return a valid solution to a problem even if it is interrupted before it ends.\n",
       "\n",
       "application programming interface \u001b[1m(\u001b[0mAPI\u001b[1m)\u001b[0m\n",
       "A set of subroutine definitions, communication protocols, and tools for building software. In general terms, it is \n",
       "a set of clearly defined methods of communication among various components. A good API makes it easier to develop a\n",
       "computer program by providing all the building blocks, which are then put together by the programmer. An API may be\n",
       "for a web-based system, operating system, database system, computer hardware, or software library.\n"
      ]
     },
     "metadata": {},
     "output_type": "display_data"
    },
    {
     "data": {
      "text/html": [
       "<pre style=\"white-space:pre;overflow-x:auto;line-height:normal;font-family:Menlo,'DejaVu Sans Mono',consolas,'Courier New',monospace\">approximate string matching\n",
       "Also fuzzy string searching.\n",
       "The technique of finding strings that match a pattern approximately <span style=\"font-weight: bold\">(</span>rather than exactly<span style=\"font-weight: bold\">)</span>. The problem of \n",
       "approximate string matching is typically divided into two sub-problems: finding approximate substring matches \n",
       "inside a given string and finding dictionary strings that match the pattern approximately.\n",
       "\n",
       "approximation error\n",
       "The discrepancy between an exact value and some approximation to it.\n",
       "</pre>\n"
      ],
      "text/plain": [
       "approximate string matching\n",
       "Also fuzzy string searching.\n",
       "The technique of finding strings that match a pattern approximately \u001b[1m(\u001b[0mrather than exactly\u001b[1m)\u001b[0m. The problem of \n",
       "approximate string matching is typically divided into two sub-problems: finding approximate substring matches \n",
       "inside a given string and finding dictionary strings that match the pattern approximately.\n",
       "\n",
       "approximation error\n",
       "The discrepancy between an exact value and some approximation to it.\n"
      ]
     },
     "metadata": {},
     "output_type": "display_data"
    },
    {
     "data": {
      "text/html": [
       "<pre style=\"white-space:pre;overflow-x:auto;line-height:normal;font-family:Menlo,'DejaVu Sans Mono',consolas,'Courier New',monospace\">approximation error\n",
       "The discrepancy between an exact value and some approximation to it.\n",
       "\n",
       "argumentation framework\n",
       "Also argumentation system.\n",
       "A way to deal with contentious information and draw conclusions from it. In an abstract argumentation framework, \n",
       "entry-level information is a set of abstract arguments that, for instance, represent data or a proposition. \n",
       "Conflicts between arguments are represented by a binary relation on the set of arguments. In concrete terms, you \n",
       "represent an argumentation framework with a directed graph such that the nodes are the arguments, and the arrows \n",
       "represent the attack relation.  There exist some extensions of the Dung's framework, like the logic-based \n",
       "argumentation frameworks or the value-based argumentation frameworks.\n",
       "</pre>\n"
      ],
      "text/plain": [
       "approximation error\n",
       "The discrepancy between an exact value and some approximation to it.\n",
       "\n",
       "argumentation framework\n",
       "Also argumentation system.\n",
       "A way to deal with contentious information and draw conclusions from it. In an abstract argumentation framework, \n",
       "entry-level information is a set of abstract arguments that, for instance, represent data or a proposition. \n",
       "Conflicts between arguments are represented by a binary relation on the set of arguments. In concrete terms, you \n",
       "represent an argumentation framework with a directed graph such that the nodes are the arguments, and the arrows \n",
       "represent the attack relation.  There exist some extensions of the Dung's framework, like the logic-based \n",
       "argumentation frameworks or the value-based argumentation frameworks.\n"
      ]
     },
     "metadata": {},
     "output_type": "display_data"
    },
    {
     "data": {
      "text/html": [
       "<pre style=\"white-space:pre;overflow-x:auto;line-height:normal;font-family:Menlo,'DejaVu Sans Mono',consolas,'Courier New',monospace\">artificial general intelligence <span style=\"font-weight: bold\">(</span>AGI<span style=\"font-weight: bold\">)</span>\n",
       "A type of AI that matches or surpasses human cognitive capabilities across a wide range of cognitive tasks.\n",
       "\n",
       "artificial immune system <span style=\"font-weight: bold\">(</span>AIS<span style=\"font-weight: bold\">)</span>\n",
       "A class of computationally intelligent, rule-based machine learning systems inspired by the principles and \n",
       "processes of the vertebrate immune system. The algorithms are typically modeled after the immune system's \n",
       "characteristics of learning and memory for use in problem-solving.\n",
       "</pre>\n"
      ],
      "text/plain": [
       "artificial general intelligence \u001b[1m(\u001b[0mAGI\u001b[1m)\u001b[0m\n",
       "A type of AI that matches or surpasses human cognitive capabilities across a wide range of cognitive tasks.\n",
       "\n",
       "artificial immune system \u001b[1m(\u001b[0mAIS\u001b[1m)\u001b[0m\n",
       "A class of computationally intelligent, rule-based machine learning systems inspired by the principles and \n",
       "processes of the vertebrate immune system. The algorithms are typically modeled after the immune system's \n",
       "characteristics of learning and memory for use in problem-solving.\n"
      ]
     },
     "metadata": {},
     "output_type": "display_data"
    },
    {
     "data": {
      "text/html": [
       "<pre style=\"white-space:pre;overflow-x:auto;line-height:normal;font-family:Menlo,'DejaVu Sans Mono',consolas,'Courier New',monospace\">artificial intelligence <span style=\"font-weight: bold\">(</span>AI<span style=\"font-weight: bold\">)</span>\n",
       "Also machine intelligence.\n",
       "Any intelligence demonstrated by machines, in contrast to the natural intelligence displayed by humans and other \n",
       "animals. In computer science, AI research is defined as the study of <span style=\"color: #008000; text-decoration-color: #008000\">\"intelligent agents\"</span>: any device that \n",
       "perceives its environment and takes actions that maximize its chance of successfully achieving its goals. \n",
       "Colloquially, the term <span style=\"color: #008000; text-decoration-color: #008000\">\"artificial intelligence\"</span> is applied when a machine mimics <span style=\"color: #008000; text-decoration-color: #008000\">\"cognitive\"</span> functions that humans\n",
       "associate with other human minds, such as <span style=\"color: #008000; text-decoration-color: #008000\">\"learning\"</span> and <span style=\"color: #008000; text-decoration-color: #008000\">\"problem solving\"</span>.\n",
       "\n",
       "Artificial Intelligence Markup Language\n",
       "An XML dialect for creating natural language software agents.\n",
       "</pre>\n"
      ],
      "text/plain": [
       "artificial intelligence \u001b[1m(\u001b[0mAI\u001b[1m)\u001b[0m\n",
       "Also machine intelligence.\n",
       "Any intelligence demonstrated by machines, in contrast to the natural intelligence displayed by humans and other \n",
       "animals. In computer science, AI research is defined as the study of \u001b[32m\"intelligent agents\"\u001b[0m: any device that \n",
       "perceives its environment and takes actions that maximize its chance of successfully achieving its goals. \n",
       "Colloquially, the term \u001b[32m\"artificial intelligence\"\u001b[0m is applied when a machine mimics \u001b[32m\"cognitive\"\u001b[0m functions that humans\n",
       "associate with other human minds, such as \u001b[32m\"learning\"\u001b[0m and \u001b[32m\"problem solving\"\u001b[0m.\n",
       "\n",
       "Artificial Intelligence Markup Language\n",
       "An XML dialect for creating natural language software agents.\n"
      ]
     },
     "metadata": {},
     "output_type": "display_data"
    },
    {
     "data": {
      "text/html": [
       "<pre style=\"white-space:pre;overflow-x:auto;line-height:normal;font-family:Menlo,'DejaVu Sans Mono',consolas,'Courier New',monospace\">Artificial Intelligence Markup Language\n",
       "An XML dialect for creating natural language software agents.\n",
       "\n",
       "artificial neural network <span style=\"font-weight: bold\">(</span>ANN<span style=\"font-weight: bold\">)</span>\n",
       "Also connectionist system.\n",
       "Artificial neural networks <span style=\"font-weight: bold\">(</span>ANNs<span style=\"font-weight: bold\">)</span>, also shortened to neural networks <span style=\"font-weight: bold\">(</span>NNs<span style=\"font-weight: bold\">)</span> or neural nets, are a branch of machine \n",
       "learning models that are built using principles of neuronal organization discovered by connectionism in the \n",
       "biological neural networks constituting animal brains.\n",
       "</pre>\n"
      ],
      "text/plain": [
       "Artificial Intelligence Markup Language\n",
       "An XML dialect for creating natural language software agents.\n",
       "\n",
       "artificial neural network \u001b[1m(\u001b[0mANN\u001b[1m)\u001b[0m\n",
       "Also connectionist system.\n",
       "Artificial neural networks \u001b[1m(\u001b[0mANNs\u001b[1m)\u001b[0m, also shortened to neural networks \u001b[1m(\u001b[0mNNs\u001b[1m)\u001b[0m or neural nets, are a branch of machine \n",
       "learning models that are built using principles of neuronal organization discovered by connectionism in the \n",
       "biological neural networks constituting animal brains.\n"
      ]
     },
     "metadata": {},
     "output_type": "display_data"
    },
    {
     "data": {
      "text/html": [
       "<pre style=\"white-space:pre;overflow-x:auto;line-height:normal;font-family:Menlo,'DejaVu Sans Mono',consolas,'Courier New',monospace\">Association for the Advancement of Artificial Intelligence <span style=\"font-weight: bold\">(</span>AAAI<span style=\"font-weight: bold\">)</span>\n",
       "An international, nonprofit, scientific society devoted to promote research in, and responsible use of, artificial \n",
       "intelligence. AAAI also aims to increase public understanding of artificial intelligence <span style=\"font-weight: bold\">(</span>AI<span style=\"font-weight: bold\">)</span>, improve the teaching\n",
       "and training of AI practitioners, and provide guidance for research planners and funders concerning the importance \n",
       "and potential of current AI developments and future directions.\n",
       "\n",
       "asymptotic computational complexity\n",
       "In computational complexity theory, asymptotic computational complexity is the usage of asymptotic analysis for the\n",
       "estimation of computational complexity of algorithms and computational problems, commonly associated with the usage\n",
       "of the big O notation.\n",
       "</pre>\n"
      ],
      "text/plain": [
       "Association for the Advancement of Artificial Intelligence \u001b[1m(\u001b[0mAAAI\u001b[1m)\u001b[0m\n",
       "An international, nonprofit, scientific society devoted to promote research in, and responsible use of, artificial \n",
       "intelligence. AAAI also aims to increase public understanding of artificial intelligence \u001b[1m(\u001b[0mAI\u001b[1m)\u001b[0m, improve the teaching\n",
       "and training of AI practitioners, and provide guidance for research planners and funders concerning the importance \n",
       "and potential of current AI developments and future directions.\n",
       "\n",
       "asymptotic computational complexity\n",
       "In computational complexity theory, asymptotic computational complexity is the usage of asymptotic analysis for the\n",
       "estimation of computational complexity of algorithms and computational problems, commonly associated with the usage\n",
       "of the big O notation.\n"
      ]
     },
     "metadata": {},
     "output_type": "display_data"
    },
    {
     "data": {
      "text/html": [
       "<pre style=\"white-space:pre;overflow-x:auto;line-height:normal;font-family:Menlo,'DejaVu Sans Mono',consolas,'Courier New',monospace\">attention mechanism\n",
       "Machine learning-based attention is a mechanism mimicking cognitive attention. It calculates <span style=\"color: #008000; text-decoration-color: #008000\">\"soft\"</span> weights for \n",
       "each word, more precisely for its embedding, in the context window. It can do it either in parallel <span style=\"font-weight: bold\">(</span>such as in \n",
       "transformers<span style=\"font-weight: bold\">)</span> or sequentially <span style=\"font-weight: bold\">(</span>such as recursive neural networks<span style=\"font-weight: bold\">)</span>. <span style=\"color: #008000; text-decoration-color: #008000\">\"Soft\"</span> weights can change during each runtime, \n",
       "in contrast to <span style=\"color: #008000; text-decoration-color: #008000\">\"hard\"</span> weights, which are <span style=\"font-weight: bold\">(</span>pre-<span style=\"font-weight: bold\">)</span>trained and fine-tuned and remain frozen afterwards. Multiple \n",
       "attention heads are used in transformer-based large language models.\n",
       "</pre>\n"
      ],
      "text/plain": [
       "attention mechanism\n",
       "Machine learning-based attention is a mechanism mimicking cognitive attention. It calculates \u001b[32m\"soft\"\u001b[0m weights for \n",
       "each word, more precisely for its embedding, in the context window. It can do it either in parallel \u001b[1m(\u001b[0msuch as in \n",
       "transformers\u001b[1m)\u001b[0m or sequentially \u001b[1m(\u001b[0msuch as recursive neural networks\u001b[1m)\u001b[0m. \u001b[32m\"Soft\"\u001b[0m weights can change during each runtime, \n",
       "in contrast to \u001b[32m\"hard\"\u001b[0m weights, which are \u001b[1m(\u001b[0mpre-\u001b[1m)\u001b[0mtrained and fine-tuned and remain frozen afterwards. Multiple \n",
       "attention heads are used in transformer-based large language models.\n"
      ]
     },
     "metadata": {},
     "output_type": "display_data"
    },
    {
     "data": {
      "text/html": [
       "<pre style=\"white-space:pre;overflow-x:auto;line-height:normal;font-family:Menlo,'DejaVu Sans Mono',consolas,'Courier New',monospace\">attributional calculus\n",
       "A logic and representation system defined by Ryszard S. Michalski. It combines elements of predicate logic, \n",
       "propositional calculus, and multi-valued logic. Attributional calculus provides a formal language for natural \n",
       "induction, an inductive learning process whose results are in forms natural to people.\n",
       "\n",
       "augmented reality <span style=\"font-weight: bold\">(</span>AR<span style=\"font-weight: bold\">)</span>\n",
       "\n",
       "An interactive experience of a real-world environment where the objects that reside in the real-world are \n",
       "<span style=\"color: #008000; text-decoration-color: #008000\">\"augmented\"</span> by computer-generated perceptual information, sometimes across multiple sensory modalities, including \n",
       "visual, auditory, haptic, somatosensory, and olfactory.\n",
       "</pre>\n"
      ],
      "text/plain": [
       "attributional calculus\n",
       "A logic and representation system defined by Ryszard S. Michalski. It combines elements of predicate logic, \n",
       "propositional calculus, and multi-valued logic. Attributional calculus provides a formal language for natural \n",
       "induction, an inductive learning process whose results are in forms natural to people.\n",
       "\n",
       "augmented reality \u001b[1m(\u001b[0mAR\u001b[1m)\u001b[0m\n",
       "\n",
       "An interactive experience of a real-world environment where the objects that reside in the real-world are \n",
       "\u001b[32m\"augmented\"\u001b[0m by computer-generated perceptual information, sometimes across multiple sensory modalities, including \n",
       "visual, auditory, haptic, somatosensory, and olfactory.\n"
      ]
     },
     "metadata": {},
     "output_type": "display_data"
    },
    {
     "data": {
      "text/html": [
       "<pre style=\"white-space:pre;overflow-x:auto;line-height:normal;font-family:Menlo,'DejaVu Sans Mono',consolas,'Courier New',monospace\">autoencoder\n",
       "A type of artificial neural network used to learn efficient codings of unlabeled data <span style=\"font-weight: bold\">(</span>unsupervised learning<span style=\"font-weight: bold\">)</span>. A \n",
       "common implementation is the variational autoencoder <span style=\"font-weight: bold\">(</span>VAE<span style=\"font-weight: bold\">)</span>.\n",
       "\n",
       "automata theory\n",
       "The study of abstract machines and automata, as well as the computational problems that can be solved using them. \n",
       "It is a theory in theoretical computer science and discrete mathematics <span style=\"font-weight: bold\">(</span>a subject of study in both mathematics and\n",
       "computer science<span style=\"font-weight: bold\">)</span>.\n",
       "\n",
       "automated machine learning <span style=\"font-weight: bold\">(</span>AutoML<span style=\"font-weight: bold\">)</span>\n",
       " A field of machine learning which aims to automatically configure a machine learning system to maximize its \n",
       "performance <span style=\"font-weight: bold\">(</span>e.g, classification accuracy<span style=\"font-weight: bold\">)</span>.\n",
       "</pre>\n"
      ],
      "text/plain": [
       "autoencoder\n",
       "A type of artificial neural network used to learn efficient codings of unlabeled data \u001b[1m(\u001b[0munsupervised learning\u001b[1m)\u001b[0m. A \n",
       "common implementation is the variational autoencoder \u001b[1m(\u001b[0mVAE\u001b[1m)\u001b[0m.\n",
       "\n",
       "automata theory\n",
       "The study of abstract machines and automata, as well as the computational problems that can be solved using them. \n",
       "It is a theory in theoretical computer science and discrete mathematics \u001b[1m(\u001b[0ma subject of study in both mathematics and\n",
       "computer science\u001b[1m)\u001b[0m.\n",
       "\n",
       "automated machine learning \u001b[1m(\u001b[0mAutoML\u001b[1m)\u001b[0m\n",
       " A field of machine learning which aims to automatically configure a machine learning system to maximize its \n",
       "performance \u001b[1m(\u001b[0me.g, classification accuracy\u001b[1m)\u001b[0m.\n"
      ]
     },
     "metadata": {},
     "output_type": "display_data"
    },
    {
     "data": {
      "text/html": [
       "<pre style=\"white-space:pre;overflow-x:auto;line-height:normal;font-family:Menlo,'DejaVu Sans Mono',consolas,'Courier New',monospace\">automated planning and scheduling\n",
       "Also simply AI planning.\n",
       "A branch of artificial intelligence that concerns the realization of strategies or action sequences, typically for \n",
       "execution by intelligent agents, autonomous robots and unmanned vehicles. Unlike classical control and \n",
       "classification problems, the solutions are complex and must be discovered and optimized in multidimensional space. \n",
       "Planning is also related to decision theory.\n",
       "</pre>\n"
      ],
      "text/plain": [
       "automated planning and scheduling\n",
       "Also simply AI planning.\n",
       "A branch of artificial intelligence that concerns the realization of strategies or action sequences, typically for \n",
       "execution by intelligent agents, autonomous robots and unmanned vehicles. Unlike classical control and \n",
       "classification problems, the solutions are complex and must be discovered and optimized in multidimensional space. \n",
       "Planning is also related to decision theory.\n"
      ]
     },
     "metadata": {},
     "output_type": "display_data"
    },
    {
     "data": {
      "text/html": [
       "<pre style=\"white-space:pre;overflow-x:auto;line-height:normal;font-family:Menlo,'DejaVu Sans Mono',consolas,'Courier New',monospace\">automated reasoning\n",
       "An area of computer science and mathematical logic dedicated to understanding different aspects of reasoning. The \n",
       "study of automated reasoning helps produce computer programs that allow computers to reason completely, or nearly \n",
       "completely, automatically. Although automated reasoning is considered a sub-field of artificial intelligence, it \n",
       "also has connections with theoretical computer science, and even philosophy.\n",
       "</pre>\n"
      ],
      "text/plain": [
       "automated reasoning\n",
       "An area of computer science and mathematical logic dedicated to understanding different aspects of reasoning. The \n",
       "study of automated reasoning helps produce computer programs that allow computers to reason completely, or nearly \n",
       "completely, automatically. Although automated reasoning is considered a sub-field of artificial intelligence, it \n",
       "also has connections with theoretical computer science, and even philosophy.\n"
      ]
     },
     "metadata": {},
     "output_type": "display_data"
    },
    {
     "data": {
      "text/html": [
       "<pre style=\"white-space:pre;overflow-x:auto;line-height:normal;font-family:Menlo,'DejaVu Sans Mono',consolas,'Courier New',monospace\">autonomic computing <span style=\"font-weight: bold\">(</span>AC<span style=\"font-weight: bold\">)</span>\n",
       "The self-managing characteristics of distributed computing resources, adapting to unpredictable changes while \n",
       "hiding intrinsic complexity to operators and users. Initiated by IBM in <span style=\"color: #008080; text-decoration-color: #008080; font-weight: bold\">2001</span>, this initiative ultimately aimed to \n",
       "develop computer systems capable of self-management, to overcome the rapidly growing complexity of computing \n",
       "systems management, and to reduce the barrier that complexity poses to further growth.\n",
       "\n",
       "autonomous car\n",
       "Also self-driving car, robot car, and driverless car.\n",
       "A vehicle that is capable of sensing its environment and moving with little or no human input.\n",
       "</pre>\n"
      ],
      "text/plain": [
       "autonomic computing \u001b[1m(\u001b[0mAC\u001b[1m)\u001b[0m\n",
       "The self-managing characteristics of distributed computing resources, adapting to unpredictable changes while \n",
       "hiding intrinsic complexity to operators and users. Initiated by IBM in \u001b[1;36m2001\u001b[0m, this initiative ultimately aimed to \n",
       "develop computer systems capable of self-management, to overcome the rapidly growing complexity of computing \n",
       "systems management, and to reduce the barrier that complexity poses to further growth.\n",
       "\n",
       "autonomous car\n",
       "Also self-driving car, robot car, and driverless car.\n",
       "A vehicle that is capable of sensing its environment and moving with little or no human input.\n"
      ]
     },
     "metadata": {},
     "output_type": "display_data"
    },
    {
     "data": {
      "text/html": [
       "<pre style=\"white-space:pre;overflow-x:auto;line-height:normal;font-family:Menlo,'DejaVu Sans Mono',consolas,'Courier New',monospace\">autonomous robot\n",
       "A robot that performs behaviors or tasks with a high degree of autonomy. Autonomous robotics is usually considered \n",
       "to be a subfield of artificial intelligence, robotics, and information engineering.\n",
       "\n",
       "\n",
       "== B ==\n",
       "\n",
       "backpropagation\n",
       "A method used in artificial neural networks to calculate a gradient that is needed in the calculation of the \n",
       "weights to be used in the network. Backpropagation is shorthand for <span style=\"color: #008000; text-decoration-color: #008000\">\"the backward propagation of errors\"</span>, since an \n",
       "error is computed at the output and distributed backwards throughout the network's layers. It is commonly used to \n",
       "train deep neural networks, a term referring to neural networks with more than one hidden layer.\n",
       "</pre>\n"
      ],
      "text/plain": [
       "autonomous robot\n",
       "A robot that performs behaviors or tasks with a high degree of autonomy. Autonomous robotics is usually considered \n",
       "to be a subfield of artificial intelligence, robotics, and information engineering.\n",
       "\n",
       "\n",
       "== B ==\n",
       "\n",
       "backpropagation\n",
       "A method used in artificial neural networks to calculate a gradient that is needed in the calculation of the \n",
       "weights to be used in the network. Backpropagation is shorthand for \u001b[32m\"the backward propagation of errors\"\u001b[0m, since an \n",
       "error is computed at the output and distributed backwards throughout the network's layers. It is commonly used to \n",
       "train deep neural networks, a term referring to neural networks with more than one hidden layer.\n"
      ]
     },
     "metadata": {},
     "output_type": "display_data"
    },
    {
     "data": {
      "text/html": [
       "<pre style=\"white-space:pre;overflow-x:auto;line-height:normal;font-family:Menlo,'DejaVu Sans Mono',consolas,'Courier New',monospace\">backpropagation through time <span style=\"font-weight: bold\">(</span>BPTT<span style=\"font-weight: bold\">)</span>\n",
       "A gradient-based technique for training certain types of recurrent neural networks. It can be used to train Elman \n",
       "networks. The algorithm was independently derived by numerous researchers.\n",
       "\n",
       "backward chaining\n",
       "Also backward reasoning.\n",
       "An inference method described colloquially as working backward from the goal. It is used in automated theorem \n",
       "provers, inference engines, proof assistants, and other artificial intelligence applications.\n",
       "</pre>\n"
      ],
      "text/plain": [
       "backpropagation through time \u001b[1m(\u001b[0mBPTT\u001b[1m)\u001b[0m\n",
       "A gradient-based technique for training certain types of recurrent neural networks. It can be used to train Elman \n",
       "networks. The algorithm was independently derived by numerous researchers.\n",
       "\n",
       "backward chaining\n",
       "Also backward reasoning.\n",
       "An inference method described colloquially as working backward from the goal. It is used in automated theorem \n",
       "provers, inference engines, proof assistants, and other artificial intelligence applications.\n"
      ]
     },
     "metadata": {},
     "output_type": "display_data"
    },
    {
     "data": {
      "text/html": [
       "<pre style=\"white-space:pre;overflow-x:auto;line-height:normal;font-family:Menlo,'DejaVu Sans Mono',consolas,'Courier New',monospace\">bag-of-words model\n",
       "A simplifying representation used in natural language processing and information retrieval <span style=\"font-weight: bold\">(</span>IR<span style=\"font-weight: bold\">)</span>. In this model, a \n",
       "text <span style=\"font-weight: bold\">(</span>such as a sentence or a document<span style=\"font-weight: bold\">)</span> is represented as the bag <span style=\"font-weight: bold\">(</span>multiset<span style=\"font-weight: bold\">)</span> of its words, disregarding grammar and\n",
       "even word order but keeping multiplicity. The bag-of-words model has also been used for computer vision. The \n",
       "bag-of-words model is commonly used in methods of document classification where the <span style=\"font-weight: bold\">(</span>frequency of<span style=\"font-weight: bold\">)</span> occurrence of \n",
       "each word is used as a feature for training a classifier.\n",
       "</pre>\n"
      ],
      "text/plain": [
       "bag-of-words model\n",
       "A simplifying representation used in natural language processing and information retrieval \u001b[1m(\u001b[0mIR\u001b[1m)\u001b[0m. In this model, a \n",
       "text \u001b[1m(\u001b[0msuch as a sentence or a document\u001b[1m)\u001b[0m is represented as the bag \u001b[1m(\u001b[0mmultiset\u001b[1m)\u001b[0m of its words, disregarding grammar and\n",
       "even word order but keeping multiplicity. The bag-of-words model has also been used for computer vision. The \n",
       "bag-of-words model is commonly used in methods of document classification where the \u001b[1m(\u001b[0mfrequency of\u001b[1m)\u001b[0m occurrence of \n",
       "each word is used as a feature for training a classifier.\n"
      ]
     },
     "metadata": {},
     "output_type": "display_data"
    },
    {
     "data": {
      "text/html": [
       "<pre style=\"white-space:pre;overflow-x:auto;line-height:normal;font-family:Menlo,'DejaVu Sans Mono',consolas,'Courier New',monospace\">bag-of-words model in computer vision\n",
       "In computer vision, the bag-of-words model <span style=\"font-weight: bold\">(</span>BoW model<span style=\"font-weight: bold\">)</span> can be applied to image classification, by treating image \n",
       "features as words. In document classification, a bag of words is a sparse vector of occurrence counts of words; \n",
       "that is, a sparse histogram over the vocabulary. In computer vision, a bag of visual words is a vector of \n",
       "occurrence counts of a vocabulary of local image features.\n",
       "</pre>\n"
      ],
      "text/plain": [
       "bag-of-words model in computer vision\n",
       "In computer vision, the bag-of-words model \u001b[1m(\u001b[0mBoW model\u001b[1m)\u001b[0m can be applied to image classification, by treating image \n",
       "features as words. In document classification, a bag of words is a sparse vector of occurrence counts of words; \n",
       "that is, a sparse histogram over the vocabulary. In computer vision, a bag of visual words is a vector of \n",
       "occurrence counts of a vocabulary of local image features.\n"
      ]
     },
     "metadata": {},
     "output_type": "display_data"
    },
    {
     "data": {
      "text/html": [
       "<pre style=\"white-space:pre;overflow-x:auto;line-height:normal;font-family:Menlo,'DejaVu Sans Mono',consolas,'Courier New',monospace\">batch normalization\n",
       "A technique for improving the performance and stability of artificial neural networks. It is a technique to provide\n",
       "any layer in a neural network with inputs that are zero mean/unit variance. Batch normalization was introduced in a\n",
       "<span style=\"color: #008080; text-decoration-color: #008080; font-weight: bold\">2015</span> paper. It is used to normalize the input layer by adjusting and scaling the activations.\n",
       "\n",
       "Bayesian programming\n",
       "A formalism and a methodology for having a technique to specify probabilistic models and solve problems when less \n",
       "than the necessary information is available.\n",
       "</pre>\n"
      ],
      "text/plain": [
       "batch normalization\n",
       "A technique for improving the performance and stability of artificial neural networks. It is a technique to provide\n",
       "any layer in a neural network with inputs that are zero mean/unit variance. Batch normalization was introduced in a\n",
       "\u001b[1;36m2015\u001b[0m paper. It is used to normalize the input layer by adjusting and scaling the activations.\n",
       "\n",
       "Bayesian programming\n",
       "A formalism and a methodology for having a technique to specify probabilistic models and solve problems when less \n",
       "than the necessary information is available.\n"
      ]
     },
     "metadata": {},
     "output_type": "display_data"
    },
    {
     "data": {
      "text/html": [
       "<pre style=\"white-space:pre;overflow-x:auto;line-height:normal;font-family:Menlo,'DejaVu Sans Mono',consolas,'Courier New',monospace\">bees algorithm\n",
       "A population-based search algorithm which was developed by Pham, Ghanbarzadeh and et al. in <span style=\"color: #008080; text-decoration-color: #008080; font-weight: bold\">2005</span>. It mimics the \n",
       "food foraging behaviour of honey bee colonies. In its basic version the algorithm performs a kind of neighborhood \n",
       "search combined with global search, and can be used for both combinatorial optimization and continuous \n",
       "optimization. The only condition for the application of the bees algorithm is that some measure of distance between\n",
       "the solutions is defined. The effectiveness and specific abilities of the bees algorithm have been proven in a \n",
       "number of studies.\n",
       "</pre>\n"
      ],
      "text/plain": [
       "bees algorithm\n",
       "A population-based search algorithm which was developed by Pham, Ghanbarzadeh and et al. in \u001b[1;36m2005\u001b[0m. It mimics the \n",
       "food foraging behaviour of honey bee colonies. In its basic version the algorithm performs a kind of neighborhood \n",
       "search combined with global search, and can be used for both combinatorial optimization and continuous \n",
       "optimization. The only condition for the application of the bees algorithm is that some measure of distance between\n",
       "the solutions is defined. The effectiveness and specific abilities of the bees algorithm have been proven in a \n",
       "number of studies.\n"
      ]
     },
     "metadata": {},
     "output_type": "display_data"
    },
    {
     "data": {
      "text/html": [
       "<pre style=\"white-space:pre;overflow-x:auto;line-height:normal;font-family:Menlo,'DejaVu Sans Mono',consolas,'Courier New',monospace\">behavior informatics <span style=\"font-weight: bold\">(</span>BI<span style=\"font-weight: bold\">)</span>\n",
       "The informatics of behaviors so as to obtain behavior intelligence and behavior insights.\n",
       "</pre>\n"
      ],
      "text/plain": [
       "behavior informatics \u001b[1m(\u001b[0mBI\u001b[1m)\u001b[0m\n",
       "The informatics of behaviors so as to obtain behavior intelligence and behavior insights.\n"
      ]
     },
     "metadata": {},
     "output_type": "display_data"
    },
    {
     "data": {
      "text/html": [
       "<pre style=\"white-space:pre;overflow-x:auto;line-height:normal;font-family:Menlo,'DejaVu Sans Mono',consolas,'Courier New',monospace\">behavior tree <span style=\"font-weight: bold\">(</span>BT<span style=\"font-weight: bold\">)</span>\n",
       "A mathematical model of plan execution used in computer science, robotics, control systems and video games. They \n",
       "describe switchings between a finite set of tasks in a modular fashion. Their strength comes from their ability to \n",
       "create very complex tasks composed of simple tasks, without worrying how the simple tasks are implemented. BTs \n",
       "present some similarities to hierarchical state machines with the key difference that the main building block of a \n",
       "behavior is a task rather than a state. Its ease of human understanding make BTs less error-prone and very popular \n",
       "in the game developer community. BTs have shown to generalize several other control architectures.\n",
       "</pre>\n"
      ],
      "text/plain": [
       "behavior tree \u001b[1m(\u001b[0mBT\u001b[1m)\u001b[0m\n",
       "A mathematical model of plan execution used in computer science, robotics, control systems and video games. They \n",
       "describe switchings between a finite set of tasks in a modular fashion. Their strength comes from their ability to \n",
       "create very complex tasks composed of simple tasks, without worrying how the simple tasks are implemented. BTs \n",
       "present some similarities to hierarchical state machines with the key difference that the main building block of a \n",
       "behavior is a task rather than a state. Its ease of human understanding make BTs less error-prone and very popular \n",
       "in the game developer community. BTs have shown to generalize several other control architectures.\n"
      ]
     },
     "metadata": {},
     "output_type": "display_data"
    },
    {
     "data": {
      "text/html": [
       "<pre style=\"white-space:pre;overflow-x:auto;line-height:normal;font-family:Menlo,'DejaVu Sans Mono',consolas,'Courier New',monospace\">belief–desire–intention software model <span style=\"font-weight: bold\">(</span>BDI<span style=\"font-weight: bold\">)</span>\n",
       "A software model developed for programming intelligent agents. Superficially characterized by the implementation of\n",
       "an agent's beliefs, desires and intentions, it actually uses these concepts to solve a particular problem in agent \n",
       "programming. In essence, it provides a mechanism for separating the activity of selecting a plan <span style=\"font-weight: bold\">(</span>from a plan \n",
       "library or an external planner application<span style=\"font-weight: bold\">)</span> from the execution of currently active plans. Consequently, BDI agents \n",
       "are able to balance the time spent on deliberating about plans <span style=\"font-weight: bold\">(</span>choosing what to do<span style=\"font-weight: bold\">)</span> and executing those plans \n",
       "<span style=\"font-weight: bold\">(</span>doing it<span style=\"font-weight: bold\">)</span>.\n",
       "</pre>\n"
      ],
      "text/plain": [
       "belief–desire–intention software model \u001b[1m(\u001b[0mBDI\u001b[1m)\u001b[0m\n",
       "A software model developed for programming intelligent agents. Superficially characterized by the implementation of\n",
       "an agent's beliefs, desires and intentions, it actually uses these concepts to solve a particular problem in agent \n",
       "programming. In essence, it provides a mechanism for separating the activity of selecting a plan \u001b[1m(\u001b[0mfrom a plan \n",
       "library or an external planner application\u001b[1m)\u001b[0m from the execution of currently active plans. Consequently, BDI agents \n",
       "are able to balance the time spent on deliberating about plans \u001b[1m(\u001b[0mchoosing what to do\u001b[1m)\u001b[0m and executing those plans \n",
       "\u001b[1m(\u001b[0mdoing it\u001b[1m)\u001b[0m.\n"
      ]
     },
     "metadata": {},
     "output_type": "display_data"
    },
    {
     "data": {
      "text/html": [
       "<pre style=\"white-space:pre;overflow-x:auto;line-height:normal;font-family:Menlo,'DejaVu Sans Mono',consolas,'Courier New',monospace\">A third activity, creating the plans in the first place <span style=\"font-weight: bold\">(</span>planning<span style=\"font-weight: bold\">)</span>, is not within the scope of the model, and is \n",
       "left to the system designer and programmer.\n",
       "\n",
       "bias–variance tradeoff\n",
       "In statistics and machine learning, the bias–variance tradeoff is the property of a set of predictive models \n",
       "whereby models with a lower bias in parameter estimation have a higher variance of the parameter estimates across \n",
       "samples, and vice versa.\n",
       "</pre>\n"
      ],
      "text/plain": [
       "A third activity, creating the plans in the first place \u001b[1m(\u001b[0mplanning\u001b[1m)\u001b[0m, is not within the scope of the model, and is \n",
       "left to the system designer and programmer.\n",
       "\n",
       "bias–variance tradeoff\n",
       "In statistics and machine learning, the bias–variance tradeoff is the property of a set of predictive models \n",
       "whereby models with a lower bias in parameter estimation have a higher variance of the parameter estimates across \n",
       "samples, and vice versa.\n"
      ]
     },
     "metadata": {},
     "output_type": "display_data"
    },
    {
     "data": {
      "text/html": [
       "<pre style=\"white-space:pre;overflow-x:auto;line-height:normal;font-family:Menlo,'DejaVu Sans Mono',consolas,'Courier New',monospace\">big data\n",
       "A term used to refer to data sets that are too large or complex for traditional data-processing application \n",
       "software to adequately deal with. Data with many cases <span style=\"font-weight: bold\">(</span>rows<span style=\"font-weight: bold\">)</span> offer greater statistical power, while data with \n",
       "higher complexity <span style=\"font-weight: bold\">(</span>more attributes or columns<span style=\"font-weight: bold\">)</span> may lead to a higher false discovery rate.\n",
       "\n",
       "Big O notation\n",
       "A mathematical notation that describes the limiting behavior of a function when the argument tends towards a \n",
       "particular value or infinity.  It is a member of a family of notations invented by Paul Bachmann, Edmund Landau, \n",
       "and others, collectively called Bachmann–Landau notation or asymptotic notation.\n",
       "</pre>\n"
      ],
      "text/plain": [
       "big data\n",
       "A term used to refer to data sets that are too large or complex for traditional data-processing application \n",
       "software to adequately deal with. Data with many cases \u001b[1m(\u001b[0mrows\u001b[1m)\u001b[0m offer greater statistical power, while data with \n",
       "higher complexity \u001b[1m(\u001b[0mmore attributes or columns\u001b[1m)\u001b[0m may lead to a higher false discovery rate.\n",
       "\n",
       "Big O notation\n",
       "A mathematical notation that describes the limiting behavior of a function when the argument tends towards a \n",
       "particular value or infinity.  It is a member of a family of notations invented by Paul Bachmann, Edmund Landau, \n",
       "and others, collectively called Bachmann–Landau notation or asymptotic notation.\n"
      ]
     },
     "metadata": {},
     "output_type": "display_data"
    },
    {
     "data": {
      "text/html": [
       "<pre style=\"white-space:pre;overflow-x:auto;line-height:normal;font-family:Menlo,'DejaVu Sans Mono',consolas,'Courier New',monospace\">binary tree\n",
       "A tree data structure in which each node has at most two children, which are referred to as the left child and the \n",
       "right child. A recursive definition using just set theory notions is that a <span style=\"font-weight: bold\">(</span>non-empty<span style=\"font-weight: bold\">)</span> binary tree is a tuple <span style=\"font-weight: bold\">(</span>L, \n",
       "S, R<span style=\"font-weight: bold\">)</span>, where L and R are binary trees or the empty set and S is a singleton set. Some authors allow the binary tree\n",
       "to be the empty set as well.\n",
       "</pre>\n"
      ],
      "text/plain": [
       "binary tree\n",
       "A tree data structure in which each node has at most two children, which are referred to as the left child and the \n",
       "right child. A recursive definition using just set theory notions is that a \u001b[1m(\u001b[0mnon-empty\u001b[1m)\u001b[0m binary tree is a tuple \u001b[1m(\u001b[0mL, \n",
       "S, R\u001b[1m)\u001b[0m, where L and R are binary trees or the empty set and S is a singleton set. Some authors allow the binary tree\n",
       "to be the empty set as well.\n"
      ]
     },
     "metadata": {},
     "output_type": "display_data"
    },
    {
     "data": {
      "text/html": [
       "<pre style=\"white-space:pre;overflow-x:auto;line-height:normal;font-family:Menlo,'DejaVu Sans Mono',consolas,'Courier New',monospace\">blackboard system\n",
       "An artificial intelligence approach based on the blackboard architectural model, where a common knowledge base, the\n",
       "<span style=\"color: #008000; text-decoration-color: #008000\">\"blackboard\"</span>, is iteratively updated by a diverse group of specialist knowledge sources, starting with a problem \n",
       "specification and ending with a solution.  Each knowledge source updates the blackboard with a partial solution \n",
       "when its internal constraints match the blackboard state.  In this way, the specialists work together to solve the \n",
       "problem.\n",
       "</pre>\n"
      ],
      "text/plain": [
       "blackboard system\n",
       "An artificial intelligence approach based on the blackboard architectural model, where a common knowledge base, the\n",
       "\u001b[32m\"blackboard\"\u001b[0m, is iteratively updated by a diverse group of specialist knowledge sources, starting with a problem \n",
       "specification and ending with a solution.  Each knowledge source updates the blackboard with a partial solution \n",
       "when its internal constraints match the blackboard state.  In this way, the specialists work together to solve the \n",
       "problem.\n"
      ]
     },
     "metadata": {},
     "output_type": "display_data"
    },
    {
     "data": {
      "text/html": [
       "<pre style=\"white-space:pre;overflow-x:auto;line-height:normal;font-family:Menlo,'DejaVu Sans Mono',consolas,'Courier New',monospace\">Boltzmann machine\n",
       "Also stochastic Hopfield network with hidden units.\n",
       "A type of stochastic recurrent neural network and Markov random field.  Boltzmann machines can be seen as the \n",
       "stochastic, generative counterpart of Hopfield networks.\n",
       "\n",
       "Boolean satisfiability problem\n",
       "Also propositional satisfiability problem; abbreviated SATISFIABILITY or SAT.\n",
       "The problem of determining if there exists an interpretation that satisfies a given Boolean formula. In other \n",
       "words, it asks whether the variables of a given Boolean formula can be consistently replaced by the values TRUE or \n",
       "FALSE in such a way that the formula evaluates to TRUE.\n",
       "</pre>\n"
      ],
      "text/plain": [
       "Boltzmann machine\n",
       "Also stochastic Hopfield network with hidden units.\n",
       "A type of stochastic recurrent neural network and Markov random field.  Boltzmann machines can be seen as the \n",
       "stochastic, generative counterpart of Hopfield networks.\n",
       "\n",
       "Boolean satisfiability problem\n",
       "Also propositional satisfiability problem; abbreviated SATISFIABILITY or SAT.\n",
       "The problem of determining if there exists an interpretation that satisfies a given Boolean formula. In other \n",
       "words, it asks whether the variables of a given Boolean formula can be consistently replaced by the values TRUE or \n",
       "FALSE in such a way that the formula evaluates to TRUE.\n"
      ]
     },
     "metadata": {},
     "output_type": "display_data"
    },
    {
     "data": {
      "text/html": [
       "<pre style=\"white-space:pre;overflow-x:auto;line-height:normal;font-family:Menlo,'DejaVu Sans Mono',consolas,'Courier New',monospace\">If this is the case, the formula is called satisfiable. On the other hand, if no such assignment exists, the \n",
       "function expressed by the formula is FALSE for all possible variable assignments and the formula is unsatisfiable. \n",
       "For example, the formula <span style=\"color: #008000; text-decoration-color: #008000\">\"a AND NOT b\"</span> is satisfiable because one can find the values a = TRUE and b = FALSE, which\n",
       "make <span style=\"font-weight: bold\">(</span>a AND NOT b<span style=\"font-weight: bold\">)</span> = TRUE. In contrast, <span style=\"color: #008000; text-decoration-color: #008000\">\"a AND NOT a\"</span> is unsatisfiable.\n",
       "</pre>\n"
      ],
      "text/plain": [
       "If this is the case, the formula is called satisfiable. On the other hand, if no such assignment exists, the \n",
       "function expressed by the formula is FALSE for all possible variable assignments and the formula is unsatisfiable. \n",
       "For example, the formula \u001b[32m\"a AND NOT b\"\u001b[0m is satisfiable because one can find the values a = TRUE and b = FALSE, which\n",
       "make \u001b[1m(\u001b[0ma AND NOT b\u001b[1m)\u001b[0m = TRUE. In contrast, \u001b[32m\"a AND NOT a\"\u001b[0m is unsatisfiable.\n"
      ]
     },
     "metadata": {},
     "output_type": "display_data"
    },
    {
     "data": {
      "text/html": [
       "<pre style=\"white-space:pre;overflow-x:auto;line-height:normal;font-family:Menlo,'DejaVu Sans Mono',consolas,'Courier New',monospace\">In contrast, <span style=\"color: #008000; text-decoration-color: #008000\">\"a AND NOT a\"</span> is unsatisfiable.\n",
       "\n",
       "boosting\n",
       "A machine learning ensemble metaheuristic for primarily reducing bias <span style=\"font-weight: bold\">(</span>as opposed to variance<span style=\"font-weight: bold\">)</span>, by training models \n",
       "sequentially, each one correcting the errors of its predecessor.\n",
       "\n",
       "bootstrap aggregating\n",
       "Also bagging or bootstrapping.\n",
       "A machine learning ensemble metaheuristic for primarily reducing variance <span style=\"font-weight: bold\">(</span>as opposed to bias<span style=\"font-weight: bold\">)</span>, by training \n",
       "multiple models independently and averaging their predictions.\n",
       "</pre>\n"
      ],
      "text/plain": [
       "In contrast, \u001b[32m\"a AND NOT a\"\u001b[0m is unsatisfiable.\n",
       "\n",
       "boosting\n",
       "A machine learning ensemble metaheuristic for primarily reducing bias \u001b[1m(\u001b[0mas opposed to variance\u001b[1m)\u001b[0m, by training models \n",
       "sequentially, each one correcting the errors of its predecessor.\n",
       "\n",
       "bootstrap aggregating\n",
       "Also bagging or bootstrapping.\n",
       "A machine learning ensemble metaheuristic for primarily reducing variance \u001b[1m(\u001b[0mas opposed to bias\u001b[1m)\u001b[0m, by training \n",
       "multiple models independently and averaging their predictions.\n"
      ]
     },
     "metadata": {},
     "output_type": "display_data"
    },
    {
     "data": {
      "text/html": [
       "<pre style=\"white-space:pre;overflow-x:auto;line-height:normal;font-family:Menlo,'DejaVu Sans Mono',consolas,'Courier New',monospace\">brain technology\n",
       "Also self-learning know-how system.\n",
       "A technology that employs the latest findings in neuroscience. The term was first introduced by the Artificial \n",
       "Intelligence Laboratory in Zurich, Switzerland, in the context of the ROBOY project. Brain Technology can be \n",
       "employed in robots, know-how management systems and any other application with self-learning capabilities. In \n",
       "particular, Brain Technology applications allow the visualization of the underlying learning architecture often \n",
       "coined as <span style=\"color: #008000; text-decoration-color: #008000\">\"know-how maps\"</span>.\n",
       "</pre>\n"
      ],
      "text/plain": [
       "brain technology\n",
       "Also self-learning know-how system.\n",
       "A technology that employs the latest findings in neuroscience. The term was first introduced by the Artificial \n",
       "Intelligence Laboratory in Zurich, Switzerland, in the context of the ROBOY project. Brain Technology can be \n",
       "employed in robots, know-how management systems and any other application with self-learning capabilities. In \n",
       "particular, Brain Technology applications allow the visualization of the underlying learning architecture often \n",
       "coined as \u001b[32m\"know-how maps\"\u001b[0m.\n"
      ]
     },
     "metadata": {},
     "output_type": "display_data"
    },
    {
     "data": {
      "text/html": [
       "<pre style=\"white-space:pre;overflow-x:auto;line-height:normal;font-family:Menlo,'DejaVu Sans Mono',consolas,'Courier New',monospace\">branching factor\n",
       "In computing, tree data structures, and game theory, the number of children at each node, the outdegree. If this \n",
       "value is not uniform, an average branching factor can be calculated.\n",
       "\n",
       "brute-force search\n",
       "Also exhaustive search or generate and test.\n",
       "A very general problem-solving technique and algorithmic paradigm that consists of systematically enumerating all \n",
       "possible candidates for the solution and checking whether each candidate satisfies the problem's statement.\n",
       "\n",
       "\n",
       "== C ==\n",
       "</pre>\n"
      ],
      "text/plain": [
       "branching factor\n",
       "In computing, tree data structures, and game theory, the number of children at each node, the outdegree. If this \n",
       "value is not uniform, an average branching factor can be calculated.\n",
       "\n",
       "brute-force search\n",
       "Also exhaustive search or generate and test.\n",
       "A very general problem-solving technique and algorithmic paradigm that consists of systematically enumerating all \n",
       "possible candidates for the solution and checking whether each candidate satisfies the problem's statement.\n",
       "\n",
       "\n",
       "== C ==\n"
      ]
     },
     "metadata": {},
     "output_type": "display_data"
    },
    {
     "data": {
      "text/html": [
       "<pre style=\"white-space:pre;overflow-x:auto;line-height:normal;font-family:Menlo,'DejaVu Sans Mono',consolas,'Courier New',monospace\">== C ==\n",
       "\n",
       "capsule neural network <span style=\"font-weight: bold\">(</span>CapsNet<span style=\"font-weight: bold\">)</span>\n",
       "A machine learning system that is a type of artificial neural network <span style=\"font-weight: bold\">(</span>ANN<span style=\"font-weight: bold\">)</span> that can be used to better model \n",
       "hierarchical relationships. The approach is an attempt to more closely mimic biological neural organization.\n",
       "\n",
       "case-based reasoning <span style=\"font-weight: bold\">(</span>CBR<span style=\"font-weight: bold\">)</span>\n",
       "Broadly construed, the process of solving new problems based on the solutions of similar past problems.\n",
       "\n",
       "chatbot\n",
       "Also smartbot, talkbot, chatterbot, bot, IM bot, interactive agent, conversational interface, or artificial \n",
       "conversational entity.\n",
       "A computer program or an artificial intelligence which conducts a conversation via auditory or textual methods.\n",
       "</pre>\n"
      ],
      "text/plain": [
       "== C ==\n",
       "\n",
       "capsule neural network \u001b[1m(\u001b[0mCapsNet\u001b[1m)\u001b[0m\n",
       "A machine learning system that is a type of artificial neural network \u001b[1m(\u001b[0mANN\u001b[1m)\u001b[0m that can be used to better model \n",
       "hierarchical relationships. The approach is an attempt to more closely mimic biological neural organization.\n",
       "\n",
       "case-based reasoning \u001b[1m(\u001b[0mCBR\u001b[1m)\u001b[0m\n",
       "Broadly construed, the process of solving new problems based on the solutions of similar past problems.\n",
       "\n",
       "chatbot\n",
       "Also smartbot, talkbot, chatterbot, bot, IM bot, interactive agent, conversational interface, or artificial \n",
       "conversational entity.\n",
       "A computer program or an artificial intelligence which conducts a conversation via auditory or textual methods.\n"
      ]
     },
     "metadata": {},
     "output_type": "display_data"
    },
    {
     "data": {
      "text/html": [
       "<pre style=\"white-space:pre;overflow-x:auto;line-height:normal;font-family:Menlo,'DejaVu Sans Mono',consolas,'Courier New',monospace\">cloud robotics\n",
       "A field of robotics that attempts to invoke cloud technologies such as cloud computing, cloud storage, and other \n",
       "Internet technologies centred on the benefits of converged infrastructure and shared services for robotics. When \n",
       "connected to the cloud, robots can benefit from the powerful computation, storage, and communication resources of \n",
       "modern data center in the cloud, which can process and share information from various robots or agent <span style=\"font-weight: bold\">(</span>other \n",
       "machines, smart objects, humans, etc.<span style=\"font-weight: bold\">)</span>. Humans can also delegate tasks to robots remotely through networks. Cloud \n",
       "computing technologies enable robot systems to be endowed with powerful capability whilst reducing costs through \n",
       "cloud technologies.\n",
       "</pre>\n"
      ],
      "text/plain": [
       "cloud robotics\n",
       "A field of robotics that attempts to invoke cloud technologies such as cloud computing, cloud storage, and other \n",
       "Internet technologies centred on the benefits of converged infrastructure and shared services for robotics. When \n",
       "connected to the cloud, robots can benefit from the powerful computation, storage, and communication resources of \n",
       "modern data center in the cloud, which can process and share information from various robots or agent \u001b[1m(\u001b[0mother \n",
       "machines, smart objects, humans, etc.\u001b[1m)\u001b[0m. Humans can also delegate tasks to robots remotely through networks. Cloud \n",
       "computing technologies enable robot systems to be endowed with powerful capability whilst reducing costs through \n",
       "cloud technologies.\n"
      ]
     },
     "metadata": {},
     "output_type": "display_data"
    },
    {
     "data": {
      "text/html": [
       "<pre style=\"white-space:pre;overflow-x:auto;line-height:normal;font-family:Menlo,'DejaVu Sans Mono',consolas,'Courier New',monospace\">Cloud computing technologies enable robot systems to be endowed with powerful capability whilst reducing costs \n",
       "through cloud technologies. Thus, it is possible to build lightweight, low cost, smarter robots have intelligent \n",
       "<span style=\"color: #008000; text-decoration-color: #008000\">\"brain\"</span> in the cloud. The <span style=\"color: #008000; text-decoration-color: #008000\">\"brain\"</span> consists of data center, knowledge base, task planners, deep learning, \n",
       "information processing, environment models, communication support, etc.\n",
       "</pre>\n"
      ],
      "text/plain": [
       "Cloud computing technologies enable robot systems to be endowed with powerful capability whilst reducing costs \n",
       "through cloud technologies. Thus, it is possible to build lightweight, low cost, smarter robots have intelligent \n",
       "\u001b[32m\"brain\"\u001b[0m in the cloud. The \u001b[32m\"brain\"\u001b[0m consists of data center, knowledge base, task planners, deep learning, \n",
       "information processing, environment models, communication support, etc.\n"
      ]
     },
     "metadata": {},
     "output_type": "display_data"
    },
    {
     "data": {
      "text/html": [
       "<pre style=\"white-space:pre;overflow-x:auto;line-height:normal;font-family:Menlo,'DejaVu Sans Mono',consolas,'Courier New',monospace\">cluster analysis\n",
       "Also clustering.\n",
       "The task of grouping a set of objects in such a way that objects in the same group <span style=\"font-weight: bold\">(</span>called a cluster<span style=\"font-weight: bold\">)</span> are more \n",
       "similar <span style=\"font-weight: bold\">(</span>in some sense<span style=\"font-weight: bold\">)</span> to each other than to those in other groups <span style=\"font-weight: bold\">(</span>clusters<span style=\"font-weight: bold\">)</span>. It is a main task of exploratory \n",
       "data mining, and a common technique for statistical data analysis, used in many fields, including machine learning,\n",
       "pattern recognition, image analysis, information retrieval, bioinformatics, data compression, and computer \n",
       "graphics.\n",
       "</pre>\n"
      ],
      "text/plain": [
       "cluster analysis\n",
       "Also clustering.\n",
       "The task of grouping a set of objects in such a way that objects in the same group \u001b[1m(\u001b[0mcalled a cluster\u001b[1m)\u001b[0m are more \n",
       "similar \u001b[1m(\u001b[0min some sense\u001b[1m)\u001b[0m to each other than to those in other groups \u001b[1m(\u001b[0mclusters\u001b[1m)\u001b[0m. It is a main task of exploratory \n",
       "data mining, and a common technique for statistical data analysis, used in many fields, including machine learning,\n",
       "pattern recognition, image analysis, information retrieval, bioinformatics, data compression, and computer \n",
       "graphics.\n"
      ]
     },
     "metadata": {},
     "output_type": "display_data"
    },
    {
     "data": {
      "text/html": [
       "<pre style=\"white-space:pre;overflow-x:auto;line-height:normal;font-family:Menlo,'DejaVu Sans Mono',consolas,'Courier New',monospace\">Cobweb\n",
       "An incremental system for hierarchical conceptual clustering. COBWEB was invented by Professor Douglas H. Fisher, \n",
       "currently at Vanderbilt University. COBWEB incrementally organizes observations into a classification tree. Each \n",
       "node in a classification tree represents a class <span style=\"font-weight: bold\">(</span>concept<span style=\"font-weight: bold\">)</span> and is labeled by a probabilistic concept that \n",
       "summarizes the attribute-value distributions of objects classified under the node. This classification tree can be \n",
       "used to predict missing attributes or the class of a new object.\n",
       "</pre>\n"
      ],
      "text/plain": [
       "Cobweb\n",
       "An incremental system for hierarchical conceptual clustering. COBWEB was invented by Professor Douglas H. Fisher, \n",
       "currently at Vanderbilt University. COBWEB incrementally organizes observations into a classification tree. Each \n",
       "node in a classification tree represents a class \u001b[1m(\u001b[0mconcept\u001b[1m)\u001b[0m and is labeled by a probabilistic concept that \n",
       "summarizes the attribute-value distributions of objects classified under the node. This classification tree can be \n",
       "used to predict missing attributes or the class of a new object.\n"
      ]
     },
     "metadata": {},
     "output_type": "display_data"
    },
    {
     "data": {
      "text/html": [
       "<pre style=\"white-space:pre;overflow-x:auto;line-height:normal;font-family:Menlo,'DejaVu Sans Mono',consolas,'Courier New',monospace\">cognitive architecture\n",
       "The Institute of Creative Technologies defines cognitive architecture as: <span style=\"color: #008000; text-decoration-color: #008000\">\"hypothesis about the fixed structures </span>\n",
       "<span style=\"color: #008000; text-decoration-color: #008000\">that provide a mind, whether in natural or artificial systems, and how they work together – in conjunction with </span>\n",
       "<span style=\"color: #008000; text-decoration-color: #008000\">knowledge and skills embodied within the architecture – to yield intelligent behavior in a diversity of complex </span>\n",
       "<span style=\"color: #008000; text-decoration-color: #008000\">environments.\"</span>\n",
       "</pre>\n"
      ],
      "text/plain": [
       "cognitive architecture\n",
       "The Institute of Creative Technologies defines cognitive architecture as: \u001b[32m\"hypothesis about the fixed structures \u001b[0m\n",
       "\u001b[32mthat provide a mind, whether in natural or artificial systems, and how they work together – in conjunction with \u001b[0m\n",
       "\u001b[32mknowledge and skills embodied within the architecture – to yield intelligent behavior in a diversity of complex \u001b[0m\n",
       "\u001b[32menvironments.\"\u001b[0m\n"
      ]
     },
     "metadata": {},
     "output_type": "display_data"
    },
    {
     "data": {
      "text/html": [
       "<pre style=\"white-space:pre;overflow-x:auto;line-height:normal;font-family:Menlo,'DejaVu Sans Mono',consolas,'Courier New',monospace\">cognitive computing\n",
       "In general, the term cognitive computing has been used to refer to new hardware and/or software that mimics the \n",
       "functioning of the human brain and helps to improve human decision-making. In this sense, CC is a new type of \n",
       "computing with the goal of more accurate models of how the human brain/mind senses, reasons, and responds to \n",
       "stimulus.\n",
       "\n",
       "cognitive science\n",
       "The interdisciplinary scientific study of the mind and its processes.\n",
       "</pre>\n"
      ],
      "text/plain": [
       "cognitive computing\n",
       "In general, the term cognitive computing has been used to refer to new hardware and/or software that mimics the \n",
       "functioning of the human brain and helps to improve human decision-making. In this sense, CC is a new type of \n",
       "computing with the goal of more accurate models of how the human brain/mind senses, reasons, and responds to \n",
       "stimulus.\n",
       "\n",
       "cognitive science\n",
       "The interdisciplinary scientific study of the mind and its processes.\n"
      ]
     },
     "metadata": {},
     "output_type": "display_data"
    },
    {
     "data": {
      "text/html": [
       "<pre style=\"white-space:pre;overflow-x:auto;line-height:normal;font-family:Menlo,'DejaVu Sans Mono',consolas,'Courier New',monospace\">cognitive science\n",
       "The interdisciplinary scientific study of the mind and its processes.\n",
       "\n",
       "combinatorial optimization\n",
       "In Operations Research, applied mathematics and theoretical computer science, combinatorial optimization  is a \n",
       "topic that consists of finding an optimal object from a finite set of objects.\n",
       "\n",
       "committee machine\n",
       "A type of artificial neural network using a divide and conquer strategy in which the responses of multiple neural \n",
       "networks <span style=\"font-weight: bold\">(</span>experts<span style=\"font-weight: bold\">)</span> are combined into a single response.  The combined response of the committee machine is supposed\n",
       "to be superior to those of its constituent experts. Compare ensembles of classifiers.\n",
       "</pre>\n"
      ],
      "text/plain": [
       "cognitive science\n",
       "The interdisciplinary scientific study of the mind and its processes.\n",
       "\n",
       "combinatorial optimization\n",
       "In Operations Research, applied mathematics and theoretical computer science, combinatorial optimization  is a \n",
       "topic that consists of finding an optimal object from a finite set of objects.\n",
       "\n",
       "committee machine\n",
       "A type of artificial neural network using a divide and conquer strategy in which the responses of multiple neural \n",
       "networks \u001b[1m(\u001b[0mexperts\u001b[1m)\u001b[0m are combined into a single response.  The combined response of the committee machine is supposed\n",
       "to be superior to those of its constituent experts. Compare ensembles of classifiers.\n"
      ]
     },
     "metadata": {},
     "output_type": "display_data"
    },
    {
     "data": {
      "text/html": [
       "<pre style=\"white-space:pre;overflow-x:auto;line-height:normal;font-family:Menlo,'DejaVu Sans Mono',consolas,'Courier New',monospace\">commonsense knowledge\n",
       "In artificial intelligence research, commonsense knowledge consists of facts about the everyday world, such as \n",
       "<span style=\"color: #008000; text-decoration-color: #008000\">\"Lemons are sour\"</span>, that all humans are expected to know.  The first AI program to address common sense knowledge \n",
       "was Advice Taker in <span style=\"color: #008080; text-decoration-color: #008080; font-weight: bold\">1959</span> by John McCarthy.\n",
       "\n",
       "commonsense reasoning\n",
       "A branch of artificial intelligence concerned with simulating the human ability to make presumptions about the type\n",
       "and essence of ordinary situations they encounter every day.\n",
       "\n",
       "computational chemistry\n",
       "A branch of chemistry that uses computer simulation to assist in solving chemical problems.\n",
       "</pre>\n"
      ],
      "text/plain": [
       "commonsense knowledge\n",
       "In artificial intelligence research, commonsense knowledge consists of facts about the everyday world, such as \n",
       "\u001b[32m\"Lemons are sour\"\u001b[0m, that all humans are expected to know.  The first AI program to address common sense knowledge \n",
       "was Advice Taker in \u001b[1;36m1959\u001b[0m by John McCarthy.\n",
       "\n",
       "commonsense reasoning\n",
       "A branch of artificial intelligence concerned with simulating the human ability to make presumptions about the type\n",
       "and essence of ordinary situations they encounter every day.\n",
       "\n",
       "computational chemistry\n",
       "A branch of chemistry that uses computer simulation to assist in solving chemical problems.\n"
      ]
     },
     "metadata": {},
     "output_type": "display_data"
    },
    {
     "data": {
      "text/html": [
       "<pre style=\"white-space:pre;overflow-x:auto;line-height:normal;font-family:Menlo,'DejaVu Sans Mono',consolas,'Courier New',monospace\">computational chemistry\n",
       "A branch of chemistry that uses computer simulation to assist in solving chemical problems.\n",
       "\n",
       "computational complexity theory\n",
       "Focuses on classifying computational problems according to their inherent difficulty, and relating these classes to\n",
       "each other. A computational problem is a task solved by a computer. A computation problem is solvable by mechanical\n",
       "application of mathematical steps, such as an algorithm.\n",
       "\n",
       "computational creativity\n",
       "Also artificial creativity, mechanical creativity, creative computing, or creative computation.\n",
       "A multidisciplinary endeavour that includes the fields of artificial intelligence, cognitive psychology, \n",
       "philosophy, and the arts.\n",
       "</pre>\n"
      ],
      "text/plain": [
       "computational chemistry\n",
       "A branch of chemistry that uses computer simulation to assist in solving chemical problems.\n",
       "\n",
       "computational complexity theory\n",
       "Focuses on classifying computational problems according to their inherent difficulty, and relating these classes to\n",
       "each other. A computational problem is a task solved by a computer. A computation problem is solvable by mechanical\n",
       "application of mathematical steps, such as an algorithm.\n",
       "\n",
       "computational creativity\n",
       "Also artificial creativity, mechanical creativity, creative computing, or creative computation.\n",
       "A multidisciplinary endeavour that includes the fields of artificial intelligence, cognitive psychology, \n",
       "philosophy, and the arts.\n"
      ]
     },
     "metadata": {},
     "output_type": "display_data"
    },
    {
     "data": {
      "text/html": [
       "<pre style=\"white-space:pre;overflow-x:auto;line-height:normal;font-family:Menlo,'DejaVu Sans Mono',consolas,'Courier New',monospace\">computational cybernetics\n",
       "The integration of cybernetics and computational intelligence techniques.\n",
       "\n",
       "computational humor\n",
       "A branch of computational linguistics and artificial intelligence which uses computers in humor research.\n",
       "\n",
       "computational intelligence <span style=\"font-weight: bold\">(</span>CI<span style=\"font-weight: bold\">)</span>\n",
       "Usually refers to the ability of a computer to learn a specific task from data or experimental observation.\n",
       "\n",
       "computational learning theory\n",
       "In computer science, computational learning theory <span style=\"font-weight: bold\">(</span>or just learning theory<span style=\"font-weight: bold\">)</span> is a subfield of artificial \n",
       "intelligence devoted to studying the design and analysis of machine learning algorithms.\n",
       "</pre>\n"
      ],
      "text/plain": [
       "computational cybernetics\n",
       "The integration of cybernetics and computational intelligence techniques.\n",
       "\n",
       "computational humor\n",
       "A branch of computational linguistics and artificial intelligence which uses computers in humor research.\n",
       "\n",
       "computational intelligence \u001b[1m(\u001b[0mCI\u001b[1m)\u001b[0m\n",
       "Usually refers to the ability of a computer to learn a specific task from data or experimental observation.\n",
       "\n",
       "computational learning theory\n",
       "In computer science, computational learning theory \u001b[1m(\u001b[0mor just learning theory\u001b[1m)\u001b[0m is a subfield of artificial \n",
       "intelligence devoted to studying the design and analysis of machine learning algorithms.\n"
      ]
     },
     "metadata": {},
     "output_type": "display_data"
    },
    {
     "data": {
      "text/html": [
       "<pre style=\"white-space:pre;overflow-x:auto;line-height:normal;font-family:Menlo,'DejaVu Sans Mono',consolas,'Courier New',monospace\">computational linguistics\n",
       "An interdisciplinary field concerned with the statistical or rule-based modeling of natural language from a \n",
       "computational perspective, as well as the study of appropriate computational approaches to linguistic questions.\n",
       "\n",
       "computational mathematics\n",
       "The mathematical research in areas of science where computing plays an essential role.\n",
       "\n",
       "computational neuroscience\n",
       "Also theoretical neuroscience or mathematical neuroscience. \n",
       "A branch of neuroscience which employs mathematical models, theoretical analysis and abstractions of the brain to \n",
       "understand the principles that govern the development, structure, physiology, and cognitive abilities of the \n",
       "nervous system.\n",
       "</pre>\n"
      ],
      "text/plain": [
       "computational linguistics\n",
       "An interdisciplinary field concerned with the statistical or rule-based modeling of natural language from a \n",
       "computational perspective, as well as the study of appropriate computational approaches to linguistic questions.\n",
       "\n",
       "computational mathematics\n",
       "The mathematical research in areas of science where computing plays an essential role.\n",
       "\n",
       "computational neuroscience\n",
       "Also theoretical neuroscience or mathematical neuroscience. \n",
       "A branch of neuroscience which employs mathematical models, theoretical analysis and abstractions of the brain to \n",
       "understand the principles that govern the development, structure, physiology, and cognitive abilities of the \n",
       "nervous system.\n"
      ]
     },
     "metadata": {},
     "output_type": "display_data"
    },
    {
     "data": {
      "text/html": [
       "<pre style=\"white-space:pre;overflow-x:auto;line-height:normal;font-family:Menlo,'DejaVu Sans Mono',consolas,'Courier New',monospace\">computational number theory\n",
       "Also algorithmic number theory.\n",
       "The study of algorithms for performing number theoretic computations.\n",
       "\n",
       "computational problem\n",
       "In theoretical computer science, a computational problem is a mathematical object representing a collection of \n",
       "questions that computers might be able to solve.\n",
       "\n",
       "computational statistics\n",
       "Also statistical computing.\n",
       "The interface between statistics and computer science.\n",
       "\n",
       "computer-automated design <span style=\"font-weight: bold\">(</span>CAutoD<span style=\"font-weight: bold\">)</span>\n",
       "Design automation usually refers to electronic design automation, or Design Automation which is a Product \n",
       "Configurator.\n",
       "</pre>\n"
      ],
      "text/plain": [
       "computational number theory\n",
       "Also algorithmic number theory.\n",
       "The study of algorithms for performing number theoretic computations.\n",
       "\n",
       "computational problem\n",
       "In theoretical computer science, a computational problem is a mathematical object representing a collection of \n",
       "questions that computers might be able to solve.\n",
       "\n",
       "computational statistics\n",
       "Also statistical computing.\n",
       "The interface between statistics and computer science.\n",
       "\n",
       "computer-automated design \u001b[1m(\u001b[0mCAutoD\u001b[1m)\u001b[0m\n",
       "Design automation usually refers to electronic design automation, or Design Automation which is a Product \n",
       "Configurator.\n"
      ]
     },
     "metadata": {},
     "output_type": "display_data"
    },
    {
     "data": {
      "text/html": [
       "<pre style=\"white-space:pre;overflow-x:auto;line-height:normal;font-family:Menlo,'DejaVu Sans Mono',consolas,'Courier New',monospace\">Extending Computer-Aided Design <span style=\"font-weight: bold\">(</span>CAD<span style=\"font-weight: bold\">)</span>, automated design and computer-automated design are concerned with a broader \n",
       "range of applications, such as automotive engineering, civil engineering, composite material design, control \n",
       "engineering, dynamic system identification and optimization, financial systems, industrial equipment, mechatronic \n",
       "systems, steel construction, structural optimisation, and the invention of novel systems. More recently, \n",
       "traditional CAD simulation is seen to be transformed to CAutoD by biologically inspired machine learning, including\n",
       "heuristic search techniques such as evolutionary computation, and swarm intelligence algorithms.\n",
       "\n",
       "computer audition <span style=\"font-weight: bold\">(</span>CA<span style=\"font-weight: bold\">)</span>\n",
       "See machine listening.\n",
       "</pre>\n"
      ],
      "text/plain": [
       "Extending Computer-Aided Design \u001b[1m(\u001b[0mCAD\u001b[1m)\u001b[0m, automated design and computer-automated design are concerned with a broader \n",
       "range of applications, such as automotive engineering, civil engineering, composite material design, control \n",
       "engineering, dynamic system identification and optimization, financial systems, industrial equipment, mechatronic \n",
       "systems, steel construction, structural optimisation, and the invention of novel systems. More recently, \n",
       "traditional CAD simulation is seen to be transformed to CAutoD by biologically inspired machine learning, including\n",
       "heuristic search techniques such as evolutionary computation, and swarm intelligence algorithms.\n",
       "\n",
       "computer audition \u001b[1m(\u001b[0mCA\u001b[1m)\u001b[0m\n",
       "See machine listening.\n"
      ]
     },
     "metadata": {},
     "output_type": "display_data"
    },
    {
     "data": {
      "text/html": [
       "<pre style=\"white-space:pre;overflow-x:auto;line-height:normal;font-family:Menlo,'DejaVu Sans Mono',consolas,'Courier New',monospace\">computer audition <span style=\"font-weight: bold\">(</span>CA<span style=\"font-weight: bold\">)</span>\n",
       "See machine listening.\n",
       "\n",
       "computer science\n",
       "The theory, experimentation, and engineering that form the basis for the design and use of computers. It involves \n",
       "the study of algorithms that process, store, and communicate digital information. A computer scientist specializes \n",
       "in the theory of computation and the design of computational systems.\n",
       "\n",
       "computer vision\n",
       "An interdisciplinary scientific field that deals with how computers can be made to gain high-level understanding \n",
       "from digital images or videos. From the perspective of engineering, it seeks to automate tasks that the human \n",
       "visual system can do.\n",
       "</pre>\n"
      ],
      "text/plain": [
       "computer audition \u001b[1m(\u001b[0mCA\u001b[1m)\u001b[0m\n",
       "See machine listening.\n",
       "\n",
       "computer science\n",
       "The theory, experimentation, and engineering that form the basis for the design and use of computers. It involves \n",
       "the study of algorithms that process, store, and communicate digital information. A computer scientist specializes \n",
       "in the theory of computation and the design of computational systems.\n",
       "\n",
       "computer vision\n",
       "An interdisciplinary scientific field that deals with how computers can be made to gain high-level understanding \n",
       "from digital images or videos. From the perspective of engineering, it seeks to automate tasks that the human \n",
       "visual system can do.\n"
      ]
     },
     "metadata": {},
     "output_type": "display_data"
    },
    {
     "data": {
      "text/html": [
       "<pre style=\"white-space:pre;overflow-x:auto;line-height:normal;font-family:Menlo,'DejaVu Sans Mono',consolas,'Courier New',monospace\">concept drift\n",
       "In predictive analytics and machine learning, the concept drift means that the statistical properties of the target\n",
       "variable, which the model is trying to predict, change over time in unforeseen ways. This causes problems because \n",
       "the predictions become less accurate as time passes.\n",
       "\n",
       "connectionism\n",
       "An approach in the fields of cognitive science, that hopes to explain mental phenomena using artificial neural \n",
       "networks.\n",
       "</pre>\n"
      ],
      "text/plain": [
       "concept drift\n",
       "In predictive analytics and machine learning, the concept drift means that the statistical properties of the target\n",
       "variable, which the model is trying to predict, change over time in unforeseen ways. This causes problems because \n",
       "the predictions become less accurate as time passes.\n",
       "\n",
       "connectionism\n",
       "An approach in the fields of cognitive science, that hopes to explain mental phenomena using artificial neural \n",
       "networks.\n"
      ]
     },
     "metadata": {},
     "output_type": "display_data"
    },
    {
     "data": {
      "text/html": [
       "<pre style=\"white-space:pre;overflow-x:auto;line-height:normal;font-family:Menlo,'DejaVu Sans Mono',consolas,'Courier New',monospace\">consistent heuristic\n",
       "In the study of path-finding problems in artificial intelligence, a heuristic function is said to be consistent, or\n",
       "monotone, if its estimate is always less than or equal to the estimated distance from any neighboring vertex to the\n",
       "goal, plus the cost of reaching that neighbor.\n",
       "\n",
       "constrained conditional model <span style=\"font-weight: bold\">(</span>CCM<span style=\"font-weight: bold\">)</span>\n",
       "A machine learning and inference framework that augments the learning of conditional <span style=\"font-weight: bold\">(</span>probabilistic or \n",
       "discriminative<span style=\"font-weight: bold\">)</span> models with declarative constraints.\n",
       "\n",
       "constraint logic programming\n",
       "A form of constraint programming, in which logic programming is extended to include concepts from constraint \n",
       "satisfaction.\n",
       "</pre>\n"
      ],
      "text/plain": [
       "consistent heuristic\n",
       "In the study of path-finding problems in artificial intelligence, a heuristic function is said to be consistent, or\n",
       "monotone, if its estimate is always less than or equal to the estimated distance from any neighboring vertex to the\n",
       "goal, plus the cost of reaching that neighbor.\n",
       "\n",
       "constrained conditional model \u001b[1m(\u001b[0mCCM\u001b[1m)\u001b[0m\n",
       "A machine learning and inference framework that augments the learning of conditional \u001b[1m(\u001b[0mprobabilistic or \n",
       "discriminative\u001b[1m)\u001b[0m models with declarative constraints.\n",
       "\n",
       "constraint logic programming\n",
       "A form of constraint programming, in which logic programming is extended to include concepts from constraint \n",
       "satisfaction.\n"
      ]
     },
     "metadata": {},
     "output_type": "display_data"
    },
    {
     "data": {
      "text/html": [
       "<pre style=\"white-space:pre;overflow-x:auto;line-height:normal;font-family:Menlo,'DejaVu Sans Mono',consolas,'Courier New',monospace\">A constraint logic program is a logic program that contains constraints in the body of clauses. An example of a \n",
       "clause including a constraint is <span style=\"color: #800080; text-decoration-color: #800080; font-weight: bold\">A</span><span style=\"font-weight: bold\">(</span>X,Y<span style=\"font-weight: bold\">)</span> :- X+Y&gt;<span style=\"color: #008080; text-decoration-color: #008080; font-weight: bold\">0</span>, <span style=\"color: #800080; text-decoration-color: #800080; font-weight: bold\">B</span><span style=\"font-weight: bold\">(</span>X<span style=\"font-weight: bold\">)</span>, <span style=\"color: #800080; text-decoration-color: #800080; font-weight: bold\">C</span><span style=\"font-weight: bold\">(</span>Y<span style=\"font-weight: bold\">)</span>. In this clause, X+Y&gt;<span style=\"color: #008080; text-decoration-color: #008080; font-weight: bold\">0</span> is a constraint; <span style=\"color: #800080; text-decoration-color: #800080; font-weight: bold\">A</span><span style=\"font-weight: bold\">(</span>X,Y<span style=\"font-weight: bold\">)</span>, <span style=\"color: #800080; text-decoration-color: #800080; font-weight: bold\">B</span><span style=\"font-weight: bold\">(</span>X<span style=\"font-weight: bold\">)</span>, \n",
       "and <span style=\"color: #800080; text-decoration-color: #800080; font-weight: bold\">C</span><span style=\"font-weight: bold\">(</span>Y<span style=\"font-weight: bold\">)</span> are literals as in regular logic programming. This clause states one condition under which the statement \n",
       "<span style=\"color: #800080; text-decoration-color: #800080; font-weight: bold\">A</span><span style=\"font-weight: bold\">(</span>X,Y<span style=\"font-weight: bold\">)</span> holds: X+Y is greater than zero and both <span style=\"color: #800080; text-decoration-color: #800080; font-weight: bold\">B</span><span style=\"font-weight: bold\">(</span>X<span style=\"font-weight: bold\">)</span> and <span style=\"color: #800080; text-decoration-color: #800080; font-weight: bold\">C</span><span style=\"font-weight: bold\">(</span>Y<span style=\"font-weight: bold\">)</span> are true.\n",
       "</pre>\n"
      ],
      "text/plain": [
       "A constraint logic program is a logic program that contains constraints in the body of clauses. An example of a \n",
       "clause including a constraint is \u001b[1;35mA\u001b[0m\u001b[1m(\u001b[0mX,Y\u001b[1m)\u001b[0m :- X+Y>\u001b[1;36m0\u001b[0m, \u001b[1;35mB\u001b[0m\u001b[1m(\u001b[0mX\u001b[1m)\u001b[0m, \u001b[1;35mC\u001b[0m\u001b[1m(\u001b[0mY\u001b[1m)\u001b[0m. In this clause, X+Y>\u001b[1;36m0\u001b[0m is a constraint; \u001b[1;35mA\u001b[0m\u001b[1m(\u001b[0mX,Y\u001b[1m)\u001b[0m, \u001b[1;35mB\u001b[0m\u001b[1m(\u001b[0mX\u001b[1m)\u001b[0m, \n",
       "and \u001b[1;35mC\u001b[0m\u001b[1m(\u001b[0mY\u001b[1m)\u001b[0m are literals as in regular logic programming. This clause states one condition under which the statement \n",
       "\u001b[1;35mA\u001b[0m\u001b[1m(\u001b[0mX,Y\u001b[1m)\u001b[0m holds: X+Y is greater than zero and both \u001b[1;35mB\u001b[0m\u001b[1m(\u001b[0mX\u001b[1m)\u001b[0m and \u001b[1;35mC\u001b[0m\u001b[1m(\u001b[0mY\u001b[1m)\u001b[0m are true.\n"
      ]
     },
     "metadata": {},
     "output_type": "display_data"
    },
    {
     "data": {
      "text/html": [
       "<pre style=\"white-space:pre;overflow-x:auto;line-height:normal;font-family:Menlo,'DejaVu Sans Mono',consolas,'Courier New',monospace\">constraint programming\n",
       "A programming paradigm wherein relations between variables are stated in the form of constraints. Constraints \n",
       "differ from the common primitives of imperative programming languages in that they do not specify a step or \n",
       "sequence of steps to execute, but rather the properties of a solution to be found.\n",
       "\n",
       "constructed language\n",
       "Also conlang. \n",
       "A language whose phonology, grammar, and vocabulary are consciously devised, instead of having developed naturally.\n",
       "Constructed languages may also be referred to as artificial, planned, or invented languages.\n",
       "</pre>\n"
      ],
      "text/plain": [
       "constraint programming\n",
       "A programming paradigm wherein relations between variables are stated in the form of constraints. Constraints \n",
       "differ from the common primitives of imperative programming languages in that they do not specify a step or \n",
       "sequence of steps to execute, but rather the properties of a solution to be found.\n",
       "\n",
       "constructed language\n",
       "Also conlang. \n",
       "A language whose phonology, grammar, and vocabulary are consciously devised, instead of having developed naturally.\n",
       "Constructed languages may also be referred to as artificial, planned, or invented languages.\n"
      ]
     },
     "metadata": {},
     "output_type": "display_data"
    },
    {
     "data": {
      "text/html": [
       "<pre style=\"white-space:pre;overflow-x:auto;line-height:normal;font-family:Menlo,'DejaVu Sans Mono',consolas,'Courier New',monospace\">control theory\n",
       "In control systems engineering is a subfield of mathematics that deals with the control of continuously operating \n",
       "dynamical systems in engineered processes and machines. The objective is to develop a control model for controlling\n",
       "such systems using a control action in an optimum manner without delay or overshoot and ensuring control stability.\n",
       "</pre>\n"
      ],
      "text/plain": [
       "control theory\n",
       "In control systems engineering is a subfield of mathematics that deals with the control of continuously operating \n",
       "dynamical systems in engineered processes and machines. The objective is to develop a control model for controlling\n",
       "such systems using a control action in an optimum manner without delay or overshoot and ensuring control stability.\n"
      ]
     },
     "metadata": {},
     "output_type": "display_data"
    },
    {
     "data": {
      "text/html": [
       "<pre style=\"white-space:pre;overflow-x:auto;line-height:normal;font-family:Menlo,'DejaVu Sans Mono',consolas,'Courier New',monospace\">convolutional neural network\n",
       "In deep learning, a convolutional neural network <span style=\"font-weight: bold\">(</span>CNN, or ConvNet<span style=\"font-weight: bold\">)</span> is a class of deep neural networks, most \n",
       "commonly applied to analyzing visual imagery. CNNs use a variation of multilayer perceptrons designed to require \n",
       "minimal preprocessing. They are also known as shift invariant or space invariant artificial neural networks \n",
       "<span style=\"font-weight: bold\">(</span>SIANN<span style=\"font-weight: bold\">)</span>, based on their shared-weights architecture and translation invariance characteristics.\n",
       "</pre>\n"
      ],
      "text/plain": [
       "convolutional neural network\n",
       "In deep learning, a convolutional neural network \u001b[1m(\u001b[0mCNN, or ConvNet\u001b[1m)\u001b[0m is a class of deep neural networks, most \n",
       "commonly applied to analyzing visual imagery. CNNs use a variation of multilayer perceptrons designed to require \n",
       "minimal preprocessing. They are also known as shift invariant or space invariant artificial neural networks \n",
       "\u001b[1m(\u001b[0mSIANN\u001b[1m)\u001b[0m, based on their shared-weights architecture and translation invariance characteristics.\n"
      ]
     },
     "metadata": {},
     "output_type": "display_data"
    },
    {
     "data": {
      "text/html": [
       "<pre style=\"white-space:pre;overflow-x:auto;line-height:normal;font-family:Menlo,'DejaVu Sans Mono',consolas,'Courier New',monospace\">crossover\n",
       "Also recombination.\n",
       "In genetic algorithms and evolutionary computation, a genetic operator used to combine the genetic information of \n",
       "two parents to generate new offspring. It is one way to stochastically generate new solutions from an existing \n",
       "population, and analogous to the crossover that happens during sexual reproduction in biological organisms. \n",
       "Solutions can also be generated by cloning an existing solution, which is analogous to asexual reproduction. Newly \n",
       "generated solutions are typically mutated before being added to the population.\n",
       "\n",
       "\n",
       "== D ==\n",
       "</pre>\n"
      ],
      "text/plain": [
       "crossover\n",
       "Also recombination.\n",
       "In genetic algorithms and evolutionary computation, a genetic operator used to combine the genetic information of \n",
       "two parents to generate new offspring. It is one way to stochastically generate new solutions from an existing \n",
       "population, and analogous to the crossover that happens during sexual reproduction in biological organisms. \n",
       "Solutions can also be generated by cloning an existing solution, which is analogous to asexual reproduction. Newly \n",
       "generated solutions are typically mutated before being added to the population.\n",
       "\n",
       "\n",
       "== D ==\n"
      ]
     },
     "metadata": {},
     "output_type": "display_data"
    },
    {
     "data": {
      "text/html": [
       "<pre style=\"white-space:pre;overflow-x:auto;line-height:normal;font-family:Menlo,'DejaVu Sans Mono',consolas,'Courier New',monospace\">== D ==\n",
       "\n",
       "Darkforest\n",
       "A computer go program developed by Facebook, based on deep learning techniques using a convolutional neural \n",
       "network. Its updated version Darkfores2 combines the techniques of its predecessor with Monte Carlo tree search. \n",
       "The MCTS effectively takes tree search methods commonly seen in computer chess programs and randomizes them. With \n",
       "the update, the system is known as Darkfmcts3.\n",
       "\n",
       "Dartmouth workshop\n",
       "The Dartmouth Summer Research Project on Artificial Intelligence was the name of a <span style=\"color: #008080; text-decoration-color: #008080; font-weight: bold\">1956</span> summer workshop now \n",
       "considered by many <span style=\"font-weight: bold\">(</span>though not all<span style=\"font-weight: bold\">)</span> to be the seminal event for artificial intelligence as a field.\n",
       "</pre>\n"
      ],
      "text/plain": [
       "== D ==\n",
       "\n",
       "Darkforest\n",
       "A computer go program developed by Facebook, based on deep learning techniques using a convolutional neural \n",
       "network. Its updated version Darkfores2 combines the techniques of its predecessor with Monte Carlo tree search. \n",
       "The MCTS effectively takes tree search methods commonly seen in computer chess programs and randomizes them. With \n",
       "the update, the system is known as Darkfmcts3.\n",
       "\n",
       "Dartmouth workshop\n",
       "The Dartmouth Summer Research Project on Artificial Intelligence was the name of a \u001b[1;36m1956\u001b[0m summer workshop now \n",
       "considered by many \u001b[1m(\u001b[0mthough not all\u001b[1m)\u001b[0m to be the seminal event for artificial intelligence as a field.\n"
      ]
     },
     "metadata": {},
     "output_type": "display_data"
    },
    {
     "data": {
      "text/html": [
       "<pre style=\"white-space:pre;overflow-x:auto;line-height:normal;font-family:Menlo,'DejaVu Sans Mono',consolas,'Courier New',monospace\">data augmentation\n",
       "Data augmentation in data analysis are techniques used to increase the amount of data. It helps reduce overfitting \n",
       "when training a learning algorithm.\n",
       "\n",
       "data fusion\n",
       "The process of integrating multiple data sources to produce more consistent, accurate, and useful information than \n",
       "that provided by any individual data source.\n",
       "</pre>\n"
      ],
      "text/plain": [
       "data augmentation\n",
       "Data augmentation in data analysis are techniques used to increase the amount of data. It helps reduce overfitting \n",
       "when training a learning algorithm.\n",
       "\n",
       "data fusion\n",
       "The process of integrating multiple data sources to produce more consistent, accurate, and useful information than \n",
       "that provided by any individual data source.\n"
      ]
     },
     "metadata": {},
     "output_type": "display_data"
    },
    {
     "data": {
      "text/html": [
       "<pre style=\"white-space:pre;overflow-x:auto;line-height:normal;font-family:Menlo,'DejaVu Sans Mono',consolas,'Courier New',monospace\">data integration\n",
       "The process of combining data residing in different sources and providing users with a unified view of them. This \n",
       "process becomes significant in a variety of situations, which include both commercial <span style=\"font-weight: bold\">(</span>such as when two similar \n",
       "companies need to merge their databases<span style=\"font-weight: bold\">)</span> and scientific <span style=\"font-weight: bold\">(</span>combining research results from different bioinformatics \n",
       "repositories, for example<span style=\"font-weight: bold\">)</span> domains. Data integration appears with increasing frequency as the volume <span style=\"font-weight: bold\">(</span>that is, big \n",
       "data<span style=\"font-weight: bold\">)</span> and the need to share existing data explodes. It has become the focus of extensive theoretical work, and \n",
       "numerous open problems remain unsolved.\n",
       "</pre>\n"
      ],
      "text/plain": [
       "data integration\n",
       "The process of combining data residing in different sources and providing users with a unified view of them. This \n",
       "process becomes significant in a variety of situations, which include both commercial \u001b[1m(\u001b[0msuch as when two similar \n",
       "companies need to merge their databases\u001b[1m)\u001b[0m and scientific \u001b[1m(\u001b[0mcombining research results from different bioinformatics \n",
       "repositories, for example\u001b[1m)\u001b[0m domains. Data integration appears with increasing frequency as the volume \u001b[1m(\u001b[0mthat is, big \n",
       "data\u001b[1m)\u001b[0m and the need to share existing data explodes. It has become the focus of extensive theoretical work, and \n",
       "numerous open problems remain unsolved.\n"
      ]
     },
     "metadata": {},
     "output_type": "display_data"
    },
    {
     "data": {
      "text/html": [
       "<pre style=\"white-space:pre;overflow-x:auto;line-height:normal;font-family:Menlo,'DejaVu Sans Mono',consolas,'Courier New',monospace\">data mining\n",
       "The process of discovering patterns in large data sets involving methods at the intersection of machine learning, \n",
       "statistics, and database systems.\n",
       "\n",
       "data science\n",
       "An interdisciplinary field that uses scientific methods, processes, algorithms and systems to extract knowledge and\n",
       "insights from data in various forms, both structured and unstructured, similar to data mining. Data science is a \n",
       "<span style=\"color: #008000; text-decoration-color: #008000\">\"concept to unify statistics, data analysis, machine learning and their related methods\"</span> in order to <span style=\"color: #008000; text-decoration-color: #008000\">\"understand </span>\n",
       "<span style=\"color: #008000; text-decoration-color: #008000\">and analyze actual phenomena\"</span> with data. It employs techniques and theories drawn from many fields within the \n",
       "context of mathematics, statistics, information science, and computer science.\n",
       "</pre>\n"
      ],
      "text/plain": [
       "data mining\n",
       "The process of discovering patterns in large data sets involving methods at the intersection of machine learning, \n",
       "statistics, and database systems.\n",
       "\n",
       "data science\n",
       "An interdisciplinary field that uses scientific methods, processes, algorithms and systems to extract knowledge and\n",
       "insights from data in various forms, both structured and unstructured, similar to data mining. Data science is a \n",
       "\u001b[32m\"concept to unify statistics, data analysis, machine learning and their related methods\"\u001b[0m in order to \u001b[32m\"understand \u001b[0m\n",
       "\u001b[32mand analyze actual phenomena\"\u001b[0m with data. It employs techniques and theories drawn from many fields within the \n",
       "context of mathematics, statistics, information science, and computer science.\n"
      ]
     },
     "metadata": {},
     "output_type": "display_data"
    },
    {
     "data": {
      "text/html": [
       "<pre style=\"white-space:pre;overflow-x:auto;line-height:normal;font-family:Menlo,'DejaVu Sans Mono',consolas,'Courier New',monospace\">data set\n",
       "Also dataset.\n",
       "A collection of data. Most commonly a data set corresponds to the contents of a single database table, or a single \n",
       "statistical data matrix, where every column of the table represents a particular variable, and each row corresponds\n",
       "to a given member of the data set in question. The data set lists values for each of the variables, such as height \n",
       "and weight of an object, for each member of the data set.  Each value is known as a datum. The data set may \n",
       "comprise data for one or more members, corresponding to the number of rows.\n",
       "</pre>\n"
      ],
      "text/plain": [
       "data set\n",
       "Also dataset.\n",
       "A collection of data. Most commonly a data set corresponds to the contents of a single database table, or a single \n",
       "statistical data matrix, where every column of the table represents a particular variable, and each row corresponds\n",
       "to a given member of the data set in question. The data set lists values for each of the variables, such as height \n",
       "and weight of an object, for each member of the data set.  Each value is known as a datum. The data set may \n",
       "comprise data for one or more members, corresponding to the number of rows.\n"
      ]
     },
     "metadata": {},
     "output_type": "display_data"
    },
    {
     "data": {
      "text/html": [
       "<pre style=\"white-space:pre;overflow-x:auto;line-height:normal;font-family:Menlo,'DejaVu Sans Mono',consolas,'Courier New',monospace\">data warehouse <span style=\"font-weight: bold\">(</span>DW or DWH<span style=\"font-weight: bold\">)</span>\n",
       "Also enterprise data warehouse <span style=\"font-weight: bold\">(</span>EDW<span style=\"font-weight: bold\">)</span>.\n",
       "A system used for reporting and data analysis. DWs are central repositories of integrated data from one or more \n",
       "disparate sources. They store current and historical data in one single place\n",
       "\n",
       "Datalog\n",
       "A declarative logic programming language that syntactically is a subset of Prolog. It is often used as a query \n",
       "language for deductive databases. In recent years, Datalog has found new application in data integration, \n",
       "information extraction, networking, program analysis, security, and cloud computing.\n",
       "</pre>\n"
      ],
      "text/plain": [
       "data warehouse \u001b[1m(\u001b[0mDW or DWH\u001b[1m)\u001b[0m\n",
       "Also enterprise data warehouse \u001b[1m(\u001b[0mEDW\u001b[1m)\u001b[0m.\n",
       "A system used for reporting and data analysis. DWs are central repositories of integrated data from one or more \n",
       "disparate sources. They store current and historical data in one single place\n",
       "\n",
       "Datalog\n",
       "A declarative logic programming language that syntactically is a subset of Prolog. It is often used as a query \n",
       "language for deductive databases. In recent years, Datalog has found new application in data integration, \n",
       "information extraction, networking, program analysis, security, and cloud computing.\n"
      ]
     },
     "metadata": {},
     "output_type": "display_data"
    },
    {
     "data": {
      "text/html": [
       "<pre style=\"white-space:pre;overflow-x:auto;line-height:normal;font-family:Menlo,'DejaVu Sans Mono',consolas,'Courier New',monospace\">decision boundary\n",
       "In the case of backpropagation-based artificial neural networks or perceptrons, the type of decision boundary that \n",
       "the network can learn is determined by the number of hidden layers the network has. If it has no hidden layers, \n",
       "then it can only learn linear problems. If it has one hidden layer, then it can learn any continuous function on \n",
       "compact subsets of Rn as shown by the Universal approximation theorem, thus it can have an arbitrary decision \n",
       "boundary.\n",
       "</pre>\n"
      ],
      "text/plain": [
       "decision boundary\n",
       "In the case of backpropagation-based artificial neural networks or perceptrons, the type of decision boundary that \n",
       "the network can learn is determined by the number of hidden layers the network has. If it has no hidden layers, \n",
       "then it can only learn linear problems. If it has one hidden layer, then it can learn any continuous function on \n",
       "compact subsets of Rn as shown by the Universal approximation theorem, thus it can have an arbitrary decision \n",
       "boundary.\n"
      ]
     },
     "metadata": {},
     "output_type": "display_data"
    },
    {
     "data": {
      "text/html": [
       "<pre style=\"white-space:pre;overflow-x:auto;line-height:normal;font-family:Menlo,'DejaVu Sans Mono',consolas,'Courier New',monospace\">decision support system <span style=\"font-weight: bold\">(</span>DSS<span style=\"font-weight: bold\">)</span>\n",
       "Aan information system that supports business or organizational decision-making activities. DSSs serve the \n",
       "management, operations and planning levels of an organization <span style=\"font-weight: bold\">(</span>usually mid and higher management<span style=\"font-weight: bold\">)</span> and help people \n",
       "make decisions about problems that may be rapidly changing and not easily specified in advance—i.e. unstructured \n",
       "and semi-structured decision problems. Decision support systems can be either fully computerized or human-powered, \n",
       "or a combination of both.\n",
       "</pre>\n"
      ],
      "text/plain": [
       "decision support system \u001b[1m(\u001b[0mDSS\u001b[1m)\u001b[0m\n",
       "Aan information system that supports business or organizational decision-making activities. DSSs serve the \n",
       "management, operations and planning levels of an organization \u001b[1m(\u001b[0musually mid and higher management\u001b[1m)\u001b[0m and help people \n",
       "make decisions about problems that may be rapidly changing and not easily specified in advance—i.e. unstructured \n",
       "and semi-structured decision problems. Decision support systems can be either fully computerized or human-powered, \n",
       "or a combination of both.\n"
      ]
     },
     "metadata": {},
     "output_type": "display_data"
    },
    {
     "data": {
      "text/html": [
       "<pre style=\"white-space:pre;overflow-x:auto;line-height:normal;font-family:Menlo,'DejaVu Sans Mono',consolas,'Courier New',monospace\">decision theory\n",
       "Also theory of choice.\n",
       "The study of the reasoning underlying an agent's choices. Decision theory can be broken into two branches: \n",
       "normative decision theory, which gives advice on how to make the best decisions given a set of uncertain beliefs \n",
       "and a set of values, and descriptive decision theory which analyzes how existing, possibly irrational agents \n",
       "actually make decisions.\n",
       "</pre>\n"
      ],
      "text/plain": [
       "decision theory\n",
       "Also theory of choice.\n",
       "The study of the reasoning underlying an agent's choices. Decision theory can be broken into two branches: \n",
       "normative decision theory, which gives advice on how to make the best decisions given a set of uncertain beliefs \n",
       "and a set of values, and descriptive decision theory which analyzes how existing, possibly irrational agents \n",
       "actually make decisions.\n"
      ]
     },
     "metadata": {},
     "output_type": "display_data"
    },
    {
     "data": {
      "text/html": [
       "<pre style=\"white-space:pre;overflow-x:auto;line-height:normal;font-family:Menlo,'DejaVu Sans Mono',consolas,'Courier New',monospace\">decision tree learning\n",
       "Uses a decision tree <span style=\"font-weight: bold\">(</span>as a predictive model<span style=\"font-weight: bold\">)</span> to go from observations about an item <span style=\"font-weight: bold\">(</span>represented in the branches<span style=\"font-weight: bold\">)</span> to\n",
       "conclusions about the item's target value <span style=\"font-weight: bold\">(</span>represented in the leaves<span style=\"font-weight: bold\">)</span>. It is one of the predictive modeling \n",
       "approaches used in statistics, data mining and machine learning.\n",
       "\n",
       "declarative programming\n",
       "A programming paradigm—a style of building the structure and elements of computer programs—that expresses the logic\n",
       "of a computation without describing its control flow.\n",
       "</pre>\n"
      ],
      "text/plain": [
       "decision tree learning\n",
       "Uses a decision tree \u001b[1m(\u001b[0mas a predictive model\u001b[1m)\u001b[0m to go from observations about an item \u001b[1m(\u001b[0mrepresented in the branches\u001b[1m)\u001b[0m to\n",
       "conclusions about the item's target value \u001b[1m(\u001b[0mrepresented in the leaves\u001b[1m)\u001b[0m. It is one of the predictive modeling \n",
       "approaches used in statistics, data mining and machine learning.\n",
       "\n",
       "declarative programming\n",
       "A programming paradigm—a style of building the structure and elements of computer programs—that expresses the logic\n",
       "of a computation without describing its control flow.\n"
      ]
     },
     "metadata": {},
     "output_type": "display_data"
    },
    {
     "data": {
      "text/html": [
       "<pre style=\"white-space:pre;overflow-x:auto;line-height:normal;font-family:Menlo,'DejaVu Sans Mono',consolas,'Courier New',monospace\">deductive classifier\n",
       "A type of artificial intelligence inference engine. It takes as input a set of declarations in a frame language \n",
       "about a domain such as medical research or molecular biology. For example, the names of classes, sub-classes, \n",
       "properties, and restrictions on allowable values.\n",
       "\n",
       "Deep Blue\n",
       "was a chess-playing computer developed by IBM. It is known for being the first computer chess-playing system to win\n",
       "both a chess game and a chess match against a reigning world champion under regular time controls.\n",
       "</pre>\n"
      ],
      "text/plain": [
       "deductive classifier\n",
       "A type of artificial intelligence inference engine. It takes as input a set of declarations in a frame language \n",
       "about a domain such as medical research or molecular biology. For example, the names of classes, sub-classes, \n",
       "properties, and restrictions on allowable values.\n",
       "\n",
       "Deep Blue\n",
       "was a chess-playing computer developed by IBM. It is known for being the first computer chess-playing system to win\n",
       "both a chess game and a chess match against a reigning world champion under regular time controls.\n"
      ]
     },
     "metadata": {},
     "output_type": "display_data"
    },
    {
     "data": {
      "text/html": [
       "<pre style=\"white-space:pre;overflow-x:auto;line-height:normal;font-family:Menlo,'DejaVu Sans Mono',consolas,'Courier New',monospace\">deep learning\n",
       "Also deep structured learning or hierarchical learning.\n",
       "Part of a broader family of machine learning methods based on learning data representations, as opposed to \n",
       "task-specific algorithms. Learning can be supervised, semi-supervised, or unsupervised.\n",
       "\n",
       "DeepMind Technologies\n",
       "A British artificial intelligence company founded in September <span style=\"color: #008080; text-decoration-color: #008080; font-weight: bold\">2010</span>, currently owned by Alphabet Inc. The company \n",
       "is based in London, with research centres in Canada, France, and the United States.\n",
       "</pre>\n"
      ],
      "text/plain": [
       "deep learning\n",
       "Also deep structured learning or hierarchical learning.\n",
       "Part of a broader family of machine learning methods based on learning data representations, as opposed to \n",
       "task-specific algorithms. Learning can be supervised, semi-supervised, or unsupervised.\n",
       "\n",
       "DeepMind Technologies\n",
       "A British artificial intelligence company founded in September \u001b[1;36m2010\u001b[0m, currently owned by Alphabet Inc. The company \n",
       "is based in London, with research centres in Canada, France, and the United States.\n"
      ]
     },
     "metadata": {},
     "output_type": "display_data"
    },
    {
     "data": {
      "text/html": [
       "<pre style=\"white-space:pre;overflow-x:auto;line-height:normal;font-family:Menlo,'DejaVu Sans Mono',consolas,'Courier New',monospace\">Acquired by Google in <span style=\"color: #008080; text-decoration-color: #008080; font-weight: bold\">2014</span>, the company has created a neural network that learns how to play video games in a \n",
       "fashion similar to that of humans, as well as a neural Turing machine, or a neural network that may be able to \n",
       "access an external memory like a conventional Turing machine, resulting in a computer that mimics the short-term \n",
       "memory of the human brain. The company made headlines in <span style=\"color: #008080; text-decoration-color: #008080; font-weight: bold\">2016</span> after its AlphaGo program beat human professional Go \n",
       "player Lee Sedol, the world champion, in a five-game match, which was the subject of a documentary film.\n",
       "</pre>\n"
      ],
      "text/plain": [
       "Acquired by Google in \u001b[1;36m2014\u001b[0m, the company has created a neural network that learns how to play video games in a \n",
       "fashion similar to that of humans, as well as a neural Turing machine, or a neural network that may be able to \n",
       "access an external memory like a conventional Turing machine, resulting in a computer that mimics the short-term \n",
       "memory of the human brain. The company made headlines in \u001b[1;36m2016\u001b[0m after its AlphaGo program beat human professional Go \n",
       "player Lee Sedol, the world champion, in a five-game match, which was the subject of a documentary film.\n"
      ]
     },
     "metadata": {},
     "output_type": "display_data"
    },
    {
     "data": {
      "text/html": [
       "<pre style=\"white-space:pre;overflow-x:auto;line-height:normal;font-family:Menlo,'DejaVu Sans Mono',consolas,'Courier New',monospace\">A more general program, AlphaZero, beat the most powerful programs playing Go, chess, and shogi <span style=\"font-weight: bold\">(</span>Japanese chess<span style=\"font-weight: bold\">)</span> \n",
       "after a few days of play against itself using reinforcement learning.\n",
       "\n",
       "default logic\n",
       "A non-monotonic logic proposed by Raymond Reiter to formalize reasoning with default assumptions.\n",
       "\n",
       "Density-based spatial clustering of applications with noise <span style=\"font-weight: bold\">(</span>DBSCAN<span style=\"font-weight: bold\">)</span>\n",
       "A clustering algorithm proposed by Martin Ester, Hans-Peter Kriegel, Jörg Sander, and Xiaowei Xu in <span style=\"color: #008080; text-decoration-color: #008080; font-weight: bold\">1996</span>.\n",
       "</pre>\n"
      ],
      "text/plain": [
       "A more general program, AlphaZero, beat the most powerful programs playing Go, chess, and shogi \u001b[1m(\u001b[0mJapanese chess\u001b[1m)\u001b[0m \n",
       "after a few days of play against itself using reinforcement learning.\n",
       "\n",
       "default logic\n",
       "A non-monotonic logic proposed by Raymond Reiter to formalize reasoning with default assumptions.\n",
       "\n",
       "Density-based spatial clustering of applications with noise \u001b[1m(\u001b[0mDBSCAN\u001b[1m)\u001b[0m\n",
       "A clustering algorithm proposed by Martin Ester, Hans-Peter Kriegel, Jörg Sander, and Xiaowei Xu in \u001b[1;36m1996\u001b[0m.\n"
      ]
     },
     "metadata": {},
     "output_type": "display_data"
    },
    {
     "data": {
      "text/html": [
       "<pre style=\"white-space:pre;overflow-x:auto;line-height:normal;font-family:Menlo,'DejaVu Sans Mono',consolas,'Courier New',monospace\">description logic <span style=\"font-weight: bold\">(</span>DL<span style=\"font-weight: bold\">)</span>\n",
       "A family of formal knowledge representation languages. Many DLs are more expressive than propositional logic but \n",
       "less expressive than first-order logic. In contrast to the latter, the core reasoning problems for DLs are \n",
       "<span style=\"font-weight: bold\">(</span>usually<span style=\"font-weight: bold\">)</span> decidable, and efficient decision procedures have been designed and implemented for these problems. There\n",
       "are general, spatial, temporal, spatiotemporal, and fuzzy descriptions logics, and each description logic features \n",
       "a different balance between DL expressivity and reasoning complexity by supporting different sets of mathematical \n",
       "constructors.\n",
       "</pre>\n"
      ],
      "text/plain": [
       "description logic \u001b[1m(\u001b[0mDL\u001b[1m)\u001b[0m\n",
       "A family of formal knowledge representation languages. Many DLs are more expressive than propositional logic but \n",
       "less expressive than first-order logic. In contrast to the latter, the core reasoning problems for DLs are \n",
       "\u001b[1m(\u001b[0musually\u001b[1m)\u001b[0m decidable, and efficient decision procedures have been designed and implemented for these problems. There\n",
       "are general, spatial, temporal, spatiotemporal, and fuzzy descriptions logics, and each description logic features \n",
       "a different balance between DL expressivity and reasoning complexity by supporting different sets of mathematical \n",
       "constructors.\n"
      ]
     },
     "metadata": {},
     "output_type": "display_data"
    },
    {
     "data": {
      "text/html": [
       "<pre style=\"white-space:pre;overflow-x:auto;line-height:normal;font-family:Menlo,'DejaVu Sans Mono',consolas,'Courier New',monospace\">developmental robotics <span style=\"font-weight: bold\">(</span>DevRob<span style=\"font-weight: bold\">)</span>\n",
       "Also epigenetic robotics.\n",
       "A scientific field which aims at studying the developmental mechanisms, architectures, and constraints that allow \n",
       "lifelong and open-ended learning of new skills and new knowledge in embodied machines.\n",
       "\n",
       "diagnosis\n",
       "Concerned with the development of algorithms and techniques that are able to determine whether the behaviour of a \n",
       "system is correct. If the system is not functioning correctly, the algorithm should be able to determine, as \n",
       "accurately as possible, which part of the system is failing, and which kind of fault it is facing. The computation \n",
       "is based on observations, which provide information on the current behaviour.\n",
       "</pre>\n"
      ],
      "text/plain": [
       "developmental robotics \u001b[1m(\u001b[0mDevRob\u001b[1m)\u001b[0m\n",
       "Also epigenetic robotics.\n",
       "A scientific field which aims at studying the developmental mechanisms, architectures, and constraints that allow \n",
       "lifelong and open-ended learning of new skills and new knowledge in embodied machines.\n",
       "\n",
       "diagnosis\n",
       "Concerned with the development of algorithms and techniques that are able to determine whether the behaviour of a \n",
       "system is correct. If the system is not functioning correctly, the algorithm should be able to determine, as \n",
       "accurately as possible, which part of the system is failing, and which kind of fault it is facing. The computation \n",
       "is based on observations, which provide information on the current behaviour.\n"
      ]
     },
     "metadata": {},
     "output_type": "display_data"
    },
    {
     "data": {
      "text/html": [
       "<pre style=\"white-space:pre;overflow-x:auto;line-height:normal;font-family:Menlo,'DejaVu Sans Mono',consolas,'Courier New',monospace\">dialogue system\n",
       "Also conversational agent <span style=\"font-weight: bold\">(</span>CA<span style=\"font-weight: bold\">)</span>.\n",
       "A computer system intended to converse with a human with a coherent structure. Dialogue systems have employed text,\n",
       "speech, graphics, haptics, gestures, and other modes for communication on both the input and output channel.\n",
       "\n",
       "diffusion model\n",
       "In machine learning, diffusion models, also known as diffusion probabilistic models or score-based generative \n",
       "models, are a class of latent variable models. They are Markov chains trained using variational inference.\n",
       "</pre>\n"
      ],
      "text/plain": [
       "dialogue system\n",
       "Also conversational agent \u001b[1m(\u001b[0mCA\u001b[1m)\u001b[0m.\n",
       "A computer system intended to converse with a human with a coherent structure. Dialogue systems have employed text,\n",
       "speech, graphics, haptics, gestures, and other modes for communication on both the input and output channel.\n",
       "\n",
       "diffusion model\n",
       "In machine learning, diffusion models, also known as diffusion probabilistic models or score-based generative \n",
       "models, are a class of latent variable models. They are Markov chains trained using variational inference.\n"
      ]
     },
     "metadata": {},
     "output_type": "display_data"
    },
    {
     "data": {
      "text/html": [
       "<pre style=\"white-space:pre;overflow-x:auto;line-height:normal;font-family:Menlo,'DejaVu Sans Mono',consolas,'Courier New',monospace\">They are Markov chains trained using variational inference. The goal of diffusion models is to learn the latent \n",
       "structure of a dataset by modeling the way in which data points diffuse through the latent space. In computer \n",
       "vision, this means that a neural network is trained to denoise images blurred with Gaussian noise by learning to \n",
       "reverse the diffusion process. It mainly consists of three major components: the forward process, the reverse \n",
       "process, and the sampling procedure. Three examples of generic diffusion modeling frameworks used in computer \n",
       "vision are denoising diffusion probabilistic models, noise conditioned score networks, and stochastic differential \n",
       "equations.\n",
       "</pre>\n"
      ],
      "text/plain": [
       "They are Markov chains trained using variational inference. The goal of diffusion models is to learn the latent \n",
       "structure of a dataset by modeling the way in which data points diffuse through the latent space. In computer \n",
       "vision, this means that a neural network is trained to denoise images blurred with Gaussian noise by learning to \n",
       "reverse the diffusion process. It mainly consists of three major components: the forward process, the reverse \n",
       "process, and the sampling procedure. Three examples of generic diffusion modeling frameworks used in computer \n",
       "vision are denoising diffusion probabilistic models, noise conditioned score networks, and stochastic differential \n",
       "equations.\n"
      ]
     },
     "metadata": {},
     "output_type": "display_data"
    },
    {
     "data": {
      "text/html": [
       "<pre style=\"white-space:pre;overflow-x:auto;line-height:normal;font-family:Menlo,'DejaVu Sans Mono',consolas,'Courier New',monospace\">Dijkstra's algorithm\n",
       "An algorithm for finding the shortest paths between nodes in a weighted graph, which may represent, for example, \n",
       "road networks.\n",
       "\n",
       "dimensionality reduction\n",
       "Also dimension reduction. \n",
       "The process of reducing the number of random variables under consideration by obtaining a set of principal \n",
       "variables. It can be divided into feature selection and feature extraction.\n",
       "\n",
       "discrete system\n",
       "Any system with a countable number of states. Discrete systems may be contrasted with continuous systems, which may\n",
       "also be called analog systems.\n",
       "</pre>\n"
      ],
      "text/plain": [
       "Dijkstra's algorithm\n",
       "An algorithm for finding the shortest paths between nodes in a weighted graph, which may represent, for example, \n",
       "road networks.\n",
       "\n",
       "dimensionality reduction\n",
       "Also dimension reduction. \n",
       "The process of reducing the number of random variables under consideration by obtaining a set of principal \n",
       "variables. It can be divided into feature selection and feature extraction.\n",
       "\n",
       "discrete system\n",
       "Any system with a countable number of states. Discrete systems may be contrasted with continuous systems, which may\n",
       "also be called analog systems.\n"
      ]
     },
     "metadata": {},
     "output_type": "display_data"
    },
    {
     "data": {
      "text/html": [
       "<pre style=\"white-space:pre;overflow-x:auto;line-height:normal;font-family:Menlo,'DejaVu Sans Mono',consolas,'Courier New',monospace\">Discrete systems may be contrasted with continuous systems, which may also be called analog systems. A final \n",
       "discrete system is often modeled with a directed graph and is analyzed for correctness and complexity according to \n",
       "computational theory. Because discrete systems have a countable number of states, they may be described in precise \n",
       "mathematical models. A computer is a finite state machine that may be viewed as a discrete system. Because \n",
       "computers are often used to model not only other discrete systems but continuous systems as well, methods have been\n",
       "developed to represent real-world continuous systems as discrete systems. One such method involves sampling a \n",
       "continuous signal at discrete time intervals.\n",
       "</pre>\n"
      ],
      "text/plain": [
       "Discrete systems may be contrasted with continuous systems, which may also be called analog systems. A final \n",
       "discrete system is often modeled with a directed graph and is analyzed for correctness and complexity according to \n",
       "computational theory. Because discrete systems have a countable number of states, they may be described in precise \n",
       "mathematical models. A computer is a finite state machine that may be viewed as a discrete system. Because \n",
       "computers are often used to model not only other discrete systems but continuous systems as well, methods have been\n",
       "developed to represent real-world continuous systems as discrete systems. One such method involves sampling a \n",
       "continuous signal at discrete time intervals.\n"
      ]
     },
     "metadata": {},
     "output_type": "display_data"
    },
    {
     "data": {
      "text/html": [
       "<pre style=\"white-space:pre;overflow-x:auto;line-height:normal;font-family:Menlo,'DejaVu Sans Mono',consolas,'Courier New',monospace\">One such method involves sampling a continuous signal at discrete time intervals.\n",
       "\n",
       "distributed artificial intelligence <span style=\"font-weight: bold\">(</span>DAI<span style=\"font-weight: bold\">)</span>\n",
       "Also decentralized artificial intelligence.\n",
       "A subfield of artificial intelligence research dedicated to the development of distributed solutions for problems. \n",
       "DAI is closely related to and a predecessor of the field of multi-agent systems.\n",
       "\n",
       "dropout\n",
       "Also dilution.\n",
       "A regularization technique for reducing overfitting in artificial neural networks by preventing complex \n",
       "co-adaptations on training data.\n",
       "\n",
       "dynamic epistemic logic <span style=\"font-weight: bold\">(</span>DEL<span style=\"font-weight: bold\">)</span>\n",
       "A logical framework dealing with knowledge and information change. Typically, DEL focuses on situations involving \n",
       "multiple agents and studies how their knowledge changes when events occur.\n",
       "</pre>\n"
      ],
      "text/plain": [
       "One such method involves sampling a continuous signal at discrete time intervals.\n",
       "\n",
       "distributed artificial intelligence \u001b[1m(\u001b[0mDAI\u001b[1m)\u001b[0m\n",
       "Also decentralized artificial intelligence.\n",
       "A subfield of artificial intelligence research dedicated to the development of distributed solutions for problems. \n",
       "DAI is closely related to and a predecessor of the field of multi-agent systems.\n",
       "\n",
       "dropout\n",
       "Also dilution.\n",
       "A regularization technique for reducing overfitting in artificial neural networks by preventing complex \n",
       "co-adaptations on training data.\n",
       "\n",
       "dynamic epistemic logic \u001b[1m(\u001b[0mDEL\u001b[1m)\u001b[0m\n",
       "A logical framework dealing with knowledge and information change. Typically, DEL focuses on situations involving \n",
       "multiple agents and studies how their knowledge changes when events occur.\n"
      ]
     },
     "metadata": {},
     "output_type": "display_data"
    },
    {
     "data": {
      "text/html": [
       "<pre style=\"white-space:pre;overflow-x:auto;line-height:normal;font-family:Menlo,'DejaVu Sans Mono',consolas,'Courier New',monospace\">== E ==\n",
       "\n",
       "eager learning\n",
       "A learning method in which the system tries to construct a general, input-independent target function during \n",
       "training of the system, as opposed to lazy learning, where generalization beyond the training data is delayed until\n",
       "a query is made to the system.\n",
       "\n",
       "early stopping\n",
       "A regularization technique often used when training a machine learning model with an iterative method such as \n",
       "gradient descent.\n",
       "</pre>\n"
      ],
      "text/plain": [
       "== E ==\n",
       "\n",
       "eager learning\n",
       "A learning method in which the system tries to construct a general, input-independent target function during \n",
       "training of the system, as opposed to lazy learning, where generalization beyond the training data is delayed until\n",
       "a query is made to the system.\n",
       "\n",
       "early stopping\n",
       "A regularization technique often used when training a machine learning model with an iterative method such as \n",
       "gradient descent.\n"
      ]
     },
     "metadata": {},
     "output_type": "display_data"
    },
    {
     "data": {
      "text/html": [
       "<pre style=\"white-space:pre;overflow-x:auto;line-height:normal;font-family:Menlo,'DejaVu Sans Mono',consolas,'Courier New',monospace\">Ebert test\n",
       "A test which gauges whether a computer-based synthesized voice can tell a joke with sufficient skill to cause \n",
       "people to laugh. It was proposed by film critic Roger Ebert at the <span style=\"color: #008080; text-decoration-color: #008080; font-weight: bold\">2011</span> TED conference as a challenge to software \n",
       "developers to have a computerized voice master the inflections, delivery, timing, and intonations of a speaking \n",
       "human. The test is similar to the Turing test proposed by Alan Turing in <span style=\"color: #008080; text-decoration-color: #008080; font-weight: bold\">1950</span> as a way to gauge a computer's \n",
       "ability to exhibit intelligent behavior by generating performance indistinguishable from a human being.\n",
       "</pre>\n"
      ],
      "text/plain": [
       "Ebert test\n",
       "A test which gauges whether a computer-based synthesized voice can tell a joke with sufficient skill to cause \n",
       "people to laugh. It was proposed by film critic Roger Ebert at the \u001b[1;36m2011\u001b[0m TED conference as a challenge to software \n",
       "developers to have a computerized voice master the inflections, delivery, timing, and intonations of a speaking \n",
       "human. The test is similar to the Turing test proposed by Alan Turing in \u001b[1;36m1950\u001b[0m as a way to gauge a computer's \n",
       "ability to exhibit intelligent behavior by generating performance indistinguishable from a human being.\n"
      ]
     },
     "metadata": {},
     "output_type": "display_data"
    },
    {
     "data": {
      "text/html": [
       "<pre style=\"white-space:pre;overflow-x:auto;line-height:normal;font-family:Menlo,'DejaVu Sans Mono',consolas,'Courier New',monospace\">echo state network <span style=\"font-weight: bold\">(</span>ESN<span style=\"font-weight: bold\">)</span>\n",
       "A recurrent neural network with a sparsely connected hidden layer <span style=\"font-weight: bold\">(</span>with typically <span style=\"color: #008080; text-decoration-color: #008080; font-weight: bold\">1</span>% connectivity<span style=\"font-weight: bold\">)</span>. The \n",
       "connectivity and weights of hidden neurons are fixed and randomly assigned. The weights of output neurons can be \n",
       "learned so that the network can <span style=\"font-weight: bold\">(</span>re<span style=\"font-weight: bold\">)</span>produce specific temporal patterns. The main interest of this network is that \n",
       "although its behaviour is non-linear, the only weights that are modified during training are for the synapses that \n",
       "connect the hidden neurons to output neurons. Thus, the error function is quadratic with respect to the parameter \n",
       "vector and can be differentiated easily to a linear system.\n",
       "</pre>\n"
      ],
      "text/plain": [
       "echo state network \u001b[1m(\u001b[0mESN\u001b[1m)\u001b[0m\n",
       "A recurrent neural network with a sparsely connected hidden layer \u001b[1m(\u001b[0mwith typically \u001b[1;36m1\u001b[0m% connectivity\u001b[1m)\u001b[0m. The \n",
       "connectivity and weights of hidden neurons are fixed and randomly assigned. The weights of output neurons can be \n",
       "learned so that the network can \u001b[1m(\u001b[0mre\u001b[1m)\u001b[0mproduce specific temporal patterns. The main interest of this network is that \n",
       "although its behaviour is non-linear, the only weights that are modified during training are for the synapses that \n",
       "connect the hidden neurons to output neurons. Thus, the error function is quadratic with respect to the parameter \n",
       "vector and can be differentiated easily to a linear system.\n"
      ]
     },
     "metadata": {},
     "output_type": "display_data"
    },
    {
     "data": {
      "text/html": [
       "<pre style=\"white-space:pre;overflow-x:auto;line-height:normal;font-family:Menlo,'DejaVu Sans Mono',consolas,'Courier New',monospace\">embodied agent\n",
       "Also interface agent.\n",
       "An intelligent agent that interacts with the environment through a physical body within that environment. Agents \n",
       "that are represented graphically with a body, for example a human or a cartoon animal, are also called embodied \n",
       "agents, although they have only virtual, not physical, embodiment.\n",
       "</pre>\n"
      ],
      "text/plain": [
       "embodied agent\n",
       "Also interface agent.\n",
       "An intelligent agent that interacts with the environment through a physical body within that environment. Agents \n",
       "that are represented graphically with a body, for example a human or a cartoon animal, are also called embodied \n",
       "agents, although they have only virtual, not physical, embodiment.\n"
      ]
     },
     "metadata": {},
     "output_type": "display_data"
    },
    {
     "data": {
      "text/html": [
       "<pre style=\"white-space:pre;overflow-x:auto;line-height:normal;font-family:Menlo,'DejaVu Sans Mono',consolas,'Courier New',monospace\">embodied cognitive science\n",
       "An interdisciplinary field of research, the aim of which is to explain the mechanisms underlying intelligent \n",
       "behavior. It comprises three main methodologies: <span style=\"color: #008080; text-decoration-color: #008080; font-weight: bold\">1</span><span style=\"font-weight: bold\">)</span> the modeling of psychological and biological systems in a \n",
       "holistic manner that considers the mind and body as a single entity, <span style=\"color: #008080; text-decoration-color: #008080; font-weight: bold\">2</span><span style=\"font-weight: bold\">)</span> the formation of a common set of general \n",
       "principles of intelligent behavior, and <span style=\"color: #008080; text-decoration-color: #008080; font-weight: bold\">3</span><span style=\"font-weight: bold\">)</span> the experimental use of robotic agents in controlled environments.\n",
       "\n",
       "error-driven learning\n",
       "A sub-area of machine learning concerned with how an agent ought to take actions in an environment so as to \n",
       "minimize some error feedback. It is a type of reinforcement learning.\n",
       "</pre>\n"
      ],
      "text/plain": [
       "embodied cognitive science\n",
       "An interdisciplinary field of research, the aim of which is to explain the mechanisms underlying intelligent \n",
       "behavior. It comprises three main methodologies: \u001b[1;36m1\u001b[0m\u001b[1m)\u001b[0m the modeling of psychological and biological systems in a \n",
       "holistic manner that considers the mind and body as a single entity, \u001b[1;36m2\u001b[0m\u001b[1m)\u001b[0m the formation of a common set of general \n",
       "principles of intelligent behavior, and \u001b[1;36m3\u001b[0m\u001b[1m)\u001b[0m the experimental use of robotic agents in controlled environments.\n",
       "\n",
       "error-driven learning\n",
       "A sub-area of machine learning concerned with how an agent ought to take actions in an environment so as to \n",
       "minimize some error feedback. It is a type of reinforcement learning.\n"
      ]
     },
     "metadata": {},
     "output_type": "display_data"
    },
    {
     "data": {
      "text/html": [
       "<pre style=\"white-space:pre;overflow-x:auto;line-height:normal;font-family:Menlo,'DejaVu Sans Mono',consolas,'Courier New',monospace\">ensemble learning\n",
       "The use of multiple machine learning algorithms to obtain better predictive performance than could be obtained from\n",
       "any of the constituent learning algorithms alone.\n",
       "\n",
       "epoch\n",
       "In machine learning, particularly in the creation of artificial neural networks, an epoch is training the model for\n",
       "one cycle through the full training dataset. Small models are typically trained for as many epochs as it takes to \n",
       "reach the best performance on the validation dataset. The largest models may train for only one epoch.\n",
       "\n",
       "ethics of artificial intelligence\n",
       "The part of the ethics of technology specific to artificial intelligence.\n",
       "</pre>\n"
      ],
      "text/plain": [
       "ensemble learning\n",
       "The use of multiple machine learning algorithms to obtain better predictive performance than could be obtained from\n",
       "any of the constituent learning algorithms alone.\n",
       "\n",
       "epoch\n",
       "In machine learning, particularly in the creation of artificial neural networks, an epoch is training the model for\n",
       "one cycle through the full training dataset. Small models are typically trained for as many epochs as it takes to \n",
       "reach the best performance on the validation dataset. The largest models may train for only one epoch.\n",
       "\n",
       "ethics of artificial intelligence\n",
       "The part of the ethics of technology specific to artificial intelligence.\n"
      ]
     },
     "metadata": {},
     "output_type": "display_data"
    },
    {
     "data": {
      "text/html": [
       "<pre style=\"white-space:pre;overflow-x:auto;line-height:normal;font-family:Menlo,'DejaVu Sans Mono',consolas,'Courier New',monospace\">ethics of artificial intelligence\n",
       "The part of the ethics of technology specific to artificial intelligence.\n",
       "\n",
       "evolutionary algorithm <span style=\"font-weight: bold\">(</span>EA<span style=\"font-weight: bold\">)</span>\n",
       "A subset of evolutionary computation, a generic population-based metaheuristic optimization algorithm. An EA uses \n",
       "mechanisms inspired by biological evolution, such as reproduction, mutation, recombination, and selection. \n",
       "Candidate solutions to the optimization problem play the role of individuals in a population, and the fitness \n",
       "function determines the quality of the solutions <span style=\"font-weight: bold\">(</span>see also loss function<span style=\"font-weight: bold\">)</span>. Evolution of the population then takes \n",
       "place after the repeated application of the above operators.\n",
       "</pre>\n"
      ],
      "text/plain": [
       "ethics of artificial intelligence\n",
       "The part of the ethics of technology specific to artificial intelligence.\n",
       "\n",
       "evolutionary algorithm \u001b[1m(\u001b[0mEA\u001b[1m)\u001b[0m\n",
       "A subset of evolutionary computation, a generic population-based metaheuristic optimization algorithm. An EA uses \n",
       "mechanisms inspired by biological evolution, such as reproduction, mutation, recombination, and selection. \n",
       "Candidate solutions to the optimization problem play the role of individuals in a population, and the fitness \n",
       "function determines the quality of the solutions \u001b[1m(\u001b[0msee also loss function\u001b[1m)\u001b[0m. Evolution of the population then takes \n",
       "place after the repeated application of the above operators.\n"
      ]
     },
     "metadata": {},
     "output_type": "display_data"
    },
    {
     "data": {
      "text/html": [
       "<pre style=\"white-space:pre;overflow-x:auto;line-height:normal;font-family:Menlo,'DejaVu Sans Mono',consolas,'Courier New',monospace\">evolutionary computation\n",
       "A family of algorithms for global optimization inspired by biological evolution, and the subfield of artificial \n",
       "intelligence and soft computing studying these algorithms. In technical terms, they are a family of \n",
       "population-based trial and error problem solvers with a metaheuristic or stochastic optimization character.\n",
       "\n",
       "evolving classification function <span style=\"font-weight: bold\">(</span>ECF<span style=\"font-weight: bold\">)</span>\n",
       "Evolving classification functions are used for classifying and clustering in the field of machine learning and \n",
       "artificial intelligence, typically employed for data stream mining tasks in dynamic and changing environments.\n",
       "</pre>\n"
      ],
      "text/plain": [
       "evolutionary computation\n",
       "A family of algorithms for global optimization inspired by biological evolution, and the subfield of artificial \n",
       "intelligence and soft computing studying these algorithms. In technical terms, they are a family of \n",
       "population-based trial and error problem solvers with a metaheuristic or stochastic optimization character.\n",
       "\n",
       "evolving classification function \u001b[1m(\u001b[0mECF\u001b[1m)\u001b[0m\n",
       "Evolving classification functions are used for classifying and clustering in the field of machine learning and \n",
       "artificial intelligence, typically employed for data stream mining tasks in dynamic and changing environments.\n"
      ]
     },
     "metadata": {},
     "output_type": "display_data"
    },
    {
     "data": {
      "text/html": [
       "<pre style=\"white-space:pre;overflow-x:auto;line-height:normal;font-family:Menlo,'DejaVu Sans Mono',consolas,'Courier New',monospace\">existential risk\n",
       "The hypothesis that substantial progress in artificial general intelligence <span style=\"font-weight: bold\">(</span>AGI<span style=\"font-weight: bold\">)</span> could someday result in human \n",
       "extinction or some other unrecoverable global catastrophe.\n",
       "\n",
       "expert system\n",
       "A computer system that emulates the decision-making ability of a human expert. Expert systems are designed to solve\n",
       "complex problems by reasoning through bodies of knowledge, represented mainly as if–then rules rather than through \n",
       "conventional procedural code.\n",
       "\n",
       "\n",
       "== F ==\n",
       "</pre>\n"
      ],
      "text/plain": [
       "existential risk\n",
       "The hypothesis that substantial progress in artificial general intelligence \u001b[1m(\u001b[0mAGI\u001b[1m)\u001b[0m could someday result in human \n",
       "extinction or some other unrecoverable global catastrophe.\n",
       "\n",
       "expert system\n",
       "A computer system that emulates the decision-making ability of a human expert. Expert systems are designed to solve\n",
       "complex problems by reasoning through bodies of knowledge, represented mainly as if–then rules rather than through \n",
       "conventional procedural code.\n",
       "\n",
       "\n",
       "== F ==\n"
      ]
     },
     "metadata": {},
     "output_type": "display_data"
    },
    {
     "data": {
      "text/html": [
       "<pre style=\"white-space:pre;overflow-x:auto;line-height:normal;font-family:Menlo,'DejaVu Sans Mono',consolas,'Courier New',monospace\">== F ==\n",
       "\n",
       "fast-and-frugal trees\n",
       "A type of classification tree. Fast-and-frugal trees can be used as decision-making tools which operate as \n",
       "lexicographic classifiers, and, if required, associate an action <span style=\"font-weight: bold\">(</span>decision<span style=\"font-weight: bold\">)</span> to each class or category.\n",
       "</pre>\n"
      ],
      "text/plain": [
       "== F ==\n",
       "\n",
       "fast-and-frugal trees\n",
       "A type of classification tree. Fast-and-frugal trees can be used as decision-making tools which operate as \n",
       "lexicographic classifiers, and, if required, associate an action \u001b[1m(\u001b[0mdecision\u001b[1m)\u001b[0m to each class or category.\n"
      ]
     },
     "metadata": {},
     "output_type": "display_data"
    },
    {
     "data": {
      "text/html": [
       "<pre style=\"white-space:pre;overflow-x:auto;line-height:normal;font-family:Menlo,'DejaVu Sans Mono',consolas,'Courier New',monospace\">feature\n",
       "An individual measurable property or characteristic of a phenomenon. In computer vision and image processing, a \n",
       "feature is a piece of information about the content of an image; typically about whether a certain region of the \n",
       "image has certain properties. Features may be specific structures in an image <span style=\"font-weight: bold\">(</span>such as points, edges, or objects<span style=\"font-weight: bold\">)</span>, \n",
       "or the result of a general neighborhood operation or feature detection applied to the image.\n",
       "</pre>\n"
      ],
      "text/plain": [
       "feature\n",
       "An individual measurable property or characteristic of a phenomenon. In computer vision and image processing, a \n",
       "feature is a piece of information about the content of an image; typically about whether a certain region of the \n",
       "image has certain properties. Features may be specific structures in an image \u001b[1m(\u001b[0msuch as points, edges, or objects\u001b[1m)\u001b[0m, \n",
       "or the result of a general neighborhood operation or feature detection applied to the image.\n"
      ]
     },
     "metadata": {},
     "output_type": "display_data"
    },
    {
     "data": {
      "text/html": [
       "<pre style=\"white-space:pre;overflow-x:auto;line-height:normal;font-family:Menlo,'DejaVu Sans Mono',consolas,'Courier New',monospace\">feature extraction\n",
       "In machine learning, pattern recognition, and image processing, feature extraction starts from an initial set of \n",
       "measured data and builds derived values <span style=\"font-weight: bold\">(</span>features<span style=\"font-weight: bold\">)</span> intended to be informative and non-redundant, facilitating the \n",
       "subsequent learning and generalization steps, and in some cases leading to better human interpretations.\n",
       "\n",
       "feature learning\n",
       "In machine learning, feature learning or representation learning is a set of techniques that allows a system to \n",
       "automatically discover the representations needed for feature detection or classification from raw data. This \n",
       "replaces manual feature engineering and allows a machine to both learn the features and use them to perform a \n",
       "specific task.\n",
       "</pre>\n"
      ],
      "text/plain": [
       "feature extraction\n",
       "In machine learning, pattern recognition, and image processing, feature extraction starts from an initial set of \n",
       "measured data and builds derived values \u001b[1m(\u001b[0mfeatures\u001b[1m)\u001b[0m intended to be informative and non-redundant, facilitating the \n",
       "subsequent learning and generalization steps, and in some cases leading to better human interpretations.\n",
       "\n",
       "feature learning\n",
       "In machine learning, feature learning or representation learning is a set of techniques that allows a system to \n",
       "automatically discover the representations needed for feature detection or classification from raw data. This \n",
       "replaces manual feature engineering and allows a machine to both learn the features and use them to perform a \n",
       "specific task.\n"
      ]
     },
     "metadata": {},
     "output_type": "display_data"
    },
    {
     "data": {
      "text/html": [
       "<pre style=\"white-space:pre;overflow-x:auto;line-height:normal;font-family:Menlo,'DejaVu Sans Mono',consolas,'Courier New',monospace\">feature selection\n",
       "In machine learning and statistics, feature selection, also known as variable selection, attribute selection or \n",
       "variable subset selection, is the process of selecting a subset of relevant features <span style=\"font-weight: bold\">(</span>variables, predictors<span style=\"font-weight: bold\">)</span> for \n",
       "use in model construction.\n",
       "\n",
       "federated learning\n",
       "A type of machine learning that allows for training on multiple devices with decentralized data, thus helping \n",
       "preserve the privacy of individual users and their data.\n",
       "</pre>\n"
      ],
      "text/plain": [
       "feature selection\n",
       "In machine learning and statistics, feature selection, also known as variable selection, attribute selection or \n",
       "variable subset selection, is the process of selecting a subset of relevant features \u001b[1m(\u001b[0mvariables, predictors\u001b[1m)\u001b[0m for \n",
       "use in model construction.\n",
       "\n",
       "federated learning\n",
       "A type of machine learning that allows for training on multiple devices with decentralized data, thus helping \n",
       "preserve the privacy of individual users and their data.\n"
      ]
     },
     "metadata": {},
     "output_type": "display_data"
    },
    {
     "data": {
      "text/html": [
       "<pre style=\"white-space:pre;overflow-x:auto;line-height:normal;font-family:Menlo,'DejaVu Sans Mono',consolas,'Courier New',monospace\">first-order logic\n",
       "Also first-order predicate calculus or predicate logic.\n",
       "A collection of formal systems used in mathematics, philosophy, linguistics, and computer science. First-order \n",
       "logic uses quantified variables over non-logical objects and allows the use of sentences that contain variables, so\n",
       "that rather than propositions such as Socrates is a man one can have expressions in the form <span style=\"color: #008000; text-decoration-color: #008000\">\"there exists X such </span>\n",
       "<span style=\"color: #008000; text-decoration-color: #008000\">that X is Socrates and X is a man\"</span> and there exists is a quantifier while X is a variable. This distinguishes it \n",
       "from propositional logic, which does not use quantifiers or relations.\n",
       "</pre>\n"
      ],
      "text/plain": [
       "first-order logic\n",
       "Also first-order predicate calculus or predicate logic.\n",
       "A collection of formal systems used in mathematics, philosophy, linguistics, and computer science. First-order \n",
       "logic uses quantified variables over non-logical objects and allows the use of sentences that contain variables, so\n",
       "that rather than propositions such as Socrates is a man one can have expressions in the form \u001b[32m\"there exists X such \u001b[0m\n",
       "\u001b[32mthat X is Socrates and X is a man\"\u001b[0m and there exists is a quantifier while X is a variable. This distinguishes it \n",
       "from propositional logic, which does not use quantifiers or relations.\n"
      ]
     },
     "metadata": {},
     "output_type": "display_data"
    },
    {
     "data": {
      "text/html": [
       "<pre style=\"white-space:pre;overflow-x:auto;line-height:normal;font-family:Menlo,'DejaVu Sans Mono',consolas,'Courier New',monospace\">fluent\n",
       "A condition that can change over time. In logical approaches to reasoning about actions, fluents can be represented\n",
       "in first-order logic by predicates having an argument that depends on time.\n",
       "\n",
       "formal language\n",
       "A set of words whose letters are taken from an alphabet and are well-formed according to a specific set of rules.\n",
       "\n",
       "forward chaining\n",
       "Also forward reasoning. \n",
       "One of the two main methods of reasoning when using an inference engine and can be described logically as repeated \n",
       "application of modus ponens. Forward chaining is a popular implementation strategy for expert systems, businesses \n",
       "and production rule systems.\n",
       "</pre>\n"
      ],
      "text/plain": [
       "fluent\n",
       "A condition that can change over time. In logical approaches to reasoning about actions, fluents can be represented\n",
       "in first-order logic by predicates having an argument that depends on time.\n",
       "\n",
       "formal language\n",
       "A set of words whose letters are taken from an alphabet and are well-formed according to a specific set of rules.\n",
       "\n",
       "forward chaining\n",
       "Also forward reasoning. \n",
       "One of the two main methods of reasoning when using an inference engine and can be described logically as repeated \n",
       "application of modus ponens. Forward chaining is a popular implementation strategy for expert systems, businesses \n",
       "and production rule systems.\n"
      ]
     },
     "metadata": {},
     "output_type": "display_data"
    },
    {
     "data": {
      "text/html": [
       "<pre style=\"white-space:pre;overflow-x:auto;line-height:normal;font-family:Menlo,'DejaVu Sans Mono',consolas,'Courier New',monospace\">Forward chaining is a popular implementation strategy for expert systems, businesses and production rule systems. \n",
       "The opposite of forward chaining is backward chaining.  Forward chaining starts with the available data and uses \n",
       "inference rules to extract more data <span style=\"font-weight: bold\">(</span>from an end user, for example<span style=\"font-weight: bold\">)</span> until a goal is reached. An inference engine \n",
       "using forward chaining searches the inference rules until it finds one where the antecedent <span style=\"font-weight: bold\">(</span>If clause<span style=\"font-weight: bold\">)</span> is known to\n",
       "be true. When such a rule is found, the engine can conclude, or infer, the consequent <span style=\"font-weight: bold\">(</span>Then clause<span style=\"font-weight: bold\">)</span>, resulting in \n",
       "the addition of new information to its data.\n",
       "</pre>\n"
      ],
      "text/plain": [
       "Forward chaining is a popular implementation strategy for expert systems, businesses and production rule systems. \n",
       "The opposite of forward chaining is backward chaining.  Forward chaining starts with the available data and uses \n",
       "inference rules to extract more data \u001b[1m(\u001b[0mfrom an end user, for example\u001b[1m)\u001b[0m until a goal is reached. An inference engine \n",
       "using forward chaining searches the inference rules until it finds one where the antecedent \u001b[1m(\u001b[0mIf clause\u001b[1m)\u001b[0m is known to\n",
       "be true. When such a rule is found, the engine can conclude, or infer, the consequent \u001b[1m(\u001b[0mThen clause\u001b[1m)\u001b[0m, resulting in \n",
       "the addition of new information to its data.\n"
      ]
     },
     "metadata": {},
     "output_type": "display_data"
    },
    {
     "data": {
      "text/html": [
       "<pre style=\"white-space:pre;overflow-x:auto;line-height:normal;font-family:Menlo,'DejaVu Sans Mono',consolas,'Courier New',monospace\">frame\n",
       "An artificial intelligence data structure used to divide knowledge into substructures by representing <span style=\"color: #008000; text-decoration-color: #008000\">\"stereotyped </span>\n",
       "<span style=\"color: #008000; text-decoration-color: #008000\">situations\"</span>. Frames are the primary data structure used in artificial intelligence frame language.\n",
       "</pre>\n"
      ],
      "text/plain": [
       "frame\n",
       "An artificial intelligence data structure used to divide knowledge into substructures by representing \u001b[32m\"stereotyped \u001b[0m\n",
       "\u001b[32msituations\"\u001b[0m. Frames are the primary data structure used in artificial intelligence frame language.\n"
      ]
     },
     "metadata": {},
     "output_type": "display_data"
    },
    {
     "data": {
      "text/html": [
       "<pre style=\"white-space:pre;overflow-x:auto;line-height:normal;font-family:Menlo,'DejaVu Sans Mono',consolas,'Courier New',monospace\">frame language\n",
       "A technology used for knowledge representation in artificial intelligence. Frames are stored as ontologies of sets \n",
       "and subsets of the frame concepts. They are similar to class hierarchies in object-oriented languages although \n",
       "their fundamental design goals are different. Frames are focused on explicit and intuitive representation of \n",
       "knowledge whereas objects focus on encapsulation and information hiding. Frames originated in AI research and \n",
       "objects primarily in software engineering. However, in practice the techniques and capabilities of frame and \n",
       "object-oriented languages overlap significantly.\n",
       "\n",
       "frame problem\n",
       "The problem of finding adequate collections of axioms for a viable description of a robot environment.\n",
       "</pre>\n"
      ],
      "text/plain": [
       "frame language\n",
       "A technology used for knowledge representation in artificial intelligence. Frames are stored as ontologies of sets \n",
       "and subsets of the frame concepts. They are similar to class hierarchies in object-oriented languages although \n",
       "their fundamental design goals are different. Frames are focused on explicit and intuitive representation of \n",
       "knowledge whereas objects focus on encapsulation and information hiding. Frames originated in AI research and \n",
       "objects primarily in software engineering. However, in practice the techniques and capabilities of frame and \n",
       "object-oriented languages overlap significantly.\n",
       "\n",
       "frame problem\n",
       "The problem of finding adequate collections of axioms for a viable description of a robot environment.\n"
      ]
     },
     "metadata": {},
     "output_type": "display_data"
    },
    {
     "data": {
      "text/html": [
       "<pre style=\"white-space:pre;overflow-x:auto;line-height:normal;font-family:Menlo,'DejaVu Sans Mono',consolas,'Courier New',monospace\">friendly artificial intelligence\n",
       "Also friendly AI or FAI.\n",
       "A hypothetical artificial general intelligence <span style=\"font-weight: bold\">(</span>AGI<span style=\"font-weight: bold\">)</span> that would have a positive effect on humanity. It is a part of\n",
       "the ethics of artificial intelligence and is closely related to machine ethics. While machine ethics is concerned \n",
       "with how an artificially intelligent agent should behave, friendly artificial intelligence research is focused on \n",
       "how to practically bring about this behaviour and ensuring it is adequately constrained.\n",
       "\n",
       "futures studies\n",
       "The study of postulating possible, probable, and preferable futures and the worldviews and myths that underlie \n",
       "them.\n",
       "</pre>\n"
      ],
      "text/plain": [
       "friendly artificial intelligence\n",
       "Also friendly AI or FAI.\n",
       "A hypothetical artificial general intelligence \u001b[1m(\u001b[0mAGI\u001b[1m)\u001b[0m that would have a positive effect on humanity. It is a part of\n",
       "the ethics of artificial intelligence and is closely related to machine ethics. While machine ethics is concerned \n",
       "with how an artificially intelligent agent should behave, friendly artificial intelligence research is focused on \n",
       "how to practically bring about this behaviour and ensuring it is adequately constrained.\n",
       "\n",
       "futures studies\n",
       "The study of postulating possible, probable, and preferable futures and the worldviews and myths that underlie \n",
       "them.\n"
      ]
     },
     "metadata": {},
     "output_type": "display_data"
    },
    {
     "data": {
      "text/html": [
       "<pre style=\"white-space:pre;overflow-x:auto;line-height:normal;font-family:Menlo,'DejaVu Sans Mono',consolas,'Courier New',monospace\">fuzzy control system\n",
       "A control system based on fuzzy logic—a mathematical system that analyzes analog input values in terms of logical \n",
       "variables that take on continuous values between <span style=\"color: #008080; text-decoration-color: #008080; font-weight: bold\">0</span> and <span style=\"color: #008080; text-decoration-color: #008080; font-weight: bold\">1</span>, in contrast to classical or digital logic, which operates\n",
       "on discrete values of either <span style=\"color: #008080; text-decoration-color: #008080; font-weight: bold\">1</span> or <span style=\"color: #008080; text-decoration-color: #008080; font-weight: bold\">0</span> <span style=\"font-weight: bold\">(</span>true or false, respectively<span style=\"font-weight: bold\">)</span>.\n",
       "</pre>\n"
      ],
      "text/plain": [
       "fuzzy control system\n",
       "A control system based on fuzzy logic—a mathematical system that analyzes analog input values in terms of logical \n",
       "variables that take on continuous values between \u001b[1;36m0\u001b[0m and \u001b[1;36m1\u001b[0m, in contrast to classical or digital logic, which operates\n",
       "on discrete values of either \u001b[1;36m1\u001b[0m or \u001b[1;36m0\u001b[0m \u001b[1m(\u001b[0mtrue or false, respectively\u001b[1m)\u001b[0m.\n"
      ]
     },
     "metadata": {},
     "output_type": "display_data"
    },
    {
     "data": {
      "text/html": [
       "<pre style=\"white-space:pre;overflow-x:auto;line-height:normal;font-family:Menlo,'DejaVu Sans Mono',consolas,'Courier New',monospace\">fuzzy logic\n",
       "A simple form for the many-valued logic, in which the truth values of variables may have any degree of \n",
       "<span style=\"color: #008000; text-decoration-color: #008000\">\"Truthfulness\"</span> that can be represented by any real number in the range between <span style=\"color: #008080; text-decoration-color: #008080; font-weight: bold\">0</span> <span style=\"font-weight: bold\">(</span>as in Completely <span style=\"color: #ff0000; text-decoration-color: #ff0000; font-style: italic\">False</span><span style=\"font-weight: bold\">)</span> and <span style=\"color: #008080; text-decoration-color: #008080; font-weight: bold\">1</span> <span style=\"font-weight: bold\">(</span>as\n",
       "in Completely <span style=\"color: #00ff00; text-decoration-color: #00ff00; font-style: italic\">True</span><span style=\"font-weight: bold\">)</span> inclusive. Consequently, It is employed to handle the concept of partial truth, where the truth\n",
       "value may range between completely true and completely false. In contrast to Boolean logic, where the truth values \n",
       "of variables may have the integer values <span style=\"color: #008080; text-decoration-color: #008080; font-weight: bold\">0</span> or <span style=\"color: #008080; text-decoration-color: #008080; font-weight: bold\">1</span> only.\n",
       "</pre>\n"
      ],
      "text/plain": [
       "fuzzy logic\n",
       "A simple form for the many-valued logic, in which the truth values of variables may have any degree of \n",
       "\u001b[32m\"Truthfulness\"\u001b[0m that can be represented by any real number in the range between \u001b[1;36m0\u001b[0m \u001b[1m(\u001b[0mas in Completely \u001b[3;91mFalse\u001b[0m\u001b[1m)\u001b[0m and \u001b[1;36m1\u001b[0m \u001b[1m(\u001b[0mas\n",
       "in Completely \u001b[3;92mTrue\u001b[0m\u001b[1m)\u001b[0m inclusive. Consequently, It is employed to handle the concept of partial truth, where the truth\n",
       "value may range between completely true and completely false. In contrast to Boolean logic, where the truth values \n",
       "of variables may have the integer values \u001b[1;36m0\u001b[0m or \u001b[1;36m1\u001b[0m only.\n"
      ]
     },
     "metadata": {},
     "output_type": "display_data"
    },
    {
     "data": {
      "text/html": [
       "<pre style=\"white-space:pre;overflow-x:auto;line-height:normal;font-family:Menlo,'DejaVu Sans Mono',consolas,'Courier New',monospace\">fuzzy rule\n",
       "A rule used within fuzzy logic systems to infer an output based on input variables.\n",
       "\n",
       "fuzzy set\n",
       "In classical set theory, the membership of elements in a set is assessed in binary terms according to a bivalent \n",
       "condition — an element either belongs or does not belong to the set. By contrast, fuzzy set theory permits the \n",
       "gradual assessment of the membership of elements in a set; this is described with the aid of a membership function \n",
       "valued in the real unit interval <span style=\"font-weight: bold\">[</span><span style=\"color: #008080; text-decoration-color: #008080; font-weight: bold\">0</span>, <span style=\"color: #008080; text-decoration-color: #008080; font-weight: bold\">1</span><span style=\"font-weight: bold\">]</span>.\n",
       "</pre>\n"
      ],
      "text/plain": [
       "fuzzy rule\n",
       "A rule used within fuzzy logic systems to infer an output based on input variables.\n",
       "\n",
       "fuzzy set\n",
       "In classical set theory, the membership of elements in a set is assessed in binary terms according to a bivalent \n",
       "condition — an element either belongs or does not belong to the set. By contrast, fuzzy set theory permits the \n",
       "gradual assessment of the membership of elements in a set; this is described with the aid of a membership function \n",
       "valued in the real unit interval \u001b[1m[\u001b[0m\u001b[1;36m0\u001b[0m, \u001b[1;36m1\u001b[0m\u001b[1m]\u001b[0m.\n"
      ]
     },
     "metadata": {},
     "output_type": "display_data"
    },
    {
     "data": {
      "text/html": [
       "<pre style=\"white-space:pre;overflow-x:auto;line-height:normal;font-family:Menlo,'DejaVu Sans Mono',consolas,'Courier New',monospace\">Fuzzy sets generalize classical sets, since the indicator functions <span style=\"font-weight: bold\">(</span>aka characteristic functions<span style=\"font-weight: bold\">)</span> of classical \n",
       "sets are special cases of the membership functions of fuzzy sets, if the latter only take values <span style=\"color: #008080; text-decoration-color: #008080; font-weight: bold\">0</span> or <span style=\"color: #008080; text-decoration-color: #008080; font-weight: bold\">1</span>. In fuzzy \n",
       "set theory, classical bivalent sets are usually called crisp sets. The fuzzy set theory can be used in a wide range\n",
       "of domains in which information is incomplete or imprecise, such as bioinformatics.\n",
       "\n",
       "\n",
       "== G ==\n",
       "\n",
       "game theory\n",
       "The study of mathematical models of strategic interaction between rational decision-makers.\n",
       "</pre>\n"
      ],
      "text/plain": [
       "Fuzzy sets generalize classical sets, since the indicator functions \u001b[1m(\u001b[0maka characteristic functions\u001b[1m)\u001b[0m of classical \n",
       "sets are special cases of the membership functions of fuzzy sets, if the latter only take values \u001b[1;36m0\u001b[0m or \u001b[1;36m1\u001b[0m. In fuzzy \n",
       "set theory, classical bivalent sets are usually called crisp sets. The fuzzy set theory can be used in a wide range\n",
       "of domains in which information is incomplete or imprecise, such as bioinformatics.\n",
       "\n",
       "\n",
       "== G ==\n",
       "\n",
       "game theory\n",
       "The study of mathematical models of strategic interaction between rational decision-makers.\n"
      ]
     },
     "metadata": {},
     "output_type": "display_data"
    },
    {
     "data": {
      "text/html": [
       "<pre style=\"white-space:pre;overflow-x:auto;line-height:normal;font-family:Menlo,'DejaVu Sans Mono',consolas,'Courier New',monospace\">game theory\n",
       "The study of mathematical models of strategic interaction between rational decision-makers.\n",
       "\n",
       "general game playing <span style=\"font-weight: bold\">(</span>GGP<span style=\"font-weight: bold\">)</span>\n",
       "General game playing is the design of artificial intelligence programs to be able to run and play more than one \n",
       "game successfully.\n",
       "\n",
       "generative adversarial network <span style=\"font-weight: bold\">(</span>GAN<span style=\"font-weight: bold\">)</span>\n",
       "A class of machine learning systems. Two neural networks contest with each other in a zero-sum game framework.\n",
       "</pre>\n"
      ],
      "text/plain": [
       "game theory\n",
       "The study of mathematical models of strategic interaction between rational decision-makers.\n",
       "\n",
       "general game playing \u001b[1m(\u001b[0mGGP\u001b[1m)\u001b[0m\n",
       "General game playing is the design of artificial intelligence programs to be able to run and play more than one \n",
       "game successfully.\n",
       "\n",
       "generative adversarial network \u001b[1m(\u001b[0mGAN\u001b[1m)\u001b[0m\n",
       "A class of machine learning systems. Two neural networks contest with each other in a zero-sum game framework.\n"
      ]
     },
     "metadata": {},
     "output_type": "display_data"
    },
    {
     "data": {
      "text/html": [
       "<pre style=\"white-space:pre;overflow-x:auto;line-height:normal;font-family:Menlo,'DejaVu Sans Mono',consolas,'Courier New',monospace\">generative artificial intelligence\n",
       "Generative artificial intelligence is artificial intelligence capable of generating text, images, or other media in\n",
       "response to prompts. Generative AI models learn the patterns and structure of their input training data and then \n",
       "generate new data that has similar characteristics, typically using Transformer-based deep neural networks.\n",
       "\n",
       "genetic algorithm <span style=\"font-weight: bold\">(</span>GA<span style=\"font-weight: bold\">)</span>\n",
       "A metaheuristic inspired by the process of natural selection that belongs to the larger class of evolutionary \n",
       "algorithms <span style=\"font-weight: bold\">(</span>EA<span style=\"font-weight: bold\">)</span>. Genetic algorithms are commonly used to generate high-quality solutions to optimization and search\n",
       "problems by relying on bio-inspired operators such as mutation, crossover and selection.\n",
       "</pre>\n"
      ],
      "text/plain": [
       "generative artificial intelligence\n",
       "Generative artificial intelligence is artificial intelligence capable of generating text, images, or other media in\n",
       "response to prompts. Generative AI models learn the patterns and structure of their input training data and then \n",
       "generate new data that has similar characteristics, typically using Transformer-based deep neural networks.\n",
       "\n",
       "genetic algorithm \u001b[1m(\u001b[0mGA\u001b[1m)\u001b[0m\n",
       "A metaheuristic inspired by the process of natural selection that belongs to the larger class of evolutionary \n",
       "algorithms \u001b[1m(\u001b[0mEA\u001b[1m)\u001b[0m. Genetic algorithms are commonly used to generate high-quality solutions to optimization and search\n",
       "problems by relying on bio-inspired operators such as mutation, crossover and selection.\n"
      ]
     },
     "metadata": {},
     "output_type": "display_data"
    },
    {
     "data": {
      "text/html": [
       "<pre style=\"white-space:pre;overflow-x:auto;line-height:normal;font-family:Menlo,'DejaVu Sans Mono',consolas,'Courier New',monospace\">genetic operator\n",
       "An operator used in genetic algorithms to guide the algorithm towards a solution to a given problem. There are \n",
       "three main types of operators <span style=\"font-weight: bold\">(</span>mutation, crossover and selection<span style=\"font-weight: bold\">)</span>, which must work in conjunction with one another \n",
       "in order for the algorithm to be successful.\n",
       "</pre>\n"
      ],
      "text/plain": [
       "genetic operator\n",
       "An operator used in genetic algorithms to guide the algorithm towards a solution to a given problem. There are \n",
       "three main types of operators \u001b[1m(\u001b[0mmutation, crossover and selection\u001b[1m)\u001b[0m, which must work in conjunction with one another \n",
       "in order for the algorithm to be successful.\n"
      ]
     },
     "metadata": {},
     "output_type": "display_data"
    },
    {
     "data": {
      "text/html": [
       "<pre style=\"white-space:pre;overflow-x:auto;line-height:normal;font-family:Menlo,'DejaVu Sans Mono',consolas,'Courier New',monospace\">generative pretrained transformer <span style=\"font-weight: bold\">(</span>GPT<span style=\"font-weight: bold\">)</span>\n",
       "A large language model based on the transformer architecture that generates text. It is first pretrained to predict\n",
       "the next token in texts <span style=\"font-weight: bold\">(</span>a token is typically a word, subword, or punctuation<span style=\"font-weight: bold\">)</span>. After their pretraining, GPT models\n",
       "can generate human-like text by repeatedly predicting the token that they would expect to follow. GPT models are \n",
       "usually also fine-tuned, for example with reinforcement learning from human feedback to reduce hallucination or \n",
       "harmful behaviour, or to format the output in a conversationnal format.\n",
       "</pre>\n"
      ],
      "text/plain": [
       "generative pretrained transformer \u001b[1m(\u001b[0mGPT\u001b[1m)\u001b[0m\n",
       "A large language model based on the transformer architecture that generates text. It is first pretrained to predict\n",
       "the next token in texts \u001b[1m(\u001b[0ma token is typically a word, subword, or punctuation\u001b[1m)\u001b[0m. After their pretraining, GPT models\n",
       "can generate human-like text by repeatedly predicting the token that they would expect to follow. GPT models are \n",
       "usually also fine-tuned, for example with reinforcement learning from human feedback to reduce hallucination or \n",
       "harmful behaviour, or to format the output in a conversationnal format.\n"
      ]
     },
     "metadata": {},
     "output_type": "display_data"
    },
    {
     "data": {
      "text/html": [
       "<pre style=\"white-space:pre;overflow-x:auto;line-height:normal;font-family:Menlo,'DejaVu Sans Mono',consolas,'Courier New',monospace\">glowworm swarm optimization\n",
       "A swarm intelligence optimization algorithm based on the behaviour of glowworms <span style=\"font-weight: bold\">(</span>also known as fireflies or \n",
       "lightning bugs<span style=\"font-weight: bold\">)</span>.\n",
       "\n",
       "gradient boosting\n",
       "A machine learning technique based on boosting in a functional space, where the target is pseudo-residuals instead \n",
       "of residuals as in traditional boosting.\n",
       "\n",
       "graph <span style=\"font-weight: bold\">(</span>abstract data type<span style=\"font-weight: bold\">)</span>\n",
       "In computer science, a graph is an abstract data type that is meant to implement the undirected graph and directed \n",
       "graph concepts from mathematics; specifically, the field of graph theory.\n",
       "</pre>\n"
      ],
      "text/plain": [
       "glowworm swarm optimization\n",
       "A swarm intelligence optimization algorithm based on the behaviour of glowworms \u001b[1m(\u001b[0malso known as fireflies or \n",
       "lightning bugs\u001b[1m)\u001b[0m.\n",
       "\n",
       "gradient boosting\n",
       "A machine learning technique based on boosting in a functional space, where the target is pseudo-residuals instead \n",
       "of residuals as in traditional boosting.\n",
       "\n",
       "graph \u001b[1m(\u001b[0mabstract data type\u001b[1m)\u001b[0m\n",
       "In computer science, a graph is an abstract data type that is meant to implement the undirected graph and directed \n",
       "graph concepts from mathematics; specifically, the field of graph theory.\n"
      ]
     },
     "metadata": {},
     "output_type": "display_data"
    },
    {
     "data": {
      "text/html": [
       "<pre style=\"white-space:pre;overflow-x:auto;line-height:normal;font-family:Menlo,'DejaVu Sans Mono',consolas,'Courier New',monospace\">graph <span style=\"font-weight: bold\">(</span>discrete mathematics<span style=\"font-weight: bold\">)</span>\n",
       "In mathematics, and more specifically in graph theory, a graph is a structure amounting to a set of objects in \n",
       "which some pairs of the objects are in some sense <span style=\"color: #008000; text-decoration-color: #008000\">\"related\"</span>. The objects correspond to mathematical abstractions \n",
       "called vertices <span style=\"font-weight: bold\">(</span>also called nodes or points<span style=\"font-weight: bold\">)</span> and each of the related pairs of vertices is called an edge <span style=\"font-weight: bold\">(</span>also \n",
       "called an arc or line<span style=\"font-weight: bold\">)</span>.\n",
       "\n",
       "graph database <span style=\"font-weight: bold\">(</span>GDB<span style=\"font-weight: bold\">)</span>\n",
       "A database that uses graph structures for semantic queries with nodes, edges, and properties to represent and store\n",
       "data.\n",
       "</pre>\n"
      ],
      "text/plain": [
       "graph \u001b[1m(\u001b[0mdiscrete mathematics\u001b[1m)\u001b[0m\n",
       "In mathematics, and more specifically in graph theory, a graph is a structure amounting to a set of objects in \n",
       "which some pairs of the objects are in some sense \u001b[32m\"related\"\u001b[0m. The objects correspond to mathematical abstractions \n",
       "called vertices \u001b[1m(\u001b[0malso called nodes or points\u001b[1m)\u001b[0m and each of the related pairs of vertices is called an edge \u001b[1m(\u001b[0malso \n",
       "called an arc or line\u001b[1m)\u001b[0m.\n",
       "\n",
       "graph database \u001b[1m(\u001b[0mGDB\u001b[1m)\u001b[0m\n",
       "A database that uses graph structures for semantic queries with nodes, edges, and properties to represent and store\n",
       "data.\n"
      ]
     },
     "metadata": {},
     "output_type": "display_data"
    },
    {
     "data": {
      "text/html": [
       "<pre style=\"white-space:pre;overflow-x:auto;line-height:normal;font-family:Menlo,'DejaVu Sans Mono',consolas,'Courier New',monospace\">A key concept of the system is the graph <span style=\"font-weight: bold\">(</span>or edge or relationship<span style=\"font-weight: bold\">)</span>, which directly relates data items in the store \n",
       "a collection of nodes of data and edges representing the relationships between the nodes. The relationships allow \n",
       "data in the store to be linked together directly, and in many cases retrieved with one operation. Graph databases \n",
       "hold the relationships between data as a priority. Querying relationships within a graph database is fast because \n",
       "they are perpetually stored within the database itself. Relationships can be intuitively visualized using graph \n",
       "databases, making it useful for heavily inter-connected data.\n",
       "</pre>\n"
      ],
      "text/plain": [
       "A key concept of the system is the graph \u001b[1m(\u001b[0mor edge or relationship\u001b[1m)\u001b[0m, which directly relates data items in the store \n",
       "a collection of nodes of data and edges representing the relationships between the nodes. The relationships allow \n",
       "data in the store to be linked together directly, and in many cases retrieved with one operation. Graph databases \n",
       "hold the relationships between data as a priority. Querying relationships within a graph database is fast because \n",
       "they are perpetually stored within the database itself. Relationships can be intuitively visualized using graph \n",
       "databases, making it useful for heavily inter-connected data.\n"
      ]
     },
     "metadata": {},
     "output_type": "display_data"
    },
    {
     "data": {
      "text/html": [
       "<pre style=\"white-space:pre;overflow-x:auto;line-height:normal;font-family:Menlo,'DejaVu Sans Mono',consolas,'Courier New',monospace\">graph theory\n",
       "The study of graphs, which are mathematical structures used to model pairwise relations between objects.\n",
       "\n",
       "graph traversal\n",
       "Also graph search.\n",
       "The process of visiting <span style=\"font-weight: bold\">(</span>checking and/or updating<span style=\"font-weight: bold\">)</span> each vertex in a graph. Such traversals are classified by the \n",
       "order in which the vertices are visited. Tree traversal is a special case of graph traversal.\n",
       "\n",
       "\n",
       "== H ==\n",
       "\n",
       "hallucination\n",
       "A response generated by AI that contains false or misleading information presented as fact.\n",
       "</pre>\n"
      ],
      "text/plain": [
       "graph theory\n",
       "The study of graphs, which are mathematical structures used to model pairwise relations between objects.\n",
       "\n",
       "graph traversal\n",
       "Also graph search.\n",
       "The process of visiting \u001b[1m(\u001b[0mchecking and/or updating\u001b[1m)\u001b[0m each vertex in a graph. Such traversals are classified by the \n",
       "order in which the vertices are visited. Tree traversal is a special case of graph traversal.\n",
       "\n",
       "\n",
       "== H ==\n",
       "\n",
       "hallucination\n",
       "A response generated by AI that contains false or misleading information presented as fact.\n"
      ]
     },
     "metadata": {},
     "output_type": "display_data"
    },
    {
     "data": {
      "text/html": [
       "<pre style=\"white-space:pre;overflow-x:auto;line-height:normal;font-family:Menlo,'DejaVu Sans Mono',consolas,'Courier New',monospace\">hallucination\n",
       "A response generated by AI that contains false or misleading information presented as fact.\n",
       "\n",
       "heuristic\n",
       "A technique designed for solving a problem more quickly when classic methods are too slow, or for finding an \n",
       "approximate solution when classic methods fail to find any exact solution.  This is achieved by trading optimality,\n",
       "completeness, accuracy, or precision for speed.  In a way, it can be considered a shortcut.  A heuristic function, \n",
       "also called simply a heuristic, is a function that ranks alternatives in search algorithms at each branching step \n",
       "based on available information to decide which branch to follow. For example, it may approximate the exact \n",
       "solution.\n",
       "</pre>\n"
      ],
      "text/plain": [
       "hallucination\n",
       "A response generated by AI that contains false or misleading information presented as fact.\n",
       "\n",
       "heuristic\n",
       "A technique designed for solving a problem more quickly when classic methods are too slow, or for finding an \n",
       "approximate solution when classic methods fail to find any exact solution.  This is achieved by trading optimality,\n",
       "completeness, accuracy, or precision for speed.  In a way, it can be considered a shortcut.  A heuristic function, \n",
       "also called simply a heuristic, is a function that ranks alternatives in search algorithms at each branching step \n",
       "based on available information to decide which branch to follow. For example, it may approximate the exact \n",
       "solution.\n"
      ]
     },
     "metadata": {},
     "output_type": "display_data"
    },
    {
     "data": {
      "text/html": [
       "<pre style=\"white-space:pre;overflow-x:auto;line-height:normal;font-family:Menlo,'DejaVu Sans Mono',consolas,'Courier New',monospace\">hidden layer\n",
       "A layer of neurons in an artificial neural network that is neither an input layer nor an output layer.\n",
       "\n",
       "hyper-heuristic\n",
       "A heuristic search method that seeks to automate the process of selecting, combining, generating, or adapting \n",
       "several simpler heuristics <span style=\"font-weight: bold\">(</span>or components of such heuristics<span style=\"font-weight: bold\">)</span> to efficiently solve computational search problems, \n",
       "often by the incorporation of machine learning techniques. One of the motivations for studying hyper-heuristics is \n",
       "to build systems which can handle classes of problems rather than solving just one problem.\n",
       "</pre>\n"
      ],
      "text/plain": [
       "hidden layer\n",
       "A layer of neurons in an artificial neural network that is neither an input layer nor an output layer.\n",
       "\n",
       "hyper-heuristic\n",
       "A heuristic search method that seeks to automate the process of selecting, combining, generating, or adapting \n",
       "several simpler heuristics \u001b[1m(\u001b[0mor components of such heuristics\u001b[1m)\u001b[0m to efficiently solve computational search problems, \n",
       "often by the incorporation of machine learning techniques. One of the motivations for studying hyper-heuristics is \n",
       "to build systems which can handle classes of problems rather than solving just one problem.\n"
      ]
     },
     "metadata": {},
     "output_type": "display_data"
    },
    {
     "data": {
      "text/html": [
       "<pre style=\"white-space:pre;overflow-x:auto;line-height:normal;font-family:Menlo,'DejaVu Sans Mono',consolas,'Courier New',monospace\">hyperparameter\n",
       "A parameter that can be set in order to define any configurable part of a machine learning model's learning \n",
       "process.\n",
       "\n",
       "hyperparameter optimization\n",
       "The process of choosing a set of optimal hyperparameters for a learning algorithm.\n",
       "\n",
       "hyperplane\n",
       "A decision boundary in machine learning classifiers that partitions the input space into two or more sections, with\n",
       "each section corresponding to a unique class label.\n",
       "\n",
       "\n",
       "== I ==\n",
       "</pre>\n"
      ],
      "text/plain": [
       "hyperparameter\n",
       "A parameter that can be set in order to define any configurable part of a machine learning model's learning \n",
       "process.\n",
       "\n",
       "hyperparameter optimization\n",
       "The process of choosing a set of optimal hyperparameters for a learning algorithm.\n",
       "\n",
       "hyperplane\n",
       "A decision boundary in machine learning classifiers that partitions the input space into two or more sections, with\n",
       "each section corresponding to a unique class label.\n",
       "\n",
       "\n",
       "== I ==\n"
      ]
     },
     "metadata": {},
     "output_type": "display_data"
    },
    {
     "data": {
      "text/html": [
       "<pre style=\"white-space:pre;overflow-x:auto;line-height:normal;font-family:Menlo,'DejaVu Sans Mono',consolas,'Courier New',monospace\">== I ==\n",
       "\n",
       "IEEE Computational Intelligence Society\n",
       "A professional society of the Institute of Electrical and Electronics Engineers <span style=\"font-weight: bold\">(</span>IEEE<span style=\"font-weight: bold\">)</span> focussing on <span style=\"color: #008000; text-decoration-color: #008000\">\"the theory, </span>\n",
       "<span style=\"color: #008000; text-decoration-color: #008000\">design, application, and development of biologically and linguistically motivated computational paradigms </span>\n",
       "<span style=\"color: #008000; text-decoration-color: #008000\">emphasizing neural networks, connectionist systems, genetic algorithms, evolutionary programming, fuzzy systems, </span>\n",
       "<span style=\"color: #008000; text-decoration-color: #008000\">and hybrid intelligent systems in which these paradigms are contained\"</span>.\n",
       "</pre>\n"
      ],
      "text/plain": [
       "== I ==\n",
       "\n",
       "IEEE Computational Intelligence Society\n",
       "A professional society of the Institute of Electrical and Electronics Engineers \u001b[1m(\u001b[0mIEEE\u001b[1m)\u001b[0m focussing on \u001b[32m\"the theory, \u001b[0m\n",
       "\u001b[32mdesign, application, and development of biologically and linguistically motivated computational paradigms \u001b[0m\n",
       "\u001b[32memphasizing neural networks, connectionist systems, genetic algorithms, evolutionary programming, fuzzy systems, \u001b[0m\n",
       "\u001b[32mand hybrid intelligent systems in which these paradigms are contained\"\u001b[0m.\n"
      ]
     },
     "metadata": {},
     "output_type": "display_data"
    },
    {
     "data": {
      "text/html": [
       "<pre style=\"white-space:pre;overflow-x:auto;line-height:normal;font-family:Menlo,'DejaVu Sans Mono',consolas,'Courier New',monospace\">incremental learning\n",
       "A method of machine learning, in which input data is continuously used to extend the existing model's knowledge \n",
       "i.e. to further train the model. It represents a dynamic technique of supervised learning and unsupervised learning\n",
       "that can be applied when training data becomes available gradually over time or its size is out of system memory \n",
       "limits. Algorithms that can facilitate incremental learning are known as incremental machine learning algorithms.\n",
       "\n",
       "inference engine\n",
       "A component of the system that applies logical rules to the knowledge base to deduce new information.\n",
       "</pre>\n"
      ],
      "text/plain": [
       "incremental learning\n",
       "A method of machine learning, in which input data is continuously used to extend the existing model's knowledge \n",
       "i.e. to further train the model. It represents a dynamic technique of supervised learning and unsupervised learning\n",
       "that can be applied when training data becomes available gradually over time or its size is out of system memory \n",
       "limits. Algorithms that can facilitate incremental learning are known as incremental machine learning algorithms.\n",
       "\n",
       "inference engine\n",
       "A component of the system that applies logical rules to the knowledge base to deduce new information.\n"
      ]
     },
     "metadata": {},
     "output_type": "display_data"
    },
    {
     "data": {
      "text/html": [
       "<pre style=\"white-space:pre;overflow-x:auto;line-height:normal;font-family:Menlo,'DejaVu Sans Mono',consolas,'Courier New',monospace\">information integration <span style=\"font-weight: bold\">(</span>II<span style=\"font-weight: bold\">)</span>\n",
       "The merging of information from heterogeneous sources with differing conceptual, contextual and typographical \n",
       "representations. It is used in data mining and consolidation of data from unstructured or semi-structured \n",
       "resources. Typically, information integration refers to textual representations of knowledge but is sometimes \n",
       "applied to rich-media content. Information fusion, which is a related term, involves the combination of information\n",
       "into a new set of information towards reducing redundancy and uncertainty.\n",
       "</pre>\n"
      ],
      "text/plain": [
       "information integration \u001b[1m(\u001b[0mII\u001b[1m)\u001b[0m\n",
       "The merging of information from heterogeneous sources with differing conceptual, contextual and typographical \n",
       "representations. It is used in data mining and consolidation of data from unstructured or semi-structured \n",
       "resources. Typically, information integration refers to textual representations of knowledge but is sometimes \n",
       "applied to rich-media content. Information fusion, which is a related term, involves the combination of information\n",
       "into a new set of information towards reducing redundancy and uncertainty.\n"
      ]
     },
     "metadata": {},
     "output_type": "display_data"
    },
    {
     "data": {
      "text/html": [
       "<pre style=\"white-space:pre;overflow-x:auto;line-height:normal;font-family:Menlo,'DejaVu Sans Mono',consolas,'Courier New',monospace\">Information Processing Language <span style=\"font-weight: bold\">(</span>IPL<span style=\"font-weight: bold\">)</span>\n",
       "A programming language that includes features intended to help with programs that perform simple problem solving \n",
       "actions such as lists, dynamic memory allocation, data types, recursion, functions as arguments, generators, and \n",
       "cooperative multitasking.  IPL invented the concept of list processing, albeit in an assembly-language style.\n",
       "\n",
       "intelligence amplification <span style=\"font-weight: bold\">(</span>IA<span style=\"font-weight: bold\">)</span>\n",
       "Also cognitive augmentation, machine augmented intelligence, and enhanced intelligence.\n",
       "The effective use of information technology in augmenting human intelligence.\n",
       "</pre>\n"
      ],
      "text/plain": [
       "Information Processing Language \u001b[1m(\u001b[0mIPL\u001b[1m)\u001b[0m\n",
       "A programming language that includes features intended to help with programs that perform simple problem solving \n",
       "actions such as lists, dynamic memory allocation, data types, recursion, functions as arguments, generators, and \n",
       "cooperative multitasking.  IPL invented the concept of list processing, albeit in an assembly-language style.\n",
       "\n",
       "intelligence amplification \u001b[1m(\u001b[0mIA\u001b[1m)\u001b[0m\n",
       "Also cognitive augmentation, machine augmented intelligence, and enhanced intelligence.\n",
       "The effective use of information technology in augmenting human intelligence.\n"
      ]
     },
     "metadata": {},
     "output_type": "display_data"
    },
    {
     "data": {
      "text/html": [
       "<pre style=\"white-space:pre;overflow-x:auto;line-height:normal;font-family:Menlo,'DejaVu Sans Mono',consolas,'Courier New',monospace\">intelligence explosion\n",
       "A possible outcome of humanity building artificial general intelligence <span style=\"font-weight: bold\">(</span>AGI<span style=\"font-weight: bold\">)</span>. AGI would be capable of recursive \n",
       "self-improvement leading to rapid emergence of ASI <span style=\"font-weight: bold\">(</span>artificial superintelligence<span style=\"font-weight: bold\">)</span>, the limits of which are unknown,\n",
       "at the time of the technological singularity.\n",
       "\n",
       "intelligent agent <span style=\"font-weight: bold\">(</span>IA<span style=\"font-weight: bold\">)</span>\n",
       "An autonomous entity which acts, directing its activity towards achieving goals <span style=\"font-weight: bold\">(</span>i.e. it is an agent<span style=\"font-weight: bold\">)</span>, upon an \n",
       "environment using observation through sensors and consequent actuators <span style=\"font-weight: bold\">(</span>i.e. it is intelligent<span style=\"font-weight: bold\">)</span>. Intelligent agents\n",
       "may also learn or use knowledge to achieve their goals. They may be very simple or very complex.\n",
       "</pre>\n"
      ],
      "text/plain": [
       "intelligence explosion\n",
       "A possible outcome of humanity building artificial general intelligence \u001b[1m(\u001b[0mAGI\u001b[1m)\u001b[0m. AGI would be capable of recursive \n",
       "self-improvement leading to rapid emergence of ASI \u001b[1m(\u001b[0martificial superintelligence\u001b[1m)\u001b[0m, the limits of which are unknown,\n",
       "at the time of the technological singularity.\n",
       "\n",
       "intelligent agent \u001b[1m(\u001b[0mIA\u001b[1m)\u001b[0m\n",
       "An autonomous entity which acts, directing its activity towards achieving goals \u001b[1m(\u001b[0mi.e. it is an agent\u001b[1m)\u001b[0m, upon an \n",
       "environment using observation through sensors and consequent actuators \u001b[1m(\u001b[0mi.e. it is intelligent\u001b[1m)\u001b[0m. Intelligent agents\n",
       "may also learn or use knowledge to achieve their goals. They may be very simple or very complex.\n"
      ]
     },
     "metadata": {},
     "output_type": "display_data"
    },
    {
     "data": {
      "text/html": [
       "<pre style=\"white-space:pre;overflow-x:auto;line-height:normal;font-family:Menlo,'DejaVu Sans Mono',consolas,'Courier New',monospace\">intelligent control\n",
       "A class of control techniques that use various artificial intelligence computing approaches like neural networks, \n",
       "Bayesian probability, fuzzy logic, machine learning, reinforcement learning, evolutionary computation and genetic \n",
       "algorithms.\n",
       "</pre>\n"
      ],
      "text/plain": [
       "intelligent control\n",
       "A class of control techniques that use various artificial intelligence computing approaches like neural networks, \n",
       "Bayesian probability, fuzzy logic, machine learning, reinforcement learning, evolutionary computation and genetic \n",
       "algorithms.\n"
      ]
     },
     "metadata": {},
     "output_type": "display_data"
    },
    {
     "data": {
      "text/html": [
       "<pre style=\"white-space:pre;overflow-x:auto;line-height:normal;font-family:Menlo,'DejaVu Sans Mono',consolas,'Courier New',monospace\">intelligent personal assistant\n",
       "Also virtual assistant or personal digital assistant.\n",
       "A software agent that can perform tasks or services for an individual based on verbal commands. Sometimes the term \n",
       "<span style=\"color: #008000; text-decoration-color: #008000\">\"chatbot\"</span> is used to refer to virtual assistants generally or specifically accessed by online chat <span style=\"font-weight: bold\">(</span>or in some \n",
       "cases online chat programs that are exclusively for entertainment purposes<span style=\"font-weight: bold\">)</span>.  Some virtual assistants are able to \n",
       "interpret human speech and respond via synthesized voices. Users can ask their assistants questions, control home \n",
       "automation devices and media playback via voice, and manage other basic tasks such as email, to-do lists, and \n",
       "calendars with verbal commands.\n",
       "</pre>\n"
      ],
      "text/plain": [
       "intelligent personal assistant\n",
       "Also virtual assistant or personal digital assistant.\n",
       "A software agent that can perform tasks or services for an individual based on verbal commands. Sometimes the term \n",
       "\u001b[32m\"chatbot\"\u001b[0m is used to refer to virtual assistants generally or specifically accessed by online chat \u001b[1m(\u001b[0mor in some \n",
       "cases online chat programs that are exclusively for entertainment purposes\u001b[1m)\u001b[0m.  Some virtual assistants are able to \n",
       "interpret human speech and respond via synthesized voices. Users can ask their assistants questions, control home \n",
       "automation devices and media playback via voice, and manage other basic tasks such as email, to-do lists, and \n",
       "calendars with verbal commands.\n"
      ]
     },
     "metadata": {},
     "output_type": "display_data"
    },
    {
     "data": {
      "text/html": [
       "<pre style=\"white-space:pre;overflow-x:auto;line-height:normal;font-family:Menlo,'DejaVu Sans Mono',consolas,'Courier New',monospace\">interpretation\n",
       "An assignment of meaning to the symbols of a formal language. Many formal languages used in mathematics, logic, and\n",
       "theoretical computer science are defined in solely syntactic terms, and as such do not have any meaning until they \n",
       "are given some interpretation. The general study of interpretations of formal languages is called formal semantics.\n",
       "</pre>\n"
      ],
      "text/plain": [
       "interpretation\n",
       "An assignment of meaning to the symbols of a formal language. Many formal languages used in mathematics, logic, and\n",
       "theoretical computer science are defined in solely syntactic terms, and as such do not have any meaning until they \n",
       "are given some interpretation. The general study of interpretations of formal languages is called formal semantics.\n"
      ]
     },
     "metadata": {},
     "output_type": "display_data"
    },
    {
     "data": {
      "text/html": [
       "<pre style=\"white-space:pre;overflow-x:auto;line-height:normal;font-family:Menlo,'DejaVu Sans Mono',consolas,'Courier New',monospace\">intrinsic motivation\n",
       "An intelligent agent is intrinsically motivated to act if the information content alone, of the experience \n",
       "resulting from the action, is the motivating factor. Information content in this context is measured in the \n",
       "information theory sense as quantifying uncertainty. A typical intrinsic motivation is to search for unusual \n",
       "<span style=\"font-weight: bold\">(</span>surprising<span style=\"font-weight: bold\">)</span> situations, in contrast to a typical extrinsic motivation such as the search for food. Intrinsically \n",
       "motivated artificial agents display behaviours akin to exploration and curiosity.\n",
       "</pre>\n"
      ],
      "text/plain": [
       "intrinsic motivation\n",
       "An intelligent agent is intrinsically motivated to act if the information content alone, of the experience \n",
       "resulting from the action, is the motivating factor. Information content in this context is measured in the \n",
       "information theory sense as quantifying uncertainty. A typical intrinsic motivation is to search for unusual \n",
       "\u001b[1m(\u001b[0msurprising\u001b[1m)\u001b[0m situations, in contrast to a typical extrinsic motivation such as the search for food. Intrinsically \n",
       "motivated artificial agents display behaviours akin to exploration and curiosity.\n"
      ]
     },
     "metadata": {},
     "output_type": "display_data"
    },
    {
     "data": {
      "text/html": [
       "<pre style=\"white-space:pre;overflow-x:auto;line-height:normal;font-family:Menlo,'DejaVu Sans Mono',consolas,'Courier New',monospace\">issue tree\n",
       "Also logic tree.\n",
       "A graphical breakdown of a question that dissects it into its different components vertically and that progresses \n",
       "into details as it reads to the right.: <span style=\"color: #008080; text-decoration-color: #008080; font-weight: bold\">47</span>   Issue trees are useful in problem solving to identify the root causes \n",
       "of a problem as well as to identify its potential solutions. They also provide a reference point to see how each \n",
       "piece fits into the whole picture of a problem.\n",
       "\n",
       "\n",
       "== J ==\n",
       "</pre>\n"
      ],
      "text/plain": [
       "issue tree\n",
       "Also logic tree.\n",
       "A graphical breakdown of a question that dissects it into its different components vertically and that progresses \n",
       "into details as it reads to the right.: \u001b[1;36m47\u001b[0m   Issue trees are useful in problem solving to identify the root causes \n",
       "of a problem as well as to identify its potential solutions. They also provide a reference point to see how each \n",
       "piece fits into the whole picture of a problem.\n",
       "\n",
       "\n",
       "== J ==\n"
      ]
     },
     "metadata": {},
     "output_type": "display_data"
    },
    {
     "data": {
      "text/html": [
       "<pre style=\"white-space:pre;overflow-x:auto;line-height:normal;font-family:Menlo,'DejaVu Sans Mono',consolas,'Courier New',monospace\">== J ==\n",
       "\n",
       "junction tree algorithm\n",
       "Also Clique Tree.\n",
       "A method used in machine learning to extract marginalization in general graphs. In essence, it entails performing \n",
       "belief propagation on a modified graph called a junction tree. The graph is called a tree because it branches into \n",
       "different sections of data; nodes of variables are the branches.\n",
       "\n",
       "\n",
       "== K ==\n",
       "</pre>\n"
      ],
      "text/plain": [
       "== J ==\n",
       "\n",
       "junction tree algorithm\n",
       "Also Clique Tree.\n",
       "A method used in machine learning to extract marginalization in general graphs. In essence, it entails performing \n",
       "belief propagation on a modified graph called a junction tree. The graph is called a tree because it branches into \n",
       "different sections of data; nodes of variables are the branches.\n",
       "\n",
       "\n",
       "== K ==\n"
      ]
     },
     "metadata": {},
     "output_type": "display_data"
    },
    {
     "data": {
      "text/html": [
       "<pre style=\"white-space:pre;overflow-x:auto;line-height:normal;font-family:Menlo,'DejaVu Sans Mono',consolas,'Courier New',monospace\">== K ==\n",
       "\n",
       "kernel method\n",
       "In machine learning, kernel methods are a class of algorithms for pattern analysis, whose best known member is the \n",
       "support vector machine <span style=\"font-weight: bold\">(</span>SVM<span style=\"font-weight: bold\">)</span>. The general task of pattern analysis is to find and study general types of relations \n",
       "<span style=\"font-weight: bold\">(</span>e.g., cluster analysis, rankings, principal components, correlations, classifications<span style=\"font-weight: bold\">)</span> in datasets.\n",
       "\n",
       "KL-ONE\n",
       "A well-known knowledge representation system in the tradition of semantic networks and frames; that is, it is a \n",
       "frame language. The system is an attempt to overcome semantic indistinctness in semantic network representations \n",
       "and to explicitly represent conceptual information as a structured inheritance network.\n",
       "</pre>\n"
      ],
      "text/plain": [
       "== K ==\n",
       "\n",
       "kernel method\n",
       "In machine learning, kernel methods are a class of algorithms for pattern analysis, whose best known member is the \n",
       "support vector machine \u001b[1m(\u001b[0mSVM\u001b[1m)\u001b[0m. The general task of pattern analysis is to find and study general types of relations \n",
       "\u001b[1m(\u001b[0me.g., cluster analysis, rankings, principal components, correlations, classifications\u001b[1m)\u001b[0m in datasets.\n",
       "\n",
       "KL-ONE\n",
       "A well-known knowledge representation system in the tradition of semantic networks and frames; that is, it is a \n",
       "frame language. The system is an attempt to overcome semantic indistinctness in semantic network representations \n",
       "and to explicitly represent conceptual information as a structured inheritance network.\n"
      ]
     },
     "metadata": {},
     "output_type": "display_data"
    },
    {
     "data": {
      "text/html": [
       "<pre style=\"white-space:pre;overflow-x:auto;line-height:normal;font-family:Menlo,'DejaVu Sans Mono',consolas,'Courier New',monospace\">k-nearest neighbors\n",
       "A non-parametric supervised learning method first developed by Evelyn Fix and Joseph Hodges in <span style=\"color: #008080; text-decoration-color: #008080; font-weight: bold\">1951</span>, and later \n",
       "expanded by Thomas Cover. It is used for classification and regression.\n",
       "\n",
       "knowledge acquisition\n",
       "The process used to define the rules and ontologies required for a knowledge-based system. The phrase was first \n",
       "used in conjunction with expert systems to describe the initial tasks associated with developing an expert system, \n",
       "namely finding and interviewing domain experts and capturing their knowledge via rules, objects, and frame-based \n",
       "ontologies.\n",
       "</pre>\n"
      ],
      "text/plain": [
       "k-nearest neighbors\n",
       "A non-parametric supervised learning method first developed by Evelyn Fix and Joseph Hodges in \u001b[1;36m1951\u001b[0m, and later \n",
       "expanded by Thomas Cover. It is used for classification and regression.\n",
       "\n",
       "knowledge acquisition\n",
       "The process used to define the rules and ontologies required for a knowledge-based system. The phrase was first \n",
       "used in conjunction with expert systems to describe the initial tasks associated with developing an expert system, \n",
       "namely finding and interviewing domain experts and capturing their knowledge via rules, objects, and frame-based \n",
       "ontologies.\n"
      ]
     },
     "metadata": {},
     "output_type": "display_data"
    },
    {
     "data": {
      "text/html": [
       "<pre style=\"white-space:pre;overflow-x:auto;line-height:normal;font-family:Menlo,'DejaVu Sans Mono',consolas,'Courier New',monospace\">knowledge-based system <span style=\"font-weight: bold\">(</span>KBS<span style=\"font-weight: bold\">)</span>\n",
       "A computer program that reasons and uses a knowledge base to solve complex problems. The term is broad and refers \n",
       "to many different kinds of systems. The one common theme that unites all knowledge based systems is an attempt to \n",
       "represent knowledge explicitly and a reasoning system that allows it to derive new knowledge. Thus, a \n",
       "knowledge-based system has two distinguishing features: a knowledge base and an inference engine.\n",
       "\n",
       "knowledge distillation\n",
       "The process of transferring knowledge from a large machine learning model to a smaller one.\n",
       "</pre>\n"
      ],
      "text/plain": [
       "knowledge-based system \u001b[1m(\u001b[0mKBS\u001b[1m)\u001b[0m\n",
       "A computer program that reasons and uses a knowledge base to solve complex problems. The term is broad and refers \n",
       "to many different kinds of systems. The one common theme that unites all knowledge based systems is an attempt to \n",
       "represent knowledge explicitly and a reasoning system that allows it to derive new knowledge. Thus, a \n",
       "knowledge-based system has two distinguishing features: a knowledge base and an inference engine.\n",
       "\n",
       "knowledge distillation\n",
       "The process of transferring knowledge from a large machine learning model to a smaller one.\n"
      ]
     },
     "metadata": {},
     "output_type": "display_data"
    },
    {
     "data": {
      "text/html": [
       "<pre style=\"white-space:pre;overflow-x:auto;line-height:normal;font-family:Menlo,'DejaVu Sans Mono',consolas,'Courier New',monospace\">knowledge engineering <span style=\"font-weight: bold\">(</span>KE<span style=\"font-weight: bold\">)</span>\n",
       "All technical, scientific, and social aspects involved in building, maintaining, and using knowledge-based systems.\n",
       "</pre>\n"
      ],
      "text/plain": [
       "knowledge engineering \u001b[1m(\u001b[0mKE\u001b[1m)\u001b[0m\n",
       "All technical, scientific, and social aspects involved in building, maintaining, and using knowledge-based systems.\n"
      ]
     },
     "metadata": {},
     "output_type": "display_data"
    },
    {
     "data": {
      "text/html": [
       "<pre style=\"white-space:pre;overflow-x:auto;line-height:normal;font-family:Menlo,'DejaVu Sans Mono',consolas,'Courier New',monospace\">knowledge extraction\n",
       "The creation of knowledge from structured <span style=\"font-weight: bold\">(</span>relational databases, XML<span style=\"font-weight: bold\">)</span> and unstructured <span style=\"font-weight: bold\">(</span>text, documents, images<span style=\"font-weight: bold\">)</span> \n",
       "sources. The resulting knowledge needs to be in a machine-readable and machine-interpretable format and must \n",
       "represent knowledge in a manner that facilitates inferencing. Although it is methodically similar to information \n",
       "extraction and ETL, the main criterion is that the extraction result goes beyond the creation of structured \n",
       "information or the transformation into a relational schema. It requires either the reuse of existing formal \n",
       "knowledge <span style=\"font-weight: bold\">(</span>reusing identifiers or ontologies<span style=\"font-weight: bold\">)</span> or the generation of a schema based on the source data.\n",
       "</pre>\n"
      ],
      "text/plain": [
       "knowledge extraction\n",
       "The creation of knowledge from structured \u001b[1m(\u001b[0mrelational databases, XML\u001b[1m)\u001b[0m and unstructured \u001b[1m(\u001b[0mtext, documents, images\u001b[1m)\u001b[0m \n",
       "sources. The resulting knowledge needs to be in a machine-readable and machine-interpretable format and must \n",
       "represent knowledge in a manner that facilitates inferencing. Although it is methodically similar to information \n",
       "extraction and ETL, the main criterion is that the extraction result goes beyond the creation of structured \n",
       "information or the transformation into a relational schema. It requires either the reuse of existing formal \n",
       "knowledge \u001b[1m(\u001b[0mreusing identifiers or ontologies\u001b[1m)\u001b[0m or the generation of a schema based on the source data.\n"
      ]
     },
     "metadata": {},
     "output_type": "display_data"
    },
    {
     "data": {
      "text/html": [
       "<pre style=\"white-space:pre;overflow-x:auto;line-height:normal;font-family:Menlo,'DejaVu Sans Mono',consolas,'Courier New',monospace\">knowledge Interchange Format <span style=\"font-weight: bold\">(</span>KIF<span style=\"font-weight: bold\">)</span>\n",
       "A computer language designed to enable systems to share and re-use information from knowledge-based systems. KIF is\n",
       "similar to frame languages such as KL-ONE and LOOM but unlike such language its primary role is not intended as a \n",
       "framework for the expression or use of knowledge but rather for the interchange of knowledge between systems. The \n",
       "designers of KIF likened it to PostScript. PostScript was not designed primarily as a language to store and \n",
       "manipulate documents but rather as an interchange format for systems and devices to share documents.\n",
       "</pre>\n"
      ],
      "text/plain": [
       "knowledge Interchange Format \u001b[1m(\u001b[0mKIF\u001b[1m)\u001b[0m\n",
       "A computer language designed to enable systems to share and re-use information from knowledge-based systems. KIF is\n",
       "similar to frame languages such as KL-ONE and LOOM but unlike such language its primary role is not intended as a \n",
       "framework for the expression or use of knowledge but rather for the interchange of knowledge between systems. The \n",
       "designers of KIF likened it to PostScript. PostScript was not designed primarily as a language to store and \n",
       "manipulate documents but rather as an interchange format for systems and devices to share documents.\n"
      ]
     },
     "metadata": {},
     "output_type": "display_data"
    },
    {
     "data": {
      "text/html": [
       "<pre style=\"white-space:pre;overflow-x:auto;line-height:normal;font-family:Menlo,'DejaVu Sans Mono',consolas,'Courier New',monospace\">In the same way KIF is meant to facilitate sharing of knowledge across different systems that use different \n",
       "languages, formalisms, platforms, etc.\n",
       "\n",
       "knowledge representation and reasoning <span style=\"font-weight: bold\">(</span>KR² or KR&amp;R<span style=\"font-weight: bold\">)</span>\n",
       "The field of artificial intelligence dedicated to representing information about the world in a form that a \n",
       "computer system can utilize to solve complex tasks such as diagnosing a medical condition or having a dialog in a \n",
       "natural language. Knowledge representation incorporates findings from psychology about how humans solve problems \n",
       "and represent knowledge in order to design formalisms that will make complex systems easier to design and build.\n",
       "</pre>\n"
      ],
      "text/plain": [
       "In the same way KIF is meant to facilitate sharing of knowledge across different systems that use different \n",
       "languages, formalisms, platforms, etc.\n",
       "\n",
       "knowledge representation and reasoning \u001b[1m(\u001b[0mKR² or KR&R\u001b[1m)\u001b[0m\n",
       "The field of artificial intelligence dedicated to representing information about the world in a form that a \n",
       "computer system can utilize to solve complex tasks such as diagnosing a medical condition or having a dialog in a \n",
       "natural language. Knowledge representation incorporates findings from psychology about how humans solve problems \n",
       "and represent knowledge in order to design formalisms that will make complex systems easier to design and build.\n"
      ]
     },
     "metadata": {},
     "output_type": "display_data"
    },
    {
     "data": {
      "text/html": [
       "<pre style=\"white-space:pre;overflow-x:auto;line-height:normal;font-family:Menlo,'DejaVu Sans Mono',consolas,'Courier New',monospace\">Knowledge representation and reasoning also incorporates findings from logic to automate various kinds of \n",
       "reasoning, such as the application of rules or the relations of sets and subsets. Examples of knowledge \n",
       "representation formalisms include semantic nets, systems architecture, frames, rules, and ontologies. Examples of \n",
       "automated reasoning engines include inference engines, theorem provers, and classifiers.\n",
       "\n",
       "k-means clustering\n",
       "A method of vector quantization, originally from signal processing, that aims to partition n observations into k \n",
       "clusters in which each observation belongs to the cluster with the nearest mean <span style=\"font-weight: bold\">(</span>cluster centers or cluster \n",
       "centroid<span style=\"font-weight: bold\">)</span>, serving as a prototype of the cluster.\n",
       "\n",
       "\n",
       "== L ==\n",
       "</pre>\n"
      ],
      "text/plain": [
       "Knowledge representation and reasoning also incorporates findings from logic to automate various kinds of \n",
       "reasoning, such as the application of rules or the relations of sets and subsets. Examples of knowledge \n",
       "representation formalisms include semantic nets, systems architecture, frames, rules, and ontologies. Examples of \n",
       "automated reasoning engines include inference engines, theorem provers, and classifiers.\n",
       "\n",
       "k-means clustering\n",
       "A method of vector quantization, originally from signal processing, that aims to partition n observations into k \n",
       "clusters in which each observation belongs to the cluster with the nearest mean \u001b[1m(\u001b[0mcluster centers or cluster \n",
       "centroid\u001b[1m)\u001b[0m, serving as a prototype of the cluster.\n",
       "\n",
       "\n",
       "== L ==\n"
      ]
     },
     "metadata": {},
     "output_type": "display_data"
    },
    {
     "data": {
      "text/html": [
       "<pre style=\"white-space:pre;overflow-x:auto;line-height:normal;font-family:Menlo,'DejaVu Sans Mono',consolas,'Courier New',monospace\">== L ==\n",
       "\n",
       "language model\n",
       "A probabilistic model that manipulates natural language.\n",
       "\n",
       "large language model <span style=\"font-weight: bold\">(</span>LLM<span style=\"font-weight: bold\">)</span>\n",
       "A language model with a large number of parameters <span style=\"font-weight: bold\">(</span>typically at least a billion<span style=\"font-weight: bold\">)</span> that are adjusted during \n",
       "training. Due to its size, it requires a lot of data and computing capability to train. Large language models are \n",
       "usually based on the transformer architecture.\n",
       "</pre>\n"
      ],
      "text/plain": [
       "== L ==\n",
       "\n",
       "language model\n",
       "A probabilistic model that manipulates natural language.\n",
       "\n",
       "large language model \u001b[1m(\u001b[0mLLM\u001b[1m)\u001b[0m\n",
       "A language model with a large number of parameters \u001b[1m(\u001b[0mtypically at least a billion\u001b[1m)\u001b[0m that are adjusted during \n",
       "training. Due to its size, it requires a lot of data and computing capability to train. Large language models are \n",
       "usually based on the transformer architecture.\n"
      ]
     },
     "metadata": {},
     "output_type": "display_data"
    },
    {
     "data": {
      "text/html": [
       "<pre style=\"white-space:pre;overflow-x:auto;line-height:normal;font-family:Menlo,'DejaVu Sans Mono',consolas,'Courier New',monospace\">lazy learning\n",
       "In machine learning, lazy learning is a learning method in which generalization of the training data is, in theory,\n",
       "delayed until a query is made to the system, as opposed to in eager learning, where the system tries to generalize \n",
       "the training data before receiving queries.\n",
       "\n",
       "Lisp <span style=\"font-weight: bold\">(</span>programming language<span style=\"font-weight: bold\">)</span> <span style=\"font-weight: bold\">(</span>LISP<span style=\"font-weight: bold\">)</span>\n",
       "A family of programming languages with a long history and a distinctive, fully parenthesized prefix notation.\n",
       "</pre>\n"
      ],
      "text/plain": [
       "lazy learning\n",
       "In machine learning, lazy learning is a learning method in which generalization of the training data is, in theory,\n",
       "delayed until a query is made to the system, as opposed to in eager learning, where the system tries to generalize \n",
       "the training data before receiving queries.\n",
       "\n",
       "Lisp \u001b[1m(\u001b[0mprogramming language\u001b[1m)\u001b[0m \u001b[1m(\u001b[0mLISP\u001b[1m)\u001b[0m\n",
       "A family of programming languages with a long history and a distinctive, fully parenthesized prefix notation.\n"
      ]
     },
     "metadata": {},
     "output_type": "display_data"
    },
    {
     "data": {
      "text/html": [
       "<pre style=\"white-space:pre;overflow-x:auto;line-height:normal;font-family:Menlo,'DejaVu Sans Mono',consolas,'Courier New',monospace\">logic programming\n",
       "A type of programming paradigm which is largely based on formal logic. Any program written in a logic programming \n",
       "language is a set of sentences in logical form, expressing facts and rules about some problem domain. Major logic \n",
       "programming language families include Prolog, answer set programming <span style=\"font-weight: bold\">(</span>ASP<span style=\"font-weight: bold\">)</span>, and Datalog.\n",
       "</pre>\n"
      ],
      "text/plain": [
       "logic programming\n",
       "A type of programming paradigm which is largely based on formal logic. Any program written in a logic programming \n",
       "language is a set of sentences in logical form, expressing facts and rules about some problem domain. Major logic \n",
       "programming language families include Prolog, answer set programming \u001b[1m(\u001b[0mASP\u001b[1m)\u001b[0m, and Datalog.\n"
      ]
     },
     "metadata": {},
     "output_type": "display_data"
    },
    {
     "data": {
      "text/html": [
       "<pre style=\"white-space:pre;overflow-x:auto;line-height:normal;font-family:Menlo,'DejaVu Sans Mono',consolas,'Courier New',monospace\">long short-term memory <span style=\"font-weight: bold\">(</span>LSTM<span style=\"font-weight: bold\">)</span>\n",
       "An artificial recurrent neural network architecture used in the field of deep learning. Unlike standard feedforward\n",
       "neural networks, LSTM has feedback connections that make it a <span style=\"color: #008000; text-decoration-color: #008000\">\"general purpose computer\"</span> <span style=\"font-weight: bold\">(</span>that is, it can compute \n",
       "anything that a Turing machine can<span style=\"font-weight: bold\">)</span>. It can not only process single data points <span style=\"font-weight: bold\">(</span>such as images<span style=\"font-weight: bold\">)</span>, but also entire \n",
       "sequences of data <span style=\"font-weight: bold\">(</span>such as speech or video<span style=\"font-weight: bold\">)</span>.\n",
       "\n",
       "\n",
       "== M ==\n",
       "\n",
       "machine vision <span style=\"font-weight: bold\">(</span>MV<span style=\"font-weight: bold\">)</span>\n",
       "The technology and methods used to provide imaging-based automatic inspection and analysis for such applications as\n",
       "automatic inspection, process control, and robot guidance, usually in industry.\n",
       "</pre>\n"
      ],
      "text/plain": [
       "long short-term memory \u001b[1m(\u001b[0mLSTM\u001b[1m)\u001b[0m\n",
       "An artificial recurrent neural network architecture used in the field of deep learning. Unlike standard feedforward\n",
       "neural networks, LSTM has feedback connections that make it a \u001b[32m\"general purpose computer\"\u001b[0m \u001b[1m(\u001b[0mthat is, it can compute \n",
       "anything that a Turing machine can\u001b[1m)\u001b[0m. It can not only process single data points \u001b[1m(\u001b[0msuch as images\u001b[1m)\u001b[0m, but also entire \n",
       "sequences of data \u001b[1m(\u001b[0msuch as speech or video\u001b[1m)\u001b[0m.\n",
       "\n",
       "\n",
       "== M ==\n",
       "\n",
       "machine vision \u001b[1m(\u001b[0mMV\u001b[1m)\u001b[0m\n",
       "The technology and methods used to provide imaging-based automatic inspection and analysis for such applications as\n",
       "automatic inspection, process control, and robot guidance, usually in industry.\n"
      ]
     },
     "metadata": {},
     "output_type": "display_data"
    },
    {
     "data": {
      "text/html": [
       "<pre style=\"white-space:pre;overflow-x:auto;line-height:normal;font-family:Menlo,'DejaVu Sans Mono',consolas,'Courier New',monospace\">Machine vision is a term encompassing a large number of technologies, software and hardware products, integrated \n",
       "systems, actions, methods and expertise. Machine vision as a systems engineering discipline can be considered \n",
       "distinct from computer vision, a form of computer science.  It attempts to integrate existing technologies in new \n",
       "ways and apply them to solve real world problems. The term is the prevalent one for these functions in industrial \n",
       "automation environments but is also used for these functions in other environments such as security and vehicle \n",
       "guidance.\n",
       "</pre>\n"
      ],
      "text/plain": [
       "Machine vision is a term encompassing a large number of technologies, software and hardware products, integrated \n",
       "systems, actions, methods and expertise. Machine vision as a systems engineering discipline can be considered \n",
       "distinct from computer vision, a form of computer science.  It attempts to integrate existing technologies in new \n",
       "ways and apply them to solve real world problems. The term is the prevalent one for these functions in industrial \n",
       "automation environments but is also used for these functions in other environments such as security and vehicle \n",
       "guidance.\n"
      ]
     },
     "metadata": {},
     "output_type": "display_data"
    },
    {
     "data": {
      "text/html": [
       "<pre style=\"white-space:pre;overflow-x:auto;line-height:normal;font-family:Menlo,'DejaVu Sans Mono',consolas,'Courier New',monospace\">Markov chain\n",
       "A stochastic model describing a sequence of possible events in which the probability of each event depends only on \n",
       "the state attained in the previous event.\n",
       "\n",
       "Markov decision process <span style=\"font-weight: bold\">(</span>MDP<span style=\"font-weight: bold\">)</span>\n",
       "A discrete time stochastic control process. It provides a mathematical framework for modeling decision making in \n",
       "situations where outcomes are partly random and partly under the control of a decision maker. MDPs are useful for \n",
       "studying optimization problems solved via dynamic programming and reinforcement learning.\n",
       "</pre>\n"
      ],
      "text/plain": [
       "Markov chain\n",
       "A stochastic model describing a sequence of possible events in which the probability of each event depends only on \n",
       "the state attained in the previous event.\n",
       "\n",
       "Markov decision process \u001b[1m(\u001b[0mMDP\u001b[1m)\u001b[0m\n",
       "A discrete time stochastic control process. It provides a mathematical framework for modeling decision making in \n",
       "situations where outcomes are partly random and partly under the control of a decision maker. MDPs are useful for \n",
       "studying optimization problems solved via dynamic programming and reinforcement learning.\n"
      ]
     },
     "metadata": {},
     "output_type": "display_data"
    },
    {
     "data": {
      "text/html": [
       "<pre style=\"white-space:pre;overflow-x:auto;line-height:normal;font-family:Menlo,'DejaVu Sans Mono',consolas,'Courier New',monospace\">mathematical optimization\n",
       "Also mathematical programming.\n",
       "In mathematics, computer science, and operations research, the selection of a best element <span style=\"font-weight: bold\">(</span>with regard to some \n",
       "criterion<span style=\"font-weight: bold\">)</span> from some set of available alternatives.\n",
       "\n",
       "machine learning <span style=\"font-weight: bold\">(</span>ML<span style=\"font-weight: bold\">)</span>\n",
       "The scientific study of algorithms and statistical models that computer systems use in order to perform a specific \n",
       "task effectively without using explicit instructions, relying on patterns and inference instead.\n",
       "\n",
       "machine listening\n",
       "Also computer audition <span style=\"font-weight: bold\">(</span>CA<span style=\"font-weight: bold\">)</span>.\n",
       "A general field of study of algorithms and systems for audio understanding by machine.\n",
       "</pre>\n"
      ],
      "text/plain": [
       "mathematical optimization\n",
       "Also mathematical programming.\n",
       "In mathematics, computer science, and operations research, the selection of a best element \u001b[1m(\u001b[0mwith regard to some \n",
       "criterion\u001b[1m)\u001b[0m from some set of available alternatives.\n",
       "\n",
       "machine learning \u001b[1m(\u001b[0mML\u001b[1m)\u001b[0m\n",
       "The scientific study of algorithms and statistical models that computer systems use in order to perform a specific \n",
       "task effectively without using explicit instructions, relying on patterns and inference instead.\n",
       "\n",
       "machine listening\n",
       "Also computer audition \u001b[1m(\u001b[0mCA\u001b[1m)\u001b[0m.\n",
       "A general field of study of algorithms and systems for audio understanding by machine.\n"
      ]
     },
     "metadata": {},
     "output_type": "display_data"
    },
    {
     "data": {
      "text/html": [
       "<pre style=\"white-space:pre;overflow-x:auto;line-height:normal;font-family:Menlo,'DejaVu Sans Mono',consolas,'Courier New',monospace\">machine perception\n",
       "The capability of a computer system to interpret data in a manner that is similar to the way humans use their \n",
       "senses to relate to the world around them.\n",
       "\n",
       "mechanism design\n",
       "A field in economics and game theory that takes an engineering approach to designing economic mechanisms or \n",
       "incentives, toward desired objectives, in strategic settings, where players act rationally. Because it starts at \n",
       "the end of the game, then goes backwards, it is also called reverse game theory. It has broad applications, from \n",
       "economics and politics <span style=\"font-weight: bold\">(</span>markets, auctions, voting procedures<span style=\"font-weight: bold\">)</span> to networked-systems <span style=\"font-weight: bold\">(</span>internet interdomain routing, \n",
       "sponsored search auctions<span style=\"font-weight: bold\">)</span>.\n",
       "</pre>\n"
      ],
      "text/plain": [
       "machine perception\n",
       "The capability of a computer system to interpret data in a manner that is similar to the way humans use their \n",
       "senses to relate to the world around them.\n",
       "\n",
       "mechanism design\n",
       "A field in economics and game theory that takes an engineering approach to designing economic mechanisms or \n",
       "incentives, toward desired objectives, in strategic settings, where players act rationally. Because it starts at \n",
       "the end of the game, then goes backwards, it is also called reverse game theory. It has broad applications, from \n",
       "economics and politics \u001b[1m(\u001b[0mmarkets, auctions, voting procedures\u001b[1m)\u001b[0m to networked-systems \u001b[1m(\u001b[0minternet interdomain routing, \n",
       "sponsored search auctions\u001b[1m)\u001b[0m.\n"
      ]
     },
     "metadata": {},
     "output_type": "display_data"
    },
    {
     "data": {
      "text/html": [
       "<pre style=\"white-space:pre;overflow-x:auto;line-height:normal;font-family:Menlo,'DejaVu Sans Mono',consolas,'Courier New',monospace\">mechatronics\n",
       "Also mechatronic engineering.\n",
       "A multidisciplinary branch of engineering that focuses on the engineering of both electrical and mechanical \n",
       "systems, and also includes a combination of robotics, electronics, computer, telecommunications, systems, control, \n",
       "and product engineering.\n",
       "\n",
       "metabolic network reconstruction and simulation\n",
       "Allows for an in-depth insight into the molecular mechanisms of a particular organism. In particular, these models \n",
       "correlate the genome with molecular physiology.\n",
       "</pre>\n"
      ],
      "text/plain": [
       "mechatronics\n",
       "Also mechatronic engineering.\n",
       "A multidisciplinary branch of engineering that focuses on the engineering of both electrical and mechanical \n",
       "systems, and also includes a combination of robotics, electronics, computer, telecommunications, systems, control, \n",
       "and product engineering.\n",
       "\n",
       "metabolic network reconstruction and simulation\n",
       "Allows for an in-depth insight into the molecular mechanisms of a particular organism. In particular, these models \n",
       "correlate the genome with molecular physiology.\n"
      ]
     },
     "metadata": {},
     "output_type": "display_data"
    },
    {
     "data": {
      "text/html": [
       "<pre style=\"white-space:pre;overflow-x:auto;line-height:normal;font-family:Menlo,'DejaVu Sans Mono',consolas,'Courier New',monospace\">metaheuristic\n",
       "In computer science and mathematical optimization, a metaheuristic is a higher-level procedure or heuristic \n",
       "designed to find, generate, or select a heuristic <span style=\"font-weight: bold\">(</span>partial search algorithm<span style=\"font-weight: bold\">)</span> that may provide a sufficiently good \n",
       "solution to an optimization problem, especially with incomplete or imperfect information or limited computation \n",
       "capacity. Metaheuristics sample a set of solutions which is too large to be completely sampled.\n",
       "</pre>\n"
      ],
      "text/plain": [
       "metaheuristic\n",
       "In computer science and mathematical optimization, a metaheuristic is a higher-level procedure or heuristic \n",
       "designed to find, generate, or select a heuristic \u001b[1m(\u001b[0mpartial search algorithm\u001b[1m)\u001b[0m that may provide a sufficiently good \n",
       "solution to an optimization problem, especially with incomplete or imperfect information or limited computation \n",
       "capacity. Metaheuristics sample a set of solutions which is too large to be completely sampled.\n"
      ]
     },
     "metadata": {},
     "output_type": "display_data"
    },
    {
     "data": {
      "text/html": [
       "<pre style=\"white-space:pre;overflow-x:auto;line-height:normal;font-family:Menlo,'DejaVu Sans Mono',consolas,'Courier New',monospace\">model checking\n",
       "In computer science, model checking or property checking is, for a given model of a system, exhaustively and \n",
       "automatically checking whether this model meets a given specification. Typically, one has hardware or software \n",
       "systems in mind, whereas the specification contains safety requirements such as the absence of deadlocks and \n",
       "similar critical states that can cause the system to crash. Model checking is a technique for automatically \n",
       "verifying correctness properties of finite-state systems.\n",
       "</pre>\n"
      ],
      "text/plain": [
       "model checking\n",
       "In computer science, model checking or property checking is, for a given model of a system, exhaustively and \n",
       "automatically checking whether this model meets a given specification. Typically, one has hardware or software \n",
       "systems in mind, whereas the specification contains safety requirements such as the absence of deadlocks and \n",
       "similar critical states that can cause the system to crash. Model checking is a technique for automatically \n",
       "verifying correctness properties of finite-state systems.\n"
      ]
     },
     "metadata": {},
     "output_type": "display_data"
    },
    {
     "data": {
      "text/html": [
       "<pre style=\"white-space:pre;overflow-x:auto;line-height:normal;font-family:Menlo,'DejaVu Sans Mono',consolas,'Courier New',monospace\">modus ponens\n",
       "In propositional logic, modus ponens is a rule of inference. It can be summarized as <span style=\"color: #008000; text-decoration-color: #008000\">\"P implies Q and P is asserted</span>\n",
       "<span style=\"color: #008000; text-decoration-color: #008000\">to be true, therefore Q must be true.\"</span>\n",
       "\n",
       "modus tollens\n",
       "In propositional logic, modus tollens is a valid argument form and a rule of inference.  It is an application of \n",
       "the general truth that if a statement is true, then so is its contrapositive.  The inference rule modus tollens \n",
       "asserts that the inference from P implies Q to the negation of Q implies the negation of P is valid.\n",
       "</pre>\n"
      ],
      "text/plain": [
       "modus ponens\n",
       "In propositional logic, modus ponens is a rule of inference. It can be summarized as \u001b[32m\"P implies Q and P is asserted\u001b[0m\n",
       "\u001b[32mto be true, therefore Q must be true.\"\u001b[0m\n",
       "\n",
       "modus tollens\n",
       "In propositional logic, modus tollens is a valid argument form and a rule of inference.  It is an application of \n",
       "the general truth that if a statement is true, then so is its contrapositive.  The inference rule modus tollens \n",
       "asserts that the inference from P implies Q to the negation of Q implies the negation of P is valid.\n"
      ]
     },
     "metadata": {},
     "output_type": "display_data"
    },
    {
     "data": {
      "text/html": [
       "<pre style=\"white-space:pre;overflow-x:auto;line-height:normal;font-family:Menlo,'DejaVu Sans Mono',consolas,'Courier New',monospace\">Monte Carlo tree search\n",
       "In computer science, Monte Carlo tree search <span style=\"font-weight: bold\">(</span>MCTS<span style=\"font-weight: bold\">)</span> is a heuristic search algorithm for some kinds of decision \n",
       "processes.\n",
       "\n",
       "multi-agent system <span style=\"font-weight: bold\">(</span>MAS<span style=\"font-weight: bold\">)</span>\n",
       "Also self-organized system.\n",
       "A computerized system composed of multiple interacting intelligent agents. Multi-agent systems can solve problems \n",
       "that are difficult or impossible for an individual agent or a monolithic system to solve. Intelligence may include \n",
       "methodic, functional, procedural approaches, algorithmic search or reinforcement learning.\n",
       "</pre>\n"
      ],
      "text/plain": [
       "Monte Carlo tree search\n",
       "In computer science, Monte Carlo tree search \u001b[1m(\u001b[0mMCTS\u001b[1m)\u001b[0m is a heuristic search algorithm for some kinds of decision \n",
       "processes.\n",
       "\n",
       "multi-agent system \u001b[1m(\u001b[0mMAS\u001b[1m)\u001b[0m\n",
       "Also self-organized system.\n",
       "A computerized system composed of multiple interacting intelligent agents. Multi-agent systems can solve problems \n",
       "that are difficult or impossible for an individual agent or a monolithic system to solve. Intelligence may include \n",
       "methodic, functional, procedural approaches, algorithmic search or reinforcement learning.\n"
      ]
     },
     "metadata": {},
     "output_type": "display_data"
    },
    {
     "data": {
      "text/html": [
       "<pre style=\"white-space:pre;overflow-x:auto;line-height:normal;font-family:Menlo,'DejaVu Sans Mono',consolas,'Courier New',monospace\">multi-swarm optimization\n",
       "A variant of particle swarm optimization <span style=\"font-weight: bold\">(</span>PSO<span style=\"font-weight: bold\">)</span> based on the use of multiple sub-swarms instead of one <span style=\"font-weight: bold\">(</span>standard<span style=\"font-weight: bold\">)</span> \n",
       "swarm. The general approach in multi-swarm optimization is that each sub-swarm focuses on a specific region while a\n",
       "specific diversification method decides where and when to launch the sub-swarms. The multi-swarm framework is \n",
       "especially fitted for the optimization on multi-modal problems, where multiple <span style=\"font-weight: bold\">(</span>local<span style=\"font-weight: bold\">)</span> optima exist.\n",
       "</pre>\n"
      ],
      "text/plain": [
       "multi-swarm optimization\n",
       "A variant of particle swarm optimization \u001b[1m(\u001b[0mPSO\u001b[1m)\u001b[0m based on the use of multiple sub-swarms instead of one \u001b[1m(\u001b[0mstandard\u001b[1m)\u001b[0m \n",
       "swarm. The general approach in multi-swarm optimization is that each sub-swarm focuses on a specific region while a\n",
       "specific diversification method decides where and when to launch the sub-swarms. The multi-swarm framework is \n",
       "especially fitted for the optimization on multi-modal problems, where multiple \u001b[1m(\u001b[0mlocal\u001b[1m)\u001b[0m optima exist.\n"
      ]
     },
     "metadata": {},
     "output_type": "display_data"
    },
    {
     "data": {
      "text/html": [
       "<pre style=\"white-space:pre;overflow-x:auto;line-height:normal;font-family:Menlo,'DejaVu Sans Mono',consolas,'Courier New',monospace\">mutation\n",
       "A genetic operator used to maintain genetic diversity from one generation of a population of genetic algorithm \n",
       "chromosomes to the next. It is analogous to biological mutation. Mutation alters one or more gene values in a \n",
       "chromosome from its initial state. In mutation, the solution may change entirely from the previous solution. Hence \n",
       "GA can come to a better solution by using mutation. Mutation occurs during evolution according to a user-definable \n",
       "mutation probability. This probability should be set low. If it is set too high, the search will turn into a \n",
       "primitive random search.\n",
       "</pre>\n"
      ],
      "text/plain": [
       "mutation\n",
       "A genetic operator used to maintain genetic diversity from one generation of a population of genetic algorithm \n",
       "chromosomes to the next. It is analogous to biological mutation. Mutation alters one or more gene values in a \n",
       "chromosome from its initial state. In mutation, the solution may change entirely from the previous solution. Hence \n",
       "GA can come to a better solution by using mutation. Mutation occurs during evolution according to a user-definable \n",
       "mutation probability. This probability should be set low. If it is set too high, the search will turn into a \n",
       "primitive random search.\n"
      ]
     },
     "metadata": {},
     "output_type": "display_data"
    },
    {
     "data": {
      "text/html": [
       "<pre style=\"white-space:pre;overflow-x:auto;line-height:normal;font-family:Menlo,'DejaVu Sans Mono',consolas,'Courier New',monospace\">Mycin\n",
       "An early backward chaining expert system that used artificial intelligence to identify bacteria causing severe \n",
       "infections, such as bacteremia and meningitis, and to recommend antibiotics, with the dosage adjusted for patient's\n",
       "body weight – the name derived from the antibiotics themselves, as many antibiotics have the suffix <span style=\"color: #008000; text-decoration-color: #008000\">\"-mycin\"</span>. The \n",
       "MYCIN system was also used for the diagnosis of blood clotting diseases.\n",
       "\n",
       "\n",
       "== N ==\n",
       "\n",
       "naive Bayes classifier\n",
       "In machine learning, naive Bayes classifiers are a family of simple probabilistic classifiers based on applying \n",
       "Bayes' theorem with strong <span style=\"font-weight: bold\">(</span>naive<span style=\"font-weight: bold\">)</span> independence assumptions between the features.\n",
       "</pre>\n"
      ],
      "text/plain": [
       "Mycin\n",
       "An early backward chaining expert system that used artificial intelligence to identify bacteria causing severe \n",
       "infections, such as bacteremia and meningitis, and to recommend antibiotics, with the dosage adjusted for patient's\n",
       "body weight – the name derived from the antibiotics themselves, as many antibiotics have the suffix \u001b[32m\"-mycin\"\u001b[0m. The \n",
       "MYCIN system was also used for the diagnosis of blood clotting diseases.\n",
       "\n",
       "\n",
       "== N ==\n",
       "\n",
       "naive Bayes classifier\n",
       "In machine learning, naive Bayes classifiers are a family of simple probabilistic classifiers based on applying \n",
       "Bayes' theorem with strong \u001b[1m(\u001b[0mnaive\u001b[1m)\u001b[0m independence assumptions between the features.\n"
      ]
     },
     "metadata": {},
     "output_type": "display_data"
    },
    {
     "data": {
      "text/html": [
       "<pre style=\"white-space:pre;overflow-x:auto;line-height:normal;font-family:Menlo,'DejaVu Sans Mono',consolas,'Courier New',monospace\">naive semantics\n",
       "An approach used in computer science for representing basic knowledge about a specific domain, and has been used in\n",
       "applications such as the representation of the meaning of natural language sentences in artificial intelligence \n",
       "applications. In a general setting the term has been used to refer to the use of a limited store of generally \n",
       "understood knowledge about a specific domain in the world, and has been applied to fields such as the knowledge \n",
       "based design of data schemas.\n",
       "\n",
       "name binding\n",
       "In programming languages, name binding is the association of entities <span style=\"font-weight: bold\">(</span>data and/or code<span style=\"font-weight: bold\">)</span> with identifiers. An \n",
       "identifier bound to an object is said to reference that object.\n",
       "</pre>\n"
      ],
      "text/plain": [
       "naive semantics\n",
       "An approach used in computer science for representing basic knowledge about a specific domain, and has been used in\n",
       "applications such as the representation of the meaning of natural language sentences in artificial intelligence \n",
       "applications. In a general setting the term has been used to refer to the use of a limited store of generally \n",
       "understood knowledge about a specific domain in the world, and has been applied to fields such as the knowledge \n",
       "based design of data schemas.\n",
       "\n",
       "name binding\n",
       "In programming languages, name binding is the association of entities \u001b[1m(\u001b[0mdata and/or code\u001b[1m)\u001b[0m with identifiers. An \n",
       "identifier bound to an object is said to reference that object.\n"
      ]
     },
     "metadata": {},
     "output_type": "display_data"
    },
    {
     "data": {
      "text/html": [
       "<pre style=\"white-space:pre;overflow-x:auto;line-height:normal;font-family:Menlo,'DejaVu Sans Mono',consolas,'Courier New',monospace\">An identifier bound to an object is said to reference that object. Machine languages have no built-in notion of \n",
       "identifiers, but name-object bindings as a service and notation for the programmer is implemented by programming \n",
       "languages. Binding is intimately connected with scoping, as scope determines which names bind to which objects – at\n",
       "which locations in the program code <span style=\"font-weight: bold\">(</span>lexically<span style=\"font-weight: bold\">)</span> and in which one of the possible execution paths <span style=\"font-weight: bold\">(</span>temporally<span style=\"font-weight: bold\">)</span>.  Use\n",
       "of an identifier id in a context that establishes a binding for id is called a binding <span style=\"font-weight: bold\">(</span>or defining<span style=\"font-weight: bold\">)</span> occurrence.\n",
       "</pre>\n"
      ],
      "text/plain": [
       "An identifier bound to an object is said to reference that object. Machine languages have no built-in notion of \n",
       "identifiers, but name-object bindings as a service and notation for the programmer is implemented by programming \n",
       "languages. Binding is intimately connected with scoping, as scope determines which names bind to which objects – at\n",
       "which locations in the program code \u001b[1m(\u001b[0mlexically\u001b[1m)\u001b[0m and in which one of the possible execution paths \u001b[1m(\u001b[0mtemporally\u001b[1m)\u001b[0m.  Use\n",
       "of an identifier id in a context that establishes a binding for id is called a binding \u001b[1m(\u001b[0mor defining\u001b[1m)\u001b[0m occurrence.\n"
      ]
     },
     "metadata": {},
     "output_type": "display_data"
    },
    {
     "data": {
      "text/html": [
       "<pre style=\"white-space:pre;overflow-x:auto;line-height:normal;font-family:Menlo,'DejaVu Sans Mono',consolas,'Courier New',monospace\">In all other occurrences <span style=\"font-weight: bold\">(</span>e.g., in expressions, assignments, and subprogram calls<span style=\"font-weight: bold\">)</span>, an identifier stands for what \n",
       "it is bound to; such occurrences are called applied occurrences.\n",
       "\n",
       "named-entity recognition <span style=\"font-weight: bold\">(</span>NER<span style=\"font-weight: bold\">)</span>\n",
       "Also entity identification, entity chunking, and entity extraction.\n",
       "A subtask of information extraction that seeks to locate and classify named entity mentions in unstructured text \n",
       "into pre-defined categories such as the person names, organizations, locations, medical codes, time expressions, \n",
       "quantities, monetary values, percentages, etc.\n",
       "</pre>\n"
      ],
      "text/plain": [
       "In all other occurrences \u001b[1m(\u001b[0me.g., in expressions, assignments, and subprogram calls\u001b[1m)\u001b[0m, an identifier stands for what \n",
       "it is bound to; such occurrences are called applied occurrences.\n",
       "\n",
       "named-entity recognition \u001b[1m(\u001b[0mNER\u001b[1m)\u001b[0m\n",
       "Also entity identification, entity chunking, and entity extraction.\n",
       "A subtask of information extraction that seeks to locate and classify named entity mentions in unstructured text \n",
       "into pre-defined categories such as the person names, organizations, locations, medical codes, time expressions, \n",
       "quantities, monetary values, percentages, etc.\n"
      ]
     },
     "metadata": {},
     "output_type": "display_data"
    },
    {
     "data": {
      "text/html": [
       "<pre style=\"white-space:pre;overflow-x:auto;line-height:normal;font-family:Menlo,'DejaVu Sans Mono',consolas,'Courier New',monospace\">named graph\n",
       "A key concept of Semantic Web architecture in which a set of Resource Description Framework statements <span style=\"font-weight: bold\">(</span>a graph<span style=\"font-weight: bold\">)</span> \n",
       "are identified using a URI, allowing descriptions to be made of that set of statements such as context, provenance \n",
       "information or other such metadata.  Named graphs are a simple extension of the RDF data model through which graphs\n",
       "can be created but the model lacks an effective means of distinguishing between them once published on the Web at \n",
       "large.\n",
       "</pre>\n"
      ],
      "text/plain": [
       "named graph\n",
       "A key concept of Semantic Web architecture in which a set of Resource Description Framework statements \u001b[1m(\u001b[0ma graph\u001b[1m)\u001b[0m \n",
       "are identified using a URI, allowing descriptions to be made of that set of statements such as context, provenance \n",
       "information or other such metadata.  Named graphs are a simple extension of the RDF data model through which graphs\n",
       "can be created but the model lacks an effective means of distinguishing between them once published on the Web at \n",
       "large.\n"
      ]
     },
     "metadata": {},
     "output_type": "display_data"
    },
    {
     "data": {
      "text/html": [
       "<pre style=\"white-space:pre;overflow-x:auto;line-height:normal;font-family:Menlo,'DejaVu Sans Mono',consolas,'Courier New',monospace\">natural language generation <span style=\"font-weight: bold\">(</span>NLG<span style=\"font-weight: bold\">)</span>\n",
       "A software process that transforms structured data into plain-English content.  It can be used to produce long-form\n",
       "content for organizations to automate custom reports, as well as produce custom content for a web or mobile \n",
       "application. It can also be used to generate short blurbs of text in interactive conversations <span style=\"font-weight: bold\">(</span>a chatbot<span style=\"font-weight: bold\">)</span> which \n",
       "might even be read out loud by a text-to-speech system.\n",
       "</pre>\n"
      ],
      "text/plain": [
       "natural language generation \u001b[1m(\u001b[0mNLG\u001b[1m)\u001b[0m\n",
       "A software process that transforms structured data into plain-English content.  It can be used to produce long-form\n",
       "content for organizations to automate custom reports, as well as produce custom content for a web or mobile \n",
       "application. It can also be used to generate short blurbs of text in interactive conversations \u001b[1m(\u001b[0ma chatbot\u001b[1m)\u001b[0m which \n",
       "might even be read out loud by a text-to-speech system.\n"
      ]
     },
     "metadata": {},
     "output_type": "display_data"
    },
    {
     "data": {
      "text/html": [
       "<pre style=\"white-space:pre;overflow-x:auto;line-height:normal;font-family:Menlo,'DejaVu Sans Mono',consolas,'Courier New',monospace\">natural language processing <span style=\"font-weight: bold\">(</span>NLP<span style=\"font-weight: bold\">)</span>\n",
       "A subfield of computer science, information engineering, and artificial intelligence concerned with the \n",
       "interactions between computers and human <span style=\"font-weight: bold\">(</span>natural<span style=\"font-weight: bold\">)</span> languages, in particular how to program computers to process and\n",
       "analyze large amounts of natural language data.\n",
       "\n",
       "natural language programming\n",
       "An ontology-assisted way of programming in terms of natural-language sentences, e.g. English.\n",
       "</pre>\n"
      ],
      "text/plain": [
       "natural language processing \u001b[1m(\u001b[0mNLP\u001b[1m)\u001b[0m\n",
       "A subfield of computer science, information engineering, and artificial intelligence concerned with the \n",
       "interactions between computers and human \u001b[1m(\u001b[0mnatural\u001b[1m)\u001b[0m languages, in particular how to program computers to process and\n",
       "analyze large amounts of natural language data.\n",
       "\n",
       "natural language programming\n",
       "An ontology-assisted way of programming in terms of natural-language sentences, e.g. English.\n"
      ]
     },
     "metadata": {},
     "output_type": "display_data"
    },
    {
     "data": {
      "text/html": [
       "<pre style=\"white-space:pre;overflow-x:auto;line-height:normal;font-family:Menlo,'DejaVu Sans Mono',consolas,'Courier New',monospace\">network motif\n",
       "All networks, including biological networks, social networks, technological networks <span style=\"font-weight: bold\">(</span>e.g., computer networks and \n",
       "electrical circuits<span style=\"font-weight: bold\">)</span> and more, can be represented as graphs, which include a wide variety of subgraphs. One \n",
       "important local property of networks are so-called network motifs, which are defined as recurrent and statistically\n",
       "significant sub-graphs or patterns.\n",
       "\n",
       "neural machine translation <span style=\"font-weight: bold\">(</span>NMT<span style=\"font-weight: bold\">)</span>\n",
       "An approach to machine translation that uses a large artificial neural network to predict the likelihood of a \n",
       "sequence of words, typically modeling entire sentences in a single integrated model.\n",
       "\n",
       "neural network\n",
       "Also artificial neural network.\n",
       "</pre>\n"
      ],
      "text/plain": [
       "network motif\n",
       "All networks, including biological networks, social networks, technological networks \u001b[1m(\u001b[0me.g., computer networks and \n",
       "electrical circuits\u001b[1m)\u001b[0m and more, can be represented as graphs, which include a wide variety of subgraphs. One \n",
       "important local property of networks are so-called network motifs, which are defined as recurrent and statistically\n",
       "significant sub-graphs or patterns.\n",
       "\n",
       "neural machine translation \u001b[1m(\u001b[0mNMT\u001b[1m)\u001b[0m\n",
       "An approach to machine translation that uses a large artificial neural network to predict the likelihood of a \n",
       "sequence of words, typically modeling entire sentences in a single integrated model.\n",
       "\n",
       "neural network\n",
       "Also artificial neural network.\n"
      ]
     },
     "metadata": {},
     "output_type": "display_data"
    },
    {
     "data": {
      "text/html": [
       "<pre style=\"white-space:pre;overflow-x:auto;line-height:normal;font-family:Menlo,'DejaVu Sans Mono',consolas,'Courier New',monospace\">neural network\n",
       "Also artificial neural network.\n",
       "A neural network can refer to either a neural circuit of biological neurons <span style=\"font-weight: bold\">(</span>sometimes also called a biological \n",
       "neural network<span style=\"font-weight: bold\">)</span>, or a network of artificial neurons or nodes in the case of an artificial neural network. \n",
       "Artificial neural networks are used for solving artificial intelligence <span style=\"font-weight: bold\">(</span>AI<span style=\"font-weight: bold\">)</span> problems; they model connections of \n",
       "biological neurons as weights between nodes. A positive weight reflects an excitatory connection, while negative \n",
       "values mean inhibitory connections. All inputs are modified by a weight and summed. This activity is referred to as\n",
       "a linear combination.\n",
       "</pre>\n"
      ],
      "text/plain": [
       "neural network\n",
       "Also artificial neural network.\n",
       "A neural network can refer to either a neural circuit of biological neurons \u001b[1m(\u001b[0msometimes also called a biological \n",
       "neural network\u001b[1m)\u001b[0m, or a network of artificial neurons or nodes in the case of an artificial neural network. \n",
       "Artificial neural networks are used for solving artificial intelligence \u001b[1m(\u001b[0mAI\u001b[1m)\u001b[0m problems; they model connections of \n",
       "biological neurons as weights between nodes. A positive weight reflects an excitatory connection, while negative \n",
       "values mean inhibitory connections. All inputs are modified by a weight and summed. This activity is referred to as\n",
       "a linear combination.\n"
      ]
     },
     "metadata": {},
     "output_type": "display_data"
    },
    {
     "data": {
      "text/html": [
       "<pre style=\"white-space:pre;overflow-x:auto;line-height:normal;font-family:Menlo,'DejaVu Sans Mono',consolas,'Courier New',monospace\">This activity is referred to as a linear combination. Finally, an activation function controls the amplitude of the\n",
       "output. For example, an acceptable range of output is usually between <span style=\"color: #008080; text-decoration-color: #008080; font-weight: bold\">0</span> and <span style=\"color: #008080; text-decoration-color: #008080; font-weight: bold\">1</span>, or it could be −<span style=\"color: #008080; text-decoration-color: #008080; font-weight: bold\">1</span> and <span style=\"color: #008080; text-decoration-color: #008080; font-weight: bold\">1</span>.\n",
       "</pre>\n"
      ],
      "text/plain": [
       "This activity is referred to as a linear combination. Finally, an activation function controls the amplitude of the\n",
       "output. For example, an acceptable range of output is usually between \u001b[1;36m0\u001b[0m and \u001b[1;36m1\u001b[0m, or it could be −\u001b[1;36m1\u001b[0m and \u001b[1;36m1\u001b[0m.\n"
      ]
     },
     "metadata": {},
     "output_type": "display_data"
    },
    {
     "data": {
      "text/html": [
       "<pre style=\"white-space:pre;overflow-x:auto;line-height:normal;font-family:Menlo,'DejaVu Sans Mono',consolas,'Courier New',monospace\">neural Turing machine <span style=\"font-weight: bold\">(</span>NTM<span style=\"font-weight: bold\">)</span>\n",
       "A recurrent neural network model. NTMs combine the fuzzy pattern matching capabilities of neural networks with the \n",
       "algorithmic power of programmable computers. An NTM has a neural network controller coupled to external memory \n",
       "resources, which it interacts with through attentional mechanisms. The memory interactions are differentiable \n",
       "end-to-end, making it possible to optimize them using gradient descent. An NTM with a long short-term memory <span style=\"font-weight: bold\">(</span>LSTM<span style=\"font-weight: bold\">)</span>\n",
       "network controller can infer simple algorithms such as copying, sorting, and associative recall from examples \n",
       "alone.\n",
       "\n",
       "neuro-fuzzy\n",
       "Combinations of artificial neural networks and fuzzy logic.\n",
       "</pre>\n"
      ],
      "text/plain": [
       "neural Turing machine \u001b[1m(\u001b[0mNTM\u001b[1m)\u001b[0m\n",
       "A recurrent neural network model. NTMs combine the fuzzy pattern matching capabilities of neural networks with the \n",
       "algorithmic power of programmable computers. An NTM has a neural network controller coupled to external memory \n",
       "resources, which it interacts with through attentional mechanisms. The memory interactions are differentiable \n",
       "end-to-end, making it possible to optimize them using gradient descent. An NTM with a long short-term memory \u001b[1m(\u001b[0mLSTM\u001b[1m)\u001b[0m\n",
       "network controller can infer simple algorithms such as copying, sorting, and associative recall from examples \n",
       "alone.\n",
       "\n",
       "neuro-fuzzy\n",
       "Combinations of artificial neural networks and fuzzy logic.\n"
      ]
     },
     "metadata": {},
     "output_type": "display_data"
    },
    {
     "data": {
      "text/html": [
       "<pre style=\"white-space:pre;overflow-x:auto;line-height:normal;font-family:Menlo,'DejaVu Sans Mono',consolas,'Courier New',monospace\">neuro-fuzzy\n",
       "Combinations of artificial neural networks and fuzzy logic.\n",
       "\n",
       "neurocybernetics\n",
       "Also brain–computer interface <span style=\"font-weight: bold\">(</span>BCI<span style=\"font-weight: bold\">)</span>, neural-control interface <span style=\"font-weight: bold\">(</span>NCI<span style=\"font-weight: bold\">)</span>, mind-machine interface <span style=\"font-weight: bold\">(</span>MMI<span style=\"font-weight: bold\">)</span>, direct neural \n",
       "interface <span style=\"font-weight: bold\">(</span>DNI<span style=\"font-weight: bold\">)</span>, or brain–machine interface <span style=\"font-weight: bold\">(</span>BMI<span style=\"font-weight: bold\">)</span>.\n",
       "A direct communication pathway between an enhanced or wired brain and an external device. BCI differs from \n",
       "neuromodulation in that it allows for bidirectional information flow. BCIs are often directed at researching, \n",
       "mapping, assisting, augmenting, or repairing human cognitive or sensory-motor functions.\n",
       "</pre>\n"
      ],
      "text/plain": [
       "neuro-fuzzy\n",
       "Combinations of artificial neural networks and fuzzy logic.\n",
       "\n",
       "neurocybernetics\n",
       "Also brain–computer interface \u001b[1m(\u001b[0mBCI\u001b[1m)\u001b[0m, neural-control interface \u001b[1m(\u001b[0mNCI\u001b[1m)\u001b[0m, mind-machine interface \u001b[1m(\u001b[0mMMI\u001b[1m)\u001b[0m, direct neural \n",
       "interface \u001b[1m(\u001b[0mDNI\u001b[1m)\u001b[0m, or brain–machine interface \u001b[1m(\u001b[0mBMI\u001b[1m)\u001b[0m.\n",
       "A direct communication pathway between an enhanced or wired brain and an external device. BCI differs from \n",
       "neuromodulation in that it allows for bidirectional information flow. BCIs are often directed at researching, \n",
       "mapping, assisting, augmenting, or repairing human cognitive or sensory-motor functions.\n"
      ]
     },
     "metadata": {},
     "output_type": "display_data"
    },
    {
     "data": {
      "text/html": [
       "<pre style=\"white-space:pre;overflow-x:auto;line-height:normal;font-family:Menlo,'DejaVu Sans Mono',consolas,'Courier New',monospace\">neuromorphic engineering\n",
       "Also neuromorphic computing.\n",
       "A concept describing the use of very-large-scale integration <span style=\"font-weight: bold\">(</span>VLSI<span style=\"font-weight: bold\">)</span> systems containing electronic analog circuits \n",
       "to mimic neuro-biological architectures present in the nervous system. In recent times, the term neuromorphic has \n",
       "been used to describe analog, digital, mixed-mode analog/digital VLSI, and software systems that implement models \n",
       "of neural systems <span style=\"font-weight: bold\">(</span>for perception, motor control, or multisensory integration<span style=\"font-weight: bold\">)</span>. The implementation of neuromorphic \n",
       "computing on the hardware level can be realized by oxide-based memristors, spintronic memories, threshold switches,\n",
       "and transistors.\n",
       "</pre>\n"
      ],
      "text/plain": [
       "neuromorphic engineering\n",
       "Also neuromorphic computing.\n",
       "A concept describing the use of very-large-scale integration \u001b[1m(\u001b[0mVLSI\u001b[1m)\u001b[0m systems containing electronic analog circuits \n",
       "to mimic neuro-biological architectures present in the nervous system. In recent times, the term neuromorphic has \n",
       "been used to describe analog, digital, mixed-mode analog/digital VLSI, and software systems that implement models \n",
       "of neural systems \u001b[1m(\u001b[0mfor perception, motor control, or multisensory integration\u001b[1m)\u001b[0m. The implementation of neuromorphic \n",
       "computing on the hardware level can be realized by oxide-based memristors, spintronic memories, threshold switches,\n",
       "and transistors.\n"
      ]
     },
     "metadata": {},
     "output_type": "display_data"
    },
    {
     "data": {
      "text/html": [
       "<pre style=\"white-space:pre;overflow-x:auto;line-height:normal;font-family:Menlo,'DejaVu Sans Mono',consolas,'Courier New',monospace\">node\n",
       "A basic unit of a data structure, such as a linked list or tree data structure. Nodes contain data and also may \n",
       "link to other nodes. Links between nodes are often implemented by pointers.\n",
       "\n",
       "nondeterministic algorithm\n",
       "An algorithm that, even for the same input, can exhibit different behaviors on different runs, as opposed to a \n",
       "deterministic algorithm.\n",
       "</pre>\n"
      ],
      "text/plain": [
       "node\n",
       "A basic unit of a data structure, such as a linked list or tree data structure. Nodes contain data and also may \n",
       "link to other nodes. Links between nodes are often implemented by pointers.\n",
       "\n",
       "nondeterministic algorithm\n",
       "An algorithm that, even for the same input, can exhibit different behaviors on different runs, as opposed to a \n",
       "deterministic algorithm.\n"
      ]
     },
     "metadata": {},
     "output_type": "display_data"
    },
    {
     "data": {
      "text/html": [
       "<pre style=\"white-space:pre;overflow-x:auto;line-height:normal;font-family:Menlo,'DejaVu Sans Mono',consolas,'Courier New',monospace\">nouvelle AI\n",
       "Nouvelle AI differs from classical AI by aiming to produce robots with intelligence levels similar to insects. \n",
       "Researchers believe that intelligence can emerge organically from simple behaviors as these intelligences \n",
       "interacted with the <span style=\"color: #008000; text-decoration-color: #008000\">\"real world\"</span>, instead of using the constructed worlds which symbolic AIs typically needed to \n",
       "have programmed into them.\n",
       "\n",
       "NP\n",
       "In computational complexity theory, NP <span style=\"font-weight: bold\">(</span>nondeterministic polynomial time<span style=\"font-weight: bold\">)</span> is a complexity class used to classify \n",
       "decision problems.  NP is the set of decision problems for which the problem instances, where the answer is <span style=\"color: #008000; text-decoration-color: #008000\">\"yes\"</span>, \n",
       "have proofs verifiable in polynomial time.\n",
       "</pre>\n"
      ],
      "text/plain": [
       "nouvelle AI\n",
       "Nouvelle AI differs from classical AI by aiming to produce robots with intelligence levels similar to insects. \n",
       "Researchers believe that intelligence can emerge organically from simple behaviors as these intelligences \n",
       "interacted with the \u001b[32m\"real world\"\u001b[0m, instead of using the constructed worlds which symbolic AIs typically needed to \n",
       "have programmed into them.\n",
       "\n",
       "NP\n",
       "In computational complexity theory, NP \u001b[1m(\u001b[0mnondeterministic polynomial time\u001b[1m)\u001b[0m is a complexity class used to classify \n",
       "decision problems.  NP is the set of decision problems for which the problem instances, where the answer is \u001b[32m\"yes\"\u001b[0m, \n",
       "have proofs verifiable in polynomial time.\n"
      ]
     },
     "metadata": {},
     "output_type": "display_data"
    },
    {
     "data": {
      "text/html": [
       "<pre style=\"white-space:pre;overflow-x:auto;line-height:normal;font-family:Menlo,'DejaVu Sans Mono',consolas,'Courier New',monospace\">NP-completeness\n",
       "In computational complexity theory, a problem is NP-complete when it can be solved by a restricted class of brute \n",
       "force search algorithms and it can be used to simulate any other problem with a similar algorithm. More precisely, \n",
       "each input to the problem should be associated with a set of solutions of polynomial length, whose validity can be \n",
       "tested quickly <span style=\"font-weight: bold\">(</span>in polynomial time<span style=\"font-weight: bold\">)</span>, such that the output for any input is <span style=\"color: #008000; text-decoration-color: #008000\">\"yes\"</span> if the solution set is non-empty \n",
       "and <span style=\"color: #008000; text-decoration-color: #008000\">\"no\"</span> if it is empty.\n",
       "</pre>\n"
      ],
      "text/plain": [
       "NP-completeness\n",
       "In computational complexity theory, a problem is NP-complete when it can be solved by a restricted class of brute \n",
       "force search algorithms and it can be used to simulate any other problem with a similar algorithm. More precisely, \n",
       "each input to the problem should be associated with a set of solutions of polynomial length, whose validity can be \n",
       "tested quickly \u001b[1m(\u001b[0min polynomial time\u001b[1m)\u001b[0m, such that the output for any input is \u001b[32m\"yes\"\u001b[0m if the solution set is non-empty \n",
       "and \u001b[32m\"no\"\u001b[0m if it is empty.\n"
      ]
     },
     "metadata": {},
     "output_type": "display_data"
    },
    {
     "data": {
      "text/html": [
       "<pre style=\"white-space:pre;overflow-x:auto;line-height:normal;font-family:Menlo,'DejaVu Sans Mono',consolas,'Courier New',monospace\">NP-hardness\n",
       "Also non-deterministic polynomial-time hardness.\n",
       "In computational complexity theory, the defining property of a class of problems that are, informally, <span style=\"color: #008000; text-decoration-color: #008000\">\"at least as</span>\n",
       "<span style=\"color: #008000; text-decoration-color: #008000\">hard as the hardest problems in NP\"</span>. A simple example of an NP-hard problem is the subset sum problem.\n",
       "\n",
       "\n",
       "== O ==\n",
       "</pre>\n"
      ],
      "text/plain": [
       "NP-hardness\n",
       "Also non-deterministic polynomial-time hardness.\n",
       "In computational complexity theory, the defining property of a class of problems that are, informally, \u001b[32m\"at least as\u001b[0m\n",
       "\u001b[32mhard as the hardest problems in NP\"\u001b[0m. A simple example of an NP-hard problem is the subset sum problem.\n",
       "\n",
       "\n",
       "== O ==\n"
      ]
     },
     "metadata": {},
     "output_type": "display_data"
    },
    {
     "data": {
      "text/html": [
       "<pre style=\"white-space:pre;overflow-x:auto;line-height:normal;font-family:Menlo,'DejaVu Sans Mono',consolas,'Courier New',monospace\">== O ==\n",
       "\n",
       "Occam's razor\n",
       "Also Ockham's razor or Ocham's razor.\n",
       "The problem-solving principle that states that when presented with competing hypotheses that make the same \n",
       "predictions, one should select the solution with the fewest assumptions; the principle is not meant to filter out \n",
       "hypotheses that make different predictions. The idea is attributed to the English Franciscan friar William of \n",
       "Ockham <span style=\"font-weight: bold\">(</span>c. <span style=\"color: #008080; text-decoration-color: #008080; font-weight: bold\">1287</span>–<span style=\"color: #008080; text-decoration-color: #008080; font-weight: bold\">1347</span><span style=\"font-weight: bold\">)</span>, a scholastic philosopher and theologian.\n",
       "</pre>\n"
      ],
      "text/plain": [
       "== O ==\n",
       "\n",
       "Occam's razor\n",
       "Also Ockham's razor or Ocham's razor.\n",
       "The problem-solving principle that states that when presented with competing hypotheses that make the same \n",
       "predictions, one should select the solution with the fewest assumptions; the principle is not meant to filter out \n",
       "hypotheses that make different predictions. The idea is attributed to the English Franciscan friar William of \n",
       "Ockham \u001b[1m(\u001b[0mc. \u001b[1;36m1287\u001b[0m–\u001b[1;36m1347\u001b[0m\u001b[1m)\u001b[0m, a scholastic philosopher and theologian.\n"
      ]
     },
     "metadata": {},
     "output_type": "display_data"
    },
    {
     "data": {
      "text/html": [
       "<pre style=\"white-space:pre;overflow-x:auto;line-height:normal;font-family:Menlo,'DejaVu Sans Mono',consolas,'Courier New',monospace\">offline learning\n",
       "A machine learning training approach in which a model is trained on a fixed dataset that is not updated during the \n",
       "learning process.\n",
       "</pre>\n"
      ],
      "text/plain": [
       "offline learning\n",
       "A machine learning training approach in which a model is trained on a fixed dataset that is not updated during the \n",
       "learning process.\n"
      ]
     },
     "metadata": {},
     "output_type": "display_data"
    },
    {
     "data": {
      "text/html": [
       "<pre style=\"white-space:pre;overflow-x:auto;line-height:normal;font-family:Menlo,'DejaVu Sans Mono',consolas,'Courier New',monospace\">online machine learning\n",
       "A method of machine learning in which data becomes available in a sequential order and is used to update the best \n",
       "predictor for future data at each step, as opposed to batch learning techniques which generate the best predictor \n",
       "by learning on the entire training data set at once. Online learning is a common technique used in areas of machine\n",
       "learning where it is computationally infeasible to train over the entire dataset, requiring the need of out-of-core\n",
       "algorithms. It is also used in situations where it is necessary for the algorithm to dynamically adapt to new \n",
       "patterns in the data, or when the data itself is generated as a function of time.\n",
       "</pre>\n"
      ],
      "text/plain": [
       "online machine learning\n",
       "A method of machine learning in which data becomes available in a sequential order and is used to update the best \n",
       "predictor for future data at each step, as opposed to batch learning techniques which generate the best predictor \n",
       "by learning on the entire training data set at once. Online learning is a common technique used in areas of machine\n",
       "learning where it is computationally infeasible to train over the entire dataset, requiring the need of out-of-core\n",
       "algorithms. It is also used in situations where it is necessary for the algorithm to dynamically adapt to new \n",
       "patterns in the data, or when the data itself is generated as a function of time.\n"
      ]
     },
     "metadata": {},
     "output_type": "display_data"
    },
    {
     "data": {
      "text/html": [
       "<pre style=\"white-space:pre;overflow-x:auto;line-height:normal;font-family:Menlo,'DejaVu Sans Mono',consolas,'Courier New',monospace\">ontology learning\n",
       "Also ontology extraction, ontology generation, or ontology acquisition.\n",
       "The automatic or semi-automatic creation of ontologies, including extracting the corresponding domain's terms and \n",
       "the relationships between the concepts that these terms represent from a corpus of natural language text, and \n",
       "encoding them with an ontology language for easy retrieval.\n",
       "\n",
       "OpenAI\n",
       "The for-profit corporation OpenAI LP, whose parent organization is the non-profit organization OpenAI Inc that \n",
       "conducts research in the field of artificial intelligence <span style=\"font-weight: bold\">(</span>AI<span style=\"font-weight: bold\">)</span> with the stated aim to promote and develop friendly \n",
       "AI in such a way as to benefit humanity as a whole.\n",
       "</pre>\n"
      ],
      "text/plain": [
       "ontology learning\n",
       "Also ontology extraction, ontology generation, or ontology acquisition.\n",
       "The automatic or semi-automatic creation of ontologies, including extracting the corresponding domain's terms and \n",
       "the relationships between the concepts that these terms represent from a corpus of natural language text, and \n",
       "encoding them with an ontology language for easy retrieval.\n",
       "\n",
       "OpenAI\n",
       "The for-profit corporation OpenAI LP, whose parent organization is the non-profit organization OpenAI Inc that \n",
       "conducts research in the field of artificial intelligence \u001b[1m(\u001b[0mAI\u001b[1m)\u001b[0m with the stated aim to promote and develop friendly \n",
       "AI in such a way as to benefit humanity as a whole.\n"
      ]
     },
     "metadata": {},
     "output_type": "display_data"
    },
    {
     "data": {
      "text/html": [
       "<pre style=\"white-space:pre;overflow-x:auto;line-height:normal;font-family:Menlo,'DejaVu Sans Mono',consolas,'Courier New',monospace\">OpenCog\n",
       "A project that aims to build an open-source artificial intelligence framework. OpenCog Prime is an architecture for\n",
       "robot and virtual embodied cognition that defines a set of interacting components designed to give rise to \n",
       "human-equivalent artificial general intelligence <span style=\"font-weight: bold\">(</span>AGI<span style=\"font-weight: bold\">)</span> as an emergent phenomenon of the whole system.\n",
       "\n",
       "Open Mind Common Sense\n",
       "An artificial intelligence project based at the Massachusetts Institute of Technology <span style=\"font-weight: bold\">(</span>MIT<span style=\"font-weight: bold\">)</span> Media Lab whose goal is\n",
       "to build and utilize a large commonsense knowledge base from the contributions of many thousands of people across \n",
       "the Web.\n",
       "</pre>\n"
      ],
      "text/plain": [
       "OpenCog\n",
       "A project that aims to build an open-source artificial intelligence framework. OpenCog Prime is an architecture for\n",
       "robot and virtual embodied cognition that defines a set of interacting components designed to give rise to \n",
       "human-equivalent artificial general intelligence \u001b[1m(\u001b[0mAGI\u001b[1m)\u001b[0m as an emergent phenomenon of the whole system.\n",
       "\n",
       "Open Mind Common Sense\n",
       "An artificial intelligence project based at the Massachusetts Institute of Technology \u001b[1m(\u001b[0mMIT\u001b[1m)\u001b[0m Media Lab whose goal is\n",
       "to build and utilize a large commonsense knowledge base from the contributions of many thousands of people across \n",
       "the Web.\n"
      ]
     },
     "metadata": {},
     "output_type": "display_data"
    },
    {
     "data": {
      "text/html": [
       "<pre style=\"white-space:pre;overflow-x:auto;line-height:normal;font-family:Menlo,'DejaVu Sans Mono',consolas,'Courier New',monospace\">open-source software <span style=\"font-weight: bold\">(</span>OSS<span style=\"font-weight: bold\">)</span>\n",
       "A type of computer software in which source code is released under an license in which the copyright holder grants \n",
       "users the rights to study, change, and distribute the software to anyone and for any purpose. Open-source software \n",
       "may be developed in an collaborative public manner. Open-source software is a prominent example of open \n",
       "collaboration.\n",
       "</pre>\n"
      ],
      "text/plain": [
       "open-source software \u001b[1m(\u001b[0mOSS\u001b[1m)\u001b[0m\n",
       "A type of computer software in which source code is released under an license in which the copyright holder grants \n",
       "users the rights to study, change, and distribute the software to anyone and for any purpose. Open-source software \n",
       "may be developed in an collaborative public manner. Open-source software is a prominent example of open \n",
       "collaboration.\n"
      ]
     },
     "metadata": {},
     "output_type": "display_data"
    },
    {
     "data": {
      "text/html": [
       "<pre style=\"white-space:pre;overflow-x:auto;line-height:normal;font-family:Menlo,'DejaVu Sans Mono',consolas,'Courier New',monospace\">overfitting\n",
       "<span style=\"color: #008000; text-decoration-color: #008000\">\"The production of an analysis that corresponds too closely or exactly to a particular set of data, and may </span>\n",
       "<span style=\"color: #008000; text-decoration-color: #008000\">therefore fail to fit to additional data or predict future observations reliably\"</span>. In other words, an overfitted \n",
       "model memorizes training data details but cannot generalize to new data. Conversely, an underfitted model is too \n",
       "simple to capture the complexity of the training data.\n",
       "\n",
       "\n",
       "== P ==\n",
       "</pre>\n"
      ],
      "text/plain": [
       "overfitting\n",
       "\u001b[32m\"The production of an analysis that corresponds too closely or exactly to a particular set of data, and may \u001b[0m\n",
       "\u001b[32mtherefore fail to fit to additional data or predict future observations reliably\"\u001b[0m. In other words, an overfitted \n",
       "model memorizes training data details but cannot generalize to new data. Conversely, an underfitted model is too \n",
       "simple to capture the complexity of the training data.\n",
       "\n",
       "\n",
       "== P ==\n"
      ]
     },
     "metadata": {},
     "output_type": "display_data"
    },
    {
     "data": {
      "text/html": [
       "<pre style=\"white-space:pre;overflow-x:auto;line-height:normal;font-family:Menlo,'DejaVu Sans Mono',consolas,'Courier New',monospace\">== P ==\n",
       "\n",
       "partial order reduction\n",
       "A technique for reducing the size of the state-space to be searched by a model checking or automated planning and \n",
       "scheduling algorithm. It exploits the commutativity of concurrently executed transitions, which result in the same \n",
       "state when executed in different orders.\n",
       "</pre>\n"
      ],
      "text/plain": [
       "== P ==\n",
       "\n",
       "partial order reduction\n",
       "A technique for reducing the size of the state-space to be searched by a model checking or automated planning and \n",
       "scheduling algorithm. It exploits the commutativity of concurrently executed transitions, which result in the same \n",
       "state when executed in different orders.\n"
      ]
     },
     "metadata": {},
     "output_type": "display_data"
    },
    {
     "data": {
      "text/html": [
       "<pre style=\"white-space:pre;overflow-x:auto;line-height:normal;font-family:Menlo,'DejaVu Sans Mono',consolas,'Courier New',monospace\">partially observable Markov decision process <span style=\"font-weight: bold\">(</span>POMDP<span style=\"font-weight: bold\">)</span>\n",
       "A generalization of a Markov decision process <span style=\"font-weight: bold\">(</span>MDP<span style=\"font-weight: bold\">)</span>. A POMDP models an agent decision process in which it is \n",
       "assumed that the system dynamics are determined by an MDP, but the agent cannot directly observe the underlying \n",
       "state. Instead, it must maintain a probability distribution over the set of possible states, based on a set of \n",
       "observations and observation probabilities, and the underlying MDP.\n",
       "</pre>\n"
      ],
      "text/plain": [
       "partially observable Markov decision process \u001b[1m(\u001b[0mPOMDP\u001b[1m)\u001b[0m\n",
       "A generalization of a Markov decision process \u001b[1m(\u001b[0mMDP\u001b[1m)\u001b[0m. A POMDP models an agent decision process in which it is \n",
       "assumed that the system dynamics are determined by an MDP, but the agent cannot directly observe the underlying \n",
       "state. Instead, it must maintain a probability distribution over the set of possible states, based on a set of \n",
       "observations and observation probabilities, and the underlying MDP.\n"
      ]
     },
     "metadata": {},
     "output_type": "display_data"
    },
    {
     "data": {
      "text/html": [
       "<pre style=\"white-space:pre;overflow-x:auto;line-height:normal;font-family:Menlo,'DejaVu Sans Mono',consolas,'Courier New',monospace\">particle swarm optimization <span style=\"font-weight: bold\">(</span>PSO<span style=\"font-weight: bold\">)</span>\n",
       "A computational method that optimizes a problem by iteratively trying to improve a candidate solution with regard \n",
       "to a given measure of quality. It solves a problem by having a population of candidate solutions, here dubbed \n",
       "particles, and moving these particles around in the search-space according to simple mathematical formulae over the\n",
       "particle's position and velocity. Each particle's movement is influenced by its local best known position, but is \n",
       "also guided toward the best known positions in the search-space, which are updated as better positions are found by\n",
       "other particles. This is expected to move the swarm toward the best solutions.\n",
       "</pre>\n"
      ],
      "text/plain": [
       "particle swarm optimization \u001b[1m(\u001b[0mPSO\u001b[1m)\u001b[0m\n",
       "A computational method that optimizes a problem by iteratively trying to improve a candidate solution with regard \n",
       "to a given measure of quality. It solves a problem by having a population of candidate solutions, here dubbed \n",
       "particles, and moving these particles around in the search-space according to simple mathematical formulae over the\n",
       "particle's position and velocity. Each particle's movement is influenced by its local best known position, but is \n",
       "also guided toward the best known positions in the search-space, which are updated as better positions are found by\n",
       "other particles. This is expected to move the swarm toward the best solutions.\n"
      ]
     },
     "metadata": {},
     "output_type": "display_data"
    },
    {
     "data": {
      "text/html": [
       "<pre style=\"white-space:pre;overflow-x:auto;line-height:normal;font-family:Menlo,'DejaVu Sans Mono',consolas,'Courier New',monospace\">pathfinding\n",
       "Also pathing.\n",
       "The plotting, by a computer application, of the shortest route between two points. It is a more practical variant \n",
       "on solving mazes. This field of research is based heavily on Dijkstra's algorithm for finding a shortest path on a \n",
       "weighted graph.\n",
       "\n",
       "pattern recognition\n",
       "Concerned with the automatic discovery of regularities in data through the use of computer algorithms and with the \n",
       "use of these regularities to take actions such as classifying the data into different categories.\n",
       "\n",
       "perceptron\n",
       "An algorithm for supervised learning of binary classifiers.\n",
       "</pre>\n"
      ],
      "text/plain": [
       "pathfinding\n",
       "Also pathing.\n",
       "The plotting, by a computer application, of the shortest route between two points. It is a more practical variant \n",
       "on solving mazes. This field of research is based heavily on Dijkstra's algorithm for finding a shortest path on a \n",
       "weighted graph.\n",
       "\n",
       "pattern recognition\n",
       "Concerned with the automatic discovery of regularities in data through the use of computer algorithms and with the \n",
       "use of these regularities to take actions such as classifying the data into different categories.\n",
       "\n",
       "perceptron\n",
       "An algorithm for supervised learning of binary classifiers.\n"
      ]
     },
     "metadata": {},
     "output_type": "display_data"
    },
    {
     "data": {
      "text/html": [
       "<pre style=\"white-space:pre;overflow-x:auto;line-height:normal;font-family:Menlo,'DejaVu Sans Mono',consolas,'Courier New',monospace\">perceptron\n",
       "An algorithm for supervised learning of binary classifiers.\n",
       "\n",
       "predicate logic\n",
       "Also first-order logic, predicate logic, and first-order predicate calculus.\n",
       "A collection of formal systems used in mathematics, philosophy, linguistics, and computer science. First-order \n",
       "logic uses quantified variables over non-logical objects and allows the use of sentences that contain variables, so\n",
       "that rather than propositions such as Socrates is a man one can have expressions in the form <span style=\"color: #008000; text-decoration-color: #008000\">\"there exists x such </span>\n",
       "<span style=\"color: #008000; text-decoration-color: #008000\">that x is Socrates and x is a man\"</span> and there exists is a quantifier while x is a variable.\n",
       "</pre>\n"
      ],
      "text/plain": [
       "perceptron\n",
       "An algorithm for supervised learning of binary classifiers.\n",
       "\n",
       "predicate logic\n",
       "Also first-order logic, predicate logic, and first-order predicate calculus.\n",
       "A collection of formal systems used in mathematics, philosophy, linguistics, and computer science. First-order \n",
       "logic uses quantified variables over non-logical objects and allows the use of sentences that contain variables, so\n",
       "that rather than propositions such as Socrates is a man one can have expressions in the form \u001b[32m\"there exists x such \u001b[0m\n",
       "\u001b[32mthat x is Socrates and x is a man\"\u001b[0m and there exists is a quantifier while x is a variable.\n"
      ]
     },
     "metadata": {},
     "output_type": "display_data"
    },
    {
     "data": {
      "text/html": [
       "<pre style=\"white-space:pre;overflow-x:auto;line-height:normal;font-family:Menlo,'DejaVu Sans Mono',consolas,'Courier New',monospace\">This distinguishes it from propositional logic, which does not use quantifiers or relations; in this sense, \n",
       "propositional logic is the foundation of first-order logic.\n",
       "\n",
       "predictive analytics\n",
       "A variety of statistical techniques from data mining, predictive modelling, and machine learning, that analyze \n",
       "current and historical facts to make predictions about future or otherwise unknown events.\n",
       "\n",
       "principal component analysis <span style=\"font-weight: bold\">(</span>PCA<span style=\"font-weight: bold\">)</span>\n",
       "A statistical procedure that uses an orthogonal transformation to convert a set of observations of possibly \n",
       "correlated variables <span style=\"font-weight: bold\">(</span>entities each of which takes on various numerical values<span style=\"font-weight: bold\">)</span> into a set of values of linearly \n",
       "uncorrelated variables called principal components.\n",
       "</pre>\n"
      ],
      "text/plain": [
       "This distinguishes it from propositional logic, which does not use quantifiers or relations; in this sense, \n",
       "propositional logic is the foundation of first-order logic.\n",
       "\n",
       "predictive analytics\n",
       "A variety of statistical techniques from data mining, predictive modelling, and machine learning, that analyze \n",
       "current and historical facts to make predictions about future or otherwise unknown events.\n",
       "\n",
       "principal component analysis \u001b[1m(\u001b[0mPCA\u001b[1m)\u001b[0m\n",
       "A statistical procedure that uses an orthogonal transformation to convert a set of observations of possibly \n",
       "correlated variables \u001b[1m(\u001b[0mentities each of which takes on various numerical values\u001b[1m)\u001b[0m into a set of values of linearly \n",
       "uncorrelated variables called principal components.\n"
      ]
     },
     "metadata": {},
     "output_type": "display_data"
    },
    {
     "data": {
      "text/html": [
       "<pre style=\"white-space:pre;overflow-x:auto;line-height:normal;font-family:Menlo,'DejaVu Sans Mono',consolas,'Courier New',monospace\">This transformation is defined in such a way that the first principal component has the largest possible variance \n",
       "<span style=\"font-weight: bold\">(</span>that is, accounts for as much of the variability in the data as possible<span style=\"font-weight: bold\">)</span>, and each succeeding component, in turn,\n",
       "has the highest variance possible under the constraint that it is orthogonal to the preceding components. The \n",
       "resulting vectors <span style=\"font-weight: bold\">(</span>each being a linear combination of the variables and containing n observations<span style=\"font-weight: bold\">)</span> are an \n",
       "uncorrelated orthogonal basis set. PCA is sensitive to the relative scaling of the original variables.\n",
       "</pre>\n"
      ],
      "text/plain": [
       "This transformation is defined in such a way that the first principal component has the largest possible variance \n",
       "\u001b[1m(\u001b[0mthat is, accounts for as much of the variability in the data as possible\u001b[1m)\u001b[0m, and each succeeding component, in turn,\n",
       "has the highest variance possible under the constraint that it is orthogonal to the preceding components. The \n",
       "resulting vectors \u001b[1m(\u001b[0meach being a linear combination of the variables and containing n observations\u001b[1m)\u001b[0m are an \n",
       "uncorrelated orthogonal basis set. PCA is sensitive to the relative scaling of the original variables.\n"
      ]
     },
     "metadata": {},
     "output_type": "display_data"
    },
    {
     "data": {
      "text/html": [
       "<pre style=\"white-space:pre;overflow-x:auto;line-height:normal;font-family:Menlo,'DejaVu Sans Mono',consolas,'Courier New',monospace\">PCA is sensitive to the relative scaling of the original variables.\n",
       "\n",
       "principle of rationality\n",
       "Also rationality principle.\n",
       "A principle coined by Karl R. Popper in his Harvard Lecture of <span style=\"color: #008080; text-decoration-color: #008080; font-weight: bold\">1963</span>, and published in his book Myth of Framework. \n",
       "It is related to what he called the <span style=\"color: #008000; text-decoration-color: #008000\">'logic of the situation'</span> in an Economica article of <span style=\"color: #008080; text-decoration-color: #008080; font-weight: bold\">1944</span>/<span style=\"color: #008080; text-decoration-color: #008080; font-weight: bold\">1945</span>, published later \n",
       "in his book The Poverty of Historicism. According to Popper's rationality principle, agents act in the most \n",
       "adequate way according to the objective situation. It is an idealized conception of human behavior which he used to\n",
       "drive his model of situational logic.\n",
       "</pre>\n"
      ],
      "text/plain": [
       "PCA is sensitive to the relative scaling of the original variables.\n",
       "\n",
       "principle of rationality\n",
       "Also rationality principle.\n",
       "A principle coined by Karl R. Popper in his Harvard Lecture of \u001b[1;36m1963\u001b[0m, and published in his book Myth of Framework. \n",
       "It is related to what he called the \u001b[32m'logic of the situation'\u001b[0m in an Economica article of \u001b[1;36m1944\u001b[0m/\u001b[1;36m1945\u001b[0m, published later \n",
       "in his book The Poverty of Historicism. According to Popper's rationality principle, agents act in the most \n",
       "adequate way according to the objective situation. It is an idealized conception of human behavior which he used to\n",
       "drive his model of situational logic.\n"
      ]
     },
     "metadata": {},
     "output_type": "display_data"
    },
    {
     "data": {
      "text/html": [
       "<pre style=\"white-space:pre;overflow-x:auto;line-height:normal;font-family:Menlo,'DejaVu Sans Mono',consolas,'Courier New',monospace\">probabilistic programming <span style=\"font-weight: bold\">(</span>PP<span style=\"font-weight: bold\">)</span>\n",
       "A programming paradigm in which probabilistic models are specified and inference for these models is performed \n",
       "automatically. It represents an attempt to unify probabilistic modeling and traditional general-purpose programming\n",
       "in order to make the former easier and more widely applicable. It can be used to create systems that help make \n",
       "decisions in the face of uncertainty.  Programming languages used for probabilistic programming are referred to as \n",
       "<span style=\"color: #008000; text-decoration-color: #008000\">\"Probabilistic programming languages\"</span> <span style=\"font-weight: bold\">(</span>PPLs<span style=\"font-weight: bold\">)</span>.\n",
       "</pre>\n"
      ],
      "text/plain": [
       "probabilistic programming \u001b[1m(\u001b[0mPP\u001b[1m)\u001b[0m\n",
       "A programming paradigm in which probabilistic models are specified and inference for these models is performed \n",
       "automatically. It represents an attempt to unify probabilistic modeling and traditional general-purpose programming\n",
       "in order to make the former easier and more widely applicable. It can be used to create systems that help make \n",
       "decisions in the face of uncertainty.  Programming languages used for probabilistic programming are referred to as \n",
       "\u001b[32m\"Probabilistic programming languages\"\u001b[0m \u001b[1m(\u001b[0mPPLs\u001b[1m)\u001b[0m.\n"
      ]
     },
     "metadata": {},
     "output_type": "display_data"
    },
    {
     "data": {
      "text/html": [
       "<pre style=\"white-space:pre;overflow-x:auto;line-height:normal;font-family:Menlo,'DejaVu Sans Mono',consolas,'Courier New',monospace\">production system\n",
       "A computer program typically used to provide some form of AI, which consists primarily of a set of rules about \n",
       "behavior, but also includes the mechanism necessary to follow those rules as the system responds to states of the \n",
       "world.\n",
       "\n",
       "programming language\n",
       "A formal language, which comprises a set of instructions that produce various kinds of output. Programming \n",
       "languages are used in computer programming to implement algorithms.\n",
       "</pre>\n"
      ],
      "text/plain": [
       "production system\n",
       "A computer program typically used to provide some form of AI, which consists primarily of a set of rules about \n",
       "behavior, but also includes the mechanism necessary to follow those rules as the system responds to states of the \n",
       "world.\n",
       "\n",
       "programming language\n",
       "A formal language, which comprises a set of instructions that produce various kinds of output. Programming \n",
       "languages are used in computer programming to implement algorithms.\n"
      ]
     },
     "metadata": {},
     "output_type": "display_data"
    },
    {
     "data": {
      "text/html": [
       "<pre style=\"white-space:pre;overflow-x:auto;line-height:normal;font-family:Menlo,'DejaVu Sans Mono',consolas,'Courier New',monospace\">Prolog\n",
       "A logic programming language associated with artificial intelligence and computational linguistics.  Prolog has its\n",
       "roots in first-order logic, a formal logic, and unlike many other programming languages, Prolog is intended \n",
       "primarily as a declarative programming language: the program logic is expressed in terms of relations, represented \n",
       "as facts and rules.  A computation is initiated by running a query over these relations.\n",
       "\n",
       "propositional calculus\n",
       "Also propositional logic, statement logic, sentential calculus, sentential logic, and zeroth-order logic.\n",
       "</pre>\n"
      ],
      "text/plain": [
       "Prolog\n",
       "A logic programming language associated with artificial intelligence and computational linguistics.  Prolog has its\n",
       "roots in first-order logic, a formal logic, and unlike many other programming languages, Prolog is intended \n",
       "primarily as a declarative programming language: the program logic is expressed in terms of relations, represented \n",
       "as facts and rules.  A computation is initiated by running a query over these relations.\n",
       "\n",
       "propositional calculus\n",
       "Also propositional logic, statement logic, sentential calculus, sentential logic, and zeroth-order logic.\n"
      ]
     },
     "metadata": {},
     "output_type": "display_data"
    },
    {
     "data": {
      "text/html": [
       "<pre style=\"white-space:pre;overflow-x:auto;line-height:normal;font-family:Menlo,'DejaVu Sans Mono',consolas,'Courier New',monospace\">A branch of logic which deals with propositions <span style=\"font-weight: bold\">(</span>which can be true or false<span style=\"font-weight: bold\">)</span> and argument flow. Compound \n",
       "propositions are formed by connecting propositions by logical connectives. The propositions without logical \n",
       "connectives are called atomic propositions. Unlike first-order logic, propositional logic does not deal with \n",
       "non-logical objects, predicates about them, or quantifiers. However, all the machinery of propositional logic is \n",
       "included in first-order logic and higher-order logics. In this sense, propositional logic is the foundation of \n",
       "first-order logic and higher-order logic.\n",
       "</pre>\n"
      ],
      "text/plain": [
       "A branch of logic which deals with propositions \u001b[1m(\u001b[0mwhich can be true or false\u001b[1m)\u001b[0m and argument flow. Compound \n",
       "propositions are formed by connecting propositions by logical connectives. The propositions without logical \n",
       "connectives are called atomic propositions. Unlike first-order logic, propositional logic does not deal with \n",
       "non-logical objects, predicates about them, or quantifiers. However, all the machinery of propositional logic is \n",
       "included in first-order logic and higher-order logics. In this sense, propositional logic is the foundation of \n",
       "first-order logic and higher-order logic.\n"
      ]
     },
     "metadata": {},
     "output_type": "display_data"
    },
    {
     "data": {
      "text/html": [
       "<pre style=\"white-space:pre;overflow-x:auto;line-height:normal;font-family:Menlo,'DejaVu Sans Mono',consolas,'Courier New',monospace\">In this sense, propositional logic is the foundation of first-order logic and higher-order logic.\n",
       "\n",
       "proximal policy optimization <span style=\"font-weight: bold\">(</span>PPO<span style=\"font-weight: bold\">)</span>\n",
       "A reinforcement learning algorithm for training an intelligent agent's decision function to accomplish difficult \n",
       "tasks.\n",
       "\n",
       "Python\n",
       "An interpreted, high-level, general-purpose programming language created by Guido van Rossum and first released in \n",
       "<span style=\"color: #008080; text-decoration-color: #008080; font-weight: bold\">1991</span>. Python's design philosophy emphasizes code readability with its notable use of significant whitespace. Its \n",
       "language constructs and object-oriented approach aim to help programmers write clear, logical code for small and \n",
       "large-scale projects.\n",
       "</pre>\n"
      ],
      "text/plain": [
       "In this sense, propositional logic is the foundation of first-order logic and higher-order logic.\n",
       "\n",
       "proximal policy optimization \u001b[1m(\u001b[0mPPO\u001b[1m)\u001b[0m\n",
       "A reinforcement learning algorithm for training an intelligent agent's decision function to accomplish difficult \n",
       "tasks.\n",
       "\n",
       "Python\n",
       "An interpreted, high-level, general-purpose programming language created by Guido van Rossum and first released in \n",
       "\u001b[1;36m1991\u001b[0m. Python's design philosophy emphasizes code readability with its notable use of significant whitespace. Its \n",
       "language constructs and object-oriented approach aim to help programmers write clear, logical code for small and \n",
       "large-scale projects.\n"
      ]
     },
     "metadata": {},
     "output_type": "display_data"
    },
    {
     "data": {
      "text/html": [
       "<pre style=\"white-space:pre;overflow-x:auto;line-height:normal;font-family:Menlo,'DejaVu Sans Mono',consolas,'Courier New',monospace\">PyTorch\n",
       "A machine learning library based on the Torch library, used for applications such as computer vision and natural \n",
       "language processing, originally developed by Meta AI and now part of the Linux Foundation umbrella.\n",
       "\n",
       "\n",
       "== Q ==\n",
       "\n",
       "Q-learning\n",
       "A model-free reinforcement learning algorithm for learning the value of an action in a particular state.\n",
       "</pre>\n"
      ],
      "text/plain": [
       "PyTorch\n",
       "A machine learning library based on the Torch library, used for applications such as computer vision and natural \n",
       "language processing, originally developed by Meta AI and now part of the Linux Foundation umbrella.\n",
       "\n",
       "\n",
       "== Q ==\n",
       "\n",
       "Q-learning\n",
       "A model-free reinforcement learning algorithm for learning the value of an action in a particular state.\n"
      ]
     },
     "metadata": {},
     "output_type": "display_data"
    },
    {
     "data": {
      "text/html": [
       "<pre style=\"white-space:pre;overflow-x:auto;line-height:normal;font-family:Menlo,'DejaVu Sans Mono',consolas,'Courier New',monospace\">qualification problem\n",
       "In philosophy and artificial intelligence <span style=\"font-weight: bold\">(</span>especially knowledge-based systems<span style=\"font-weight: bold\">)</span>, the qualification problem is \n",
       "concerned with the impossibility of listing all of the preconditions required for a real-world action to have its \n",
       "intended effect. It might be posed as how to deal with the things that prevent me from achieving my intended \n",
       "result. It is strongly connected to, and opposite the ramification side of, the frame problem.\n",
       "</pre>\n"
      ],
      "text/plain": [
       "qualification problem\n",
       "In philosophy and artificial intelligence \u001b[1m(\u001b[0mespecially knowledge-based systems\u001b[1m)\u001b[0m, the qualification problem is \n",
       "concerned with the impossibility of listing all of the preconditions required for a real-world action to have its \n",
       "intended effect. It might be posed as how to deal with the things that prevent me from achieving my intended \n",
       "result. It is strongly connected to, and opposite the ramification side of, the frame problem.\n"
      ]
     },
     "metadata": {},
     "output_type": "display_data"
    },
    {
     "data": {
      "text/html": [
       "<pre style=\"white-space:pre;overflow-x:auto;line-height:normal;font-family:Menlo,'DejaVu Sans Mono',consolas,'Courier New',monospace\">quantifier\n",
       "In logic, quantification specifies the quantity of specimens in the domain of discourse that satisfy an open \n",
       "formula. The two most common quantifiers mean <span style=\"color: #008000; text-decoration-color: #008000\">\"for all\"</span> and <span style=\"color: #008000; text-decoration-color: #008000\">\"there exists\"</span>. For example, in arithmetic, quantifiers\n",
       "allow one to say that the natural numbers go on forever, by writing that for all n <span style=\"font-weight: bold\">(</span>where n is a natural number<span style=\"font-weight: bold\">)</span>, \n",
       "there is another number <span style=\"font-weight: bold\">(</span>say, the successor of n<span style=\"font-weight: bold\">)</span> which is one bigger than n.\n",
       "</pre>\n"
      ],
      "text/plain": [
       "quantifier\n",
       "In logic, quantification specifies the quantity of specimens in the domain of discourse that satisfy an open \n",
       "formula. The two most common quantifiers mean \u001b[32m\"for all\"\u001b[0m and \u001b[32m\"there exists\"\u001b[0m. For example, in arithmetic, quantifiers\n",
       "allow one to say that the natural numbers go on forever, by writing that for all n \u001b[1m(\u001b[0mwhere n is a natural number\u001b[1m)\u001b[0m, \n",
       "there is another number \u001b[1m(\u001b[0msay, the successor of n\u001b[1m)\u001b[0m which is one bigger than n.\n"
      ]
     },
     "metadata": {},
     "output_type": "display_data"
    },
    {
     "data": {
      "text/html": [
       "<pre style=\"white-space:pre;overflow-x:auto;line-height:normal;font-family:Menlo,'DejaVu Sans Mono',consolas,'Courier New',monospace\">quantum computing\n",
       "The use of quantum-mechanical phenomena such as superposition and entanglement to perform computation. A quantum \n",
       "computer is used to perform such computation, which can be implemented theoretically or physically.: I-<span style=\"color: #008080; text-decoration-color: #008080; font-weight: bold\">5</span>\n",
       "</pre>\n"
      ],
      "text/plain": [
       "quantum computing\n",
       "The use of quantum-mechanical phenomena such as superposition and entanglement to perform computation. A quantum \n",
       "computer is used to perform such computation, which can be implemented theoretically or physically.: I-\u001b[1;36m5\u001b[0m\n"
      ]
     },
     "metadata": {},
     "output_type": "display_data"
    },
    {
     "data": {
      "text/html": [
       "<pre style=\"white-space:pre;overflow-x:auto;line-height:normal;font-family:Menlo,'DejaVu Sans Mono',consolas,'Courier New',monospace\">query language\n",
       "Query languages or data query languages <span style=\"font-weight: bold\">(</span>DQLs<span style=\"font-weight: bold\">)</span> are computer languages used to make queries in databases and \n",
       "information systems.  Broadly, query languages can be classified according to whether they are database query \n",
       "languages or information retrieval query languages. The difference is that a database query language attempts to \n",
       "give factual answers to factual questions, while an information retrieval query language attempts to find documents\n",
       "containing information that is relevant to an area of inquiry.\n",
       "\n",
       "\n",
       "== R ==\n",
       "</pre>\n"
      ],
      "text/plain": [
       "query language\n",
       "Query languages or data query languages \u001b[1m(\u001b[0mDQLs\u001b[1m)\u001b[0m are computer languages used to make queries in databases and \n",
       "information systems.  Broadly, query languages can be classified according to whether they are database query \n",
       "languages or information retrieval query languages. The difference is that a database query language attempts to \n",
       "give factual answers to factual questions, while an information retrieval query language attempts to find documents\n",
       "containing information that is relevant to an area of inquiry.\n",
       "\n",
       "\n",
       "== R ==\n"
      ]
     },
     "metadata": {},
     "output_type": "display_data"
    },
    {
     "data": {
      "text/html": [
       "<pre style=\"white-space:pre;overflow-x:auto;line-height:normal;font-family:Menlo,'DejaVu Sans Mono',consolas,'Courier New',monospace\">== R ==\n",
       "\n",
       "R programming language\n",
       "A programming language and free software environment for statistical computing and graphics supported by the R \n",
       "Foundation for Statistical Computing. The R language is widely used among statisticians and data miners for \n",
       "developing statistical software and data analysis.\n",
       "</pre>\n"
      ],
      "text/plain": [
       "== R ==\n",
       "\n",
       "R programming language\n",
       "A programming language and free software environment for statistical computing and graphics supported by the R \n",
       "Foundation for Statistical Computing. The R language is widely used among statisticians and data miners for \n",
       "developing statistical software and data analysis.\n"
      ]
     },
     "metadata": {},
     "output_type": "display_data"
    },
    {
     "data": {
      "text/html": [
       "<pre style=\"white-space:pre;overflow-x:auto;line-height:normal;font-family:Menlo,'DejaVu Sans Mono',consolas,'Courier New',monospace\">radial basis function network\n",
       "In the field of mathematical modeling, a radial basis function network is an artificial neural network that uses \n",
       "radial basis functions as activation functions. The output of the network is a linear combination of radial basis \n",
       "functions of the inputs and neuron parameters. Radial basis function networks have many uses, including function \n",
       "approximation, time series prediction, classification, and system control. They were first formulated in a <span style=\"color: #008080; text-decoration-color: #008080; font-weight: bold\">1988</span> \n",
       "paper by Broomhead and Lowe, both researchers at the Royal Signals and Radar Establishment.\n",
       "</pre>\n"
      ],
      "text/plain": [
       "radial basis function network\n",
       "In the field of mathematical modeling, a radial basis function network is an artificial neural network that uses \n",
       "radial basis functions as activation functions. The output of the network is a linear combination of radial basis \n",
       "functions of the inputs and neuron parameters. Radial basis function networks have many uses, including function \n",
       "approximation, time series prediction, classification, and system control. They were first formulated in a \u001b[1;36m1988\u001b[0m \n",
       "paper by Broomhead and Lowe, both researchers at the Royal Signals and Radar Establishment.\n"
      ]
     },
     "metadata": {},
     "output_type": "display_data"
    },
    {
     "data": {
      "text/html": [
       "<pre style=\"white-space:pre;overflow-x:auto;line-height:normal;font-family:Menlo,'DejaVu Sans Mono',consolas,'Courier New',monospace\">random forest\n",
       "Also random decision forest.\n",
       "An ensemble learning method for classification, regression, and other tasks that operates by constructing a \n",
       "multitude of decision trees at training time and outputting the class that is the mode of the classes \n",
       "<span style=\"font-weight: bold\">(</span>classification<span style=\"font-weight: bold\">)</span> or mean prediction <span style=\"font-weight: bold\">(</span>regression<span style=\"font-weight: bold\">)</span> of the individual trees. Random decision forests correct for \n",
       "decision trees' habit of overfitting to their training set.\n",
       "\n",
       "reasoning system\n",
       "In information technology a reasoning system is a software system that generates conclusions from available \n",
       "knowledge using logical techniques such as deduction and induction. Reasoning systems play an important role in the\n",
       "implementation of artificial intelligence and knowledge-based systems.\n",
       "</pre>\n"
      ],
      "text/plain": [
       "random forest\n",
       "Also random decision forest.\n",
       "An ensemble learning method for classification, regression, and other tasks that operates by constructing a \n",
       "multitude of decision trees at training time and outputting the class that is the mode of the classes \n",
       "\u001b[1m(\u001b[0mclassification\u001b[1m)\u001b[0m or mean prediction \u001b[1m(\u001b[0mregression\u001b[1m)\u001b[0m of the individual trees. Random decision forests correct for \n",
       "decision trees' habit of overfitting to their training set.\n",
       "\n",
       "reasoning system\n",
       "In information technology a reasoning system is a software system that generates conclusions from available \n",
       "knowledge using logical techniques such as deduction and induction. Reasoning systems play an important role in the\n",
       "implementation of artificial intelligence and knowledge-based systems.\n"
      ]
     },
     "metadata": {},
     "output_type": "display_data"
    },
    {
     "data": {
      "text/html": [
       "<pre style=\"white-space:pre;overflow-x:auto;line-height:normal;font-family:Menlo,'DejaVu Sans Mono',consolas,'Courier New',monospace\">recurrent neural network <span style=\"font-weight: bold\">(</span>RNN<span style=\"font-weight: bold\">)</span>\n",
       "A class of artificial neural networks where connections between nodes form a directed graph along a temporal \n",
       "sequence. This allows it to exhibit temporal dynamic behavior. Unlike feedforward neural networks, RNNs can use \n",
       "their internal state <span style=\"font-weight: bold\">(</span>memory<span style=\"font-weight: bold\">)</span> to process sequences of inputs. This makes them applicable to tasks such as \n",
       "unsegmented, connected handwriting recognition or speech recognition.\n",
       "</pre>\n"
      ],
      "text/plain": [
       "recurrent neural network \u001b[1m(\u001b[0mRNN\u001b[1m)\u001b[0m\n",
       "A class of artificial neural networks where connections between nodes form a directed graph along a temporal \n",
       "sequence. This allows it to exhibit temporal dynamic behavior. Unlike feedforward neural networks, RNNs can use \n",
       "their internal state \u001b[1m(\u001b[0mmemory\u001b[1m)\u001b[0m to process sequences of inputs. This makes them applicable to tasks such as \n",
       "unsegmented, connected handwriting recognition or speech recognition.\n"
      ]
     },
     "metadata": {},
     "output_type": "display_data"
    },
    {
     "data": {
      "text/html": [
       "<pre style=\"white-space:pre;overflow-x:auto;line-height:normal;font-family:Menlo,'DejaVu Sans Mono',consolas,'Courier New',monospace\">regression analysis\n",
       "A set of statistical processes for estimating the relationships between a dependent variable <span style=\"font-weight: bold\">(</span>often called the \n",
       "outcome or response variable, or label in machine learning<span style=\"font-weight: bold\">)</span> and one or more error-free independent variables <span style=\"font-weight: bold\">(</span>often\n",
       "called regressors, predictors, covariates, explanatory variables, or features<span style=\"font-weight: bold\">)</span>. The most common form of regression \n",
       "analysis is linear regression, in which one finds the line <span style=\"font-weight: bold\">(</span>or a more complex linear combination<span style=\"font-weight: bold\">)</span> that most closely\n",
       "fits the data according to a specific mathematical criterion.\n",
       "</pre>\n"
      ],
      "text/plain": [
       "regression analysis\n",
       "A set of statistical processes for estimating the relationships between a dependent variable \u001b[1m(\u001b[0moften called the \n",
       "outcome or response variable, or label in machine learning\u001b[1m)\u001b[0m and one or more error-free independent variables \u001b[1m(\u001b[0moften\n",
       "called regressors, predictors, covariates, explanatory variables, or features\u001b[1m)\u001b[0m. The most common form of regression \n",
       "analysis is linear regression, in which one finds the line \u001b[1m(\u001b[0mor a more complex linear combination\u001b[1m)\u001b[0m that most closely\n",
       "fits the data according to a specific mathematical criterion.\n"
      ]
     },
     "metadata": {},
     "output_type": "display_data"
    },
    {
     "data": {
      "text/html": [
       "<pre style=\"white-space:pre;overflow-x:auto;line-height:normal;font-family:Menlo,'DejaVu Sans Mono',consolas,'Courier New',monospace\">regularization\n",
       "A set of techniques such as dropout, early stopping, and L1 and L2 regularization to reduce overfitting and \n",
       "underfitting when training a learning algorithm.\n",
       "</pre>\n"
      ],
      "text/plain": [
       "regularization\n",
       "A set of techniques such as dropout, early stopping, and L1 and L2 regularization to reduce overfitting and \n",
       "underfitting when training a learning algorithm.\n"
      ]
     },
     "metadata": {},
     "output_type": "display_data"
    },
    {
     "data": {
      "text/html": [
       "<pre style=\"white-space:pre;overflow-x:auto;line-height:normal;font-family:Menlo,'DejaVu Sans Mono',consolas,'Courier New',monospace\">reinforcement learning <span style=\"font-weight: bold\">(</span>RL<span style=\"font-weight: bold\">)</span>\n",
       "An area of machine learning concerned with how software agents ought to take actions in an environment so as to \n",
       "maximize some notion of cumulative reward. Reinforcement learning is one of three basic machine learning paradigms,\n",
       "alongside supervised learning and unsupervised learning.  It differs from supervised learning in that labelled \n",
       "input/output pairs need not be presented, and sub-optimal actions need not be explicitly corrected. Instead the \n",
       "focus is finding a balance between exploration <span style=\"font-weight: bold\">(</span>of uncharted territory<span style=\"font-weight: bold\">)</span> and exploitation <span style=\"font-weight: bold\">(</span>of current knowledge<span style=\"font-weight: bold\">)</span>.\n",
       "</pre>\n"
      ],
      "text/plain": [
       "reinforcement learning \u001b[1m(\u001b[0mRL\u001b[1m)\u001b[0m\n",
       "An area of machine learning concerned with how software agents ought to take actions in an environment so as to \n",
       "maximize some notion of cumulative reward. Reinforcement learning is one of three basic machine learning paradigms,\n",
       "alongside supervised learning and unsupervised learning.  It differs from supervised learning in that labelled \n",
       "input/output pairs need not be presented, and sub-optimal actions need not be explicitly corrected. Instead the \n",
       "focus is finding a balance between exploration \u001b[1m(\u001b[0mof uncharted territory\u001b[1m)\u001b[0m and exploitation \u001b[1m(\u001b[0mof current knowledge\u001b[1m)\u001b[0m.\n"
      ]
     },
     "metadata": {},
     "output_type": "display_data"
    },
    {
     "data": {
      "text/html": [
       "<pre style=\"white-space:pre;overflow-x:auto;line-height:normal;font-family:Menlo,'DejaVu Sans Mono',consolas,'Courier New',monospace\">reinforcement learning from human feedback <span style=\"font-weight: bold\">(</span>RLHF<span style=\"font-weight: bold\">)</span>\n",
       "A technique that involve training a <span style=\"color: #008000; text-decoration-color: #008000\">\"reward model\"</span> to predict how humans rate the quality of generated content, and\n",
       "then training a generative AI model to satisfy this reward model via reinforcement learning. It can be used for \n",
       "example to make the generative AI model more truthful or less harmful.\n",
       "</pre>\n"
      ],
      "text/plain": [
       "reinforcement learning from human feedback \u001b[1m(\u001b[0mRLHF\u001b[1m)\u001b[0m\n",
       "A technique that involve training a \u001b[32m\"reward model\"\u001b[0m to predict how humans rate the quality of generated content, and\n",
       "then training a generative AI model to satisfy this reward model via reinforcement learning. It can be used for \n",
       "example to make the generative AI model more truthful or less harmful.\n"
      ]
     },
     "metadata": {},
     "output_type": "display_data"
    },
    {
     "data": {
      "text/html": [
       "<pre style=\"white-space:pre;overflow-x:auto;line-height:normal;font-family:Menlo,'DejaVu Sans Mono',consolas,'Courier New',monospace\">reservoir computing\n",
       "A framework for computation that may be viewed as an extension of neural networks. Typically an input signal is fed\n",
       "into a fixed <span style=\"font-weight: bold\">(</span>random<span style=\"font-weight: bold\">)</span> dynamical system called a reservoir and the dynamics of the reservoir map the input to a \n",
       "higher dimension. Then a simple readout mechanism is trained to read the state of the reservoir and map it to the \n",
       "desired output. The main benefit is that training is performed only at the readout stage and the reservoir is \n",
       "fixed. Liquid-state machines and echo state networks are two major types of reservoir computing.\n",
       "</pre>\n"
      ],
      "text/plain": [
       "reservoir computing\n",
       "A framework for computation that may be viewed as an extension of neural networks. Typically an input signal is fed\n",
       "into a fixed \u001b[1m(\u001b[0mrandom\u001b[1m)\u001b[0m dynamical system called a reservoir and the dynamics of the reservoir map the input to a \n",
       "higher dimension. Then a simple readout mechanism is trained to read the state of the reservoir and map it to the \n",
       "desired output. The main benefit is that training is performed only at the readout stage and the reservoir is \n",
       "fixed. Liquid-state machines and echo state networks are two major types of reservoir computing.\n"
      ]
     },
     "metadata": {},
     "output_type": "display_data"
    },
    {
     "data": {
      "text/html": [
       "<pre style=\"white-space:pre;overflow-x:auto;line-height:normal;font-family:Menlo,'DejaVu Sans Mono',consolas,'Courier New',monospace\">Resource Description Framework <span style=\"font-weight: bold\">(</span>RDF<span style=\"font-weight: bold\">)</span>\n",
       "A family of World Wide Web Consortium <span style=\"font-weight: bold\">(</span>W3C<span style=\"font-weight: bold\">)</span> specifications originally designed as a metadata data model. It has \n",
       "come to be used as a general method for conceptual description or modeling of information that is implemented in \n",
       "web resources, using a variety of syntax notations and data serialization formats. It is also used in knowledge \n",
       "management applications.\n",
       "\n",
       "restricted Boltzmann machine <span style=\"font-weight: bold\">(</span>RBM<span style=\"font-weight: bold\">)</span>\n",
       "A generative stochastic artificial neural network that can learn a probability distribution over its set of inputs.\n",
       "</pre>\n"
      ],
      "text/plain": [
       "Resource Description Framework \u001b[1m(\u001b[0mRDF\u001b[1m)\u001b[0m\n",
       "A family of World Wide Web Consortium \u001b[1m(\u001b[0mW3C\u001b[1m)\u001b[0m specifications originally designed as a metadata data model. It has \n",
       "come to be used as a general method for conceptual description or modeling of information that is implemented in \n",
       "web resources, using a variety of syntax notations and data serialization formats. It is also used in knowledge \n",
       "management applications.\n",
       "\n",
       "restricted Boltzmann machine \u001b[1m(\u001b[0mRBM\u001b[1m)\u001b[0m\n",
       "A generative stochastic artificial neural network that can learn a probability distribution over its set of inputs.\n"
      ]
     },
     "metadata": {},
     "output_type": "display_data"
    },
    {
     "data": {
      "text/html": [
       "<pre style=\"white-space:pre;overflow-x:auto;line-height:normal;font-family:Menlo,'DejaVu Sans Mono',consolas,'Courier New',monospace\">Rete algorithm\n",
       "A pattern matching algorithm for implementing rule-based systems. The algorithm was developed to efficiently apply \n",
       "many rules or patterns to many objects, or facts, in a knowledge base. It is used to determine which of the \n",
       "system's rules should fire based on its data store, its facts.\n",
       "\n",
       "robotics\n",
       "An interdisciplinary branch of science and engineering that includes mechanical engineering, electronic \n",
       "engineering, information engineering, computer science, and others. Robotics deals with the design, construction, \n",
       "operation, and use of robots, as well as computer systems for their control, sensory feedback, and information \n",
       "processing.\n",
       "</pre>\n"
      ],
      "text/plain": [
       "Rete algorithm\n",
       "A pattern matching algorithm for implementing rule-based systems. The algorithm was developed to efficiently apply \n",
       "many rules or patterns to many objects, or facts, in a knowledge base. It is used to determine which of the \n",
       "system's rules should fire based on its data store, its facts.\n",
       "\n",
       "robotics\n",
       "An interdisciplinary branch of science and engineering that includes mechanical engineering, electronic \n",
       "engineering, information engineering, computer science, and others. Robotics deals with the design, construction, \n",
       "operation, and use of robots, as well as computer systems for their control, sensory feedback, and information \n",
       "processing.\n"
      ]
     },
     "metadata": {},
     "output_type": "display_data"
    },
    {
     "data": {
      "text/html": [
       "<pre style=\"white-space:pre;overflow-x:auto;line-height:normal;font-family:Menlo,'DejaVu Sans Mono',consolas,'Courier New',monospace\">rule-based system\n",
       "In computer science, a rule-based system is used to store and manipulate knowledge to interpret information in a \n",
       "useful way. It is often used in artificial intelligence applications and research.  Normally, the term rule-based \n",
       "system is applied to systems involving human-crafted or curated rule sets.  Rule-based systems constructed using \n",
       "automatic rule inference, such as rule-based machine learning, are normally excluded from this system type.\n",
       "\n",
       "\n",
       "== S ==\n",
       "</pre>\n"
      ],
      "text/plain": [
       "rule-based system\n",
       "In computer science, a rule-based system is used to store and manipulate knowledge to interpret information in a \n",
       "useful way. It is often used in artificial intelligence applications and research.  Normally, the term rule-based \n",
       "system is applied to systems involving human-crafted or curated rule sets.  Rule-based systems constructed using \n",
       "automatic rule inference, such as rule-based machine learning, are normally excluded from this system type.\n",
       "\n",
       "\n",
       "== S ==\n"
      ]
     },
     "metadata": {},
     "output_type": "display_data"
    },
    {
     "data": {
      "text/html": [
       "<pre style=\"white-space:pre;overflow-x:auto;line-height:normal;font-family:Menlo,'DejaVu Sans Mono',consolas,'Courier New',monospace\">== S ==\n",
       "\n",
       "satisfiability\n",
       "In mathematical logic, satisfiability and validity are elementary concepts of semantics. A formula is satisfiable \n",
       "if it is possible to find an interpretation <span style=\"font-weight: bold\">(</span>model<span style=\"font-weight: bold\">)</span> that makes the formula true.  A formula is valid if all \n",
       "interpretations make the formula true. The opposites of these concepts are unsatisfiability and invalidity, that \n",
       "is, a formula is unsatisfiable if none of the interpretations make the formula true, and invalid if some such \n",
       "interpretation makes the formula false. These four concepts are related to each other in a manner exactly analogous\n",
       "to Aristotle's square of opposition.\n",
       "</pre>\n"
      ],
      "text/plain": [
       "== S ==\n",
       "\n",
       "satisfiability\n",
       "In mathematical logic, satisfiability and validity are elementary concepts of semantics. A formula is satisfiable \n",
       "if it is possible to find an interpretation \u001b[1m(\u001b[0mmodel\u001b[1m)\u001b[0m that makes the formula true.  A formula is valid if all \n",
       "interpretations make the formula true. The opposites of these concepts are unsatisfiability and invalidity, that \n",
       "is, a formula is unsatisfiable if none of the interpretations make the formula true, and invalid if some such \n",
       "interpretation makes the formula false. These four concepts are related to each other in a manner exactly analogous\n",
       "to Aristotle's square of opposition.\n"
      ]
     },
     "metadata": {},
     "output_type": "display_data"
    },
    {
     "data": {
      "text/html": [
       "<pre style=\"white-space:pre;overflow-x:auto;line-height:normal;font-family:Menlo,'DejaVu Sans Mono',consolas,'Courier New',monospace\">search algorithm\n",
       "Any algorithm which solves the search problem, namely, to retrieve information stored within some data structure, \n",
       "or calculated in the search space of a problem domain, either with discrete or continuous values.\n",
       "\n",
       "selection\n",
       "The stage of a genetic algorithm in which individual genomes are chosen from a population for later breeding <span style=\"font-weight: bold\">(</span>using\n",
       "the crossover operator<span style=\"font-weight: bold\">)</span>.\n",
       "\n",
       "self-management\n",
       "The process by which computer systems manage their own operation without human intervention.\n",
       "</pre>\n"
      ],
      "text/plain": [
       "search algorithm\n",
       "Any algorithm which solves the search problem, namely, to retrieve information stored within some data structure, \n",
       "or calculated in the search space of a problem domain, either with discrete or continuous values.\n",
       "\n",
       "selection\n",
       "The stage of a genetic algorithm in which individual genomes are chosen from a population for later breeding \u001b[1m(\u001b[0musing\n",
       "the crossover operator\u001b[1m)\u001b[0m.\n",
       "\n",
       "self-management\n",
       "The process by which computer systems manage their own operation without human intervention.\n"
      ]
     },
     "metadata": {},
     "output_type": "display_data"
    },
    {
     "data": {
      "text/html": [
       "<pre style=\"white-space:pre;overflow-x:auto;line-height:normal;font-family:Menlo,'DejaVu Sans Mono',consolas,'Courier New',monospace\">self-management\n",
       "The process by which computer systems manage their own operation without human intervention.\n",
       "\n",
       "semantic network\n",
       "Also frame network.\n",
       "A knowledge base that represents semantic relations between concepts in a network. This is often used as a form of \n",
       "knowledge representation. It is a directed or undirected graph consisting of vertices, which represent concepts, \n",
       "and edges, which represent semantic relations between concepts, mapping or connecting semantic fields.\n",
       "</pre>\n"
      ],
      "text/plain": [
       "self-management\n",
       "The process by which computer systems manage their own operation without human intervention.\n",
       "\n",
       "semantic network\n",
       "Also frame network.\n",
       "A knowledge base that represents semantic relations between concepts in a network. This is often used as a form of \n",
       "knowledge representation. It is a directed or undirected graph consisting of vertices, which represent concepts, \n",
       "and edges, which represent semantic relations between concepts, mapping or connecting semantic fields.\n"
      ]
     },
     "metadata": {},
     "output_type": "display_data"
    },
    {
     "data": {
      "text/html": [
       "<pre style=\"white-space:pre;overflow-x:auto;line-height:normal;font-family:Menlo,'DejaVu Sans Mono',consolas,'Courier New',monospace\">semantic reasoner\n",
       "Also reasoning engine, rules engine, or simply reasoner.\n",
       "A piece of software able to infer logical consequences from a set of asserted facts or axioms. The notion of a \n",
       "semantic reasoner generalizes that of an inference engine, by providing a richer set of mechanisms to work with. \n",
       "The inference rules are commonly specified by means of an ontology language, and often a description logic \n",
       "language. Many reasoners use first-order predicate logic to perform reasoning; inference commonly proceeds by \n",
       "forward chaining and backward chaining.\n",
       "</pre>\n"
      ],
      "text/plain": [
       "semantic reasoner\n",
       "Also reasoning engine, rules engine, or simply reasoner.\n",
       "A piece of software able to infer logical consequences from a set of asserted facts or axioms. The notion of a \n",
       "semantic reasoner generalizes that of an inference engine, by providing a richer set of mechanisms to work with. \n",
       "The inference rules are commonly specified by means of an ontology language, and often a description logic \n",
       "language. Many reasoners use first-order predicate logic to perform reasoning; inference commonly proceeds by \n",
       "forward chaining and backward chaining.\n"
      ]
     },
     "metadata": {},
     "output_type": "display_data"
    },
    {
     "data": {
      "text/html": [
       "<pre style=\"white-space:pre;overflow-x:auto;line-height:normal;font-family:Menlo,'DejaVu Sans Mono',consolas,'Courier New',monospace\">semantic query\n",
       "Allows for queries and analytics of associative and contextual nature. Semantic queries enable the retrieval of \n",
       "both explicitly and implicitly derived information based on syntactic, semantic and structural information \n",
       "contained in data. They are designed to deliver precise results <span style=\"font-weight: bold\">(</span>possibly the distinctive selection of one single \n",
       "piece of information<span style=\"font-weight: bold\">)</span> or to answer more fuzzy and wide-open questions through pattern matching and digital \n",
       "reasoning.\n",
       "\n",
       "semantics\n",
       "In programming language theory, semantics is the field concerned with the rigorous mathematical study of the \n",
       "meaning of programming languages. It does so by evaluating the meaning of syntactically valid strings defined by a \n",
       "specific programming language, showing the computation involved.\n",
       "</pre>\n"
      ],
      "text/plain": [
       "semantic query\n",
       "Allows for queries and analytics of associative and contextual nature. Semantic queries enable the retrieval of \n",
       "both explicitly and implicitly derived information based on syntactic, semantic and structural information \n",
       "contained in data. They are designed to deliver precise results \u001b[1m(\u001b[0mpossibly the distinctive selection of one single \n",
       "piece of information\u001b[1m)\u001b[0m or to answer more fuzzy and wide-open questions through pattern matching and digital \n",
       "reasoning.\n",
       "\n",
       "semantics\n",
       "In programming language theory, semantics is the field concerned with the rigorous mathematical study of the \n",
       "meaning of programming languages. It does so by evaluating the meaning of syntactically valid strings defined by a \n",
       "specific programming language, showing the computation involved.\n"
      ]
     },
     "metadata": {},
     "output_type": "display_data"
    },
    {
     "data": {
      "text/html": [
       "<pre style=\"white-space:pre;overflow-x:auto;line-height:normal;font-family:Menlo,'DejaVu Sans Mono',consolas,'Courier New',monospace\">In such a case that the evaluation would be of syntactically invalid strings, the result would be non-computation. \n",
       "Semantics describes the processes a computer follows when executing a program in that specific language. This can \n",
       "be shown by describing the relationship between the input and output of a program, or an explanation of how the \n",
       "program will be executed on a certain platform, hence creating a model of computation.\n",
       "\n",
       "sensor fusion\n",
       "The combining of sensory data or data derived from disparate sources such that the resulting information has less \n",
       "uncertainty than would be possible when these sources were used individually.\n",
       "</pre>\n"
      ],
      "text/plain": [
       "In such a case that the evaluation would be of syntactically invalid strings, the result would be non-computation. \n",
       "Semantics describes the processes a computer follows when executing a program in that specific language. This can \n",
       "be shown by describing the relationship between the input and output of a program, or an explanation of how the \n",
       "program will be executed on a certain platform, hence creating a model of computation.\n",
       "\n",
       "sensor fusion\n",
       "The combining of sensory data or data derived from disparate sources such that the resulting information has less \n",
       "uncertainty than would be possible when these sources were used individually.\n"
      ]
     },
     "metadata": {},
     "output_type": "display_data"
    },
    {
     "data": {
      "text/html": [
       "<pre style=\"white-space:pre;overflow-x:auto;line-height:normal;font-family:Menlo,'DejaVu Sans Mono',consolas,'Courier New',monospace\">separation logic\n",
       "An extension of Hoare logic, a way of reasoning about programs. The assertion language of separation logic is a \n",
       "special case of the logic of bunched implications <span style=\"font-weight: bold\">(</span>BI<span style=\"font-weight: bold\">)</span>.\n",
       "\n",
       "similarity learning\n",
       "An area of supervised machine learning in artificial intelligence. It is closely related to classification and \n",
       "regression, but the goal is to learn from a similarity function that measures how similar or related two objects \n",
       "are. It has applications in ranking, in recommendation systems, visual identity tracking, face verification, and \n",
       "speaker verification.\n",
       "</pre>\n"
      ],
      "text/plain": [
       "separation logic\n",
       "An extension of Hoare logic, a way of reasoning about programs. The assertion language of separation logic is a \n",
       "special case of the logic of bunched implications \u001b[1m(\u001b[0mBI\u001b[1m)\u001b[0m.\n",
       "\n",
       "similarity learning\n",
       "An area of supervised machine learning in artificial intelligence. It is closely related to classification and \n",
       "regression, but the goal is to learn from a similarity function that measures how similar or related two objects \n",
       "are. It has applications in ranking, in recommendation systems, visual identity tracking, face verification, and \n",
       "speaker verification.\n"
      ]
     },
     "metadata": {},
     "output_type": "display_data"
    },
    {
     "data": {
      "text/html": [
       "<pre style=\"white-space:pre;overflow-x:auto;line-height:normal;font-family:Menlo,'DejaVu Sans Mono',consolas,'Courier New',monospace\">simulated annealing <span style=\"font-weight: bold\">(</span>SA<span style=\"font-weight: bold\">)</span>\n",
       "A probabilistic technique for approximating the global optimum of a given function. Specifically, it is a \n",
       "metaheuristic to approximate global optimization in a large search space for an optimization problem.\n",
       "\n",
       "situated approach\n",
       "In artificial intelligence research, the situated approach builds agents that are designed to behave effectively \n",
       "successfully in their environment. This requires designing AI <span style=\"color: #008000; text-decoration-color: #008000\">\"from the bottom-up\"</span> by focussing on the basic \n",
       "perceptual and motor skills required to survive. The situated approach gives a much lower priority to abstract \n",
       "reasoning or problem-solving skills.\n",
       "</pre>\n"
      ],
      "text/plain": [
       "simulated annealing \u001b[1m(\u001b[0mSA\u001b[1m)\u001b[0m\n",
       "A probabilistic technique for approximating the global optimum of a given function. Specifically, it is a \n",
       "metaheuristic to approximate global optimization in a large search space for an optimization problem.\n",
       "\n",
       "situated approach\n",
       "In artificial intelligence research, the situated approach builds agents that are designed to behave effectively \n",
       "successfully in their environment. This requires designing AI \u001b[32m\"from the bottom-up\"\u001b[0m by focussing on the basic \n",
       "perceptual and motor skills required to survive. The situated approach gives a much lower priority to abstract \n",
       "reasoning or problem-solving skills.\n"
      ]
     },
     "metadata": {},
     "output_type": "display_data"
    },
    {
     "data": {
      "text/html": [
       "<pre style=\"white-space:pre;overflow-x:auto;line-height:normal;font-family:Menlo,'DejaVu Sans Mono',consolas,'Courier New',monospace\">situation calculus\n",
       "A logic formalism designed for representing and reasoning about dynamical domains.\n",
       "\n",
       "Selective Linear Definite clause resolution\n",
       "Also simply SLD resolution.\n",
       "The basic inference rule used in logic programming. It is a refinement of resolution, which is both sound and \n",
       "refutation complete for Horn clauses.\n",
       "</pre>\n"
      ],
      "text/plain": [
       "situation calculus\n",
       "A logic formalism designed for representing and reasoning about dynamical domains.\n",
       "\n",
       "Selective Linear Definite clause resolution\n",
       "Also simply SLD resolution.\n",
       "The basic inference rule used in logic programming. It is a refinement of resolution, which is both sound and \n",
       "refutation complete for Horn clauses.\n"
      ]
     },
     "metadata": {},
     "output_type": "display_data"
    },
    {
     "data": {
      "text/html": [
       "<pre style=\"white-space:pre;overflow-x:auto;line-height:normal;font-family:Menlo,'DejaVu Sans Mono',consolas,'Courier New',monospace\">software\n",
       "A collection of data or computer instructions that tell the computer how to work. This is in contrast to physical \n",
       "hardware, from which the system is built and actually performs the work. In computer science and software \n",
       "engineering, computer software is all information processed by computer systems, programs and data. Computer \n",
       "software includes computer programs, libraries and related non-executable data, such as online documentation or \n",
       "digital media.\n",
       "\n",
       "software engineering\n",
       "The application of engineering to the development of software in a systematic method.\n",
       "</pre>\n"
      ],
      "text/plain": [
       "software\n",
       "A collection of data or computer instructions that tell the computer how to work. This is in contrast to physical \n",
       "hardware, from which the system is built and actually performs the work. In computer science and software \n",
       "engineering, computer software is all information processed by computer systems, programs and data. Computer \n",
       "software includes computer programs, libraries and related non-executable data, such as online documentation or \n",
       "digital media.\n",
       "\n",
       "software engineering\n",
       "The application of engineering to the development of software in a systematic method.\n"
      ]
     },
     "metadata": {},
     "output_type": "display_data"
    },
    {
     "data": {
      "text/html": [
       "<pre style=\"white-space:pre;overflow-x:auto;line-height:normal;font-family:Menlo,'DejaVu Sans Mono',consolas,'Courier New',monospace\">software engineering\n",
       "The application of engineering to the development of software in a systematic method.\n",
       "\n",
       "spatial-temporal reasoning\n",
       "An area of artificial intelligence which draws from the fields of computer science, cognitive science, and \n",
       "cognitive psychology. The theoretic goal—on the cognitive side—involves representing and reasoning spatial-temporal\n",
       "knowledge in mind. The applied goal—on the computing side—involves developing high-level control systems of \n",
       "automata for navigating and understanding time and space.\n",
       "</pre>\n"
      ],
      "text/plain": [
       "software engineering\n",
       "The application of engineering to the development of software in a systematic method.\n",
       "\n",
       "spatial-temporal reasoning\n",
       "An area of artificial intelligence which draws from the fields of computer science, cognitive science, and \n",
       "cognitive psychology. The theoretic goal—on the cognitive side—involves representing and reasoning spatial-temporal\n",
       "knowledge in mind. The applied goal—on the computing side—involves developing high-level control systems of \n",
       "automata for navigating and understanding time and space.\n"
      ]
     },
     "metadata": {},
     "output_type": "display_data"
    },
    {
     "data": {
      "text/html": [
       "<pre style=\"white-space:pre;overflow-x:auto;line-height:normal;font-family:Menlo,'DejaVu Sans Mono',consolas,'Courier New',monospace\">SPARQL\n",
       "An RDF query language—that is, a semantic query language for databases—able to retrieve and manipulate data stored \n",
       "in Resource Description Framework <span style=\"font-weight: bold\">(</span>RDF<span style=\"font-weight: bold\">)</span> format.\n",
       "\n",
       "sparse dictionary learning\n",
       "Also sparse coding or SDL.\n",
       "A feature learning method aimed at finding a sparse representation of the input data in the form of a linear \n",
       "combination of basic elements as well as those basic elements themselves.\n",
       "</pre>\n"
      ],
      "text/plain": [
       "SPARQL\n",
       "An RDF query language—that is, a semantic query language for databases—able to retrieve and manipulate data stored \n",
       "in Resource Description Framework \u001b[1m(\u001b[0mRDF\u001b[1m)\u001b[0m format.\n",
       "\n",
       "sparse dictionary learning\n",
       "Also sparse coding or SDL.\n",
       "A feature learning method aimed at finding a sparse representation of the input data in the form of a linear \n",
       "combination of basic elements as well as those basic elements themselves.\n"
      ]
     },
     "metadata": {},
     "output_type": "display_data"
    },
    {
     "data": {
      "text/html": [
       "<pre style=\"white-space:pre;overflow-x:auto;line-height:normal;font-family:Menlo,'DejaVu Sans Mono',consolas,'Courier New',monospace\">speech recognition\n",
       "An interdisciplinary subfield of computational linguistics that develops methodologies and technologies that \n",
       "enables the recognition and translation of spoken language into text by computers. It is also known as automatic \n",
       "speech recognition <span style=\"font-weight: bold\">(</span>ASR<span style=\"font-weight: bold\">)</span>, computer speech recognition or speech to text <span style=\"font-weight: bold\">(</span>STT<span style=\"font-weight: bold\">)</span>. It incorporates knowledge and \n",
       "research in the linguistics, computer science, and electrical engineering fields.\n",
       "\n",
       "spiking neural network <span style=\"font-weight: bold\">(</span>SNN<span style=\"font-weight: bold\">)</span>\n",
       "An artificial neural network that more closely mimics a natural neural network. In addition to neuronal and \n",
       "synaptic state, SNNs incorporate the concept of time into their Operating Model.\n",
       "</pre>\n"
      ],
      "text/plain": [
       "speech recognition\n",
       "An interdisciplinary subfield of computational linguistics that develops methodologies and technologies that \n",
       "enables the recognition and translation of spoken language into text by computers. It is also known as automatic \n",
       "speech recognition \u001b[1m(\u001b[0mASR\u001b[1m)\u001b[0m, computer speech recognition or speech to text \u001b[1m(\u001b[0mSTT\u001b[1m)\u001b[0m. It incorporates knowledge and \n",
       "research in the linguistics, computer science, and electrical engineering fields.\n",
       "\n",
       "spiking neural network \u001b[1m(\u001b[0mSNN\u001b[1m)\u001b[0m\n",
       "An artificial neural network that more closely mimics a natural neural network. In addition to neuronal and \n",
       "synaptic state, SNNs incorporate the concept of time into their Operating Model.\n"
      ]
     },
     "metadata": {},
     "output_type": "display_data"
    },
    {
     "data": {
      "text/html": [
       "<pre style=\"white-space:pre;overflow-x:auto;line-height:normal;font-family:Menlo,'DejaVu Sans Mono',consolas,'Courier New',monospace\">state\n",
       "In information technology and computer science, a program is described as stateful if it is designed to remember \n",
       "preceding events or user interactions; the remembered information is called the state of the system.\n",
       "</pre>\n"
      ],
      "text/plain": [
       "state\n",
       "In information technology and computer science, a program is described as stateful if it is designed to remember \n",
       "preceding events or user interactions; the remembered information is called the state of the system.\n"
      ]
     },
     "metadata": {},
     "output_type": "display_data"
    },
    {
     "data": {
      "text/html": [
       "<pre style=\"white-space:pre;overflow-x:auto;line-height:normal;font-family:Menlo,'DejaVu Sans Mono',consolas,'Courier New',monospace\">statistical classification\n",
       "In machine learning and statistics, classification is the problem of identifying to which of a set of categories \n",
       "<span style=\"font-weight: bold\">(</span>sub-populations<span style=\"font-weight: bold\">)</span> a new observation belongs, on the basis of a training set of data containing observations <span style=\"font-weight: bold\">(</span>or \n",
       "instances<span style=\"font-weight: bold\">)</span> whose category membership is known.  Examples are assigning a given email to the <span style=\"color: #008000; text-decoration-color: #008000\">\"spam\"</span> or <span style=\"color: #008000; text-decoration-color: #008000\">\"non-spam\"</span> \n",
       "class, and assigning a diagnosis to a given patient based on observed characteristics of the patient <span style=\"font-weight: bold\">(</span>sex, blood \n",
       "pressure, presence or absence of certain symptoms, etc.<span style=\"font-weight: bold\">)</span>.  Classification is an example of pattern recognition.\n",
       "</pre>\n"
      ],
      "text/plain": [
       "statistical classification\n",
       "In machine learning and statistics, classification is the problem of identifying to which of a set of categories \n",
       "\u001b[1m(\u001b[0msub-populations\u001b[1m)\u001b[0m a new observation belongs, on the basis of a training set of data containing observations \u001b[1m(\u001b[0mor \n",
       "instances\u001b[1m)\u001b[0m whose category membership is known.  Examples are assigning a given email to the \u001b[32m\"spam\"\u001b[0m or \u001b[32m\"non-spam\"\u001b[0m \n",
       "class, and assigning a diagnosis to a given patient based on observed characteristics of the patient \u001b[1m(\u001b[0msex, blood \n",
       "pressure, presence or absence of certain symptoms, etc.\u001b[1m)\u001b[0m.  Classification is an example of pattern recognition.\n"
      ]
     },
     "metadata": {},
     "output_type": "display_data"
    },
    {
     "data": {
      "text/html": [
       "<pre style=\"white-space:pre;overflow-x:auto;line-height:normal;font-family:Menlo,'DejaVu Sans Mono',consolas,'Courier New',monospace\">state–action–reward–state–action <span style=\"font-weight: bold\">(</span>SARSA<span style=\"font-weight: bold\">)</span>\n",
       "A reinforcement learning algorithm for learning a Markov decision process policy.\n",
       "\n",
       "statistical relational learning <span style=\"font-weight: bold\">(</span>SRL<span style=\"font-weight: bold\">)</span>\n",
       "A subdiscipline of artificial intelligence and machine learning that is concerned with domain models that exhibit \n",
       "both uncertainty <span style=\"font-weight: bold\">(</span>which can be dealt with using statistical methods<span style=\"font-weight: bold\">)</span> and complex, relational structure. Note that \n",
       "SRL is sometimes called Relational Machine Learning <span style=\"font-weight: bold\">(</span>RML<span style=\"font-weight: bold\">)</span> in the literature.\n",
       "</pre>\n"
      ],
      "text/plain": [
       "state–action–reward–state–action \u001b[1m(\u001b[0mSARSA\u001b[1m)\u001b[0m\n",
       "A reinforcement learning algorithm for learning a Markov decision process policy.\n",
       "\n",
       "statistical relational learning \u001b[1m(\u001b[0mSRL\u001b[1m)\u001b[0m\n",
       "A subdiscipline of artificial intelligence and machine learning that is concerned with domain models that exhibit \n",
       "both uncertainty \u001b[1m(\u001b[0mwhich can be dealt with using statistical methods\u001b[1m)\u001b[0m and complex, relational structure. Note that \n",
       "SRL is sometimes called Relational Machine Learning \u001b[1m(\u001b[0mRML\u001b[1m)\u001b[0m in the literature.\n"
      ]
     },
     "metadata": {},
     "output_type": "display_data"
    },
    {
     "data": {
      "text/html": [
       "<pre style=\"white-space:pre;overflow-x:auto;line-height:normal;font-family:Menlo,'DejaVu Sans Mono',consolas,'Courier New',monospace\">Note that SRL is sometimes called Relational Machine Learning <span style=\"font-weight: bold\">(</span>RML<span style=\"font-weight: bold\">)</span> in the literature. Typically, the knowledge \n",
       "representation formalisms developed in SRL use <span style=\"font-weight: bold\">(</span>a subset of<span style=\"font-weight: bold\">)</span> first-order logic to describe relational properties of\n",
       "a domain in a general manner <span style=\"font-weight: bold\">(</span>universal quantification<span style=\"font-weight: bold\">)</span> and draw upon probabilistic graphical models <span style=\"font-weight: bold\">(</span>such as \n",
       "Bayesian networks or Markov networks<span style=\"font-weight: bold\">)</span> to model the uncertainty; some also build upon the methods of inductive logic\n",
       "programming.\n",
       "</pre>\n"
      ],
      "text/plain": [
       "Note that SRL is sometimes called Relational Machine Learning \u001b[1m(\u001b[0mRML\u001b[1m)\u001b[0m in the literature. Typically, the knowledge \n",
       "representation formalisms developed in SRL use \u001b[1m(\u001b[0ma subset of\u001b[1m)\u001b[0m first-order logic to describe relational properties of\n",
       "a domain in a general manner \u001b[1m(\u001b[0muniversal quantification\u001b[1m)\u001b[0m and draw upon probabilistic graphical models \u001b[1m(\u001b[0msuch as \n",
       "Bayesian networks or Markov networks\u001b[1m)\u001b[0m to model the uncertainty; some also build upon the methods of inductive logic\n",
       "programming.\n"
      ]
     },
     "metadata": {},
     "output_type": "display_data"
    },
    {
     "data": {
      "text/html": [
       "<pre style=\"white-space:pre;overflow-x:auto;line-height:normal;font-family:Menlo,'DejaVu Sans Mono',consolas,'Courier New',monospace\">stochastic optimization <span style=\"font-weight: bold\">(</span>SO<span style=\"font-weight: bold\">)</span>\n",
       "Any optimization method that generates and uses random variables. For stochastic problems, the random variables \n",
       "appear in the formulation of the optimization problem itself, which involves random objective functions or random \n",
       "constraints. Stochastic optimization methods also include methods with random iterates. Some stochastic \n",
       "optimization methods use random iterates to solve stochastic problems, combining both meanings of stochastic \n",
       "optimization. Stochastic optimization methods generalize deterministic methods for deterministic problems.\n",
       "</pre>\n"
      ],
      "text/plain": [
       "stochastic optimization \u001b[1m(\u001b[0mSO\u001b[1m)\u001b[0m\n",
       "Any optimization method that generates and uses random variables. For stochastic problems, the random variables \n",
       "appear in the formulation of the optimization problem itself, which involves random objective functions or random \n",
       "constraints. Stochastic optimization methods also include methods with random iterates. Some stochastic \n",
       "optimization methods use random iterates to solve stochastic problems, combining both meanings of stochastic \n",
       "optimization. Stochastic optimization methods generalize deterministic methods for deterministic problems.\n"
      ]
     },
     "metadata": {},
     "output_type": "display_data"
    },
    {
     "data": {
      "text/html": [
       "<pre style=\"white-space:pre;overflow-x:auto;line-height:normal;font-family:Menlo,'DejaVu Sans Mono',consolas,'Courier New',monospace\">stochastic semantic analysis\n",
       "An approach used in computer science as a semantic component of natural language understanding. Stochastic models \n",
       "generally use the definition of segments of words as basic semantic units for the semantic models, and in some \n",
       "cases involve a two layered approach.\n",
       "\n",
       "Stanford Research Institute Problem Solver <span style=\"font-weight: bold\">(</span>STRIPS<span style=\"font-weight: bold\">)</span>\n",
       "An automated planner developed by Richard Fikes and Nils Nilsson in <span style=\"color: #008080; text-decoration-color: #008080; font-weight: bold\">1971</span> at SRI International.\n",
       "\n",
       "subject-matter expert <span style=\"font-weight: bold\">(</span>SME<span style=\"font-weight: bold\">)</span>\n",
       "A person who has accumulated great knowledge in a particular field or topic, demonstrated by the person's degree, \n",
       "licensure, and/or through years of professional experience with the subject.\n",
       "</pre>\n"
      ],
      "text/plain": [
       "stochastic semantic analysis\n",
       "An approach used in computer science as a semantic component of natural language understanding. Stochastic models \n",
       "generally use the definition of segments of words as basic semantic units for the semantic models, and in some \n",
       "cases involve a two layered approach.\n",
       "\n",
       "Stanford Research Institute Problem Solver \u001b[1m(\u001b[0mSTRIPS\u001b[1m)\u001b[0m\n",
       "An automated planner developed by Richard Fikes and Nils Nilsson in \u001b[1;36m1971\u001b[0m at SRI International.\n",
       "\n",
       "subject-matter expert \u001b[1m(\u001b[0mSME\u001b[1m)\u001b[0m\n",
       "A person who has accumulated great knowledge in a particular field or topic, demonstrated by the person's degree, \n",
       "licensure, and/or through years of professional experience with the subject.\n"
      ]
     },
     "metadata": {},
     "output_type": "display_data"
    },
    {
     "data": {
      "text/html": [
       "<pre style=\"white-space:pre;overflow-x:auto;line-height:normal;font-family:Menlo,'DejaVu Sans Mono',consolas,'Courier New',monospace\">superintelligence\n",
       "A hypothetical agent that possesses intelligence far surpassing that of the brightest and most gifted human minds. \n",
       "Superintelligence may also refer to a property of problem-solving systems <span style=\"font-weight: bold\">(</span>e.g., superintelligent language \n",
       "translators or engineering assistants<span style=\"font-weight: bold\">)</span> whether or not these high-level intellectual competencies are embodied in \n",
       "agents that act within the physical world. A superintelligence may or may not be created by an intelligence \n",
       "explosion and be associated with a technological singularity.\n",
       "\n",
       "supervised learning\n",
       "The machine learning task of learning a function that maps an input to an output based on example input-output \n",
       "pairs.\n",
       "</pre>\n"
      ],
      "text/plain": [
       "superintelligence\n",
       "A hypothetical agent that possesses intelligence far surpassing that of the brightest and most gifted human minds. \n",
       "Superintelligence may also refer to a property of problem-solving systems \u001b[1m(\u001b[0me.g., superintelligent language \n",
       "translators or engineering assistants\u001b[1m)\u001b[0m whether or not these high-level intellectual competencies are embodied in \n",
       "agents that act within the physical world. A superintelligence may or may not be created by an intelligence \n",
       "explosion and be associated with a technological singularity.\n",
       "\n",
       "supervised learning\n",
       "The machine learning task of learning a function that maps an input to an output based on example input-output \n",
       "pairs.\n"
      ]
     },
     "metadata": {},
     "output_type": "display_data"
    },
    {
     "data": {
      "text/html": [
       "<pre style=\"white-space:pre;overflow-x:auto;line-height:normal;font-family:Menlo,'DejaVu Sans Mono',consolas,'Courier New',monospace\">It infers a function from labeled training data consisting of a set of training examples.  In supervised learning, \n",
       "each example is a pair consisting of an input object <span style=\"font-weight: bold\">(</span>typically a vector<span style=\"font-weight: bold\">)</span> and a desired output value <span style=\"font-weight: bold\">(</span>also called \n",
       "the supervisory signal<span style=\"font-weight: bold\">)</span>.  A supervised learning algorithm analyzes the training data and produces an inferred \n",
       "function, which can be used for mapping new examples. An optimal scenario will allow for the algorithm to correctly\n",
       "determine the class labels for unseen instances. This requires the learning algorithm to generalize from the \n",
       "training data to unseen situations in a <span style=\"color: #008000; text-decoration-color: #008000\">\"reasonable\"</span> way <span style=\"font-weight: bold\">(</span>see inductive bias<span style=\"font-weight: bold\">)</span>.\n",
       "</pre>\n"
      ],
      "text/plain": [
       "It infers a function from labeled training data consisting of a set of training examples.  In supervised learning, \n",
       "each example is a pair consisting of an input object \u001b[1m(\u001b[0mtypically a vector\u001b[1m)\u001b[0m and a desired output value \u001b[1m(\u001b[0malso called \n",
       "the supervisory signal\u001b[1m)\u001b[0m.  A supervised learning algorithm analyzes the training data and produces an inferred \n",
       "function, which can be used for mapping new examples. An optimal scenario will allow for the algorithm to correctly\n",
       "determine the class labels for unseen instances. This requires the learning algorithm to generalize from the \n",
       "training data to unseen situations in a \u001b[32m\"reasonable\"\u001b[0m way \u001b[1m(\u001b[0msee inductive bias\u001b[1m)\u001b[0m.\n"
      ]
     },
     "metadata": {},
     "output_type": "display_data"
    },
    {
     "data": {
      "text/html": [
       "<pre style=\"white-space:pre;overflow-x:auto;line-height:normal;font-family:Menlo,'DejaVu Sans Mono',consolas,'Courier New',monospace\">support vector machines\n",
       "In machine learning, support vector machines <span style=\"font-weight: bold\">(</span>SVMs, also support vector networks<span style=\"font-weight: bold\">)</span> are supervised learning models \n",
       "with associated learning algorithms that analyze data used for classification and regression.\n",
       "\n",
       "swarm intelligence <span style=\"font-weight: bold\">(</span>SI<span style=\"font-weight: bold\">)</span>\n",
       "The collective behavior of decentralized, self-organized systems, either natural or artificial. The expression was \n",
       "introduced in the context of cellular robotic systems.\n",
       "\n",
       "symbolic artificial intelligence\n",
       "The term for the collection of all methods in artificial intelligence research that are based on high-level \n",
       "<span style=\"color: #008000; text-decoration-color: #008000\">\"symbolic\"</span> <span style=\"font-weight: bold\">(</span>human-readable<span style=\"font-weight: bold\">)</span> representations of problems, logic, and search.\n",
       "</pre>\n"
      ],
      "text/plain": [
       "support vector machines\n",
       "In machine learning, support vector machines \u001b[1m(\u001b[0mSVMs, also support vector networks\u001b[1m)\u001b[0m are supervised learning models \n",
       "with associated learning algorithms that analyze data used for classification and regression.\n",
       "\n",
       "swarm intelligence \u001b[1m(\u001b[0mSI\u001b[1m)\u001b[0m\n",
       "The collective behavior of decentralized, self-organized systems, either natural or artificial. The expression was \n",
       "introduced in the context of cellular robotic systems.\n",
       "\n",
       "symbolic artificial intelligence\n",
       "The term for the collection of all methods in artificial intelligence research that are based on high-level \n",
       "\u001b[32m\"symbolic\"\u001b[0m \u001b[1m(\u001b[0mhuman-readable\u001b[1m)\u001b[0m representations of problems, logic, and search.\n"
      ]
     },
     "metadata": {},
     "output_type": "display_data"
    },
    {
     "data": {
      "text/html": [
       "<pre style=\"white-space:pre;overflow-x:auto;line-height:normal;font-family:Menlo,'DejaVu Sans Mono',consolas,'Courier New',monospace\">synthetic intelligence <span style=\"font-weight: bold\">(</span>SI<span style=\"font-weight: bold\">)</span>\n",
       "An alternative term for artificial intelligence which emphasizes that the intelligence of machines need not be an \n",
       "imitation or in any way artificial; it can be a genuine form of intelligence.\n",
       "\n",
       "systems neuroscience\n",
       "A subdiscipline of neuroscience and systems biology that studies the structure and function of neural circuits and \n",
       "systems.  It is an umbrella term, encompassing a number of areas of study concerned with how nerve cells behave \n",
       "when connected together to form neural pathways, neural circuits, and larger brain networks.\n",
       "\n",
       "\n",
       "== T ==\n",
       "</pre>\n"
      ],
      "text/plain": [
       "synthetic intelligence \u001b[1m(\u001b[0mSI\u001b[1m)\u001b[0m\n",
       "An alternative term for artificial intelligence which emphasizes that the intelligence of machines need not be an \n",
       "imitation or in any way artificial; it can be a genuine form of intelligence.\n",
       "\n",
       "systems neuroscience\n",
       "A subdiscipline of neuroscience and systems biology that studies the structure and function of neural circuits and \n",
       "systems.  It is an umbrella term, encompassing a number of areas of study concerned with how nerve cells behave \n",
       "when connected together to form neural pathways, neural circuits, and larger brain networks.\n",
       "\n",
       "\n",
       "== T ==\n"
      ]
     },
     "metadata": {},
     "output_type": "display_data"
    },
    {
     "data": {
      "text/html": [
       "<pre style=\"white-space:pre;overflow-x:auto;line-height:normal;font-family:Menlo,'DejaVu Sans Mono',consolas,'Courier New',monospace\">== T ==\n",
       "\n",
       "technological singularity\n",
       "Also simply the singularity.\n",
       "A hypothetical point in the future when technological growth becomes uncontrollable and irreversible, resulting in \n",
       "unfathomable changes to human civilization.\n",
       "\n",
       "temporal difference learning\n",
       "A class of model-free reinforcement learning methods which learn by bootstrapping from the current estimate of the \n",
       "value function. These methods sample from the environment, like Monte Carlo methods, and perform updates based on \n",
       "current estimates, like dynamic programming methods.\n",
       "</pre>\n"
      ],
      "text/plain": [
       "== T ==\n",
       "\n",
       "technological singularity\n",
       "Also simply the singularity.\n",
       "A hypothetical point in the future when technological growth becomes uncontrollable and irreversible, resulting in \n",
       "unfathomable changes to human civilization.\n",
       "\n",
       "temporal difference learning\n",
       "A class of model-free reinforcement learning methods which learn by bootstrapping from the current estimate of the \n",
       "value function. These methods sample from the environment, like Monte Carlo methods, and perform updates based on \n",
       "current estimates, like dynamic programming methods.\n"
      ]
     },
     "metadata": {},
     "output_type": "display_data"
    },
    {
     "data": {
      "text/html": [
       "<pre style=\"white-space:pre;overflow-x:auto;line-height:normal;font-family:Menlo,'DejaVu Sans Mono',consolas,'Courier New',monospace\">tensor network theory\n",
       "A theory of brain function <span style=\"font-weight: bold\">(</span>particularly that of the cerebellum<span style=\"font-weight: bold\">)</span> that provides a mathematical model of the \n",
       "transformation of sensory space-time coordinates into motor coordinates and vice versa by cerebellar neuronal \n",
       "networks. The theory was developed as a geometrization of brain function <span style=\"font-weight: bold\">(</span>especially of the central nervous system<span style=\"font-weight: bold\">)</span>\n",
       "using tensors.\n",
       "\n",
       "TensorFlow\n",
       "A free and open-source software library for dataflow and differentiable programming across a range of tasks. It is \n",
       "a symbolic math library, and is also used for machine learning applications such as neural networks.\n",
       "</pre>\n"
      ],
      "text/plain": [
       "tensor network theory\n",
       "A theory of brain function \u001b[1m(\u001b[0mparticularly that of the cerebellum\u001b[1m)\u001b[0m that provides a mathematical model of the \n",
       "transformation of sensory space-time coordinates into motor coordinates and vice versa by cerebellar neuronal \n",
       "networks. The theory was developed as a geometrization of brain function \u001b[1m(\u001b[0mespecially of the central nervous system\u001b[1m)\u001b[0m\n",
       "using tensors.\n",
       "\n",
       "TensorFlow\n",
       "A free and open-source software library for dataflow and differentiable programming across a range of tasks. It is \n",
       "a symbolic math library, and is also used for machine learning applications such as neural networks.\n"
      ]
     },
     "metadata": {},
     "output_type": "display_data"
    },
    {
     "data": {
      "text/html": [
       "<pre style=\"white-space:pre;overflow-x:auto;line-height:normal;font-family:Menlo,'DejaVu Sans Mono',consolas,'Courier New',monospace\">theoretical computer science <span style=\"font-weight: bold\">(</span>TCS<span style=\"font-weight: bold\">)</span>\n",
       "A subset of general computer science and mathematics that focuses on more mathematical topics of computing and \n",
       "includes the theory of computation.\n",
       "\n",
       "theory of computation\n",
       "In theoretical computer science and mathematics, the theory of computation is the branch that deals with how \n",
       "efficiently problems can be solved on a model of computation, using an algorithm. The field is divided into three \n",
       "major branches: automata theory and languages, computability theory, and computational complexity theory, which are\n",
       "linked by the question: <span style=\"color: #008000; text-decoration-color: #008000\">\"What are the fundamental capabilities and limitations of computers?\"</span>.\n",
       "</pre>\n"
      ],
      "text/plain": [
       "theoretical computer science \u001b[1m(\u001b[0mTCS\u001b[1m)\u001b[0m\n",
       "A subset of general computer science and mathematics that focuses on more mathematical topics of computing and \n",
       "includes the theory of computation.\n",
       "\n",
       "theory of computation\n",
       "In theoretical computer science and mathematics, the theory of computation is the branch that deals with how \n",
       "efficiently problems can be solved on a model of computation, using an algorithm. The field is divided into three \n",
       "major branches: automata theory and languages, computability theory, and computational complexity theory, which are\n",
       "linked by the question: \u001b[32m\"What are the fundamental capabilities and limitations of computers?\"\u001b[0m.\n"
      ]
     },
     "metadata": {},
     "output_type": "display_data"
    },
    {
     "data": {
      "text/html": [
       "<pre style=\"white-space:pre;overflow-x:auto;line-height:normal;font-family:Menlo,'DejaVu Sans Mono',consolas,'Courier New',monospace\">Thompson sampling\n",
       "A heuristic for choosing actions that addresses the exploration-exploitation dilemma in the multi-armed bandit \n",
       "problem. It consists in choosing the action that maximizes the expected reward with respect to a randomly drawn \n",
       "belief.\n",
       "\n",
       "time complexity\n",
       "The computational complexity that describes the amount of time it takes to run an algorithm. Time complexity is \n",
       "commonly estimated by counting the number of elementary operations performed by the algorithm, supposing that each \n",
       "elementary operation takes a fixed amount of time to perform. Thus, the amount of time taken and the number of \n",
       "elementary operations performed by the algorithm are taken to differ by at most a constant factor.\n",
       "</pre>\n"
      ],
      "text/plain": [
       "Thompson sampling\n",
       "A heuristic for choosing actions that addresses the exploration-exploitation dilemma in the multi-armed bandit \n",
       "problem. It consists in choosing the action that maximizes the expected reward with respect to a randomly drawn \n",
       "belief.\n",
       "\n",
       "time complexity\n",
       "The computational complexity that describes the amount of time it takes to run an algorithm. Time complexity is \n",
       "commonly estimated by counting the number of elementary operations performed by the algorithm, supposing that each \n",
       "elementary operation takes a fixed amount of time to perform. Thus, the amount of time taken and the number of \n",
       "elementary operations performed by the algorithm are taken to differ by at most a constant factor.\n"
      ]
     },
     "metadata": {},
     "output_type": "display_data"
    },
    {
     "data": {
      "text/html": [
       "<pre style=\"white-space:pre;overflow-x:auto;line-height:normal;font-family:Menlo,'DejaVu Sans Mono',consolas,'Courier New',monospace\">transformer\n",
       "A type of deep learning architecture that exploits a multi-head attention mechanism. Transformers address some of \n",
       "the limitations of long short-term memory, and became widely used in natural language processing, although it can \n",
       "also process other types of data such as images in the case of vision transformers.\n",
       "\n",
       "transhumanism\n",
       "Abbreviated H+ or h+.\n",
       "An international philosophical movement that advocates for the transformation of the human condition by developing \n",
       "and making widely available sophisticated technologies to greatly enhance human intellect and physiology.\n",
       "</pre>\n"
      ],
      "text/plain": [
       "transformer\n",
       "A type of deep learning architecture that exploits a multi-head attention mechanism. Transformers address some of \n",
       "the limitations of long short-term memory, and became widely used in natural language processing, although it can \n",
       "also process other types of data such as images in the case of vision transformers.\n",
       "\n",
       "transhumanism\n",
       "Abbreviated H+ or h+.\n",
       "An international philosophical movement that advocates for the transformation of the human condition by developing \n",
       "and making widely available sophisticated technologies to greatly enhance human intellect and physiology.\n"
      ]
     },
     "metadata": {},
     "output_type": "display_data"
    },
    {
     "data": {
      "text/html": [
       "<pre style=\"white-space:pre;overflow-x:auto;line-height:normal;font-family:Menlo,'DejaVu Sans Mono',consolas,'Courier New',monospace\">transition system\n",
       "In theoretical computer science, a transition system is a concept used in the study of computation. It is used to \n",
       "describe the potential behavior of discrete systems. It consists of states and transitions between states, which \n",
       "may be labeled with labels chosen from a set; the same label may appear on more than one transition. If the label \n",
       "set is a singleton, the system is essentially unlabeled, and a simpler definition that omits the labels is \n",
       "possible.\n",
       "</pre>\n"
      ],
      "text/plain": [
       "transition system\n",
       "In theoretical computer science, a transition system is a concept used in the study of computation. It is used to \n",
       "describe the potential behavior of discrete systems. It consists of states and transitions between states, which \n",
       "may be labeled with labels chosen from a set; the same label may appear on more than one transition. If the label \n",
       "set is a singleton, the system is essentially unlabeled, and a simpler definition that omits the labels is \n",
       "possible.\n"
      ]
     },
     "metadata": {},
     "output_type": "display_data"
    },
    {
     "data": {
      "text/html": [
       "<pre style=\"white-space:pre;overflow-x:auto;line-height:normal;font-family:Menlo,'DejaVu Sans Mono',consolas,'Courier New',monospace\">tree traversal\n",
       "Also tree search.\n",
       "A form of graph traversal and refers to the process of visiting <span style=\"font-weight: bold\">(</span>checking and/or updating<span style=\"font-weight: bold\">)</span> each node in a tree data\n",
       "structure, exactly once. Such traversals are classified by the order in which the nodes are visited.\n",
       "</pre>\n"
      ],
      "text/plain": [
       "tree traversal\n",
       "Also tree search.\n",
       "A form of graph traversal and refers to the process of visiting \u001b[1m(\u001b[0mchecking and/or updating\u001b[1m)\u001b[0m each node in a tree data\n",
       "structure, exactly once. Such traversals are classified by the order in which the nodes are visited.\n"
      ]
     },
     "metadata": {},
     "output_type": "display_data"
    },
    {
     "data": {
      "text/html": [
       "<pre style=\"white-space:pre;overflow-x:auto;line-height:normal;font-family:Menlo,'DejaVu Sans Mono',consolas,'Courier New',monospace\">true quantified Boolean formula\n",
       "In computational complexity theory, the language TQBF is a formal language consisting of the true quantified \n",
       "Boolean formulas.  A <span style=\"font-weight: bold\">(</span>fully<span style=\"font-weight: bold\">)</span> quantified Boolean formula is a formula in quantified propositional logic where every \n",
       "variable is quantified <span style=\"font-weight: bold\">(</span>or bound<span style=\"font-weight: bold\">)</span>, using either existential or universal quantifiers, at the beginning of the \n",
       "sentence. Such a formula is equivalent to either true or false <span style=\"font-weight: bold\">(</span>since there are no free variables<span style=\"font-weight: bold\">)</span>. If such a \n",
       "formula evaluates to true, then that formula is in the language TQBF. It is also known as QSAT <span style=\"font-weight: bold\">(</span>Quantified SAT<span style=\"font-weight: bold\">)</span>.\n",
       "</pre>\n"
      ],
      "text/plain": [
       "true quantified Boolean formula\n",
       "In computational complexity theory, the language TQBF is a formal language consisting of the true quantified \n",
       "Boolean formulas.  A \u001b[1m(\u001b[0mfully\u001b[1m)\u001b[0m quantified Boolean formula is a formula in quantified propositional logic where every \n",
       "variable is quantified \u001b[1m(\u001b[0mor bound\u001b[1m)\u001b[0m, using either existential or universal quantifiers, at the beginning of the \n",
       "sentence. Such a formula is equivalent to either true or false \u001b[1m(\u001b[0msince there are no free variables\u001b[1m)\u001b[0m. If such a \n",
       "formula evaluates to true, then that formula is in the language TQBF. It is also known as QSAT \u001b[1m(\u001b[0mQuantified SAT\u001b[1m)\u001b[0m.\n"
      ]
     },
     "metadata": {},
     "output_type": "display_data"
    },
    {
     "data": {
      "text/html": [
       "<pre style=\"white-space:pre;overflow-x:auto;line-height:normal;font-family:Menlo,'DejaVu Sans Mono',consolas,'Courier New',monospace\">Turing machine\n",
       "A mathematical model of computation describing an abstract machine that manipulates symbols on a strip of tape \n",
       "according to a table of rules. Despite the model's simplicity, it is capable of implementing any algorithm.\n",
       "\n",
       "Turing test\n",
       "A test of a machine's ability to exhibit intelligent behaviour equivalent to, or indistinguishable from, that of a \n",
       "human, developed by Alan Turing in <span style=\"color: #008080; text-decoration-color: #008080; font-weight: bold\">1950</span>. Turing proposed that a human evaluator would judge natural language \n",
       "conversations between a human and a machine designed to generate human-like responses.\n",
       "</pre>\n"
      ],
      "text/plain": [
       "Turing machine\n",
       "A mathematical model of computation describing an abstract machine that manipulates symbols on a strip of tape \n",
       "according to a table of rules. Despite the model's simplicity, it is capable of implementing any algorithm.\n",
       "\n",
       "Turing test\n",
       "A test of a machine's ability to exhibit intelligent behaviour equivalent to, or indistinguishable from, that of a \n",
       "human, developed by Alan Turing in \u001b[1;36m1950\u001b[0m. Turing proposed that a human evaluator would judge natural language \n",
       "conversations between a human and a machine designed to generate human-like responses.\n"
      ]
     },
     "metadata": {},
     "output_type": "display_data"
    },
    {
     "data": {
      "text/html": [
       "<pre style=\"white-space:pre;overflow-x:auto;line-height:normal;font-family:Menlo,'DejaVu Sans Mono',consolas,'Courier New',monospace\">The evaluator would be aware that one of the two partners in conversation is a machine, and all participants would \n",
       "be separated from one another. The conversation would be limited to a text-only channel such as a computer keyboard\n",
       "and screen so the result would not depend on the machine's ability to render words as speech. If the evaluator \n",
       "cannot reliably tell the machine from the human, the machine is said to have passed the test. The test results do \n",
       "not depend on the machine's ability to give correct answers to questions, only how closely its answers resemble \n",
       "those a human would give.\n",
       "</pre>\n"
      ],
      "text/plain": [
       "The evaluator would be aware that one of the two partners in conversation is a machine, and all participants would \n",
       "be separated from one another. The conversation would be limited to a text-only channel such as a computer keyboard\n",
       "and screen so the result would not depend on the machine's ability to render words as speech. If the evaluator \n",
       "cannot reliably tell the machine from the human, the machine is said to have passed the test. The test results do \n",
       "not depend on the machine's ability to give correct answers to questions, only how closely its answers resemble \n",
       "those a human would give.\n"
      ]
     },
     "metadata": {},
     "output_type": "display_data"
    },
    {
     "data": {
      "text/html": [
       "<pre style=\"white-space:pre;overflow-x:auto;line-height:normal;font-family:Menlo,'DejaVu Sans Mono',consolas,'Courier New',monospace\">type system\n",
       "In programming languages, a set of rules that assigns a property called type to the various constructs of a \n",
       "computer program, such as variables, expressions, functions, or modules. These types formalize and enforce the \n",
       "otherwise implicit categories the programmer uses for algebraic data types, data structures, or other components \n",
       "<span style=\"font-weight: bold\">(</span>e.g. <span style=\"color: #008000; text-decoration-color: #008000\">\"string\"</span>, <span style=\"color: #008000; text-decoration-color: #008000\">\"array of float\"</span>, <span style=\"color: #008000; text-decoration-color: #008000\">\"function returning boolean\"</span><span style=\"font-weight: bold\">)</span>. The main purpose of a type system is to reduce \n",
       "possibilities for bugs in computer programs by defining interfaces between different parts of a computer program, \n",
       "and then checking that the parts have been connected in a consistent way.\n",
       "</pre>\n"
      ],
      "text/plain": [
       "type system\n",
       "In programming languages, a set of rules that assigns a property called type to the various constructs of a \n",
       "computer program, such as variables, expressions, functions, or modules. These types formalize and enforce the \n",
       "otherwise implicit categories the programmer uses for algebraic data types, data structures, or other components \n",
       "\u001b[1m(\u001b[0me.g. \u001b[32m\"string\"\u001b[0m, \u001b[32m\"array of float\"\u001b[0m, \u001b[32m\"function returning boolean\"\u001b[0m\u001b[1m)\u001b[0m. The main purpose of a type system is to reduce \n",
       "possibilities for bugs in computer programs by defining interfaces between different parts of a computer program, \n",
       "and then checking that the parts have been connected in a consistent way.\n"
      ]
     },
     "metadata": {},
     "output_type": "display_data"
    },
    {
     "data": {
      "text/html": [
       "<pre style=\"white-space:pre;overflow-x:auto;line-height:normal;font-family:Menlo,'DejaVu Sans Mono',consolas,'Courier New',monospace\">This checking can happen statically <span style=\"font-weight: bold\">(</span>at compile time<span style=\"font-weight: bold\">)</span>, dynamically <span style=\"font-weight: bold\">(</span>at run time<span style=\"font-weight: bold\">)</span>, or as a combination of static and\n",
       "dynamic checking. Type systems have other purposes as well, such as expressing business rules, enabling certain \n",
       "compiler optimizations, allowing for multiple dispatch, providing a form of documentation, etc.\n",
       "\n",
       "\n",
       "== U ==\n",
       "</pre>\n"
      ],
      "text/plain": [
       "This checking can happen statically \u001b[1m(\u001b[0mat compile time\u001b[1m)\u001b[0m, dynamically \u001b[1m(\u001b[0mat run time\u001b[1m)\u001b[0m, or as a combination of static and\n",
       "dynamic checking. Type systems have other purposes as well, such as expressing business rules, enabling certain \n",
       "compiler optimizations, allowing for multiple dispatch, providing a form of documentation, etc.\n",
       "\n",
       "\n",
       "== U ==\n"
      ]
     },
     "metadata": {},
     "output_type": "display_data"
    },
    {
     "data": {
      "text/html": [
       "<pre style=\"white-space:pre;overflow-x:auto;line-height:normal;font-family:Menlo,'DejaVu Sans Mono',consolas,'Courier New',monospace\">== U ==\n",
       "\n",
       "unsupervised learning\n",
       "A type of self-organized Hebbian learning that helps find previously unknown patterns in data set without \n",
       "pre-existing labels. It is also known as self-organization and allows modeling probability densities of given \n",
       "inputs. It is one of the main three categories of machine learning, along with supervised and reinforcement \n",
       "learning. Semi-supervised learning has also been described and is a hybridization of supervised and unsupervised \n",
       "techniques.\n",
       "\n",
       "\n",
       "== V ==\n",
       "</pre>\n"
      ],
      "text/plain": [
       "== U ==\n",
       "\n",
       "unsupervised learning\n",
       "A type of self-organized Hebbian learning that helps find previously unknown patterns in data set without \n",
       "pre-existing labels. It is also known as self-organization and allows modeling probability densities of given \n",
       "inputs. It is one of the main three categories of machine learning, along with supervised and reinforcement \n",
       "learning. Semi-supervised learning has also been described and is a hybridization of supervised and unsupervised \n",
       "techniques.\n",
       "\n",
       "\n",
       "== V ==\n"
      ]
     },
     "metadata": {},
     "output_type": "display_data"
    },
    {
     "data": {
      "text/html": [
       "<pre style=\"white-space:pre;overflow-x:auto;line-height:normal;font-family:Menlo,'DejaVu Sans Mono',consolas,'Courier New',monospace\">== V ==\n",
       "\n",
       "vision processing unit <span style=\"font-weight: bold\">(</span>VPU<span style=\"font-weight: bold\">)</span>\n",
       "A type of microprocessor designed to accelerate machine vision tasks.\n",
       "Value-alignment complete\n",
       "Analogous to an AI-complete problem, a value-alignment complete problem is a problem where the AI control problem \n",
       "needs to be fully solved to solve it.\n",
       "\n",
       "\n",
       "== W ==\n",
       "\n",
       "Watson\n",
       "A question-answering computer system capable of answering questions posed in natural language, developed in IBM's \n",
       "DeepQA project by a research team led by principal investigator David Ferrucci. Watson was named after IBM's first \n",
       "CEO, industrialist Thomas J. Watson.\n",
       "</pre>\n"
      ],
      "text/plain": [
       "== V ==\n",
       "\n",
       "vision processing unit \u001b[1m(\u001b[0mVPU\u001b[1m)\u001b[0m\n",
       "A type of microprocessor designed to accelerate machine vision tasks.\n",
       "Value-alignment complete\n",
       "Analogous to an AI-complete problem, a value-alignment complete problem is a problem where the AI control problem \n",
       "needs to be fully solved to solve it.\n",
       "\n",
       "\n",
       "== W ==\n",
       "\n",
       "Watson\n",
       "A question-answering computer system capable of answering questions posed in natural language, developed in IBM's \n",
       "DeepQA project by a research team led by principal investigator David Ferrucci. Watson was named after IBM's first \n",
       "CEO, industrialist Thomas J. Watson.\n"
      ]
     },
     "metadata": {},
     "output_type": "display_data"
    },
    {
     "data": {
      "text/html": [
       "<pre style=\"white-space:pre;overflow-x:auto;line-height:normal;font-family:Menlo,'DejaVu Sans Mono',consolas,'Courier New',monospace\">weak AI\n",
       "Also narrow AI.\n",
       "Artificial intelligence that is focused on one narrow task.\n",
       "\n",
       "word embedding\n",
       "A representation of a word in natural language processing. Typically, the representation is a real-valued vector \n",
       "that encodes the meaning of the word in such a way that words that are closer in the vector space are expected to \n",
       "be similar in meaning.\n",
       "\n",
       "\n",
       "== X ==\n",
       "\n",
       "XGBoost\n",
       "Short for eXtreme Gradient Boosting, XGBoost is an open-source software library which provides a regularizing \n",
       "gradient boosting framework for multiple programming languages.\n",
       "\n",
       "\n",
       "== References ==\n",
       "\n",
       "\n",
       "=== Works cited ===\n",
       "\n",
       "\n",
       "== Notes ==\n",
       "</pre>\n"
      ],
      "text/plain": [
       "weak AI\n",
       "Also narrow AI.\n",
       "Artificial intelligence that is focused on one narrow task.\n",
       "\n",
       "word embedding\n",
       "A representation of a word in natural language processing. Typically, the representation is a real-valued vector \n",
       "that encodes the meaning of the word in such a way that words that are closer in the vector space are expected to \n",
       "be similar in meaning.\n",
       "\n",
       "\n",
       "== X ==\n",
       "\n",
       "XGBoost\n",
       "Short for eXtreme Gradient Boosting, XGBoost is an open-source software library which provides a regularizing \n",
       "gradient boosting framework for multiple programming languages.\n",
       "\n",
       "\n",
       "== References ==\n",
       "\n",
       "\n",
       "=== Works cited ===\n",
       "\n",
       "\n",
       "== Notes ==\n"
      ]
     },
     "metadata": {},
     "output_type": "display_data"
    }
   ],
   "source": [
    "name_page = \"Glossary of artificial intelligence\" \n",
    "\n",
    "chunks = ingest_and_chunk(name_page)\n",
    "\n",
    "for chunk in chunks:\n",
    "    rprint(chunk.get_content(\n",
    "        metadata_mode=MetadataMode.LLM\n",
    "    ))\n"
   ]
  }
 ],
 "metadata": {
  "kernelspec": {
   "display_name": ".venv",
   "language": "python",
   "name": "python3"
  },
  "language_info": {
   "codemirror_mode": {
    "name": "ipython",
    "version": 3
   },
   "file_extension": ".py",
   "mimetype": "text/x-python",
   "name": "python",
   "nbconvert_exporter": "python",
   "pygments_lexer": "ipython3",
   "version": "3.11.9"
  }
 },
 "nbformat": 4,
 "nbformat_minor": 2
}
