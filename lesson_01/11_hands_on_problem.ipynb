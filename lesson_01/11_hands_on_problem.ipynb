{
 "cells": [
  {
   "cell_type": "markdown",
   "metadata": {},
   "source": [
    "# Hands-on 1: Ingestion and Chunking"
   ]
  },
  {
   "cell_type": "markdown",
   "metadata": {},
   "source": [
    "## Problem"
   ]
  },
  {
   "cell_type": "markdown",
   "metadata": {},
   "source": [
    "Create a function with these requirements:​\n",
    "\n",
    "- Input: the name of the Wikipedia page to ingest \"Glossary of artificial intelligence\".​\n",
    "\n",
    "- Output: list of name-description concepts "
   ]
  },
  {
   "cell_type": "markdown",
   "metadata": {},
   "source": [
    "## Code"
   ]
  },
  {
   "cell_type": "code",
   "execution_count": null,
   "metadata": {},
   "outputs": [],
   "source": [
    "# if running on colab uncomment the next line\n",
    "%pip install llama-index>=0.11.20\n",
    "%pip install llama-index-readers-wikipedia>=0.2.0\n",
    "%pip install wikipedia>=1.4.0"
   ]
  },
  {
   "cell_type": "code",
   "execution_count": 1,
   "metadata": {},
   "outputs": [],
   "source": [
    "# imports\n",
    "from rich import print as rprint\n",
    "from llama_index.core.schema import MetadataMode\n",
    "from llama_index.core.schema import BaseNode\n",
    "# add your imports..."
   ]
  },
  {
   "cell_type": "code",
   "execution_count": 2,
   "metadata": {},
   "outputs": [],
   "source": [
    "\n",
    "def ingest_and_chunk(name_page: str) -> list[BaseNode]:\n",
    "    nodes = []\n",
    "    # add your code here...\n",
    "    # 1. load data from the page\n",
    "    # 2. select one or more parser to analyze the data\n",
    "    # 3. return the nodes\n",
    "    return nodes"
   ]
  },
  {
   "cell_type": "code",
   "execution_count": 3,
   "metadata": {},
   "outputs": [],
   "source": [
    "name_page = \"Glossary of artificial intelligence\" \n",
    "\n",
    "chunks = ingest_and_chunk(name_page)\n",
    "\n",
    "for chunk in chunks:\n",
    "    rprint(chunk.get_content(\n",
    "        metadata_mode=MetadataMode.LLM\n",
    "    ))\n"
   ]
  }
 ],
 "metadata": {
  "kernelspec": {
   "display_name": ".venv",
   "language": "python",
   "name": "python3"
  },
  "language_info": {
   "codemirror_mode": {
    "name": "ipython",
    "version": 3
   },
   "file_extension": ".py",
   "mimetype": "text/x-python",
   "name": "python",
   "nbconvert_exporter": "python",
   "pygments_lexer": "ipython3",
   "version": "3.11.9"
  }
 },
 "nbformat": 4,
 "nbformat_minor": 2
}
