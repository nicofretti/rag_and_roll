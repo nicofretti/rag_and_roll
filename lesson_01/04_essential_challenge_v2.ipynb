{
 "cells": [
  {
   "cell_type": "markdown",
   "metadata": {},
   "source": [
    "https://github.com/run-llama/llama_index/blob/f278bafbd5c03bbcb4c64afa2e56620c4dce631e/docs/docs/examples/query_engine/pdf_tables/recursive_retriever.ipynb#L4"
   ]
  },
  {
   "cell_type": "code",
   "execution_count": 1,
   "metadata": {},
   "outputs": [],
   "source": [
    "import nest_asyncio\n",
    "nest_asyncio.apply()"
   ]
  },
  {
   "cell_type": "code",
   "execution_count": null,
   "metadata": {},
   "outputs": [],
   "source": [
    "import os\n",
    "from llama_index.llms.openai import OpenAI\n",
    "\n",
    "os.environ[\"OPENAI_API_KEY\"] = \"\""
   ]
  },
  {
   "cell_type": "code",
   "execution_count": 3,
   "metadata": {},
   "outputs": [],
   "source": [
    "from llama_index.embeddings.openai import OpenAIEmbedding\n",
    "from llama_index.llms.openai import OpenAI\n",
    "from llama_index.core import Settings\n",
    "\n",
    "Settings.llm = OpenAI(model=\"gpt-3.5-turbo\")\n",
    "Settings.embed_model = OpenAIEmbedding(model=\"text-embedding-3-small\")"
   ]
  },
  {
   "cell_type": "code",
   "execution_count": 11,
   "metadata": {},
   "outputs": [
    {
     "name": "stdout",
     "output_type": "stream",
     "text": [
      "Processing ./data/billionaires_page.pdf...\n",
      "[                                        ] (0/3[=                                       ] ( 1/3[==                                      ] ( 2/33[===                                     ] ( 3/3[====                                    ] ( 4/33=[======                                  ] ( 5/33[=======                                 ] ( 6/3[========                                ] ( 7/33[=========                               ] ( 8/3[==========                              ] ( 9/33=[============                            ] (10/33[=============                           ] (11/3[==============                          ] (12/33[===============                         ] (13/3[================                        ] (14/33=[==================                      ] (15/33[===================                     ] (16/3[====================                    ] (17/33[=====================                   ] (18/3=[=======================                 ] (19/3[========================                ] (20/33[=========================               ] (21/3[==========================              ] (22/33[===========================             ] (23/3=[=============================           ] (24/3[==============================          ] (25/33[===============================         ] (26/3[================================        ] (27/33[=================================       ] (28/3=[===================================     ] (29/3[====================================    ] (30/33[=====================================   ] (31/3[======================================  ] (32/33=[========================================] (33/33]\n"
     ]
    },
    {
     "data": {
      "text/plain": [
       "118091"
      ]
     },
     "execution_count": 11,
     "metadata": {},
     "output_type": "execute_result"
    }
   ],
   "source": [
    "import pymupdf4llm\n",
    "import pathlib as pl\n",
    "md_text = pymupdf4llm.to_markdown(\"./data/billionaires_page.pdf\")\n",
    "pl.Path(\"data/output.md\").write_bytes(md_text.encode())"
   ]
  }
 ],
 "metadata": {
  "kernelspec": {
   "display_name": ".venv",
   "language": "python",
   "name": "python3"
  },
  "language_info": {
   "codemirror_mode": {
    "name": "ipython",
    "version": 3
   },
   "file_extension": ".py",
   "mimetype": "text/x-python",
   "name": "python",
   "nbconvert_exporter": "python",
   "pygments_lexer": "ipython3",
   "version": "3.11.9"
  }
 },
 "nbformat": 4,
 "nbformat_minor": 2
}
