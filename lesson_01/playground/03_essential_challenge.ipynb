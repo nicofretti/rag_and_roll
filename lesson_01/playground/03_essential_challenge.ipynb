{
 "cells": [
  {
   "cell_type": "markdown",
   "metadata": {},
   "source": [
    "https://github.com/run-llama/llama_index/blob/main/docs/docs/examples/metadata_extraction/EntityExtractionClimate.ipynb"
   ]
  },
  {
   "cell_type": "code",
   "execution_count": 1,
   "metadata": {},
   "outputs": [],
   "source": [
    "import nest_asyncio\n",
    "nest_asyncio.apply()"
   ]
  },
  {
   "cell_type": "code",
   "execution_count": null,
   "metadata": {},
   "outputs": [],
   "source": [
    "import os\n",
    "from llama_index.llms.openai import OpenAI\n",
    "\n",
    "\n",
    "os.environ[\"OPENAI_API_KEY\"] = \"\"\n",
    "llm = OpenAI(temperature=0.1, model=\"gpt-3.5-turbo\", max_tokens=512)"
   ]
  },
  {
   "cell_type": "code",
   "execution_count": 3,
   "metadata": {},
   "outputs": [],
   "source": [
    "import re\n",
    "from llama_index.core.schema import TransformComponent\n",
    "\n",
    "\n",
    "class TextCleaner(TransformComponent):\n",
    "    def __call__(self, nodes, **kwargs):\n",
    "        for node in nodes:\n",
    "            node.text = re.sub(r\"[^0-9A-Za-z ]\", \"\", node.text)\n",
    "        return nodes"
   ]
  },
  {
   "cell_type": "code",
   "execution_count": 4,
   "metadata": {},
   "outputs": [],
   "source": [
    "from llama_index.core.ingestion import IngestionPipeline\n",
    "from llama_index.core.node_parser import TokenTextSplitter\n",
    "from llama_index.core.extractors import (\n",
    "    QuestionsAnsweredExtractor,\n",
    ")\n",
    "from llama_index.core.node_parser import SentenceSplitter\n",
    "\n",
    "pipeline = IngestionPipeline(\n",
    "    transformations=[\n",
    "        TextCleaner(),\n",
    "        SentenceSplitter(chunk_size=512),\n",
    "        #TokenTextSplitter(chunk_size=512),\n",
    "        #QuestionsAnsweredExtractor(llm=llm, questions=3)\n",
    "    ],\n",
    ")"
   ]
  },
  {
   "cell_type": "code",
   "execution_count": 5,
   "metadata": {},
   "outputs": [],
   "source": [
    "from llama_index.core.schema import MetadataMode\n",
    "from llama_index.core import SimpleDirectoryReader\n",
    "from rich import print as rprint\n",
    "\n",
    "documents = SimpleDirectoryReader(\"./data/\").load_data()"
   ]
  },
  {
   "cell_type": "code",
   "execution_count": 6,
   "metadata": {},
   "outputs": [
    {
     "name": "stderr",
     "output_type": "stream",
     "text": [
      "c:\\Users\\n.fretti\\Desktop\\projects\\rag_and_roll\\.venv\\Lib\\site-packages\\tqdm\\auto.py:21: TqdmWarning: IProgress not found. Please update jupyter and ipywidgets. See https://ipywidgets.readthedocs.io/en/stable/user_install.html\n",
      "  from .autonotebook import tqdm as notebook_tqdm\n",
      "Parsing nodes: 100%|██████████| 81/81 [00:00<00:00, 165.76it/s]\n"
     ]
    }
   ],
   "source": [
    "nodes = pipeline.run(documents=documents,\n",
    "                    in_place=True,\n",
    "                    show_progress=True,)\n",
    "i = 0"
   ]
  },
  {
   "cell_type": "code",
   "execution_count": 7,
   "metadata": {},
   "outputs": [
    {
     "data": {
      "text/html": [
       "<pre style=\"white-space:pre;overflow-x:auto;line-height:normal;font-family:Menlo,'DejaVu Sans Mono',consolas,'Courier New',monospace\">page_label: <span style=\"color: #008080; text-decoration-color: #008080; font-weight: bold\">1</span>\n",
       "file_path: c:\\Users\\n.fretti\\Desktop\\projects\\rag_and_roll\\data\\billionaires_page.pdf\n",
       "\n",
       "<span style=\"color: #008080; text-decoration-color: #008080; font-weight: bold\">7123</span> <span style=\"color: #008080; text-decoration-color: #008080; font-weight: bold\">1</span> <span style=\"color: #008080; text-decoration-color: #008080; font-weight: bold\">131</span> PM The Worlds Billionaires  Wikipediahttpsenwikipediaor gwikiTheW orld27sBillionaires 133The Worlds \n",
       "BillionairesList of the worlds billionaires ranked in order of net worthThe net worth of the worlds billionaires \n",
       "increased fromless than US1 trillion in <span style=\"color: #008080; text-decoration-color: #008080; font-weight: bold\">2000</span> to over <span style=\"color: #008080; text-decoration-color: #008080; font-weight: bold\">7</span> trillion in 2015Publication detailsPublisher Whale Media \n",
       "InvestmentsForbes familyPublication F o r b e sFirst published March <span style=\"color: #008080; text-decoration-color: #008080; font-weight: bold\">1987</span> <span style=\"color: #008080; text-decoration-color: #008080; font-weight: bold\">1</span> Latest publication April <span style=\"color: #008080; text-decoration-color: #008080; font-weight: bold\">4</span> 2023Current \n",
       "list details <span style=\"color: #008080; text-decoration-color: #008080; font-weight: bold\">2023</span> <span style=\"color: #008080; text-decoration-color: #008080; font-weight: bold\">2</span> Wealthiest Bernard ArnaultNet worth 1st US211billionNumber ofbillionaires2640 from 2668Total \n",
       "list net worthvalueUS122trillion from US 127trillionNumber of women 337New members to thelist150F o r b e s The \n",
       "Worlds Billionaires website httpswwwforbescombillionairesThe Worlds BillionairesThe Worlds Billionaires  is an \n",
       "annualranking of people who are considered to have anet worth  of <span style=\"color: #008080; text-decoration-color: #008080; font-weight: bold\">1</span> billion or more by theAmerican busines s \n",
       "magazine Forbes  The listwas first published in March <span style=\"color: #008080; text-decoration-color: #008080; font-weight: bold\">1987</span> <span style=\"color: #008080; text-decoration-color: #008080; font-weight: bold\">1</span> The totalnet worth of each individual on the list \n",
       "isestimated and is cited in United States dollars based on their documented assets andaccounting for debt and other\n",
       "factors Royaltyand dictators  whose wealth comes from theirpositions are excluded from these lists <span style=\"color: #008080; text-decoration-color: #008080; font-weight: bold\">3</span> Thisranking is\n",
       "an index of the wealthiestdocumented individuals excluding any rankingof those with wealth that is not able to \n",
       "becompletely ascertained <span style=\"color: #008080; text-decoration-color: #008080; font-weight: bold\">4</span> In <span style=\"color: #008080; text-decoration-color: #008080; font-weight: bold\">2018</span>  Amazon  founder  Jeff Bezos wasranked at the top for the first time and \n",
       "becamethe first centibillionaire included in theranking <span style=\"color: #008080; text-decoration-color: #008080; font-weight: bold\">5</span>  surpassing Microsoft  founder BillGates  who had topped \n",
       "the list <span style=\"color: #008080; text-decoration-color: #008080; font-weight: bold\">18</span> of theprevious <span style=\"color: #008080; text-decoration-color: #008080; font-weight: bold\">24</span> years In <span style=\"color: #008080; text-decoration-color: #008080; font-weight: bold\">2022</span> after topping thelist for four years Bezos was surpassed by ElonMusk  <span style=\"color: #008080; text-decoration-color: #008080; font-weight: bold\">6</span>\n",
       "In <span style=\"color: #008080; text-decoration-color: #008080; font-weight: bold\">2023</span>  Musk was in turn surpass edby French businessman Bernard Arnault  aftertopping the list for just a year \n",
       "Arnault becamethe first French person to top the list <span style=\"color: #008080; text-decoration-color: #008080; font-weight: bold\">2</span> Each year Forbes  employs a team of over 50reporters from a\n",
       "variety of countri es to trackthe activity of the worlds wealthiestindividuals <span style=\"color: #008080; text-decoration-color: #008080; font-weight: bold\">7</span>  and sometimes groups or families \n",
       "who share wealth Preliminary surveys\n",
       "</pre>\n"
      ],
      "text/plain": [
       "page_label: \u001b[1;36m1\u001b[0m\n",
       "file_path: c:\\Users\\n.fretti\\Desktop\\projects\\rag_and_roll\\data\\billionaires_page.pdf\n",
       "\n",
       "\u001b[1;36m7123\u001b[0m \u001b[1;36m1\u001b[0m \u001b[1;36m131\u001b[0m PM The Worlds Billionaires  Wikipediahttpsenwikipediaor gwikiTheW orld27sBillionaires 133The Worlds \n",
       "BillionairesList of the worlds billionaires ranked in order of net worthThe net worth of the worlds billionaires \n",
       "increased fromless than US1 trillion in \u001b[1;36m2000\u001b[0m to over \u001b[1;36m7\u001b[0m trillion in 2015Publication detailsPublisher Whale Media \n",
       "InvestmentsForbes familyPublication F o r b e sFirst published March \u001b[1;36m1987\u001b[0m \u001b[1;36m1\u001b[0m Latest publication April \u001b[1;36m4\u001b[0m 2023Current \n",
       "list details \u001b[1;36m2023\u001b[0m \u001b[1;36m2\u001b[0m Wealthiest Bernard ArnaultNet worth 1st US211billionNumber ofbillionaires2640 from 2668Total \n",
       "list net worthvalueUS122trillion from US 127trillionNumber of women 337New members to thelist150F o r b e s The \n",
       "Worlds Billionaires website httpswwwforbescombillionairesThe Worlds BillionairesThe Worlds Billionaires  is an \n",
       "annualranking of people who are considered to have anet worth  of \u001b[1;36m1\u001b[0m billion or more by theAmerican busines s \n",
       "magazine Forbes  The listwas first published in March \u001b[1;36m1987\u001b[0m \u001b[1;36m1\u001b[0m The totalnet worth of each individual on the list \n",
       "isestimated and is cited in United States dollars based on their documented assets andaccounting for debt and other\n",
       "factors Royaltyand dictators  whose wealth comes from theirpositions are excluded from these lists \u001b[1;36m3\u001b[0m Thisranking is\n",
       "an index of the wealthiestdocumented individuals excluding any rankingof those with wealth that is not able to \n",
       "becompletely ascertained \u001b[1;36m4\u001b[0m In \u001b[1;36m2018\u001b[0m  Amazon  founder  Jeff Bezos wasranked at the top for the first time and \n",
       "becamethe first centibillionaire included in theranking \u001b[1;36m5\u001b[0m  surpassing Microsoft  founder BillGates  who had topped \n",
       "the list \u001b[1;36m18\u001b[0m of theprevious \u001b[1;36m24\u001b[0m years In \u001b[1;36m2022\u001b[0m after topping thelist for four years Bezos was surpassed by ElonMusk  \u001b[1;36m6\u001b[0m\n",
       "In \u001b[1;36m2023\u001b[0m  Musk was in turn surpass edby French businessman Bernard Arnault  aftertopping the list for just a year \n",
       "Arnault becamethe first French person to top the list \u001b[1;36m2\u001b[0m Each year Forbes  employs a team of over 50reporters from a\n",
       "variety of countri es to trackthe activity of the worlds wealthiestindividuals \u001b[1;36m7\u001b[0m  and sometimes groups or families \n",
       "who share wealth Preliminary surveys\n"
      ]
     },
     "metadata": {},
     "output_type": "display_data"
    }
   ],
   "source": [
    "rprint(nodes[i].get_content(\n",
    "    metadata_mode=MetadataMode.LLM\n",
    "))\n",
    "i+=1\n"
   ]
  },
  {
   "cell_type": "code",
   "execution_count": 8,
   "metadata": {},
   "outputs": [],
   "source": [
    "from llama_index.core import VectorStoreIndex\n",
    "\n",
    "index = VectorStoreIndex(nodes=nodes)\n",
    "engine = index.as_query_engine()"
   ]
  },
  {
   "cell_type": "code",
   "execution_count": null,
   "metadata": {},
   "outputs": [
    {
     "name": "stdout",
     "output_type": "stream",
     "text": [
      "Paul Graham\n"
     ]
    }
   ],
   "source": [
    "rprint(engine.query(\"Who is the author of the book?\"))"
   ]
  },
  {
   "cell_type": "code",
   "execution_count": null,
   "metadata": {},
   "outputs": [
    {
     "name": "stdout",
     "output_type": "stream",
     "text": [
      "The author was inspired to switch from studying philosophy to studying AI in college after being drawn into the world of AI through a novel by Heinlein called \"The Moon is a Harsh Mistress\" and a PBS documentary showing Terry Winograd using SHRDLU.\n"
     ]
    }
   ],
   "source": [
    "rprint(engine.query(\"What inspired the author to switch from studying philosophy to studying AI in college?\"))"
   ]
  },
  {
   "cell_type": "code",
   "execution_count": 11,
   "metadata": {},
   "outputs": [
    {
     "data": {
      "text/html": [
       "<pre style=\"white-space:pre;overflow-x:auto;line-height:normal;font-family:Menlo,'DejaVu Sans Mono',consolas,'Courier New',monospace\">The author expresses a shift in interest from engineering to art, highlighting the appeal of creating lasting works\n",
       "like paintings compared to the impermanence of software development.\n",
       "</pre>\n"
      ],
      "text/plain": [
       "The author expresses a shift in interest from engineering to art, highlighting the appeal of creating lasting works\n",
       "like paintings compared to the impermanence of software development.\n"
      ]
     },
     "metadata": {},
     "output_type": "display_data"
    }
   ],
   "source": [
    "rprint(engine.query(\"What would the author say about art vs. engineering?\").response)"
   ]
  },
  {
   "cell_type": "code",
   "execution_count": 12,
   "metadata": {},
   "outputs": [
    {
     "data": {
      "text/html": [
       "<pre style=\"white-space:pre;overflow-x:auto;line-height:normal;font-family:Menlo,'DejaVu Sans Mono',consolas,'Courier New',monospace\">The author had to learn Italian because foreigners <span style=\"font-weight: bold\">(</span>stranieri<span style=\"font-weight: bold\">)</span> were required to take an entrance exam to study art \n",
       "at the Accademia di Belli Arti in Florence.\n",
       "</pre>\n"
      ],
      "text/plain": [
       "The author had to learn Italian because foreigners \u001b[1m(\u001b[0mstranieri\u001b[1m)\u001b[0m were required to take an entrance exam to study art \n",
       "at the Accademia di Belli Arti in Florence.\n"
      ]
     },
     "metadata": {},
     "output_type": "display_data"
    }
   ],
   "source": [
    "rprint(engine.query(\"Why did the author have to learn italian?\").response)"
   ]
  },
  {
   "cell_type": "code",
   "execution_count": 13,
   "metadata": {},
   "outputs": [
    {
     "data": {
      "text/html": [
       "<pre style=\"white-space:pre;overflow-x:auto;line-height:normal;font-family:Menlo,'DejaVu Sans Mono',consolas,'Courier New',monospace\">The author was in Florence to take the entrance exam at the Accademia di Belli Arti, which was the oldest art \n",
       "school and where the author imagined they would receive a good education in art.\n",
       "</pre>\n"
      ],
      "text/plain": [
       "The author was in Florence to take the entrance exam at the Accademia di Belli Arti, which was the oldest art \n",
       "school and where the author imagined they would receive a good education in art.\n"
      ]
     },
     "metadata": {},
     "output_type": "display_data"
    }
   ],
   "source": [
    "rprint(engine.query(\"Why the author was in Florence?\").response)"
   ]
  }
 ],
 "metadata": {
  "kernelspec": {
   "display_name": ".venv",
   "language": "python",
   "name": "python3"
  },
  "language_info": {
   "codemirror_mode": {
    "name": "ipython",
    "version": 3
   },
   "file_extension": ".py",
   "mimetype": "text/x-python",
   "name": "python",
   "nbconvert_exporter": "python",
   "pygments_lexer": "ipython3",
   "version": "3.11.9"
  }
 },
 "nbformat": 4,
 "nbformat_minor": 2
}
