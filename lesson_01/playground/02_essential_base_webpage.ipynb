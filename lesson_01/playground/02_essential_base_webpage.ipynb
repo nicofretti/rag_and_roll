{
 "cells": [
  {
   "cell_type": "code",
   "execution_count": 1,
   "metadata": {},
   "outputs": [],
   "source": [
    "from llama_index.core import VectorStoreIndex, SimpleDirectoryReader, Settings\n",
    "from llama_index.readers.web import SimpleWebPageReader\n",
    "from rich import print as rprint\n",
    "from llama_index.core.schema import MetadataMode\n",
    "from llama_index.core.node_parser import MarkdownNodeParser\n",
    "from llama_index.core.schema import Document"
   ]
  },
  {
   "cell_type": "code",
   "execution_count": 2,
   "metadata": {},
   "outputs": [],
   "source": [
    "import nest_asyncio\n",
    "nest_asyncio.apply()"
   ]
  },
  {
   "cell_type": "code",
   "execution_count": null,
   "metadata": {},
   "outputs": [],
   "source": [
    "import os\n",
    "from llama_index.llms.openai import OpenAI\n",
    "\n",
    "os.environ[\"OPENAI_API_KEY\"] = \"\"\n",
    "llm = OpenAI(temperature=0.1, model=\"gpt-3.5-turbo\", max_tokens=512)"
   ]
  },
  {
   "cell_type": "markdown",
   "metadata": {},
   "source": [
    "### 1. Identify the dataset to analyze"
   ]
  },
  {
   "cell_type": "code",
   "execution_count": 4,
   "metadata": {},
   "outputs": [],
   "source": [
    "documents = SimpleWebPageReader(html_to_text=True).load_data(\n",
    "    [\"https://docs.llamaindex.ai/en/stable/module_guides/loading/node_parsers/modules/\"]\n",
    ")"
   ]
  },
  {
   "cell_type": "markdown",
   "metadata": {},
   "source": [
    "### 2. Identify a pipeline"
   ]
  },
  {
   "cell_type": "code",
   "execution_count": 5,
   "metadata": {},
   "outputs": [],
   "source": [
    "def clean_metadata(doc):\n",
    "    doc.excluded_llm_metadata_keys = [\"Header_1\", \"Header_2\", \"Header_3\", \"excerpt_keywords\"]\n",
    "    return doc"
   ]
  },
  {
   "cell_type": "code",
   "execution_count": 6,
   "metadata": {},
   "outputs": [],
   "source": [
    "documents = list(map(clean_metadata, documents))"
   ]
  },
  {
   "cell_type": "code",
   "execution_count": 7,
   "metadata": {},
   "outputs": [
    {
     "name": "stderr",
     "output_type": "stream",
     "text": [
      "100%|██████████| 87/87 [00:13<00:00,  6.45it/s]\n"
     ]
    }
   ],
   "source": [
    "from llama_index.core.ingestion import IngestionPipeline\n",
    "from llama_index.core.extractors import (\n",
    "    KeywordExtractor,\n",
    ")\n",
    "from llama_index.core.node_parser import SentenceSplitter\n",
    "\n",
    "pipeline = IngestionPipeline(transformations=[\n",
    "    MarkdownNodeParser(),\n",
    "    SentenceSplitter(\n",
    "        chunk_size=512, chunk_overlap=20\n",
    "    ),\n",
    "    KeywordExtractor(keywords=3, llm=llm),\n",
    "])\n",
    "nodes = pipeline.run(documents=documents)\n",
    "i = 0"
   ]
  },
  {
   "cell_type": "markdown",
   "metadata": {},
   "source": [
    "### 3. Filter nodes"
   ]
  },
  {
   "cell_type": "code",
   "execution_count": 13,
   "metadata": {},
   "outputs": [],
   "source": [
    "i=20"
   ]
  },
  {
   "cell_type": "code",
   "execution_count": 70,
   "metadata": {},
   "outputs": [
    {
     "data": {
      "text/html": [
       "<pre style=\"white-space:pre;overflow-x:auto;line-height:normal;font-family:Menlo,'DejaVu Sans Mono',consolas,'Courier New',monospace\">JSONNodeParser#\n",
       "\n",
       "The `JSONNodeParser` parses raw JSON.\n",
       "\n",
       "    \n",
       "    \n",
       "    from llama_index.core.node_parser import JSONNodeParser\n",
       "    \n",
       "    parser = <span style=\"color: #800080; text-decoration-color: #800080; font-weight: bold\">JSONNodeParser</span><span style=\"font-weight: bold\">()</span>\n",
       "    \n",
       "    nodes = <span style=\"color: #800080; text-decoration-color: #800080; font-weight: bold\">parser.get_nodes_from_documents</span><span style=\"font-weight: bold\">(</span>json_docs<span style=\"font-weight: bold\">)</span>\n",
       "</pre>\n"
      ],
      "text/plain": [
       "JSONNodeParser#\n",
       "\n",
       "The `JSONNodeParser` parses raw JSON.\n",
       "\n",
       "    \n",
       "    \n",
       "    from llama_index.core.node_parser import JSONNodeParser\n",
       "    \n",
       "    parser = \u001b[1;35mJSONNodeParser\u001b[0m\u001b[1m(\u001b[0m\u001b[1m)\u001b[0m\n",
       "    \n",
       "    nodes = \u001b[1;35mparser.get_nodes_from_documents\u001b[0m\u001b[1m(\u001b[0mjson_docs\u001b[1m)\u001b[0m\n"
      ]
     },
     "metadata": {},
     "output_type": "display_data"
    }
   ],
   "source": [
    "rprint(nodes[i].get_content(\n",
    "    metadata_mode=MetadataMode.LLM\n",
    "))\n",
    "i+=1"
   ]
  },
  {
   "cell_type": "code",
   "execution_count": 9,
   "metadata": {},
   "outputs": [
    {
     "name": "stdout",
     "output_type": "stream",
     "text": [
      "Start with 87 nodes\n",
      "Filtered to 11 nodes\n"
     ]
    }
   ],
   "source": [
    "nodes_filtered = []\n",
    "print(f\"Start with {len(nodes)} nodes\")\n",
    "for node in nodes:\n",
    "    if \"Header_3\" in node.metadata.keys():\n",
    "        nodes_filtered.append(node)\n",
    "print(f\"Filtered to {len(nodes_filtered)} nodes\")"
   ]
  },
  {
   "cell_type": "markdown",
   "metadata": {},
   "source": [
    "### 4. Create the index"
   ]
  },
  {
   "cell_type": "code",
   "execution_count": 10,
   "metadata": {},
   "outputs": [],
   "source": [
    "index = VectorStoreIndex(nodes=nodes_filtered)\n",
    "engine = index.as_query_engine()"
   ]
  },
  {
   "cell_type": "code",
   "execution_count": null,
   "metadata": {},
   "outputs": [],
   "source": [
    "query = engine.query(\"\"\"How can i manage a html page with llama index?\"\"\")"
   ]
  },
  {
   "cell_type": "code",
   "execution_count": 12,
   "metadata": {},
   "outputs": [
    {
     "data": {
      "text/html": [
       "<pre style=\"white-space:pre;overflow-x:auto;line-height:normal;font-family:Menlo,'DejaVu Sans Mono',consolas,'Courier New',monospace\">You can manage an HTML page with llama index by using the `HTMLNodeParser` provided in the llama_index package. You\n",
       "can create an instance of the `HTMLNodeParser` class and specify the HTML tags you want to parse. Then, you can use\n",
       "the `get_nodes_from_documents` method of the parser to extract nodes from the HTML documents.\n",
       "</pre>\n"
      ],
      "text/plain": [
       "You can manage an HTML page with llama index by using the `HTMLNodeParser` provided in the llama_index package. You\n",
       "can create an instance of the `HTMLNodeParser` class and specify the HTML tags you want to parse. Then, you can use\n",
       "the `get_nodes_from_documents` method of the parser to extract nodes from the HTML documents.\n"
      ]
     },
     "metadata": {},
     "output_type": "display_data"
    }
   ],
   "source": [
    "rprint(query.response)"
   ]
  }
 ],
 "metadata": {
  "kernelspec": {
   "display_name": ".venv",
   "language": "python",
   "name": "python3"
  },
  "language_info": {
   "codemirror_mode": {
    "name": "ipython",
    "version": 3
   },
   "file_extension": ".py",
   "mimetype": "text/x-python",
   "name": "python",
   "nbconvert_exporter": "python",
   "pygments_lexer": "ipython3",
   "version": "3.11.9"
  }
 },
 "nbformat": 4,
 "nbformat_minor": 2
}
