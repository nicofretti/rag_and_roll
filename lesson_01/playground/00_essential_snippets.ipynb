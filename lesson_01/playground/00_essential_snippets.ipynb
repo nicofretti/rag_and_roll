{
 "cells": [
  {
   "cell_type": "code",
   "execution_count": 1,
   "metadata": {},
   "outputs": [],
   "source": [
    "from llama_index.core import VectorStoreIndex, SimpleDirectoryReader, Settings\n",
    "from llama_index.readers.wikipedia import WikipediaReader\n",
    "from rich import print as rprint"
   ]
  },
  {
   "cell_type": "code",
   "execution_count": 2,
   "metadata": {},
   "outputs": [],
   "source": [
    "reader = WikipediaReader()\n",
    "documents = reader.load_data(pages=[\"Glossary of artificial intelligence\"])"
   ]
  },
  {
   "cell_type": "markdown",
   "metadata": {},
   "source": [
    "## Nodes splitters"
   ]
  },
  {
   "cell_type": "code",
   "execution_count": 3,
   "metadata": {},
   "outputs": [],
   "source": [
    "from llama_index.core.schema import MetadataMode"
   ]
  },
  {
   "cell_type": "markdown",
   "metadata": {},
   "source": [
    "### SentenceWindowNodeParser"
   ]
  },
  {
   "cell_type": "code",
   "execution_count": 4,
   "metadata": {},
   "outputs": [],
   "source": [
    "from llama_index.core.node_parser import TokenTextSplitter\n",
    "\n",
    "splitter = TokenTextSplitter(\n",
    "    chunk_size=256,\n",
    "    chunk_overlap=20,\n",
    "    separator=\" \",\n",
    ")\n",
    "\n",
    "nodes = splitter.get_nodes_from_documents(documents)\n",
    "\n",
    "i = 0"
   ]
  },
  {
   "cell_type": "code",
   "execution_count": 5,
   "metadata": {},
   "outputs": [
    {
     "data": {
      "text/html": [
       "<pre style=\"white-space:pre;overflow-x:auto;line-height:normal;font-family:Menlo,'DejaVu Sans Mono',consolas,'Courier New',monospace\">This glossary of artificial intelligence is a list of definitions of terms and concepts relevant to the study of \n",
       "artificial intelligence <span style=\"font-weight: bold\">(</span>AI<span style=\"font-weight: bold\">)</span>, its sub-disciplines, and related fields. Related glossaries include Glossary of \n",
       "computer science, Glossary of robotics, and Glossary of machine vision.\n",
       "\n",
       "\n",
       "== A ==\n",
       "\n",
       "abductive logic programming <span style=\"font-weight: bold\">(</span>ALP<span style=\"font-weight: bold\">)</span>\n",
       "A high-level knowledge-representation framework that can be used to solve problems declaratively based on abductive\n",
       "reasoning. It extends normal logic programming by allowing some predicates to be incompletely defined, declared as \n",
       "abducible predicates.\n",
       "\n",
       "abductive reasoning\n",
       "Also abduction.\n",
       "A form of logical inference which starts with an observation or set of observations then seeks to find the simplest\n",
       "and most likely explanation. This process, unlike deductive reasoning, yields a plausible conclusion but does not \n",
       "positively verify it. abductive inference, or retroduction\n",
       "\n",
       "ablation\n",
       "The removal of a component of an AI system. An ablation study aims to determine the contribution of a component to \n",
       "an AI system by removing the component, and then analyzing the resultant performance of the system.\n",
       "\n",
       "abstract data type\n",
       "A mathematical model for data types, where a data type is defined by its behavior <span style=\"font-weight: bold\">(</span>semantics<span style=\"font-weight: bold\">)</span> from the point of \n",
       "view of a user of the data, specifically in terms\n",
       "</pre>\n"
      ],
      "text/plain": [
       "This glossary of artificial intelligence is a list of definitions of terms and concepts relevant to the study of \n",
       "artificial intelligence \u001b[1m(\u001b[0mAI\u001b[1m)\u001b[0m, its sub-disciplines, and related fields. Related glossaries include Glossary of \n",
       "computer science, Glossary of robotics, and Glossary of machine vision.\n",
       "\n",
       "\n",
       "== A ==\n",
       "\n",
       "abductive logic programming \u001b[1m(\u001b[0mALP\u001b[1m)\u001b[0m\n",
       "A high-level knowledge-representation framework that can be used to solve problems declaratively based on abductive\n",
       "reasoning. It extends normal logic programming by allowing some predicates to be incompletely defined, declared as \n",
       "abducible predicates.\n",
       "\n",
       "abductive reasoning\n",
       "Also abduction.\n",
       "A form of logical inference which starts with an observation or set of observations then seeks to find the simplest\n",
       "and most likely explanation. This process, unlike deductive reasoning, yields a plausible conclusion but does not \n",
       "positively verify it. abductive inference, or retroduction\n",
       "\n",
       "ablation\n",
       "The removal of a component of an AI system. An ablation study aims to determine the contribution of a component to \n",
       "an AI system by removing the component, and then analyzing the resultant performance of the system.\n",
       "\n",
       "abstract data type\n",
       "A mathematical model for data types, where a data type is defined by its behavior \u001b[1m(\u001b[0msemantics\u001b[1m)\u001b[0m from the point of \n",
       "view of a user of the data, specifically in terms\n"
      ]
     },
     "metadata": {},
     "output_type": "display_data"
    }
   ],
   "source": [
    "rprint(nodes[i].get_content(\n",
    "    metadata_mode=MetadataMode.LLM\n",
    "))\n",
    "i+=1"
   ]
  },
  {
   "cell_type": "markdown",
   "metadata": {},
   "source": [
    "### SentenceSplitter"
   ]
  },
  {
   "cell_type": "code",
   "execution_count": 6,
   "metadata": {},
   "outputs": [],
   "source": [
    "from llama_index.core.node_parser import SentenceSplitter\n",
    "\n",
    "node_parser = SentenceSplitter(chunk_size=256, chunk_overlap=20)\n",
    "nodes = node_parser.get_nodes_from_documents(\n",
    "    documents\n",
    ")\n",
    "i = 0"
   ]
  },
  {
   "cell_type": "code",
   "execution_count": 7,
   "metadata": {},
   "outputs": [
    {
     "data": {
      "text/html": [
       "<pre style=\"white-space:pre;overflow-x:auto;line-height:normal;font-family:Menlo,'DejaVu Sans Mono',consolas,'Courier New',monospace\">This glossary of artificial intelligence is a list of definitions of terms and concepts relevant to the study of \n",
       "artificial intelligence <span style=\"font-weight: bold\">(</span>AI<span style=\"font-weight: bold\">)</span>, its sub-disciplines, and related fields. Related glossaries include Glossary of \n",
       "computer science, Glossary of robotics, and Glossary of machine vision.\n",
       "\n",
       "\n",
       "== A ==\n",
       "\n",
       "abductive logic programming <span style=\"font-weight: bold\">(</span>ALP<span style=\"font-weight: bold\">)</span>\n",
       "A high-level knowledge-representation framework that can be used to solve problems declaratively based on abductive\n",
       "reasoning. It extends normal logic programming by allowing some predicates to be incompletely defined, declared as \n",
       "abducible predicates.\n",
       "\n",
       "abductive reasoning\n",
       "Also abduction.\n",
       "A form of logical inference which starts with an observation or set of observations then seeks to find the simplest\n",
       "and most likely explanation. This process, unlike deductive reasoning, yields a plausible conclusion but does not \n",
       "positively verify it. abductive inference, or retroduction\n",
       "\n",
       "ablation\n",
       "The removal of a component of an AI system. An ablation study aims to determine the contribution of a component to \n",
       "an AI system by removing the component, and then analyzing the resultant performance of the system.\n",
       "</pre>\n"
      ],
      "text/plain": [
       "This glossary of artificial intelligence is a list of definitions of terms and concepts relevant to the study of \n",
       "artificial intelligence \u001b[1m(\u001b[0mAI\u001b[1m)\u001b[0m, its sub-disciplines, and related fields. Related glossaries include Glossary of \n",
       "computer science, Glossary of robotics, and Glossary of machine vision.\n",
       "\n",
       "\n",
       "== A ==\n",
       "\n",
       "abductive logic programming \u001b[1m(\u001b[0mALP\u001b[1m)\u001b[0m\n",
       "A high-level knowledge-representation framework that can be used to solve problems declaratively based on abductive\n",
       "reasoning. It extends normal logic programming by allowing some predicates to be incompletely defined, declared as \n",
       "abducible predicates.\n",
       "\n",
       "abductive reasoning\n",
       "Also abduction.\n",
       "A form of logical inference which starts with an observation or set of observations then seeks to find the simplest\n",
       "and most likely explanation. This process, unlike deductive reasoning, yields a plausible conclusion but does not \n",
       "positively verify it. abductive inference, or retroduction\n",
       "\n",
       "ablation\n",
       "The removal of a component of an AI system. An ablation study aims to determine the contribution of a component to \n",
       "an AI system by removing the component, and then analyzing the resultant performance of the system.\n"
      ]
     },
     "metadata": {},
     "output_type": "display_data"
    }
   ],
   "source": [
    "rprint(nodes[i].get_content(\n",
    "    metadata_mode=MetadataMode.EMBED\n",
    "))\n",
    "i+=1"
   ]
  },
  {
   "cell_type": "markdown",
   "metadata": {},
   "source": [
    "#### Improvement to sentence splitter\n"
   ]
  },
  {
   "cell_type": "code",
   "execution_count": 8,
   "metadata": {},
   "outputs": [],
   "source": [
    "node_parser = SentenceSplitter(chunk_size=256, chunk_overlap=20, \n",
    "                                separator=\"\\n\\n\",\n",
    "                                paragraph_separator=\"\\n\\n\")\n",
    "nodes = node_parser.get_nodes_from_documents(\n",
    "    documents\n",
    ")\n",
    "i = 0"
   ]
  },
  {
   "cell_type": "code",
   "execution_count": 9,
   "metadata": {},
   "outputs": [
    {
     "data": {
      "text/html": [
       "<pre style=\"white-space:pre;overflow-x:auto;line-height:normal;font-family:Menlo,'DejaVu Sans Mono',consolas,'Courier New',monospace\">This glossary of artificial intelligence is a list of definitions of terms and concepts relevant to the study of \n",
       "artificial intelligence <span style=\"font-weight: bold\">(</span>AI<span style=\"font-weight: bold\">)</span>, its sub-disciplines, and related fields. Related glossaries include Glossary of \n",
       "computer science, Glossary of robotics, and Glossary of machine vision.\n",
       "\n",
       "\n",
       "== A ==\n",
       "\n",
       "abductive logic programming <span style=\"font-weight: bold\">(</span>ALP<span style=\"font-weight: bold\">)</span>\n",
       "A high-level knowledge-representation framework that can be used to solve problems declaratively based on abductive\n",
       "reasoning. It extends normal logic programming by allowing some predicates to be incompletely defined, declared as \n",
       "abducible predicates.\n",
       "\n",
       "abductive reasoning\n",
       "Also abduction.\n",
       "A form of logical inference which starts with an observation or set of observations then seeks to find the simplest\n",
       "and most likely explanation. This process, unlike deductive reasoning, yields a plausible conclusion but does not \n",
       "positively verify it. abductive inference, or retroduction\n",
       "\n",
       "ablation\n",
       "The removal of a component of an AI system. An ablation study aims to determine the contribution of a component to \n",
       "an AI system by removing the component, and then analyzing the resultant performance of the system.\n",
       "</pre>\n"
      ],
      "text/plain": [
       "This glossary of artificial intelligence is a list of definitions of terms and concepts relevant to the study of \n",
       "artificial intelligence \u001b[1m(\u001b[0mAI\u001b[1m)\u001b[0m, its sub-disciplines, and related fields. Related glossaries include Glossary of \n",
       "computer science, Glossary of robotics, and Glossary of machine vision.\n",
       "\n",
       "\n",
       "== A ==\n",
       "\n",
       "abductive logic programming \u001b[1m(\u001b[0mALP\u001b[1m)\u001b[0m\n",
       "A high-level knowledge-representation framework that can be used to solve problems declaratively based on abductive\n",
       "reasoning. It extends normal logic programming by allowing some predicates to be incompletely defined, declared as \n",
       "abducible predicates.\n",
       "\n",
       "abductive reasoning\n",
       "Also abduction.\n",
       "A form of logical inference which starts with an observation or set of observations then seeks to find the simplest\n",
       "and most likely explanation. This process, unlike deductive reasoning, yields a plausible conclusion but does not \n",
       "positively verify it. abductive inference, or retroduction\n",
       "\n",
       "ablation\n",
       "The removal of a component of an AI system. An ablation study aims to determine the contribution of a component to \n",
       "an AI system by removing the component, and then analyzing the resultant performance of the system.\n"
      ]
     },
     "metadata": {},
     "output_type": "display_data"
    }
   ],
   "source": [
    "rprint(nodes[i].get_content(\n",
    "    metadata_mode=MetadataMode.EMBED\n",
    "))\n",
    "i+=1"
   ]
  },
  {
   "cell_type": "markdown",
   "metadata": {},
   "source": [
    "Other here: https://docs.llamaindex.ai/en/stable/module_guides/loading/node_parsers/modules/"
   ]
  }
 ],
 "metadata": {
  "kernelspec": {
   "display_name": ".venv",
   "language": "python",
   "name": "python3"
  },
  "language_info": {
   "codemirror_mode": {
    "name": "ipython",
    "version": 3
   },
   "file_extension": ".py",
   "mimetype": "text/x-python",
   "name": "python",
   "nbconvert_exporter": "python",
   "pygments_lexer": "ipython3",
   "version": "3.11.9"
  }
 },
 "nbformat": 4,
 "nbformat_minor": 2
}
